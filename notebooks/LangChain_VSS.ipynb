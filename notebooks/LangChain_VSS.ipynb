{
 "cells": [
  {
   "cell_type": "markdown",
   "metadata": {
    "id": "R2-i8jBl9GRH"
   },
   "source": [
    "# Vector Similarity Search & Document QnA with LangChain\n",
    "![Redis](https://redis.com/wp-content/themes/wpx/assets/images/logo-redis.svg?auto=webp&quality=85,75&width=120)\n",
    "\n",
    "This notebook uses [LangChain](https://python.langchain.com/docs/get_started/introduction) and [Redis](https://redis.com) to perform document + embdding indexing and semantic search tasks. It also shows how to integrate with an LLM like OpenAI's GPT models."
   ]
  },
  {
   "cell_type": "markdown",
   "metadata": {},
   "source": [
    "## Install Python Dependencies"
   ]
  },
  {
   "cell_type": "code",
   "execution_count": null,
   "metadata": {},
   "outputs": [],
   "source": [
    "!pip install -q langchain openai tiktoken redis sentence-transformers"
   ]
  },
  {
   "cell_type": "markdown",
   "metadata": {},
   "source": [
    "## Load Document Chunks and Embeddings\n",
    "**You are expected to have first run the Data Prep Notebook**"
   ]
  },
  {
   "cell_type": "code",
   "execution_count": 5,
   "metadata": {
    "colab": {
     "base_uri": "https://localhost:8080/"
    },
    "id": "C8uONNrVbe08",
    "outputId": "883b2ae1-d471-4c4a-e37a-7d286edd6d3a"
   },
   "outputs": [],
   "source": [
    "import os\n",
    "import json\n",
    "\n",
    "data_path = \"notebooks/resources/\"\n",
    "\n",
    "with open(os.path.join(data_path, \"embeddings.json\"), \"r\") as f:\n",
    "    chunk_embeddings = json.load(f)\n",
    "\n",
    "with open(os.path.join(data_path, \"docs.json\"), \"r\") as f:\n",
    "    chunks = json.load(f)"
   ]
  },
  {
   "cell_type": "markdown",
   "metadata": {},
   "source": [
    "## Install Redis Stack (OPTIONAL)\n",
    "\n",
    "Redis Search will be used as Vector Similarity Search engine for LangChain.\n",
    "\n",
    "Instead of using in-notebook Redis Stack https://redis.io/docs/getting-started/install-stack/ you can provision your own free instance of Redis in the cloud. Get your own Free Redis Cloud instance at https://redis.com/try-free/"
   ]
  },
  {
   "cell_type": "code",
   "execution_count": null,
   "metadata": {},
   "outputs": [],
   "source": [
    "%%sh\n",
    "curl -fsSL https://packages.redis.io/gpg | sudo gpg --dearmor -o /usr/share/keyrings/redis-archive-keyring.gpg\n",
    "echo \"deb [signed-by=/usr/share/keyrings/redis-archive-keyring.gpg] https://packages.redis.io/deb $(lsb_release -cs) main\" | sudo tee /etc/apt/sources.list.d/redis.list\n",
    "sudo apt-get update  > /dev/null 2>&1\n",
    "sudo apt-get install redis-stack-server  > /dev/null 2>&1\n",
    "redis-stack-server --daemonize yes"
   ]
  },
  {
   "cell_type": "markdown",
   "metadata": {},
   "source": [
    "### Connect to Redis\n",
    "\n",
    "By default this notebook would connect to the local instance of Redis Stack. If you have your own Redis Cloud instance - replace REDIS_PASSWORD, REDIS_HOST and REDIS_PORT values with your own."
   ]
  },
  {
   "cell_type": "code",
   "execution_count": 7,
   "metadata": {},
   "outputs": [],
   "source": [
    "import os\n",
    "\n",
    "# Replace values below with your own if using Redis Cloud instance\n",
    "REDIS_HOST = os.getenv(\"REDIS_HOST\", \"localhost\")\n",
    "REDIS_PORT = os.getenv(\"REDIS_PORT\", \"6379\")\n",
    "REDIS_PASSWORD = os.getenv(\"REDIS_PASSWORD\", \"\")\n",
    "#REDIS_HOST=\"redis-18374.c253.us-central1-1.gce.cloud.redislabs.com\"\n",
    "#REDIS_PORT=18374\n",
    "#REDIS_PASSWORD=\"1TNxTEdYRDgIDKM2gDfasupCADXXXX\"\n",
    "\n",
    "#shortcut for redis-cli $REDIS_CONN command\n",
    "if REDIS_PASSWORD!=\"\":\n",
    "  os.environ[\"REDIS_CONN\"]=f\"-h {REDIS_HOST} -p {REDIS_PORT} -a {REDIS_PASSWORD} --no-auth-warning\"\n",
    "else:\n",
    "  os.environ[\"REDIS_CONN\"]=f\"-h {REDIS_HOST} -p {REDIS_PORT}\"\n",
    "\n",
    "REDIS_URL = f\"redis://:{REDIS_PASSWORD}@{REDIS_HOST}:{REDIS_PORT}\"\n"
   ]
  },
  {
   "cell_type": "code",
   "execution_count": 4,
   "metadata": {
    "colab": {
     "base_uri": "https://localhost:8080/"
    },
    "id": "JxPIg3nZyNp9",
    "outputId": "e0bd8afc-5244-4005-9914-3632ae76f108"
   },
   "outputs": [],
   "source": [
    "import os\n",
    "import getpass\n",
    "\n",
    "if \"OPENAI_API_KEY\" in os.environ:\n",
    "    OPENAI_API_KEY = os.environ[\"OPENAI_API_KEY\"]\n",
    "else:\n",
    "    OPENAI_API_KEY = getpass.getpass(prompt='OpenAI Key: ', stream=None)"
   ]
  },
  {
   "cell_type": "markdown",
   "metadata": {},
   "source": [
    "## Initialize Embeddings Engine\n",
    "Here we will use LangChain's built in embedding engine so that it will work seemlessly with the LangChain VectorStore classes."
   ]
  },
  {
   "cell_type": "code",
   "execution_count": 8,
   "metadata": {
    "id": "_h1e-L9yZfaY"
   },
   "outputs": [],
   "source": [
    "from langchain.vectorstores.redis import Redis\n",
    "from langchain.embeddings.hugging_face import HuggingFaceEmbeddings\n",
    "\n",
    "embeddings = HuggingFaceEmbeddings(\"sentence-transformers/all-MiniLM-L6-v2\")"
   ]
  },
  {
   "cell_type": "markdown",
   "metadata": {
    "id": "Qrj-jeGmBRTL"
   },
   "source": [
    "## Create Langchain / Redis vector store\n",
    "\n",
    "We also need to create a schema for the vector index so we can take advantage of the metadata along with the vectors. Important Note: LangChain does not support JSON data types yet. Only supports HASH."
   ]
  },
  {
   "cell_type": "code",
   "execution_count": 26,
   "metadata": {
    "id": "yY69FViAjNv1"
   },
   "outputs": [],
   "source": [
    "# set the index name for this example\n",
    "index_name = \"langchain\"\n",
    "\n",
    "# with langchain we can manually modify the default vector schema configuration\n",
    "vector_schema = {\n",
    "    \"name\": \"chunk_vector\",        # name of the vector field in langchain\n",
    "    \"algorithm\": \"HNSW\",           # could use HNSW instead\n",
    "    \"dims\": 384,                   # set based on the HF model embedding dimension\n",
    "    \"distance_metric\": \"COSINE\",   # could use EUCLIDEAN or IP\n",
    "    \"datatype\": \"FLOAT32\",\n",
    "}\n",
    "\n",
    "# here we can define the entire schema spec for our index in LangChain\n",
    "index_schema = {\n",
    "    \"vector\": [vector_schema],\n",
    "    \"text\": [{\"name\": \"content\"}],\n",
    "    \"content_vector_key\": \"chunk_vector\"    # name of the vector field in langchain\n",
    "}\n",
    "\n",
    "\n",
    "try:\n",
    "    rds = Redis.from_existing_index(\n",
    "        embedding=embeddings,\n",
    "        index_name=index_name,\n",
    "        schema=index_schema,\n",
    "        redis_url=REDIS_URL,\n",
    "    )\n",
    "except Exception as e:\n",
    "    print(\"No vector index created yet -- creating new vectorstore\")\n",
    "    # Load Redis with documents\n",
    "    rds = Redis.from_texts(\n",
    "        texts=[chunk['page_content'] for chunk in chunks],\n",
    "        metadatas=[chunk['metadata'] for chunk in chunks],\n",
    "        embedding=embeddings,\n",
    "        index_name=index_name,\n",
    "        redis_url=REDIS_URL,\n",
    "        index_schema=index_schema,\n",
    "    )"
   ]
  },
  {
   "cell_type": "code",
   "execution_count": 28,
   "metadata": {},
   "outputs": [
    {
     "data": {
      "text/plain": [
       "{'text': [{'name': 'content',\n",
       "   'weight': 1,\n",
       "   'no_stem': False,\n",
       "   'withsuffixtrie': False,\n",
       "   'no_index': False,\n",
       "   'sortable': False}],\n",
       " 'vector': [{'name': 'chunk_vector',\n",
       "   'dims': 1536,\n",
       "   'algorithm': 'FLAT',\n",
       "   'datatype': 'FLOAT32',\n",
       "   'distance_metric': 'COSINE',\n",
       "   'initial_cap': 20000,\n",
       "   'block_size': 1000}]}"
      ]
     },
     "execution_count": 28,
     "metadata": {},
     "output_type": "execute_result"
    }
   ],
   "source": [
    "# checkout out the schema we created\n",
    "rds.schema"
   ]
  },
  {
   "cell_type": "code",
   "execution_count": 30,
   "metadata": {},
   "outputs": [
    {
     "data": {
      "text/plain": [
       "323"
      ]
     },
     "execution_count": 30,
     "metadata": {},
     "output_type": "execute_result"
    }
   ],
   "source": [
    "# access underlying redis client to see how many docs have been stores\n",
    "rds.client.dbsize()"
   ]
  },
  {
   "cell_type": "code",
   "execution_count": 41,
   "metadata": {},
   "outputs": [
    {
     "data": {
      "text/plain": [
       "{b'chunk_vector': b'\\xc7\\x0e\\xd2;O\\xd0\\x8b\\xbc\\xe4O\\x9a;\\xf9\\x8a\\x87\\xbc\\xf8\\x13J<f\\xe3\\xa5\\xbb\\x97\\x18\\x91\\xbc\\x07\\xc0\\x19<\\x02\\x99\\x82\\xbc\\xd5\\xab\\xea\\xbci\\x8b\\xdf\\xbb8\\x86g<\\xbe?\\x81\\xbb\\xbf\\xa7\\x87<\\xcd\\x9d\\xef: s\\xcd<\\x92\\x91\\x13<\\x15\\x8d%\\xbc\\xf4\\\\Y<w/\\x8f\\xbca\\xe5\\xea\\xbc\\xbf\\x0f\\x8e<\\x19t\\t\\xbd\\xf8{P\\xbc\\xbb\\xf0\\x16\\xbc\\x04\\xd95\\xbc\\x8e\\n\\x96<\\xfc2\\xc1\\xbc\\xd6{w<X\\xae\\x93\\xbch\\xebE\\xbc\\xfaS}\\xbc\\xb9A\\xc6\\xbb\\xae\\xf3\\x97<\\x92)\\r\\xbc\\x959M<\\xee\\xfd\\xae\\xba\\xb5\\xf2\\xdb\\xbc\\xa9\\xc5i<p)\\xb4\\xbcG\\xfa#<\\xcdD\\xa0<\\xd6\\x82\\x0e\\xbc\\xb1k^;\\xc3\\xbf\\xe7;IjJ<\\x0b\\xa0\\xe6;\\xc4\\xfe\\x91\\xbc\\xcfL@<\\x02Z\\xd8<|\\x1e\\x93\\xbc@\\\\O=\\x17-\\xbf\\xbc\\x14\\x85\\x85<\\xce\\x14\\xad\\xb9\\xa9\\x04\\x14\\xbb\\xc8\\x16r\\xbcw\\x88\\xde<p)4\\xbb\\xdf0\\xa3\\xbc\\xf2\\xec2\\xbbo\\x1a}<\\xf0\\xa5\\xe8\\xbc`T\\x08=\\x8c+\\xd2\\xbc\\xfeI\\x98\\xbc\\t`\\xb3\\xbb-89;\\xb0\\xcb\\xc4;\\xb5\\xf2[;\\xd5\\xab\\xea<\\x0f\\xef\\xd0<?$<<R\\xe0K<\\xf6;\\x1d<f\\xe3\\xa5\\xb9\\x89\\xb3\\x0b<\\xd7\\x8a\\xae\\xb9\\xdf`\\x16;\\xbe\\x98P<\\xd0T\\xe0<\\x89\\x1b\\x12\\xbd\\x9a\\x90W\\xbcX\\xae\\x93\\xbcKBw<\\x89\\x1b\\x12;\\x0b\\x0f\\x84\\xbb\\xf5\\x03\\n=A,\\xdc\\xbb4>\\x94<&2^<B\\x0b\\xa0;Wv\\x80<\\x9d\\xa7.<b\\xc4.\\xbde\\x04\\xe2\\xba\\xcb-I\\xbc\\xc9%)<\\xc3.\\x85<\\xb61\\x06\\xbdN\\x91a<\\x85\\xfc\\x9a<\\xf4\\x9b\\x03\\xbd\\xd0\\xec\\xd9\\xbb5v\\'\\xbdxg\"<nQ\\x87\\xba\\xe2pV\\xbc\\xe6\\xf7\\xd3:\\xa5\\xe5\\x1c\\xbc\\x15U\\x12\\xbcVg\\xc9<@\\xc4\\xd5<\\xda\\xa1\\x85\\xbb s\\xcd<Z\\x86@\\xbd<\\xd5\\xd1;\\x8d:\\t;\\x92Ri;\\xda2\\xe8\\xbc\\xae\\x1ct<\\x99\\xf0\\xbd;\\xef\\x9dH<3/]\\xbcJ\\n\\xe4<,h\\xac;\\x11\\x9e!;\\x12\\xa6\\xc1\\xbb\\xff\\xb1\\x1e\\xbc\\xcc<\\x00\\xbd\\x0cG\\x97;\\x91Y\\x00\\xbc\\xb6\\x99\\x0c=/\\x10f<\\x10\\xf7\\xf0\\xbc\\x1fk\\xad<[&\\xda\\xbc\\xfe\\xe1\\x11=\\x039\\x9c\\xbc\\xc7\\xb5\\x82\\xbc8\\xf5\\x04;)\\x81H<\\xf3$F\\xbci\\xca\\x89\\xbcVgI<\\xf9K\\xdd<\\x84\\xedc< s\\xcd;p)\\xb4;\\x9d\\xa7.\\xbcS\\x18_;=\\xb4\\x95\\xbb\\xe4\\xe0\\xfc<\\xbeh]\\xbcJy\\x81<\\x82\\xad0\\xbc\"R\\x91<\\'A\\x95<\\x15N{\\xb9\\xcfL\\xc0\\xbcf{\\x9f\\xbb\\xcce\\xdc\\xbaV\\xff\\xc2;\\x19\\xdc\\x0f\\xbb\\x0b\\xa0f\\xbbg\\xb3\\xb2:\\xfey\\x0b<\\x82\\x157;\\xae\\xc3\\xa4\\xbcf<u\\xbb\\xbd\\xf868\\x90\\xe2\\xc2\\xbb\\xdbA\\x1f\\xbd\\xa8]c<\"\\xea\\n=\\x19D\\x96<\\xf6\\xcc\\xff<4\\xcf\\xf6\\xbb\\x97\\x80\\x17\\xbd\\x11\\x06\\xa8\\xbc|\\xaf\\xf5<)\\xb1;;\\x12\\xd6\\xb4<\\x0fWW<)\\xe9\\xce\\xba\\xa1\\x962\\xbc \\x0b\\xc7<\\x1a\\x14\\xa3\\xbc\\xc9%)\\xbc\\x12\\xa6\\xc1\\xbb\\x92)\\r\\xbca\\xbc\\x8e<o\\x1a\\xfd\\xbbb\\\\\\xa8\\xbc\\xe4\\xb7 \\xbf<\\xd5\\xd1\\xbb0\\x87\\xa3\\xb9o\\xf1\\xa0;\\x19\\xdc\\x8f;\\xdf\\x89r<\\xf4\\x9b\\x03=\\xb6*\\xef;\\x9a\\xf8\\xdd\\xbc`\\xec\\x01=LQ.;\\xa9\\x04\\x94<\\xc0\\xdf\\x9a;\\xe2\\xaf\\x00\\xbd)\\x81\\xc8\\xbcd\\xcc\\xce\\xbc!\\xdb\\xd3:\\xdf`\\x96\\xbc\\xe3\\xe7\\x93<\\xf0\\x14\\x86<\\x9d\\xa7.;i\\xca\\x89<B;\\x13\\xbc\\xdaq\\x12\\xbc\\xac\\x14\\xd4<\\xc4\\xfe\\x11<\\x17-?;{\\x0f\\\\\\xbc\\xf5k\\x10\\xba\\x08( <O\\xa0\\x18\\xbd\\xac|\\xda<?$\\xbc<B\\x0b \\xbc\\xee5B=\\x9b\\xcf\\x01;\\xba\\xb8\\x83\\xbc9Vt<\\xc3W\\xe1<\\xf3\\x8cL=\\x86\\x8d\\xfd\\xbcelh<O\\xf9g\\xbcD\\x13\\xc0\\xbbelh<\\x80\\xa5\\x10<\\x18eR;\\xdf`\\x16\\xbc\"\\xba\\x97<\\xb8\\xa1\\xac\\xbc\\xc3\\xbf\\xe7;\\xa2\\xce\\xc5\\xbb\\xd6\\xba!\\xbcYN-\\xbbX\\xd7\\xef:\"\\xea\\n\\xbdi\\xf3e\\xbcU\\x97<\\xbb\\x1d\\x8c\\xe9<\\xcc\\x0c\\r\\xbc\\xea\\x16\\xcb\\xbcx\\xff\\x9b\\xbcAk\\x06\\xbcB\\xa3\\x19\\xbd3_\\xd0\\xbcM\\x89A\\xbbU/6\\xb9<|\\x02\\xbb\\xf7\\xdb\\xb6<$\\xc27;\\xf4\\xf4\\xd2\\xba\\x12\\xa6\\xc1<\\x02i\\x0f\\xbc\\xb1\\xaa\\x88:qa\\xc7\\xba\\xc9%\\xa9;9\\xfd\\xa4<\\xfa*\\xa1\\xbc0H\\xf9\\xbce\\xab\\x92<\\xb7\\xfa\\xfb\\xbc=\\xe4\\x08\\xbc\\xa36\\xcc\\xbcc\\xfc\\xc1\\xbb:5\\xb8\\xbb\\x9b\\x07\\x95;\\xd0\\xecY<s\\x10\\x98\\xbc\\xadLg<9\\xfd$;\\'jq<v\\xb8\\xd1;\\xc4\\xce\\x9e;$\\x92D\\xbcnJp\\xbb\\xfbb4=\\xf7s\\xb0\\xbaL!\\xbb\\xba\\x0e\\x1f\\xc4:Nh\\x05\\xbc\\'jq\\xbce\\x04\\xe2<\\xb7\\xd1\\x9f:\\x0f\\x96\\x81\\xbc\\x9b\\xcf\\x81<^\\xd5\\xaa<\\x959M\\xbcYN\\xad<3\\x06\\x81<X\\xd7\\xef\\xbc\\x81\\r\\x97\\xbc\\xb8q\\xb9\\xbc\\x8fB)\\xbb\\xb4\\xea\\xbb\\xbb\\x04q/\\xbb\\xb1\\xd3\\xe4\\xbcF*\\x97<\\xbb\\xb1\\xec\\xbc\\x8d:\\t\\xbce\\x04\\xe2;\\xae\\xf3\\x97;\\xe8\\x97\\xed<\\xcc\\xa4\\x06=\\x16\\xf5+\\xbc\\xf9\"\\x81\\xbb\\xd8Z;<\\'\\x11\\xa2\\xbb\\xb1B\\x82\\xbbh\\x83\\xbf;\\xb3s~:\\xb5\\x8a\\xd5<4\\xff\\xe9<\\xb2\\xe2\\x1b<\\xcf\\xe49\\xbc\\x82\\x15\\xb7;\\x06 \\x80\\xbb`T\\x88<S\\xbf\\x8f\\xbc\\xdeQ_;\\x11\\xc7\\xfd\\xbc-8\\xb9\\xbc\\x89\\xb3\\x0b\\xbc\\xa6\\x856<\\xcdD \\xbc\\xa1\\xc6%\\xbc&\\t\\x02\\xbdNh\\x05\\xbc\\xe9v\\xb1<\\xb8\\t3\\xbc\\'j\\xf1<w\\xf0d;\\x1fk-\\xbd\\xa8]\\xe3\\xbc\\x87lA\\xbc\\x8d\\xd2\\x02\\xbb$\\x92\\xc4\\xbb\\x92)\\x8d<\\\\5\\x11\\xbd\\xa4\\x15\\x90\\xbc\\x05A<;A,\\\\<\\xab\\xdc\\xc0\\xbbj2\\x90\\xbcs\\xa1z\\xbc\\xc6\\xd6\\xbe\\xbc\\x07\\xc0\\x99;\\xd2\\xcb\\x9d\\xbc\\x96\\xb0\\x8a<j2\\x10;\\xf1\\xe4\\x12\\xbds@\\x8b\\xbb\\x93\"v\\xbb\\x12\\xa6\\xc1\\xbcf\\x13\\x99\\xbb\\xcd\\xdc\\x99<\\xfd:a<\\'\\xa9\\x9b\\xbc\\xe4\\xb7\\xa0\\xbc\\xc7\\xb5\\x82<\\xa1\\x96\\xb2\\xbc\\xc7\\x0e\\xd2<\\xa6\\x1d0<4>\\x14\\xbd\\x02i\\x8f\\xbbs@\\x8b<\\xd23$;\\x9c\\xd7\\xa1;\\xce\\x14\\xad<Gb\\xaa\\xba\\x9b`\\xe4<\\xda\\xa1\\x85\\xbc\\x81\\xdd\\xa3\\xbb\\xe8\\x97\\xed\\xbc\\xd9\\x92N\\xbc3n\\x87\\xbc\\x0c\\x17\\xa4<\\xa4}\\x96\\xbc\\x80\\xd5\\x83\\xbb\\xe8\\xd6\\x97\\xbc\\x9b\\x07\\x95;\\xe8>\\x9e<\\x13\\xdeT<x(\\xf8\\xbb\\x11n\\xae;\\xa9\\xd4\\xa0\\xbb\\xb79&\\xbbSW\\x89<I\\xd2\\xd0\\xba\\x97\\x18\\x11=\\xcc\\x0c\\x8d<b\\xf4!=\\x9f&\\x8c\\xbc\\x9d\\x0f5\\xba\\x07\\xf0\\x8c\\xbc\\xb2\\x12\\x0f\\xbd\\x13\\x0eH<\\xcdD <\\x8c+\\xd29\\x1c\\x84I<\\xc3W\\xe1<\\x96\\tZ\\xbb\\xaf\\x931\\xbdF*\\x97<\\xe8>\\x9e\\xbb\\x06yO\\xba\\x7f\\xc6\\xcc\\xbc\\xf7C\\xbd\\xbc\\x16\\xf5+<\\xd2\\xf4y<\"\\xe3s\\xbc#\"\\x9e\\xbb\\xbd`\\xbd\\xbb\\x97\\x80\\x17<\\x16\\xc5\\xb8<\\xce\\x14-<\\x99X\\xc4<\\xa6\\x1d\\xb0<a\\xb5\\xf7\\xbb\\x85\\x94\\x14=O\\xc9\\xf4:\\x8e\\xa2\\x0f=u\\xe8D<\\'j\\xf1<N\\xc1T8P@\\xb2;\\xc8F\\xe5\\xbb\\x99\\xf0\\xbd<\\xec\\x8d\\x08<a\\xe5j\\xbc\\xda\\xd9\\x98<\\x98\\xb8\\xaa\\xbb\\xf8\\xe3V<\\x17\\x95\\xc5\\xbc\\xcb-I<w\\xf0d<N)\\xdb\\xbc\\x16\\xf5+<q\\xc9\\xcd:\\xc8\\x16\\xf2;\\x0b\\x0f\\x04=\\xe9\\x0e+<\\xe2\\x08\\xd0\\xbb\\x94\\x99\\xb3<\\'A\\x15\\xb7\\xf1\\xe4\\x92<\\xc6>E\\xbaf{\\x9f\\xbbD\\xe3L;\\xe6\\'G\\xbc\\xb9\\xa9L\\xbc\\x0e\\xb7=8\\xe0\\x00\\xb0\\xbc%\\xfa\\xca\\xbb\\x80=\\n=\\x82\\x15\\xb7<D{\\xc6<g\\x1b\\xb9<n\\xe9\\x00\\xbd\\xabt:<\\xf7s0=\\xbd\\xf8\\xb6\\xbb\\x91\\x82\\\\\\xbc`\\x15\\xde<\\xcb-I:\\xd6R\\x1b;\\xa0\\xf6\\x18<\\xb7i\\x19<\\x89ta\\xbb\\x94\\x99\\xb3\\xbc\\xd7\\xf24=o\\xf1\\xa0\\xbc\\x88<N:\\xda\\t\\x8c\\xbb\\xe4\\xb7 <\\x959M<\\xb8\\xa1\\xac\\xbb\\xe2p\\xd6:\\x8d:\\t\\xbc\\xcc<\\x80\\xbc=\\xddq\\xbb].z<\\xcd\\x9d\\xef;\\xe4\\x1f\\';\\xe0\\x98\\xa9:TPr=B4|\\xbcj\\x9a\\x96\\xbc\\x92)\\r\\xbc\\xa6\\x1d\\xb0\\xbc\\xb03K<\\xea\\xaeD<\\xc9%)\\xbb\\'\\xa9\\x9b\\xbc\\xdcy\\xb2<k\\x93\\xff<a\\xbc\\x8e<\\x9b`\\xe4\\xbcs\\x10\\x18\\xbc].\\xfa<\\xc0\\x08w;\\xdd\\x81R\\xbcBs&\\xbb\\xaf\\x93\\xb1\\xbc*\\xf8\\x85<\\xa0\\xf6\\x98=1\\xbf\\xb6<t\\xb01\\xbcF\\xbby<i\\x8b_\\xbc\\xe5W:;x\\xcf\\xa8\\xbb\\xef\\x9d\\xc8\\xbb\\x18\\x0c\\x83;\\xd6{\\xf7\\xbb\\x90\\xe2B\\xbc\\xcf\\xe49\\xbba\\xe5\\xea;a\\x8c\\x1b<\\xb6\\x99\\x8c<\\xce\\xac&\\xbc\\xc56\\xa5\\xbc\\x01\"\\xc5\\xbcl\\xa26<\\xf0\\xa5h<\\t0\\xc0\\xbb\\xf9\\xf2\\r\\xbc\\xdf\\xf8\\x0f<=\\xe4\\x88=\\x15N\\xfb\\xbbQx\\xc5\\xbbzo\\xc2<}V\\xa6<,\\xc1\\xfb<\\x16\\xf5\\xab\\xbc\\xc3.\\x85\\xbb\\x18\\x0c\\x03:S\\xef\\x02<&q\\x08=i\\xf3e\\xbcU\\xc7\\xaf\\xbat\\xe0$<w\\xc7\\x88\\xbc\\xe5\\xef3<\\xd5\\x1a\\x88<\\xa9\\xc5\\xe9<\\x8d\\xfb\\xde;\\xa2\\xceE<0Hy\\xbc\\x88\\x0c[;j\\xc3\\xf2\\xbc\\xa6\\x85\\xb6<\\xa7UC;\\x8er\\x9c\\xba0\\x87\\xa3\\xbbp)4<\\xad\\x8b\\x11\\xbd#\"\\x1e\\xbd\\xe0\\x98)\\xbc\\x94\\x01\\xba;\\xd6\\xea\\x94;\\xff\\xdaz::e+<\\x0c\\xaf\\x1d\\xbc\\xc3.\\x05\\xbd\\x0b\\x0f\\x84\\xbc\\xbb\\xb1\\xec\\xbc\\x83\\xe5C<\\xc8Fe;=\\xe4\\x08\\xbd\\x9f\\xbe\\x05\\xbc\\xec\\xb6d\\xbbj2\\x90<\\x02\\xc2\\xde\\xbcZ\\xb6\\xb3<\\x00R8<\\xad\\xbb\\x04\\xbd\\\\\\x8e`\\xbcMY\\xce\\xbb\\xfb\\xfa\\xad<\\xd2\\x9b*;\\xfbb4;\\x89t\\xe1:\\xe2\\xd8\\\\<;\\x9d\\xbe<*\\xb9\\xdb\\xbb\\x94\\x01:<\\xad\\x8b\\x91\\xbc\\xfc2\\xc1\\xbc\\x13\\x0e\\xc8\\xb9\\xf5,f<\\xd8Z;\\xbaU\\x97\\xbc;\\xda\\xa1\\x05\\xbd\\xd6\\x82\\x0e\\xbc]\\x9d\\x17<JI\\x8e\\xbcO\\xc9\\xf4;?\\xbc\\xb5<N\\xc1T;\\x9c?(;\\xcc\\xa4\\x06=SW\\x89<\\x14\\x85\\x85<J\\nd\\xbc8\\x86g\\xbb\"R\\x91<\\x10\\xf7p\\xbaa\\xe5\\xea\\xbc\\x80\\xd5\\x83;\\xda\\xa1\\x05\\xbcV\\xcfO<L\\xb94\\xbc6\\x16\\xc1;\\xc4\\x8ft<\\xaf\\x93\\xb1;\\xb7i\\x99:\\x1b\\x1cC<\\xefmU<\\x89\\xb3\\x8b\\xbb[VM\\xbc/\\xe7\\x89\\xbbt\\xb0\\xb1<\\xca\\x8d\\xaf\\xbaB4|\\xbb\\xa8\\xf5\\xdc<\\xe8n\\x11\\xbc\\x8a\\x83\\x98<\\xc8\\x1d\\x89:Z\\xb6\\xb3\\xbc#\"\\x1e=\\x17\\xfdK\\xbc\\xed\\xc5\\x9b\\xbc \\x0b\\xc7\\xbc\\x15N{<Z\\xeeF;\\x93\"\\xf6<\\xe4\\x1f\\xa7\\xbc\\x9dw\\xbb\\xbc\\xf5\\xfcr<\\x1a|\\xa9\\xbc\\xd4\\xa3J\\xbc\\x11n\\xae\\xbc\\xdaq\\x129\\xa4\\xad\\x89\\xbc\\x1f\\xd3\\xb3\\xbc\\x86\\xcc\\'\\xbb\\xda\\xa1\\x05<s@\\x0b\\xbcF\\xeb\\xec<3_\\xd0\\xbc\\xe8n\\x11\\xbcAd\\xef\\xbc\\xfe\\nn\\xbb\\x92\\xc1\\x06=r\\xd8\\x84\\xbc\\\\^m<\\x8a\\x83\\x98:\\x84\\x85\\xdd\\xbbM\\xf1G\\xbc\\xf9\"\\x01\\xbdYN-\\xbc=L\\x0f<9-\\x98<\\xe5\\xef\\xb3<\\xb3J\\xa2<\\x1d\\xfb\\x06\\xbc\\x9a\\x90\\xd7;\\xb3\\x1a/<y\\x07\\xbc\\xbc*\\xb9\\xdb:b\\xf4\\xa1\\xbb\\xee5B\\xbc\\x9e\\xafN\\xbc/xl<\\xad\\x8b\\x91\\xbb\\xdcI\\xbf<\\xc3Wa\\xbc#\"\\x1e\\xbc\\xa4\\xd6e\\xbca\\x8c\\x1b\\xbc\\x99\\xf0=\\xbc\\xa6\\x856\\xbca$\\x95\\xbcB;\\x13\\xbb\\xdf\\x89\\xf2:\\xfe\\n\\xee;\\x0c\\x17\\xa4\\xbc\\xa5\\xe5\\x1c;\\xa5\\xb5)\\xbd\\x8a\\xeb\\x1e\\xbc<|\\x02=\\xa7UC\\xbcy\\x9f\\xb5<1\\xbf\\xb6\\xbc\\xcdD\\xa0<\\x039\\x1c\\xbc\"\\x13g<u\\xe8\\xc4;\\xf3T98\\xc3\\xbfg\\xbc\\xff\\x81\\xab\\xbaz\\xd7H\\xbc\\x816s\\xbc\\xc0\\xdf\\x1a<\\xee\\xcd;\\xbc\\x88\\x0c[<nJp\\xb9\\xbc(*<\\x8a\\x83\\x18<\\xb1\\x03\\xd8:\\xfb\\xfa-\\xbc\\xb1\\x03\\xd8\\xbc\\x1d\\x8c\\xe9\\xbbzoB\\xbcj\\x9a\\x96\\xbb\\xff\\xda\\xfa\\xbca\\xb5w\\xbc\\xde\\xe9\\xd8;V\\xffB<#\\xf2*< \\x0bG\\xbb\\xae\\xf3\\x97\\xba\\x99\\x88\\xb7\\xbc\\x06I\\xdc\\xbc\\xc0\\xdf\\x1a<a\\x8c\\x1b\\xbc\\xe9\\x0e+=7~\\xc7\\xb9\\x1e\\x9b\\xa0<\\xe8\\xd6\\x97<\\xeb%\\x82\\xbb].\\xfa\\xbcJ\\xa2\\xdd\\xbc7~\\xc7\\xbb\\xdf\\xc8\\x1c\\xbc\\x10\\xce\\x94<\\xb1\\xaa\\x08=\\x1f\\x03\\'\\xbc\\xb5\"\\xcf\\xbcp\\x91\\xba<\\xa9\\xd4\\xa0\\xba\\x84\\x1dW\\xbc\\x84\\x1dW\\xbc\\xd0\\x1cM=T\\'\\x96<\\xa0\\xb7n\\xbb\\xd0\\xecY\\xbc\\xa9\\x95v\\xbc4\\xa6\\x9a;\\x8e\\xcb\\xeb<\\xe7\\xc7\\xe0\\xbcTPr\\xbc\\xc3W\\xe1\\xb9\\xc2\\x1f\\xce\\xbc\\xdf\\xc8\\x1c<\\xf9\\x8a\\x87<)\\x19B<\\x83\\xb5\\xd0<&\\xd9\\x0e\\xbb8\\x1e\\xe1\\xbb\\xf5\\xfc\\xf2;w_\\x82<\\xf4\\xc4_\\xbc\\xc8F\\xe5<\\xa0\\x87{\\xbbL!;<\\xe8\\x97\\xed:\\xd6\\xea\\x94<)\\x19\\xc2;\\xe9\\xa6$\\xbc}\\xbe,\\xbd\\x1a\\x14#\\xbc\\xf6;\\x1d<\\x80\\xfe_<|\\xaf\\xf5\\xbb\\x8e\\xcb\\xeb;\\xad#\\x8b=\\xc3\\xbfg;~^\\xc6\\xbc\\x8d\\xfb^\\xbbh\\xebE\\xbc<|\\x82\\xbc\\xcdt\\x13\\xbb\\x8e\\x9b\\xf8\\xbb\\xa0\\xf6\\x18<\\xda\\x02u<\\x92\\x91\\x13\\xbda$\\x15\\xbb\\xbf\\xa7\\x07\\xbc\\x06y\\xcf;\\xfaS}\\xbc\\xb7\\xfa\\xfb\\xbc\\xfc2A<\\x1d\\xfb\\x86\\xbc\\x06I\\xdc\\xbb\\x1d\\x8ci\\xbc\\xaa<\\xa7<\\xa0^\\x9f<\\xd1\\xfb\\x10\\xbc^=\\xb1<\\xf0\\xa5h9%b\\xd18h\\x83\\xbf\\xbc\\xbd\\xf8\\xb6<\\xda\\x02u;\\xb7\\xfa{;\\xe0h6\\xbc\\x83\\xb5\\xd0<\\xea\\x16K\\xbdY~ \\xbd\\x0b\\x0f\\x04=3\\xc7V\\xbc\\xf6\\xcc\\xff\\xbc\\x90\\xe2B<\\xa5\\xe5\\x9c\\xbb|\\x86\\x99;\\xe2\\xd8\\\\\\xbb\\x07\\xe9u\\xbc\\x1d\\xbc\\\\;\\x08\\xf8\\xac\\xbb\\xed\\xc5\\x9b\\xbc4\\xffi;\\t`3\\xbcs\\x10\\x18<n\\xe9\\x00\\xbc\\xb5\"\\xcf\\xba\\x11n.< s\\xcd\\xbc\\xcc\\x0c\\x8d<\\xe6\\'\\xc7\\xb9\\':\\xfe;e\\x04b\\xbb\\x08\\x90&\\xbc\\xee5\\xc2\\xbbmBP<\\xc7vX=W\\xde\\x06<Ak\\x86\\xbc\\x0c\\x17\\xa4\\xbc\\x1bL6\\xb9\\xe2p\\xd6\\xbc\\t0\\xc0<\\x87\\xd4\\xc7\\xbbs\\xd1m\\xbc;m\\xcb\\xbb<\\xa5^\\xbc\\x82E*=P\\x08\\x1f<\\xdd\\x81R\\xbc\\xfey\\x0b;mBP<Jy\\x81\\xbc\\'\\xa9\\x1b\\xbd\\xef\\x9dH\\xbc\\xe6\\xf7\\xd3\\xb8xg\"=\\xf5\\xd3\\x96;\\xc1\\x7f\\xb4\\xbc\\x15N\\xfb\\xbb\\x9dw;\\xbc\\xdbA\\x1f\\xbd`\\x15\\xde\\xbb\\xad\\x8b\\x11\\xbchS\\xcc<\\x03\\xa1\\xa2</\\x10\\xe6<\\xfc\\xca:;\\x07X\\x93<\\xd6\\x82\\x0e\\xbc\\x12\\xa6A<\\x92\\x91\\x13\\xbd\\x02\\x92\\xeb<}\\xee\\x1f=\\x9dw\\xbb\\xbb\\x15\\xbd\\x98\\xbb-\\xa0\\xbf<A\\x03\\x00\\xbd\\x1d\\xfb\\x06\\xbc\\x89K\\x05=\\x86\\xcc\\'<\\xc6\\xd6\\xbe<\\xba\\xe1\\xdf<\\xb7\\xfa{;\\x0b\\xa0\\xe6\\xbc\\'\\x11\\xa2\\xbb\\x0e\\x1f\\xc4;\\xe8gz\\xbb\\xd1+\\x84<z?O<\\x7f\\xc6L\\xbd\\xda\\t\\x8c\\xbcw\\xf0d\\xbb\\xd8Z\\xbb;\\xbd0\\xca\\xbcBs&;\\xe7\\xc7\\xe0;_E\\xd1:f<\\xf5\\xb9\\xd2\\xf4y\\xbc}\\xee\\x1f:5\\x0e\\xa1\\xb9\\x97\\xe8\\x9d\\xba\\x1d\\xfb\\x86<U_\\xa9<\\x03bx:Pp\\xa5<\\xcce\\xdc<\\x17-?\\xbdi\\xf3e\\xbc|\\x1e\\x13\\xbc\\x82E*\\xbc\\x02i\\x8f\\xbb\\x16]2<T \\x7f\\xbb2\\'\\xbd<\\xe5\\xbf\\xc0\\xbb\\xa6\\x1d\\xb0<\\x13\\xde\\xd4\\xba\\xe8\\xd6\\x97\\xbc\\x96H\\x84\\xbc\\x83M\\xca:\\xdf`\\x96\\xbc \\x0bG<\\xcc\\xa4\\x86\\xbb\\xc6n8\\xbd\\\\5\\x11=\\xd7\"\\xa8\\xbc\\xc8\\x85\\x8f<Bs&<\\xc1\\x7f\\xb4\\xbcI\\xd2P<\\x8b\\xbb\\xab\\xbczo\\xc2\\xbc\\x17-?<\\xbe?\\x01\\xbd\\xd3k\\xb7\\xbc\\xf5\\x03\\x8a\\xbc\\x05\\x11\\xc9\\xbcc\\xfc\\xc1\\xbc\\xfbb4<\\x18eR>\\xc5\\x06\\xb2\\xbc\\xb8\\xd9?<\\xf3$F<\\xfe\\nn\\xbc\\xbd\\xf86\\xbb\\xdfY\\x7f;\\x82}\\xbd<I\\xd2P\\xbb\\xde(\\x03<`\\x15\\xde\\xbaA\\xd3\\x8c<0\\x87#;\\x8f\\xaa\\xaf:E\\xb3\\xd9;\\xb6*\\xef\\xbch\\xebE\\xbdk:0\\xbc\\xf0=\\xe2\\xbc\\xa7UC=\\x80=\\n<\\x8b#2\\xbcL\\xb9\\xb49\\xf5k\\x10\\xbd\\x07X\\x93;\\x01\"\\xc5\\xbb\\xb8\\xd9?9\\x89\\x1b\\x92<\\x8a\\x83\\x18<$*><m\\xdaI\\xbc\\xf4\\x9b\\x03\\xbb\\x11n.\\xbc\\xff\\xb1\\x9e;\\x0b\\xa0f\\xbb\\x9eGH\\xbc0\\xb7\\x96;\\xd4;D<\\xca\\xf55\\xbb\"\\xe3\\xf3;=\\xe4\\x88<\\xb6Zb:L!;;\\x1d\\xfb\\x06\\xbd\\xc2\\xb7\\xc7;\\xd0\\xec\\xd9<Wv\\x80<\\xd9b[:\\xdf0\\xa3\\xbc\\xf3T\\xb9\\xba\\xef\\x9d\\xc8\\xbcJrj;\\xe4O\\x1a\\xbc\\xe3\\xe7\\x93<\\xf9\\xf2\\r;{wb<\\xa4\\x15\\x10=\\xe2\\xaf\\x00\\xbc.\\x08\\xc6\\xba\\xcdt\\x13:\\xa0\\xb7n\\xbc\\x9f\\x7f\\xdb\\xba\\xff\\x19\\xa5:\\xa7UC;~^F\\xbc\\x02\\x99\\x82<\\xe4O\\x1a\\xbc\\xbc\\x900\\xbcl\\xa26<w_\\x82\\xbb\\xe2\\xd8\\\\;2\\xf7\\xc9\\xbcy\\x9f\\xb5\\xbb.\\xd8R<\\x90\\x126\\xbc9-\\x18\\xbb\\xf2\\x1c\\xa6<\\xc9%);\\x15\\x8d%<O\\xc9\\xf4;\\xff\\xdaz<\\x9a\\x90W\\xbc-\\xd0\\xb2\\xbc\\x0fWW<\\xe3\\x10\\xf0\\xbb\\xb79\\xa6\\xbb\\x15U\\x92</x\\xec;*QU;\\xf2\\x1c&\\xbc\\xc8\\x1d\\t<|\\xafu\\xbcvP\\xcb\\xbc3\\x97c\\xbc\\x15%\\x1f\\xbcI\\xd2\\xd0;\\r\\x7f\\xaa;\\xb8\\t3<\\x0b\\xd0\\xd9\\xbc\\xfaZ\\x94\\xbcJ\\xe1\\x87\\xbc\\xc2\\x87T=\\x9e\\xafN;\\x12>;\\xbc\\xdd\\x81R\\xbc\\xf1\\xe4\\x92\\xbb~\\x8e\\xb97;\\x05E<4\\xa6\\x9a\\xbaWv\\x80\\xbb\\x8e\\xcb\\xeb\\xba4\\xcf\\xf6\\xbc\\x9b\\x07\\x958`T\\x08\\xb9\\x89\\x1b\\x12<I:\\xd7\\xbb\\x85\\x94\\x14\\xbc\\x12\\xd64\\xbd\\xf5\\x03\\x8a;l\\n=\\xbdp)4<\\x1d\\x8ci\\xbc\\xce\\xac&\\xbc\\x0c\\xaf\\x9d<].z\\xbc\\xdb\\xa9%\\xbc\\x02\\x01\\x89<\\rO7\\xbc\\x96q`\\xbanJ\\xf0\\xbc\\x0b8\\xe0<\\x86d\\xa1\\xbcRH\\xd2<\\xc0\\xdf\\x1a\\xbcv \\xd8;tH+\\xbc$Z1=\\xa9\\xc5\\xe9\\xbb\\x19D\\x16<\\xed\\xeew<\\xf8{P\\xbcoY\\xa79e\\x04b<\\x7f.S;\\xc5\\x062<\\xd1+\\x04\\xbd\\x11\\x06(<\\xf8\\xabC<\\xc0\\xaf\\';I:W<\\'\\x11\\xa2\\xbby7/\\xbd\\xb6\\x99\\x8c\\xbcu\\x80\\xbe\\xbc\\x15N\\xfb<\\xff\\xda\\xfa;\\xca]\\xbc\\xbcj\\x9a\\x16\\xbd\\xb6Z\\xe2<>\\xec\\xa8<I\\xd2P\\xbd]\\x9d\\x17\\xbcO\\xc9\\xf4<\\xed\\xee\\xf7\\xba\\xc7\\x0e\\xd2\\xbc\\x8b\\xf3>\\xbc}&3\\xbeeC\\x0c=\\xa8\\x8dV<IjJ<\\xa9\\x04\\x14=\\x10\\xf7p<\\x94\\x01\\xba<\\n\\x00M;\\x98\\xb8*\\xbb\\xe1\\xa0\\xc9\\xbb\\xc2\\x87\\xd4<,\\xc1{<el\\xe8\\xbb\\x10f\\x0e\\xbd\\xe3\\xe7\\x93<x\\x97\\x95\\xbc\\xc0\\x08\\xf7\\xbc\\x12\\xa6\\xc1<J\\nd:x(x<J\\xe1\\x07=x\\x97\\x15\\xbc\\xf9\"\\x81\\xbcF\\xbby\\xbcf{\\x9f\\xbc\\xd6\\xea\\x14;FZ\\n\\xbd\\xae++<\\xa0^\\x1f;\\x90\\x12\\xb6\\xbc\\xda2\\xe8\\xbbd\\x9c\\xdb:s\\xa1\\xfa<\\xbd\\xc8C<\\xfd\\xd2\\xda;L!;<\\xad#\\x8b\\xbb,h\\xac<\\xc6\\xa6\\xcb8\\xd7\\x8a.<\\x97\\x80\\x97<\\xb0\\x9b\\xd1<\\xae\\xf3\\x17\\xbaF\\xebl<\\xb7i\\x99\\xbb\\t\\xc89\\xbc\\xb7\\xfa{<\\xbf\\xd0c\\xbbj\\x9a\\x96\\xba\\x1f\\x03\\xa7\\xbcd\\x9c\\xdb;&\\t\\x02\\xbdJ\\xe1\\x87<\\xd5\\xab\\xea;\\x80f\\xe6:c,\\xb5<U_\\xa9<\\x97\\xe8\\x1d;\\x15N\\xfb;\\xcd\\x9d\\xef\\xbc\\xfa\\x83p\\xbc s\\xcd\\xbc\\xf0\\xa5\\xe8;\\xc1\\x17.\\xbc\\xd7\\x8a\\xae\\xbc\\xde\\x90\\x89\\xbcs\\xa8\\x11\\xbc\\x8e\\xa2\\x0f<\\x14F[\\xbc\\x97\\x18\\x91<\\xa4E\\x03<\\xba\\xb8\\x03\\xbc\\x00\\xea\\xb1<a\\xe5\\xea\\xbaFZ\\x8a<\\xd5\\xdb]\\xbcoY\\xa7;\\nh\\xd3\\xbb\\xa8\\xf5\\\\\\xbbS\\xef\\x82;\\xf8\\x13\\xca\\xbc\\xaa<\\xa7<4\\xcf\\xf6\\xbc\\xbf\\xa7\\x87;i\\xf3\\xe5;\\xb3\\x1a\\xaf<\\xee5\\xc2<\\x03bx<\\xae\\xc3$;SW\\x89<\\x13v\\xce\\xba\\xdf`\\x96\\xbct\\xe0\\xa4<\\x96H\\x04;JI\\x8e;\\xb8q9<F\\xeb\\xec<\\x8e\\x9b\\xf8\\xbb\\xc9U\\x1c<g\\x1b9<\\x81\\r\\x17\\xbc\\xf5\\xfc\\xf2\\xbb7\\xe6M\\xbc\\xb1\\xaa\\x08<\\xfc\\xca\\xba<-\\xa0\\xbf;\\xdd\\x19\\xcc\\xbb\\xec\\xf5\\x0e==L\\x8f<\\x85,\\x0e\\xbd]\\x05\\x1e\\xbc|\\x86\\x99\\xbb\\xb79&=\"R\\x11=N\\x91\\xe1\\xbb\\xbe\\x98\\xd0<,\\x00\\xa6\\xbcG\\x92\\x9d\\xbc\\xda\\xa1\\x05<\\xdf0\\xa3\\xbb\\xd4;D=\\xe2\\xd8\\xdc\\xbb\\xd1$\\xed\\xba\\xfa\\x83\\xf0;\\x89K\\x85\\xbc:e\\xab\\xbc\\xbf\\xd0\\xe3\\xbd\\x0b\\xa0f\\xbc\\xfbb\\xb4\\xba\\x08( =\\xa1\\x962:\\x08\\x90\\xa6<\\x19\\x9de\\xbcAdo<\\x84\\xedc<T\\'\\x16=\\xf5\\xd3\\x16\\xbdH\\x9a=\\xbc\\x0b\\x0f\\x04\\xbd4\\xa6\\x1a<+\\xc8\\x12=t\\xb01:\\\\\\xcd\\n<s\\x10\\x98\\xba\\x00\\xea\\xb1\\xbc\\xd1$\\xed<\\x0cG\\x17<\\x9a(\\xd1\\xbb\\xdcy2<\\xf1u\\xf5\\xbc\\rO7\\xbd\\xeb\\xe6\\xd7\\xbb\\x9b7\\x08\\xbd\\x06yO;:e\\xab<N\\xc1\\xd4;=\\x1c\\x1c<J\\xe1\\x87\\xbb\\xb8q9\\xbc\\xe5\\xbf\\xc0\\xbc?\\x8cB\\xbc}V&;\\xa4\\xd6\\xe5\\xbcCC\\xb3\\xbba\\xbc\\x0e\\xbc!\\xdbS\\xbcJ\\xe1\\x87<\\x16\\xf5+<\\xb0\\x9b\\xd1\\xbbib\\x83\\xbc\\x9b\\x9f\\x8e<\"\\x13g;\\x8c\\xc3K\\xbcA\\xd3\\x8c<\\xc1\\x17\\xae\\xbc(\\xe1.<\\x1dc\\r<\\xd4\\x0bQ\\xbc\\xcd\\x9do<\\xdcI\\xbf\\xbcBs&\\xba\\x12\\xa6\\xc1;\\xfb\\x92\\'\\xbbn\\x12];\\x06\\xe1U\\xbc\\xd8Z\\xbb\\xbcZ\\x1e:\\xbcc\\xfcA<\\xdbA\\x1f\\xbc5v\\xa7;s@\\x0b<\\xcdt\\x93<Z\\xb63\\xbd\\x03\\xd1\\x95\\xbc7\\xe6M<x\\xcf(\\xbcw\\xf0d\\xbcO\\xa0\\x18=\\x02\\xc2\\xde\\xbc\\xc1\\x7f\\xb4;5v\\xa7\\xbc\\x1d\\x93\\x00<\\x12\\xa6A\\xbcmBP\\xbc\\xed\\xc5\\x9b<\\xc8\\xed\\x15\\xbd*Q\\xd5\\xbc\\x88\\xa4T\\xbd\\xde\\x90\\t;\\x1dc\\r\\xbd\\x11\\xc7}</\\xe7\\t=\\x88\\x0c\\xdb;zoB\\xbb)\\x19\\xc2<(\\xe1\\xae\\xbc\\xcc\\x0c\\r\\xbb\\xa5\\xb5\\xa9<\\xee\\xcd\\xbb<\\xba \\x8a\\xbc\\xf7C=\\xbc\\x93\"\\xf6\\xbb\\x18\\x0c\\x03\\xbc8\\xf5\\x84\\xbb\\xc4\\xce\\x9e;\\xc0\\xdf\\x1a<\\xcdm|\\xbc\\x84\\x85]\\xbb\\\\5\\x91\\xbd\\x01\\xf2\\xd1<\\x02i\\x0f\\xbc\\xe8n\\x11<x\\xff\\x9b\\xbc\\xe3\\x10p\\xbcib\\x03=TP\\xf2\\xbb%b\\xd1;\\xf7\\xdb\\xb6\\xbbq\\xc9M\\xbd%\\xcaW\\xba\\xce|\\xb3\\xbc\\x11n\\xae;\\x01\\x8aK\\xbc\\x0b\\xa0f\\xbcB4\\xfc;0\\xb7\\x16<\\x92Ri<\\xa9\\x9c\\x8d:\\x1f\\x03\\xa7\\xbc\\xb3\\xb2\\xa8;\\xf5\\xd3\\x96<\\x89\\x1b\\x92<\\xdcy\\xb2\\xbc9-\\x18;d\\x9c[;;\\x9d\\xbe<8]\\x8b<\\xe0\\x98)9\\xb6\\x01\\x13=W\\xde\\x86:k\\x93\\xff:\\x1f\\x03\\xa7<\\x8d\\xd2\\x82\\xbc\\xa4\\xad\\t\\xbd|\\xaf\\xf5:\\xec\\x8d\\x08=j\\x9a\\x16=\\xa9\\x9c\\x8d\\xbb`T\\x08\\xbd\\xd6\\xea\\x14\\xbdS\\xbf\\x0f<\\xb5\\x8aU\\xbck\\xd2\\xa9\\xbc\\x01\"E<\\x91\\x1aV<\\\\5\\x91<\\xa84\\x07\\xbbW\\xde\\x06\\xbck\\xd2\\xa9<6F4:\\xb5\\xf2[\\xbc\\xb8q9\\xbc\\\\e\\x04\\xbd\\xc9\\xbd\"\\xbcgK,=\\x941-\\xbc;\\x05E;\\xf8\\xe3V\\xbc\\x86\\x8d\\xfd<C\\xab9<\\xc6>\\xc5<,h\\xac\\xbc\\xf0=b<\\xb6\\x99\\x8c\\xbaFZ\\n\\xbc\\xd5\\xab\\xea:\\xc8\\x85\\x8f\\xbc\\xf5k\\x10\\xbb\\x8c\\xc3\\xcb\\xbb\\\\\\x8e\\xe0;y\\x9f\\xb5;H27\\xbbK\\xb1\\x94\\xbc\\xca\\xf5\\xb5\\xba\\xa7%\\xd0\\xba\\xd6{w<\\xf5,\\xe6\\xb7r\\x99Z<W7V<\\xfe\\xe1\\x11\\xbb\\xb4\\xba\\xc8\\xbc\\x1c\\xec\\xcf<Ak\\x06\\xbc1\\xef)<\\xb3\\x825;\\xec\\x1ek\\xbc\\x83M\\xca\\xbb\\xc5\\x062;\\xc3\\xbfg\\xba\\xd4\\x0b\\xd1<.\\x08F\\xbc\\xd5\\xdb]\\xbc\\xff\\xb1\\x1e;\\x85\\x94\\x94<oY\\xa7\\xbce\\xab\\x92\\xb9\\xf0\\x14\\x86<\\xba \\x8a<u\\xe8D\\xbb\\xbc(\\xaa\\xbb\\xeb\\xe6W\\xbcLQ\\xae\\xbc\\xb3J\\xa2\\xbc\\x116\\x1b<\\xb9\\xa9\\xcc\\xbc\\xa9\\x9c\\x8d\\xbc\\'A\\x95\\xbc\\xf9\\x8a\\x87;/\\xe7\\t\\xbb\\t`\\xb3;\\x0bw\\x8a<+\\xc8\\x12;\\xe0\\x000\\xbci\\x8b\\xdf;\\x8c+R\\xbc\\x97\\x18\\x91\\xbc\\xe7_\\xda\\xbc\\xe4\\xb7\\xa0<\\xc9%\\xa9<\\xe0h\\xb6<\\x06I\\xdc<\\xd0T\\xe0;a\\x8c\\x1b9+0\\x99<|\\x86\\x99<nJp\\xbcW7V<X\\xd7o:\\xf8\\xab\\xc3<\\x00R\\xb8\\xba\\x8c[E<\\xc8\\x16r\\xbcT\\xf7\"\\xbd\\xcc\\xa4\\x06\\xbd\\x84\\xc4\\x07<hS\\xcc<\\xf2\\xec\\xb2<\\xbc(\\xaa=\\xae\\xc3$;\\xb2\\xa3q\\xbcT\\xf7\\xa2;\\xf2\\xec\\xb2<X\\xae\\x13=\\xb3\\x1a\\xaf\\xbc#\\xf2*\\xbcw\\xf0\\xe4\\xbc)\\x19\\xc2\\xbcA\\x94\\xe2;\\xd5\\xb2\\x81\\xbclrC;\\x08(\\xa0\\xbcj2\\x10\\xbd\\x8aS\\xa5<P\\x08\\x1f<i#Y<\\xc6\\xa6K\\xbc\\xa3\\x9e\\xd2\\xbbY\\xa7\\xfc<\\x8c+R\\xbc\\x99XD=\\xcdt\\x93</x\\xec\\xbc.@Y\\xbc:e+<!\\xab`;G\\xfa\\xa3\\xbc\\xdaq\\x12\\xbd\\xe6\\'G\\xbc\\x91\\xb2O\\xbbl\\n\\xbd\\xbc\\x08( \\xbc\\x08\\x90&;p\\xc1\\xad\\xbbn!\\x94<\\xed\\x95\\xa8\\xbb\\xc9\\xbd\"\\xbb]\\x05\\x9e<\\xec]\\x15\\xb9\\xcdm|<F\\xc2\\x10\\xbc\\xc4\\x8f\\xf4\\xbb\\x16\\xc5\\xb8\\xbc\\xc1\\x17\\xae\\xbb*!\\xe2;\\xf1L\\x19<\\x91Y\\x00\\xbd',\n",
       " b'start_index': b'336573',\n",
       " b'source': b'repo/resources/nke-10k-2023.pdf',\n",
       " b'content': b\"As part of the Company's centrally managed foreign exchange risk management program, standard foreign currency rates are assigned twice per year to each NIKE Brand entity in the Company's geographic operating segments and to Converse. These rates are set approximately nine and twelve months in advance of the future selling seasons to which they relate (specifically, for each currency, one standard rate applies to the fall and holiday selling seasons, and one standard rate applies to the spring and summer selling seasons) based on average market spot rates in the calendar month preceding the date they are established. Inventories and Cost of sales for geographic operating segments and Converse reflect the use of these standard rates to record non-functional currency product purchases in the entity's functional currency. Differences between assigned standard foreign currency rates and actual market rates are included in Corporate, together with foreign currency hedge gains and losses generated from the Company's centrally managed foreign exchange risk management program and other conversion gains and losses.\\n\\nAccounts receivable, net, Inventories and Property, plant and equipment, net for operating segments are regularly reviewed by management and are therefore provided below.\\n\\n2023 FORM 10-K 85\\n\\nTable of Contents\\n\\n(Dollars in millions)\\n\\nREVENUES\\n\\nNorth America Europe, Middle East & Africa Greater China\\n\\nAsia Pacific & Latin America Global Brand Divisions\\n\\nTotal NIKE Brand\"}"
      ]
     },
     "execution_count": 41,
     "metadata": {},
     "output_type": "execute_result"
    }
   ],
   "source": [
    "# do NOT run this command in production\n",
    "keys = rds.client.keys()\n",
    "\n",
    "rds.client.hgetall(keys[0])"
   ]
  },
  {
   "cell_type": "markdown",
   "metadata": {},
   "source": [
    "### Sample Semantic Search Queries"
   ]
  },
  {
   "cell_type": "code",
   "execution_count": 42,
   "metadata": {},
   "outputs": [],
   "source": [
    "from langchain.vectorstores.redis import RedisText"
   ]
  },
  {
   "cell_type": "code",
   "execution_count": 58,
   "metadata": {},
   "outputs": [
    {
     "data": {
      "text/plain": [
       "[(Document(page_content='Inventories as of May 31, 2023 were $8.5 billion, flat compared to the prior year, driven by the actions we took throughout fiscal 2023 to manage inventory levels\\n\\nWe returned $7.5 billion to our shareholders in fiscal 2023 through share repurchases and dividends\\n\\nReturn on Invested Capital (\"ROIC\") as of May 31, 2023 was 31.5% compared to 46.5% as of May 31, 2022. ROIC is considered a non-GAAP financial measure, see \"Use of Non-GAAP Financial Measures\" for further information.\\n\\nFor discussion related to the results of operations and changes in financial condition for fiscal 2022 compared to fiscal 2021 refer to Part II, Item 7. Management\\'s Discussion and Analysis of Financial Condition and Results of Operations in our fiscal 2022 Form 10-K, which was filed with the United States Securities and Exchange Commission on July 21, 2022.\\n\\nCURRENT ECONOMIC CONDITIONS AND MARKET DYNAMICS\\n\\nConsumer Spending: Our fiscal 2023 growth in Revenues reflects strong demand for our products despite ongoing uncertainty in the global economy. We will\\n\\ncontinue to closely monitor macroeconomic conditions, including potential impacts of inflation and rising interest rates on consumer behavior.\\n\\n\\n\\nInflationary Pressures: Inflationary pressures, including higher product input, freight and logistics costs negatively impacted gross margin for fiscal 2023. The strategic pricing actions we have taken partially offset the impacts of these higher costs.', metadata={'id': 'doc:langchain:dbaed296e64b424fad0b0bff27ed0eb4'}),\n",
       "  0.1786),\n",
       " (Document(page_content=\"mix, lower margins in NIKE Direct due to higher promotional activity and a lower mix of full-price sales. This was partially offset by higher full-price ASP, net of discounts, largely due to strategic pricing actions and product mix.\\n\\nSelling and administrative expense increased 15% due to higher operating overhead and demand creation expense. The increase in operating overhead expense was primarily due to higher wage-related costs and higher NIKE Direct variable costs, in part due to new store additions. Demand creation expense increased primarily due to higher sports marketing expense and an increase in digital marketing.\\n\\n2023 FORM 10-K 37\\n\\nTable of Contents\\n\\nEUROPE, MIDDLE EAST & AFRICA\\n\\n% CHANGE EXCLUDING CURRENCY\\n\\n(Dollars in millions)\\n\\nFISCAL 2023 FISCAL 2022\\n\\n% CHANGE\\n\\nCHANGES FISCAL 2021\\n\\n% CHANGE\\n\\nRevenues by:\\n\\nFootwear Apparel Equipment\\n\\n$\\n\\n8,260 $ 4,566 592\\n\\n7,388 4,527 564\\n\\n12 % 1 % 5 %\\n\\n25 % $ 14 % 18 %\\n\\n6,970 3,996 490\\n\\n6 % 13 % 15 %\\n\\nTOTAL REVENUES\\n\\n$\\n\\n13,418 $\\n\\n12,479\\n\\n8 %\\n\\n21 % $\\n\\n11,456\\n\\n9 %\\n\\nRevenues by:\\n\\nSales to Wholesale Customers Sales through NIKE Direct\\n\\n$\\n\\n8,522 $ 4,896\\n\\n8,377 4,102\\n\\n2 % 19 %\\n\\n15 % $ 33 %\\n\\n7,812 3,644\\n\\n7 % 13 %\\n\\nTOTAL REVENUES\\n\\n$\\n\\n13,418 $\\n\\n12,479\\n\\n8 %\\n\\n21 % $\\n\\n11,456\\n\\n9 %\\n\\nEARNINGS BEFORE INTEREST AND TAXES\\n\\n$\\n\\n3,531 $\\n\\n3,293\\n\\n7 %\\n\\n$\\n\\n2,435\\n\\n35 %\\n\\nFISCAL 2023 COMPARED TO FISCAL 2022\\n\\nEMEA revenues increased 21% on a currency-neutral basis, due to higher revenues in Men's, the Jordan Brand, Women's and Kids'. NIKE Direct revenues\", metadata={'id': 'doc:langchain:0bf86819d4874f05ae96a8d6986c1333'}),\n",
       "  0.1816),\n",
       " (Document(page_content='Wholesale equivalent\\n\\nThe decrease in gross margin for fiscal 2023 was primarily due to:\\n\\nHigher NIKE Brand product costs, on a wholesale equivalent basis, primarily due to higher input costs and elevated inbound freight and logistics costs as well as\\n\\nproduct mix;\\n\\nLower margin in our NIKE Direct business, driven by higher promotional activity to liquidate inventory in the current period compared to lower promotional activity in\\n\\nthe prior period resulting from lower available inventory supply;\\n\\nUnfavorable changes in net foreign currency exchange rates, including hedges; and\\n\\nLower off-price margin, on a wholesale equivalent basis.\\n\\nThis was partially offset by:\\n\\nHigher NIKE Brand full-price ASP, net of discounts, on a wholesale equivalent basis, due primarily to strategic pricing actions and product mix; and\\n\\nLower other costs, primarily due to higher inventory obsolescence reserves recognized in Greater China in the fourth quarter of fiscal 2022.\\n\\nTOTAL SELLING AND ADMINISTRATIVE EXPENSE\\n\\n(Dollars in millions)\\n\\nDemand creation expense Operating overhead expense\\n\\n(1)\\n\\n$\\n\\nFISCAL 2023 4,060 12,317\\n\\n$\\n\\nFISCAL 2022 3,850 10,954\\n\\n% CHANGE\\n\\n5 % $\\n\\n12 %\\n\\nFISCAL 2021 3,114 9,911\\n\\nTotal selling and administrative expense\\n\\n% of revenues\\n\\n$\\n\\n16,377\\n\\n32.0 %\\n\\n$\\n\\n14,804\\n\\n31.7 %\\n\\n11 % $ 30 bps\\n\\n13,025\\n\\n29.2 %', metadata={'id': 'doc:langchain:e9bfb08381e94c0a9f6067c2a0829edd'}),\n",
       "  0.1816),\n",
       " (Document(page_content='Selling and administrative expense was flat due to increased operating overhead expense offset by lower demand creation expense. The increase in operating overhead expense was primarily due to higher wage-related expenses and other administrative costs, partially offset by favorable changes in foreign currency exchange rates. Demand creation expense decreased primarily due to lower retail brand presentation costs, lower digital marketing and favorable changes in foreign currency exchange rates, partially offset by higher advertising and marketing expense.\\n\\n2023 FORM 10-K 39\\n\\nTable of Contents\\n\\nASIA PACIFIC & LATIN AMERICA\\n\\n% CHANGE EXCLUDING CURRENCY\\n\\n(Dollars in millions)\\n\\nFISCAL 2023 FISCAL 2022\\n\\n% CHANGE\\n\\nCHANGES FISCAL 2021\\n\\n% CHANGE\\n\\nRevenues by: Footwear\\n\\n$\\n\\n4,543 $\\n\\n4,111\\n\\n11 %\\n\\n19 % $\\n\\n3,659\\n\\n12 %\\n\\nApparel Equipment\\n\\n1,664 224\\n\\n1,610 234\\n\\n3 % -4 %\\n\\n13 % 4 %\\n\\n1,494 190\\n\\n8 % 23 %\\n\\nTOTAL REVENUES Revenues by:\\n\\n$\\n\\n6,431 $\\n\\n5,955\\n\\n8 %\\n\\n17 % $\\n\\n5,343\\n\\n11 %\\n\\nSales to Wholesale Customers Sales through NIKE Direct\\n\\n$\\n\\n3,736 $ 2,695\\n\\n3,529 2,426\\n\\n6 % 11 %\\n\\n14 % $ 22 %\\n\\n3,387 1,956\\n\\n4 % 24 %\\n\\nTOTAL REVENUES EARNINGS BEFORE INTEREST AND TAXES\\n\\n$ $\\n\\n6,431 $ 1,932 $\\n\\n5,955 1,896\\n\\n8 % 2 %\\n\\n17 % $ $\\n\\n5,343 1,530\\n\\n11 % 24 %', metadata={'id': 'doc:langchain:1e5da804627a43ddaf4b52b06a0bf28c'}),\n",
       "  0.1827)]"
      ]
     },
     "execution_count": 58,
     "metadata": {},
     "output_type": "execute_result"
    }
   ],
   "source": [
    "# basic \"top 4\" vector search on a given query\n",
    "rds.similarity_search_with_score(query=\"Profit margins\", k=4)"
   ]
  },
  {
   "cell_type": "code",
   "execution_count": 59,
   "metadata": {},
   "outputs": [
    {
     "data": {
      "text/plain": [
       "[(Document(page_content='NIKE Brand apparel revenues increased 8% on a currency-neutral basis, primarily due to higher revenues in Men\\'s. Unit sales of apparel increased 4%, while higher ASP per unit contributed approximately 4 percentage points of apparel revenue growth. Higher ASP was primarily due to higher full-price ASP and growth in the size of our NIKE Direct business, partially offset by lower NIKE Direct ASP, reflecting higher promotional activity.\\n\\nNIKE Direct revenues increased 14% from $18.7 billion in fiscal 2022 to $21.3 billion in fiscal 2023. On a currency-neutral basis, NIKE Direct revenues increased 20% primarily driven by NIKE Brand Digital sales growth of 24%, comparable store sales growth of 14% and the addition of new stores. For further information regarding comparable store sales, including the definition, see \"Comparable Store Sales\". NIKE Brand Digital sales were $12.6 billion for fiscal 2023 compared to $10.7 billion for fiscal 2022.\\n\\n2023 FORM 10-K 33\\n\\nTable of Contents\\n\\nGROSS MARGIN FISCAL 2023 COMPARED TO FISCAL 2022\\n\\nFor fiscal 2023, our consolidated gross profit increased 4% to $22,292 million compared to $21,479 million for fiscal 2022. Gross margin decreased 250 basis points to 43.5% for fiscal 2023 compared to 46.0% for fiscal 2022 due to the following:\\n\\nWholesale equivalent\\n\\nThe decrease in gross margin for fiscal 2023 was primarily due to:', metadata={'id': 'doc:langchain:d722b5bd96c742ca9f3190d811ef91fb'}),\n",
       "  0.1845),\n",
       " (Document(page_content='Because contract manufacturers make a majority of our products outside of our principal sales markets, our products must be transported by third parties over large geographic distances. Delays in the shipment or delivery of our products due to the availability of transportation, container shortages, labor shortages, including work stoppages or port strikes, infrastructure and port congestion or other factors, and costs and delays associated with consolidating or transitioning between manufacturers, have adversely impacted, and could in the future adversely impact the availability of our products and, in turn, our financial performance. In addition, delays in the shipment or delivery of our products, manufacturing delays or unexpected demand for our products have required us, and may in the future require us to use faster, but more expensive, transportation methods such as air freight, which could adversely affect our profit margins. The cost of oil is a significant component in manufacturing and transportation costs, so increases in the price of petroleum products can adversely affect our profit margins. Changes in U.S. trade policies, including modifications to import tariffs and existing trade policies and agreements, have also had, and could continue to have a significant impact on our activities in foreign jurisdictions, and could adversely affect our reputation or results of operations.\\n\\nOur success depends on our global distribution facilities.', metadata={'id': 'doc:langchain:3b23a0ba1bb145e6937e51b04032af62'}),\n",
       "  0.197),\n",
       " (Document(page_content='COMPARABLE STORE SALES Comparable store sales: This key metric, which excludes NIKE Brand Digital sales, comprises revenues from NIKE-owned in-line and factory stores for which all three of the following requirements have been met: (1) the store has been open at least one year, (2) square footage has not changed by more than 15% within the past year and (3) the store has not been permanently repositioned within the past year. Comparable store sales includes revenues from stores that were temporarily closed during the period as a result of COVID-19. Comparable store sales represents a performance metric that we believe is useful information for management and investors in understanding the performance of our established NIKE-owned in-line and factory stores. Management considers this metric when making financial and operating decisions. The method of calculating comparable store sales varies across the retail industry. As a result, our calculation of this metric may not be comparable to similarly titled metrics used by other companies.\\n\\n2023 FORM 10-K 30\\n\\nTable of Contents\\n\\nRESULTS OF OPERATIONS\\n\\n(Dollars in millions, except per share data)\\n\\nRevenues Cost of sales\\n\\nGross profit Gross margin\\n\\nDemand creation expense Operating overhead expense\\n\\nTotal selling and administrative expense % of revenues\\n\\nInterest expense (income), net\\n\\nOther (income) expense, net Income before income taxes\\n\\nIncome tax expense Effective tax rate\\n\\nNET INCOME Diluted earnings per common share\\n\\n$\\n\\n$ $', metadata={'id': 'doc:langchain:83d68778fdd34b359e29bc4d6709ac79'}),\n",
       "  0.1983),\n",
       " (Document(page_content='Basic Diluted\\n\\n$ $\\n\\n3.27 $ 3.23 $\\n\\n3.83 $ 3.75 $\\n\\n3.64 3.56\\n\\nNOTE 11 — BENEFIT PLANS\\n\\nThe Company has a qualified 401(k) Savings and Profit Sharing Plan, in which all U.S. employees are able to participate. The Company matches a portion of employee contributions to the savings plan. Company contributions to the savings plan were $136 million, $126 million and $110 million and included in Cost of sales or Operating overhead expense, as applicable, for the fiscal years ended May 31, 2023, 2022 and 2021, respectively.\\n\\nThe Company also has a Long-Term Incentive Plan (\"LTIP\") adopted by the Board of Directors and approved by shareholders in September 1997, which has been amended from time to time. The Company recognized an immaterial amount of Operating overhead expense related to cash awards under the LTIP during the years ended May 31, 2023, 2022 and 2021. During the fiscal years ended May 31, 2023 and 2022, under the Stock Incentive Plan, the Company granted PSUs which replaced cash-based long-term incentive awards historically granted under the Company\\'s LTIP. Refer to Note 9 — Common Stock and Stock-Based Compensation for further information related to PSUs.', metadata={'id': 'doc:langchain:4b66771254b94b7c9910b1ccd06d72c3'}),\n",
       "  0.1991)]"
      ]
     },
     "execution_count": 59,
     "metadata": {},
     "output_type": "execute_result"
    }
   ],
   "source": [
    "# vector search with metadata filtering\n",
    "\n",
    "f = RedisText(\"content\") % \"profit\"\n",
    "rds.similarity_search_with_score(query=\"Profit margins\", k=4, filter=f)"
   ]
  },
  {
   "cell_type": "code",
   "execution_count": 66,
   "metadata": {},
   "outputs": [
    {
     "data": {
      "text/plain": [
       "[(Document(page_content='FISCAL 2023 COMPARED TO FISCAL 2022\\n\\nNIKE, Inc. Revenues were $51.2 billion in fiscal 2023, which increased 10% and 16% compared to fiscal 2022 on a reported and currency-neutral basis, respectively. The increase was due to higher revenues in North America, Europe, Middle East & Africa (\"EMEA\"), APLA and Greater China, which contributed approximately 7, 6, 2 and 1 percentage points to NIKE, Inc. Revenues, respectively.\\n\\nNIKE Brand revenues, which represented over 90% of NIKE, Inc. Revenues, increased 10% and 16% on a reported and currency-neutral basis, respectively. This increase was primarily due to higher revenues in Men\\'s, the Jordan Brand, Women\\'s and Kids\\' which grew 17%, 35%,11% and 10%, respectively, on a wholesale equivalent basis.\\n\\nNIKE Brand footwear revenues increased 20% on a currency-neutral basis, due to higher revenues in Men\\'s, the Jordan Brand, Women\\'s and Kids\\'. Unit sales of footwear increased 13%, while higher average selling price (\"ASP\") per pair contributed approximately 7 percentage points of footwear revenue growth. Higher ASP was primarily due to higher full-price ASP, net of discounts, on a wholesale equivalent basis, and growth in the size of our NIKE Direct business, partially offset by lower NIKE Direct ASP.', metadata={'id': 'doc:langchain:1545bdbc35ba484ca1cc703bb39850a5'}),\n",
       "  0.1147),\n",
       " (Document(page_content='NIKE Brand apparel revenues increased 8% on a currency-neutral basis, primarily due to higher revenues in Men\\'s. Unit sales of apparel increased 4%, while higher ASP per unit contributed approximately 4 percentage points of apparel revenue growth. Higher ASP was primarily due to higher full-price ASP and growth in the size of our NIKE Direct business, partially offset by lower NIKE Direct ASP, reflecting higher promotional activity.\\n\\nNIKE Direct revenues increased 14% from $18.7 billion in fiscal 2022 to $21.3 billion in fiscal 2023. On a currency-neutral basis, NIKE Direct revenues increased 20% primarily driven by NIKE Brand Digital sales growth of 24%, comparable store sales growth of 14% and the addition of new stores. For further information regarding comparable store sales, including the definition, see \"Comparable Store Sales\". NIKE Brand Digital sales were $12.6 billion for fiscal 2023 compared to $10.7 billion for fiscal 2022.\\n\\n2023 FORM 10-K 33\\n\\nTable of Contents\\n\\nGROSS MARGIN FISCAL 2023 COMPARED TO FISCAL 2022\\n\\nFor fiscal 2023, our consolidated gross profit increased 4% to $22,292 million compared to $21,479 million for fiscal 2022. Gross margin decreased 250 basis points to 43.5% for fiscal 2023 compared to 46.0% for fiscal 2022 due to the following:\\n\\nWholesale equivalent\\n\\nThe decrease in gross margin for fiscal 2023 was primarily due to:', metadata={'id': 'doc:langchain:d722b5bd96c742ca9f3190d811ef91fb'}),\n",
       "  0.1394),\n",
       " (Document(page_content=\"Footwear revenues increased 19% on a currency-neutral basis, primarily due to higher revenues in Men's, Women's and the Jordan Brand. Unit sales of footwear increased 16%, while higher ASP per pair contributed approximately 3 percentage points of footwear revenue growth. Higher ASP per pair was primarily due to higher full-price ASP and growth in NIKE Direct, partially offset by lower NIKE Direct ASP.\\n\\nApparel revenues increased 13% on a currency-neutral basis, primarily due to higher revenues in Men's. Unit sales of apparel increased 9%, while higher ASP per\\n\\nunit contributed approximately 4 percentage points of apparel revenue growth. Higher ASP per unit was primarily due to higher full-price and off-price ASPs, partially offset by lower NIKE Direct ASP.\\n\\nReported EBIT increased 2% due to higher revenues and the following:\\n\\nGross margin contraction of approximately 190 basis points primarily due to higher product costs, reflecting product mix and higher input costs, as well as unfavorable changes in standard foreign currency exchange rates. This was partially offset by higher full-price ASP, net of discounts, due to product mix and strategic pricing actions.\\n\\nSelling and administrative expense increased 8% due to higher operating overhead and demand creation expense. Operating overhead expense increased primarily\", metadata={'id': 'doc:langchain:d4ca628e11dc4646b298a5b9e57d3bd0'}),\n",
       "  0.1411),\n",
       " (Document(page_content=\"increased 18%, driven by strong digital sales growth of 23%, comparable store sales growth of 9% and the addition of new stores.\\n\\nFootwear revenues increased 22% on a currency-neutral basis, primarily due to higher revenues in Men's and the Jordan Brand. Unit sales of footwear increased\\n\\n17%, while higher ASP per pair contributed approximately 5 percentage points of footwear revenue growth. Higher ASP per pair was primarily due to higher full-price ASP and growth in NIKE Direct, partially offset by lower NIKE Direct ASP, reflecting higher promotional activity as well as lower available inventory supply in the prior period and a lower mix of full-price sales.\\n\\nApparel revenues increased 9% on a currency-neutral basis, primarily due to higher revenues in Men's. Unit sales of apparel increased 7%, while higher ASP per unit contributed approximately 2 percentage points of apparel revenue growth. Higher ASP per unit was primarily due to higher full-price ASP and growth in NIKE Direct, partially offset by lower NIKE Direct ASP, reflecting higher promotional activity.\\n\\nReported EBIT increased 7% due to higher revenues and the following:\\n\\nGross margin contraction of 310 basis points primarily due to higher product costs, reflecting higher input costs and inbound freight and logistics costs and product\", metadata={'id': 'doc:langchain:744ef3e3b30346799ec497ec928317ae'}),\n",
       "  0.1432)]"
      ]
     },
     "execution_count": 66,
     "metadata": {},
     "output_type": "execute_result"
    }
   ],
   "source": [
    "# vector search with combinations of metadata filtering\n",
    "\n",
    "f = (RedisText(\"content\") % \"profit\") | (RedisText(\"content\") % \"revenue\")\n",
    "rds.similarity_search_with_score(query=\"Nike company revenue\", k=4, filter=f)"
   ]
  },
  {
   "cell_type": "code",
   "execution_count": 68,
   "metadata": {},
   "outputs": [
    {
     "data": {
      "text/plain": [
       "[(Document(page_content='FISCAL 2023 COMPARED TO FISCAL 2022\\n\\nNIKE, Inc. Revenues were $51.2 billion in fiscal 2023, which increased 10% and 16% compared to fiscal 2022 on a reported and currency-neutral basis, respectively. The increase was due to higher revenues in North America, Europe, Middle East & Africa (\"EMEA\"), APLA and Greater China, which contributed approximately 7, 6, 2 and 1 percentage points to NIKE, Inc. Revenues, respectively.\\n\\nNIKE Brand revenues, which represented over 90% of NIKE, Inc. Revenues, increased 10% and 16% on a reported and currency-neutral basis, respectively. This increase was primarily due to higher revenues in Men\\'s, the Jordan Brand, Women\\'s and Kids\\' which grew 17%, 35%,11% and 10%, respectively, on a wholesale equivalent basis.\\n\\nNIKE Brand footwear revenues increased 20% on a currency-neutral basis, due to higher revenues in Men\\'s, the Jordan Brand, Women\\'s and Kids\\'. Unit sales of footwear increased 13%, while higher average selling price (\"ASP\") per pair contributed approximately 7 percentage points of footwear revenue growth. Higher ASP was primarily due to higher full-price ASP, net of discounts, on a wholesale equivalent basis, and growth in the size of our NIKE Direct business, partially offset by lower NIKE Direct ASP.', metadata={'id': 'doc:langchain:1545bdbc35ba484ca1cc703bb39850a5'}),\n",
       "  0.1147),\n",
       " (Document(page_content=\"Through the Consumer Direct Acceleration strategy, we are focused on creating the marketplace of the future with more premium, consistent and seamless consumer experiences, leading with digital and our owned stores, as well as select wholesale partners. In addition, our product creation and marketing organizations are aligned to a consumer construct focused on sports dimensions through Men's, Women's and Kids', which allows us to better serve consumer needs. We continue to invest in a new Enterprise Resource Planning Platform, data and analytics, demand sensing, insight gathering, and other areas to create an end-to-end technology foundation, which we believe will further accelerate our digital transformation. We believe this unified approach will accelerate growth and unlock more efficiency for our business, while driving speed and responsiveness as we serve consumers globally.\\n\\nFINANCIAL HIGHLIGHTS\\n\\n\\n\\nIn fiscal 2023, NIKE, Inc. achieved record Revenues of $51.2 billion, which increased 10% and 16% on a reported and currency-neutral basis, respectively\\n\\nNIKE Direct revenues grew 14% from $18.7 billion in fiscal 2022 to $21.3 billion in fiscal 2023, and represented approximately 44% of total NIKE Brand revenues for\\n\\nfiscal 2023\\n\\nGross margin for the fiscal year decreased 250 basis points to 43.5% primarily driven by higher product costs, higher markdowns and unfavorable changes in foreign currency exchange rates, partially offset by strategic pricing actions\", metadata={'id': 'doc:langchain:93112cf88e384fccac30ca4206bb680e'}),\n",
       "  0.1291),\n",
       " (Document(page_content=\"1,292 $ 931 123\\n\\n— $ — (72)\\n\\n26,900 19,657 153\\n\\nTOTAL REVENUES\\n\\n$\\n\\n18,353 $\\n\\n12,479 $\\n\\n7,547 $\\n\\n5,955 $\\n\\n102 $\\n\\n44,436 $\\n\\n2,346 $\\n\\n(72) $\\n\\n46,710\\n\\n2023 FORM 10-K 83\\n\\nTable of Contents\\n\\nYEAR ENDED MAY 31, 2021\\n\\n(Dollars in millions)\\n\\nNORTH AMERICA\\n\\nEUROPE, MIDDLE EAST & AFRICA\\n\\nGREATER CHINA\\n\\nASIA PACIFIC & LATIN AMERICA\\n\\n(1)\\n\\nGLOBAL BRAND DIVISIONS\\n\\nTOTAL NIKE BRAND\\n\\nCONVERSE CORPORATE\\n\\nTOTAL NIKE, INC.\\n\\nRevenues by:\\n\\nFootwear Apparel Equipment\\n\\n$\\n\\n11,644 $ 5,028 507\\n\\n6,970 $ 3,996 490\\n\\n5,748 $ 2,347 195\\n\\n3,659 $ 1,494 190\\n\\n— $ — —\\n\\n28,021 $ 12,865 1,382\\n\\n1,986 $ 104 29\\n\\n— $ — —\\n\\n30,007 12,969 1,411\\n\\nOther\\n\\nTOTAL REVENUES\\n\\n$\\n\\n—\\n\\n17,179 $\\n\\n—\\n\\n11,456 $\\n\\n— 8,290 $\\n\\n— 5,343 $\\n\\n25 25 $\\n\\n25\\n\\n42,293 $\\n\\n86 2,205 $\\n\\n40 40 $\\n\\n151 44,538\\n\\nRevenues by:\\n\\nSales to Wholesale Customers $\\n\\n10,186 $\\n\\n7,812 $\\n\\n4,513 $\\n\\n3,387 $\\n\\n— $\\n\\n25,898 $\\n\\n1,353 $\\n\\n— $\\n\\n27,251\\n\\nSales through Direct to Consumer Other\\n\\n6,993 —\\n\\n3,644 —\\n\\n3,777 —\\n\\n1,956 —\\n\\n— 25\\n\\n16,370 25\\n\\n766 86\\n\\n— 40\\n\\n17,136 151\\n\\nTOTAL REVENUES\\n\\n$\\n\\n17,179 $\\n\\n11,456 $\\n\\n8,290 $\\n\\n5,343 $\\n\\n25 $\\n\\n42,293 $\\n\\n2,205 $\\n\\n40 $\\n\\n44,538\\n\\n(1) Refer to Note 18 — Acquisitions and Divestitures for additional information on the transition of the Company's NIKE Brand business in Brazil to a third-party distributor.\", metadata={'id': 'doc:langchain:6bd1260f311148c6b9b2715a1dd914f3'}),\n",
       "  0.1294),\n",
       " (Document(page_content=\"90 28 154\\n\\n— — 27\\n\\n13,933 1,755 239\\n\\nTOTAL REVENUES\\n\\n$\\n\\n21,608 $\\n\\n13,418 $\\n\\n7,248 $\\n\\n6,431 $\\n\\n58 $\\n\\n48,763 $\\n\\n2,427 $\\n\\n27 $\\n\\n51,217\\n\\nRevenues by:\\n\\nSales to Wholesale Customers Sales through Direct to Consumer\\n\\n$\\n\\n11,273 $ 10,335\\n\\n8,522 $ 4,896\\n\\n3,866 $ 3,382\\n\\n3,736 $ 2,695\\n\\n— $ —\\n\\n27,397 $ 21,308\\n\\n1,299 $ 974\\n\\n— $ —\\n\\n28,696 22,282\\n\\nOther\\n\\nTOTAL REVENUES\\n\\n$\\n\\n—\\n\\n21,608 $\\n\\n—\\n\\n13,418 $\\n\\n— 7,248 $\\n\\n— 6,431 $\\n\\n58 58 $\\n\\n58\\n\\n48,763 $\\n\\n154 2,427 $\\n\\n27 27 $\\n\\n239 51,217\\n\\n(1) Refer to Note 18 — Acquisitions and Divestitures for additional information on the transition of the Company's NIKE Brand businesses in its CASA territory to third-party distributors.\\n\\nYEAR ENDED MAY 31, 2022\\n\\n(Dollars in millions)\\n\\nNORTH AMERICA\\n\\nEUROPE, MIDDLE EAST & AFRICA\\n\\nGREATER CHINA\\n\\nASIA PACIFIC & LATIN AMERICA\\n\\nGLOBAL BRAND DIVISIONS\\n\\nTOTAL NIKE\\n\\nBRAND CONVERSE CORPORATE\\n\\nTOTAL NIKE, INC.\\n\\nRevenues by: Footwear Apparel\\n\\n$\\n\\n12,228 $ 5,492\\n\\n7,388 $ 4,527\\n\\n5,416 $ 1,938\\n\\n4,111 $ 1,610\\n\\n— $ —\\n\\n29,143 $ 13,567\\n\\n2,094 $ 103\\n\\n— $ —\\n\\n31,237 13,670\\n\\nEquipment Other\\n\\n633 —\\n\\n564 —\\n\\n193 —\\n\\n234 —\\n\\n— 102\\n\\n1,624 102\\n\\n26 123\\n\\n— (72)\\n\\n1,650 153\\n\\nTOTAL REVENUES Revenues by:\\n\\n$\\n\\n18,353 $\\n\\n12,479 $\\n\\n7,547 $\\n\\n5,955 $\\n\\n102 $\\n\\n44,436 $\\n\\n2,346 $\\n\\n(72) $\\n\\n46,710\\n\\nSales to Wholesale Customers Sales through Direct to Consumer Other\\n\\n$\\n\\n9,621 $ 8,732 —\\n\\n8,377 $ 4,102 —\\n\\n4,081 $ 3,466 —\\n\\n3,529 $ 2,426 —\\n\\n— $ — 102\\n\\n25,608 $ 18,726 102\\n\\n1,292 $ 931 123\\n\\n— $ — (72)\\n\\n26,900 19,657 153\\n\\nTOTAL REVENUES\\n\\n$\\n\\n18,353 $\\n\\n12,479 $\\n\\n7,547 $\", metadata={'id': 'doc:langchain:5a596e2f983a4e13a52d9d2af944280b'}),\n",
       "  0.136)]"
      ]
     },
     "execution_count": 68,
     "metadata": {},
     "output_type": "execute_result"
    }
   ],
   "source": [
    "# filter results to a certain distance threshold\n",
    "rds.similarity_search_with_score(query=\"Nike company revenue\", k=4, distance_threshold=0.14)"
   ]
  },
  {
   "cell_type": "markdown",
   "metadata": {
    "id": "XdzQa112Bf2b"
   },
   "source": [
    "## Integrate with an LLM\n",
    "LangChain makes it easy to now take this vector store and build retireval augmented generation (RAG) applications over your data."
   ]
  },
  {
   "cell_type": "markdown",
   "metadata": {
    "collapsed": false
   },
   "source": [
    "### Initialize OpenAI\n",
    "\n",
    "You need to supply an OpenAI API key (starts with `sk-...`) when prompted. If the key is in your env -- great, otherwise enter it when prompted below. You can find your API key at https://platform.openai.com/account/api-keys"
   ]
  },
  {
   "cell_type": "code",
   "execution_count": 70,
   "metadata": {},
   "outputs": [],
   "source": [
    "import getpass\n",
    "from langchain.llms import OpenAI\n",
    "\n",
    "llm = OpenAI(openai_api_key=os.getenv(\"OPENAI_API_KEY\") or getpass(\"OpenAI API Key:\"))"
   ]
  },
  {
   "cell_type": "markdown",
   "metadata": {},
   "source": [
    "### Setup prompt\n",
    "PromptTemplate defines the exect text of the response that would be fed to the LLM. This step is optional, but the defaults usually work well for OpenAI and might fall short for other models."
   ]
  },
  {
   "cell_type": "code",
   "execution_count": 71,
   "metadata": {
    "id": "yKKn2KKp3TQ4"
   },
   "outputs": [],
   "source": [
    "def get_prompt():\n",
    "    \"\"\"Create the QA chain.\"\"\"\n",
    "    from langchain.prompts import PromptTemplate\n",
    "\n",
    "    # Define our prompt\n",
    "    prompt_template = \"\"\"Use the following pieces of context to answer the question at the end. If you don't know the answer, say that you don't know, don't try to make up an answer.\n",
    "\n",
    "    This should be in the following format:\n",
    "\n",
    "    Question: [question here]\n",
    "    Answer: [answer here]\n",
    "\n",
    "    Begin!\n",
    "\n",
    "    Context:\n",
    "    ---------\n",
    "    {context}\n",
    "    ---------\n",
    "    Question: {question}\n",
    "    Answer:\"\"\"\n",
    "\n",
    "    prompt = PromptTemplate(\n",
    "        template=prompt_template,\n",
    "        input_variables=[\"context\", \"question\"]\n",
    "    )\n",
    "    return prompt"
   ]
  },
  {
   "cell_type": "markdown",
   "metadata": {
    "id": "xgEXBujxG1dO"
   },
   "source": [
    "### Putting it all together\n",
    "\n",
    "This is where the Langchain brings all the components together in a form of a simple RAG application with the financial PDF document."
   ]
  },
  {
   "cell_type": "code",
   "execution_count": 72,
   "metadata": {
    "id": "RKNSP0zqZq98"
   },
   "outputs": [],
   "source": [
    "from langchain.chains import RetrievalQA\n",
    "\n",
    "qa = RetrievalQA.from_chain_type(\n",
    "    llm=llm,\n",
    "    chain_type=\"stuff\",\n",
    "    retriever=rds.as_retriever(),\n",
    "    return_source_documents=True,\n",
    "    chain_type_kwargs={\"prompt\": get_prompt()},\n",
    "    verbose=True\n",
    ")"
   ]
  },
  {
   "cell_type": "markdown",
   "metadata": {
    "id": "SURTtVbYBFGc"
   },
   "source": [
    "### Finally - let's ask questions!\n",
    "\n",
    "Examples:\n",
    "- What did the president say about Kentaji Brown Jackson\n",
    "- Did he mention Stephen Breyer?\n",
    "- What was his stance on Ukraine"
   ]
  },
  {
   "cell_type": "code",
   "execution_count": 73,
   "metadata": {
    "colab": {
     "base_uri": "https://localhost:8080/",
     "height": 53
    },
    "id": "0JkswfOHZu9h",
    "outputId": "9bc0b5d4-6281-4cc0-ae31-1d97c4186f4a"
   },
   "outputs": [
    {
     "name": "stdout",
     "output_type": "stream",
     "text": [
      "\n",
      "\n",
      "\u001b[1m> Entering new RetrievalQA chain...\u001b[0m\n"
     ]
    },
    {
     "name": "stderr",
     "output_type": "stream",
     "text": [
      "score_threshold is deprecated. Use distance_threshold instead.score_threshold should only be used in similarity_search_with_relevance_scores.score_threshold will be removed in a future release.\n"
     ]
    },
    {
     "name": "stdout",
     "output_type": "stream",
     "text": [
      "\n",
      "\u001b[1m> Finished chain.\u001b[0m\n"
     ]
    },
    {
     "data": {
      "text/plain": [
       "' Nike, Inc. Revenues were $51.2 billion in fiscal 2023, which increased 10% and 16% compared to fiscal 2022 on a reported and currency-neutral basis, respectively.'"
      ]
     },
     "execution_count": 73,
     "metadata": {},
     "output_type": "execute_result"
    }
   ],
   "source": [
    "query = \"What was Nike's revenue last year compared to this year??\"\n",
    "res=qa(query)\n",
    "res['result']"
   ]
  },
  {
   "cell_type": "code",
   "execution_count": 74,
   "metadata": {},
   "outputs": [
    {
     "name": "stderr",
     "output_type": "stream",
     "text": [
      "score_threshold is deprecated. Use distance_threshold instead.score_threshold should only be used in similarity_search_with_relevance_scores.score_threshold will be removed in a future release.\n"
     ]
    },
    {
     "name": "stdout",
     "output_type": "stream",
     "text": [
      "\n",
      "\n",
      "\u001b[1m> Entering new RetrievalQA chain...\u001b[0m\n",
      "\n",
      "\u001b[1m> Finished chain.\u001b[0m\n"
     ]
    },
    {
     "data": {
      "text/plain": [
       "' Nike offers products from the NIKE Brand, Jordan Brand, and Converse. Nike is part of the athletic footwear, apparel and equipment industry.'"
      ]
     },
     "execution_count": 74,
     "metadata": {},
     "output_type": "execute_result"
    }
   ],
   "source": [
    "query = \"How many products does Nike offer? What is the industry that Nike is part of?\"\n",
    "res=qa(query)\n",
    "res['result']"
   ]
  },
  {
   "cell_type": "code",
   "execution_count": 75,
   "metadata": {},
   "outputs": [
    {
     "name": "stderr",
     "output_type": "stream",
     "text": [
      "score_threshold is deprecated. Use distance_threshold instead.score_threshold should only be used in similarity_search_with_relevance_scores.score_threshold will be removed in a future release.\n"
     ]
    },
    {
     "name": "stdout",
     "output_type": "stream",
     "text": [
      "\n",
      "\n",
      "\u001b[1m> Entering new RetrievalQA chain...\u001b[0m\n",
      "\n",
      "\u001b[1m> Finished chain.\u001b[0m\n"
     ]
    },
    {
     "data": {
      "text/plain": [
       "\" I don't know.\""
      ]
     },
     "execution_count": 75,
     "metadata": {},
     "output_type": "execute_result"
    }
   ],
   "source": [
    "query = \"Is Nike an ethical company?\"\n",
    "res=qa(query)\n",
    "res['result']"
   ]
  },
  {
   "cell_type": "code",
   "execution_count": 76,
   "metadata": {},
   "outputs": [
    {
     "name": "stderr",
     "output_type": "stream",
     "text": [
      "score_threshold is deprecated. Use distance_threshold instead.score_threshold should only be used in similarity_search_with_relevance_scores.score_threshold will be removed in a future release.\n"
     ]
    },
    {
     "name": "stdout",
     "output_type": "stream",
     "text": [
      "\n",
      "\n",
      "\u001b[1m> Entering new RetrievalQA chain...\u001b[0m\n",
      "\n",
      "\u001b[1m> Finished chain.\u001b[0m\n"
     ]
    },
    {
     "data": {
      "text/plain": [
       "' Approximately 83,700 employees worldwide, including retail and part-time employees.'"
      ]
     },
     "execution_count": 76,
     "metadata": {},
     "output_type": "execute_result"
    }
   ],
   "source": [
    "query = \"How many employees work at Nike???\"\n",
    "res=qa(query)\n",
    "res['result']"
   ]
  },
  {
   "cell_type": "markdown",
   "metadata": {},
   "source": [
    "## Cleanup\n",
    "\n",
    "Cleanup the index and data."
   ]
  },
  {
   "cell_type": "code",
   "execution_count": 83,
   "metadata": {},
   "outputs": [
    {
     "data": {
      "text/plain": [
       "True"
      ]
     },
     "execution_count": 83,
     "metadata": {},
     "output_type": "execute_result"
    }
   ],
   "source": [
    "rds.drop_index(index_name=index_name, redis_url=REDIS_URL, delete_documents=True)"
   ]
  }
 ],
 "metadata": {
  "colab": {
   "include_colab_link": true,
   "provenance": []
  },
  "kernelspec": {
   "display_name": "Python 3",
   "name": "python3"
  },
  "language_info": {
   "codemirror_mode": {
    "name": "ipython",
    "version": 3
   },
   "file_extension": ".py",
   "mimetype": "text/x-python",
   "name": "python",
   "nbconvert_exporter": "python",
   "pygments_lexer": "ipython3",
   "version": "3.9.18"
  }
 },
 "nbformat": 4,
 "nbformat_minor": 0
}
