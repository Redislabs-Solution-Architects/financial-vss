{
 "cells": [
  {
   "cell_type": "markdown",
   "metadata": {
    "id": "R2-i8jBl9GRH"
   },
   "source": [
    "# Vector Similarity Search with RedisPy\n",
    "![Redis](https://redis.com/wp-content/themes/wpx/assets/images/logo-redis.svg?auto=webp&quality=85,75&width=120)\n",
    "\n",
    "This notebook uses [RedisPy](https://redis-py.readthedocs.io/en/stable/), the standard Redis Python client library to perform document + embdding indexing and semantic search tasks."
   ]
  },
  {
   "cell_type": "markdown",
   "metadata": {},
   "source": [
    "## Install Python Dependencies"
   ]
  },
  {
   "cell_type": "code",
   "execution_count": null,
   "metadata": {},
   "outputs": [],
   "source": [
    "!pip install -q redis redisvl>=0.0.4 numpy sentence-transformers"
   ]
  },
  {
   "cell_type": "markdown",
   "metadata": {},
   "source": [
    "## Load Document Chunks and Embeddings\n",
    "**You are expected to have first run the Data Prep Notebook**"
   ]
  },
  {
   "cell_type": "code",
   "execution_count": 1,
   "metadata": {},
   "outputs": [],
   "source": [
    "import os\n",
    "import json\n",
    "\n",
    "data_path = \"notebooks/resources/\"\n",
    "\n",
    "with open(os.path.join(data_path, \"embeddings.json\"), \"r\") as f:\n",
    "    chunk_embeddings = json.load(f)\n",
    "\n",
    "with open(os.path.join(data_path, \"docs.json\"), \"r\") as f:\n",
    "    chunks = json.load(f)"
   ]
  },
  {
   "cell_type": "markdown",
   "metadata": {
    "id": "NBlbUrB27QQs"
   },
   "source": [
    "## Install Redis Stack (OPTIONAL)\n",
    "\n",
    "Redis Search will be used as Vector Similarity Search engine for LangChain.\n",
    "\n",
    "Instead of using in-notebook Redis Stack https://redis.io/docs/getting-started/install-stack/ you can provision your own free instance of Redis in the cloud. Get your own Free Redis Cloud instance at https://redis.com/try-free/"
   ]
  },
  {
   "cell_type": "code",
   "execution_count": null,
   "metadata": {
    "colab": {
     "base_uri": "https://localhost:8080/"
    },
    "id": "aKMKXPY2j8Gt",
    "outputId": "c91defdc-c530-415a-ae4d-381ba68e909c"
   },
   "outputs": [],
   "source": [
    "%%sh\n",
    "curl -fsSL https://packages.redis.io/gpg | sudo gpg --dearmor -o /usr/share/keyrings/redis-archive-keyring.gpg\n",
    "echo \"deb [signed-by=/usr/share/keyrings/redis-archive-keyring.gpg] https://packages.redis.io/deb $(lsb_release -cs) main\" | sudo tee /etc/apt/sources.list.d/redis.list\n",
    "sudo apt-get update  > /dev/null 2>&1\n",
    "sudo apt-get install redis-stack-server  > /dev/null 2>&1\n",
    "redis-stack-server --daemonize yes"
   ]
  },
  {
   "cell_type": "markdown",
   "metadata": {
    "id": "X7UsU1Ts7TUL"
   },
   "source": [
    "### Connect to Redis\n",
    "\n",
    "By default this notebook would connect to the local instance of Redis Stack. If you have your own Redis Cloud instance - replace REDIS_PASSWORD, REDIS_HOST and REDIS_PORT values with your own."
   ]
  },
  {
   "cell_type": "code",
   "execution_count": 2,
   "metadata": {
    "id": "dyPfCO3pkB7M"
   },
   "outputs": [],
   "source": [
    "# Replace values below with your own if using Redis Cloud instance\n",
    "REDIS_HOST = os.getenv(\"REDIS_HOST\", \"localhost\")\n",
    "REDIS_PORT = os.getenv(\"REDIS_PORT\", \"6379\")\n",
    "REDIS_PASSWORD = os.getenv(\"REDIS_PASSWORD\", \"\")\n",
    "#REDIS_HOST=\"redis-18374.c253.us-central1-1.gce.cloud.redislabs.com\"\n",
    "#REDIS_PORT=18374\n",
    "#REDIS_PASSWORD=\"1TNxTEdYRDgIDKM2gDfasupCADXXXX\"\n",
    "\n",
    "#shortcut for redis-cli $REDIS_CONN command\n",
    "if REDIS_PASSWORD!=\"\":\n",
    "  os.environ[\"REDIS_CONN\"]=f\"-h {REDIS_HOST} -p {REDIS_PORT} -a {REDIS_PASSWORD} --no-auth-warning\"\n",
    "else:\n",
    "  os.environ[\"REDIS_CONN\"]=f\"-h {REDIS_HOST} -p {REDIS_PORT}\"\n",
    "\n",
    "REDIS_URL = f\"redis://:{REDIS_PASSWORD}@{REDIS_HOST}:{REDIS_PORT}\"\n"
   ]
  },
  {
   "cell_type": "markdown",
   "metadata": {},
   "source": [
    "## Create the HASH index from schema\n",
    "Below we connect to Redis and create an index for vector similarity search that contains a single text field and vector field."
   ]
  },
  {
   "cell_type": "code",
   "execution_count": 4,
   "metadata": {},
   "outputs": [],
   "source": [
    "import redis\n",
    "from redis.commands.search.field import TextField, VectorField\n",
    "from redis.commands.search.indexDefinition import IndexDefinition, IndexType\n",
    "from redis.commands.search.query import Query\n",
    "\n",
    "\n",
    "r = redis.Redis.from_url(REDIS_URL)\n",
    "\n",
    "index_name = \"redispy\"\n",
    "key_prefix = \"doc:redispy\"\n",
    "\n",
    "def create_index(index_type: str = \"FLAT\"):       # Creates a FLAT index by default\n",
    "    try:\n",
    "        # check to see if index exists\n",
    "        r.ft(index_name).info()\n",
    "        print(\"Index already exists!\")\n",
    "    except:\n",
    "        # schema\n",
    "        schema = (\n",
    "            TextField(\"content\"),                  # Text Field Name\n",
    "            VectorField(\"chunk_vector\",            # Vector Field Name\n",
    "                index_type, {                      # Vector Index Type: FLAT or HNSW\n",
    "                    \"TYPE\": \"FLOAT32\",\n",
    "                    \"DIM\": 384,                    # Number of Vector Dimensions\n",
    "                    \"DISTANCE_METRIC\": \"COSINE\",   # Vector Search Distance Metric\n",
    "                }\n",
    "            ),\n",
    "        )\n",
    "\n",
    "        # index Definition\n",
    "        definition = IndexDefinition(prefix=[key_prefix], index_type=IndexType.HASH)   # Uses HASH by default\n",
    "\n",
    "        # create Index\n",
    "        r.ft(index_name).create_index(fields=schema, definition=definition)"
   ]
  },
  {
   "cell_type": "code",
   "execution_count": 5,
   "metadata": {},
   "outputs": [],
   "source": [
    "# Create the index\n",
    "create_index()"
   ]
  },
  {
   "cell_type": "code",
   "execution_count": 6,
   "metadata": {},
   "outputs": [
    {
     "data": {
      "text/plain": [
       "{'index_name': 'redispy',\n",
       " 'index_options': [],\n",
       " 'index_definition': [b'key_type',\n",
       "  b'HASH',\n",
       "  b'prefixes',\n",
       "  [b'doc:redispy'],\n",
       "  b'default_score',\n",
       "  b'1'],\n",
       " 'attributes': [[b'identifier',\n",
       "   b'content',\n",
       "   b'attribute',\n",
       "   b'content',\n",
       "   b'type',\n",
       "   b'TEXT',\n",
       "   b'WEIGHT',\n",
       "   b'1'],\n",
       "  [b'identifier',\n",
       "   b'chunk_vector',\n",
       "   b'attribute',\n",
       "   b'chunk_vector',\n",
       "   b'type',\n",
       "   b'VECTOR']],\n",
       " 'num_docs': '0',\n",
       " 'max_doc_id': '0',\n",
       " 'num_terms': '0',\n",
       " 'num_records': '0',\n",
       " 'inverted_sz_mb': '0',\n",
       " 'vector_index_sz_mb': '0.00818634033203125',\n",
       " 'total_inverted_index_blocks': '0',\n",
       " 'offset_vectors_sz_mb': '0',\n",
       " 'doc_table_size_mb': '0',\n",
       " 'sortable_values_size_mb': '0',\n",
       " 'key_table_size_mb': '0',\n",
       " 'geoshapes_sz_mb': '0',\n",
       " 'records_per_doc_avg': 'nan',\n",
       " 'bytes_per_record_avg': 'nan',\n",
       " 'offsets_per_term_avg': 'nan',\n",
       " 'offset_bits_per_record_avg': 'nan',\n",
       " 'hash_indexing_failures': '0',\n",
       " 'total_indexing_time': '0',\n",
       " 'indexing': '0',\n",
       " 'percent_indexed': '1',\n",
       " 'number_of_uses': 1,\n",
       " 'cleaning': 0,\n",
       " 'gc_stats': [b'bytes_collected',\n",
       "  b'0',\n",
       "  b'total_ms_run',\n",
       "  b'0',\n",
       "  b'total_cycles',\n",
       "  b'0',\n",
       "  b'average_cycle_time_ms',\n",
       "  b'nan',\n",
       "  b'last_run_time_ms',\n",
       "  b'0',\n",
       "  b'gc_numeric_trees_missed',\n",
       "  b'0',\n",
       "  b'gc_blocks_denied',\n",
       "  b'0'],\n",
       " 'cursor_stats': [b'global_idle',\n",
       "  0,\n",
       "  b'global_total',\n",
       "  0,\n",
       "  b'index_capacity',\n",
       "  128,\n",
       "  b'index_total',\n",
       "  0],\n",
       " 'dialect_stats': [b'dialect_1',\n",
       "  0,\n",
       "  b'dialect_2',\n",
       "  0,\n",
       "  b'dialect_3',\n",
       "  0,\n",
       "  b'dialect_4',\n",
       "  0]}"
      ]
     },
     "execution_count": 6,
     "metadata": {},
     "output_type": "execute_result"
    }
   ],
   "source": [
    "# Check the info related to the newly created index\n",
    "r.ft(index_name).info()"
   ]
  },
  {
   "cell_type": "markdown",
   "metadata": {
    "id": "Qrj-jeGmBRTL"
   },
   "source": [
    "### Process and load data using RedisVL\n",
    "Below we use a Redis pipeline (not a transaction) to batch send writes to Redis. This method helps with throughput significantly. The batch_size param can be customized and benchmarked on your hardware and with your data. We typically recommend starting small (100-200) and increasing as needed."
   ]
  },
  {
   "cell_type": "code",
   "execution_count": 7,
   "metadata": {},
   "outputs": [],
   "source": [
    "# load expects an iterable of dictionaries\n",
    "import numpy as np\n",
    "\n",
    "batch_size = 200\n",
    "pipe = r.pipeline(transaction=False)\n",
    "for i, chunk in enumerate(chunks):\n",
    "    data = {\n",
    "        'content': chunk['page_content'],\n",
    "        'chunk_vector': np.array(chunk_embeddings[i]).astype(np.float32).tobytes()\n",
    "    }\n",
    "    pipe.hset(f\"{key_prefix}:{i}\", mapping=data)\n",
    "    # execute in \"mini batches\"\n",
    "    if i % batch_size == 0:\n",
    "        res = pipe.execute()\n",
    "\n",
    "# cleanup final batch execution\n",
    "res = pipe.execute()"
   ]
  },
  {
   "cell_type": "code",
   "execution_count": 8,
   "metadata": {},
   "outputs": [
    {
     "data": {
      "text/plain": [
       "True"
      ]
     },
     "execution_count": 8,
     "metadata": {},
     "output_type": "execute_result"
    }
   ],
   "source": [
    "len(chunks) == r.dbsize()"
   ]
  },
  {
   "cell_type": "code",
   "execution_count": 9,
   "metadata": {},
   "outputs": [
    {
     "data": {
      "text/plain": [
       "{b'chunk_vector': b'_^\\x9f\\xbc%\\xb8\\x02\\xbd{\\x16\\xf0\\xbb\\x1b\\xbcO\\xbb\\x08x\\xa5\\xbbY-q<Y-q\\xbdL\\xa6\\x80\\xbc\\xe1\\xe5\\x04<\\x8a\\xf5>\\xbc\\x93\\x17\\xd4<\\x11\\x04\\xe3<\\xfa\\x8a\\x8b\\xbc\\re\\x8d<h$\\xd7\\xbb\\x08>+=\\xd2p^<Z{\\x03\\xbd\\xbf~\\xc5<c\\xc3\\xfa\\xbc\\x16\\xc1\\x1c\\xbd\\xc8\\x14\\xcf<)\\xe3c\\xbd\\x8f\\x90\\x95:\\xbf,4\\xbc%\\x96\\x1f<2\\x05\\xf9<\\x1bt\\x8a\\xbc\\x0c!G<\\xd3\\xd6\\x07<\\xac\\xae\\x8f\\xbbA\\xaaM\\xbc\\xbff.\\xbc%\"+\\xbb\\xb05N\\xbch\\xea\\xdc\\xbb\\xd2X\\xc7;\\x85\\x94\\xe2\\xbcd\\x11\\r<\\x1b\\xde2\\xbb\\xc4\\x19\\x9c<\\xcd\\xbdp<\\xef\\x1a\\xe4\\xbb\\xac\\xa4\\xc3;<\\xf7\\xdf9Ll\\x86<{\\xe6\\xc1;\\xb0\\x13k\\xbcK\\xeeE\\xbc\\xd2\\x92A=\\xeb\\xef\\x02=\\xce#\\x1a=w\\x03\\xa6\\xbc\\x89\\xeb\\xf2\\xba\\x03[\\x8f<A6Y\\xbcQq\\x05<\\xbf,\\xb4;\\x86\\xfa\\x8b\\xbc\\x0cQ\\xf5\\xbb\\x8ai3;\\x99\\xd4\\x8d;mm\\x9c\\xbb\\xe1\\xa1>\\xbc\\xdc\\xd69\\xbd=\\x8d\\xb7\\xba\\x9ee\\x18\\xbc\\xd7;c<\\xef\\x02M\\xbb\\x8a\\x8b\\x16;K\\x10\\xa9<\\x94s1<\\xac\\xa4C<\\x07\\xfad\\xbb\\xd7\\xc7\\xee<m\\xbf\\xad\\xbb\\x98\\xc0\\xf5\\xbbc{\\xb5;\\xfe\\x11\\xca<\\xc06\\x80<\\xa7\\x9fD<\\x0c\\x95;\\xbc\\x1b:\\x10\\xbd%\\xe80\\xbc\\xb1\\x05\\xa0<.D@;AX\\xbc;\\xac\\xe8\\t=3\\xeda<\\xd7E/<\\x17\\xa9\\x05=\\xcd\\x8d\\xc2<dc\\x9e<\\xb0\\x9f\\xf6;\\xb1\\x1d\\xb7\\xbc\\xe6\\xb0\\x89<\\xc4\\x83\\xc4\\xbc\\xc3\\xb3r<3\\xa5\\x9c\\xbc\\xba\\x05\\xd2\\xbc\\x8e\\xd8Z\\xbaZ\\x93\\x1a<\\xf4\\xe5\\xe8\\xbc\\xfd{r;=\\xe9\\x14\\xbd\\x03\\x17\\xc9\\xbc3\\x19\\x91\\xba^\\x02B\\xbchh\\x9d\\xbc\\xf4\\xcd\\xd1\\xbc||\\x19\\xbc_\\x98\\x19<\\x89w\\xfe;\\xdcJ\\xae\\xbc\\xa2\\xf6\\xa2<3\\xbd3\\xbdr\\xa2I<\\r}\\xa4<\\xbb\\xbd\\x8c;.,\\xa9;$\\xc6M<P\\xdb\\xad<)?\\xc1<\\x03\\xc57\\xbc\\x94\\xe7%=7,[;\\xd8\\x15\\x81<\\x08>\\xab\\xbc\\xf0F\\x13<8\\x888\\xbc\\x98\\xe2X\\xbc\\xbf\\x14\\x1d\\xbc\\re\\x8d<\\xe6l\\xc3\\xbb|\\xf0\\r\\xbc\\x8f\\x86\\xc9<\\xd2\\xe4R\\xbc o=;\\xb5R\\xe4\\xbc8X\\n\\xbd\\x165\\x11<\\xf0\\xf4\\x81;\\xeb\\xb5\\x88\\xbc=\\x97\\x03<\\xe6\\xea\\x83;r8!<A\\xc2d<\\xd8-\\x98<\\xe6\\xe07\\xbb\\xce\\xd1\\x08\\xbd\\xc9\\x92\\x0f\\xbcB@%9\\xf8<y<\\x8f\\x90\\x95\\xbcmK9;\\x08\\xca\\xb6\\xba\\xdc\\xee\\xd0\\xb87\\xd0}<\\xc4\\xa5\\xa7\\xbc\\x11\\xd44\\xbcg\\x02t\\xbc\\xa2>\\xe89.~\\xba\\xbb<\\xa5N<|\\xce\\xaa\\xbb\\xd6S\\xfa\\xbbm\\xa7\\x16\\xbc\\xd2\\xe4\\xd2\\xbb\\xb1\\xb3\\x8e\\xbb\\xeb\\xcd\\x1f<{\\xac\\xc7<\\xe1-J\\xbb\\x11H\\xa9\\xbc{\\xc4\\xde;\\x08\\xd4\\x82\\xbc\\xf9\\xd2P<\\xc4\\x8d\\x10=\\xb0\\x13k\\xbav\\xbf_\\xbd<kT\\xbc\\xcd\\xdf\\xd3<\\xd3\\xd6\\x87<r\\xdc\\xc3<B\\xcc\\xb0;\\xc9\\xcc\\x89;\\x94s\\xb1\\xbbU\\xf8C<\\xa2&Q<)\\xfbz\\xbc%\"\\xab\\xbc_\\xea*\\xbc\\xc0\\xfc\\x05=%\\xe80\\xbb \\xa97;\\xe1\\xc3!\\xbfZ\\x07\\x8f\\xbc\\xef<G<\\x1a\\x9al\\xbc{rM<PEV<3\\xa5\\x9c<\\x98\\xe2\\xd8<\\x03\\xcf\\x83\\xbcw\\x8f\\xb1<r\\xdc\\xc3\\xbc)\\xed/<\\xdc\\xf8\\x9c\\xbc\\xacj\\xc9\\xbcL\\xbe\\x17\\xbbP\\xa1\\xb3\\xbc\\xf4c\\xa9\\xbb\\xa7\\xa9\\x10\\xbd\\x93Q\\xce;|\\xce\\xaa\\xbc\\xa6\\t\\xed;\\xbf\\xb8\\xbf<\\x80\\xd3\\xa9\\xbc\\xd7u\\xdd:\\xb1\\'\\x03=\\xb1\\xb3\\x8e\\xbcm\\xf9\\'\\xbc\\x80=\\xd2\\xbchv\\xe8\\xba\\xac\"\\x84\\xbbK\\x9c\\xb4\\xbb\\x1b\\x00\\x16<c\\xb5/<\\x98\\x90\\xc7\\xbcPg9=m\\xef\\xdb;\\x86n\\x00<\\x80\\xd3)<\\xb6\\\\\\xb0<\\x0c9\\xde<\\x8f\\x86\\xc9\\xbcr8!\\xbc\\xfe\\xc9\\x04;L\\xf8\\x11;\\x864\\x86\\xbc\\xf5\\xf9\\x00=ZY =\\x8e\\xd8\\xda:\\r\\xd9\\x81<%\\xe80\\xbc\\x80\\xe1\\xf4;U2\\xbe\\xbb\\xbe\\xe8m\\xbbP\\xf3D\\xbb|\\xb6\\x93\\xbb\\xa2>\\xe8:{ <<3\\x83\\xb9\\xbcU\\x1a\\'<\\xb5:M;K\\xeeE\\xbc\\xb1\\'\\x03\\xbb\\x08>+\\xbc\\r\\xf1\\x98\\xbc\\xb5\\x00S\\xbc\\xac\\xae\\x8f\\xbc\\x1b\\xc6\\x9b;\\xc9\\x06\\x84<\\xa3\\x18\\x86<\\xc4\\x0f\\xd0;G\\xa1\\x81\\xbc\\xea7H=m\\x9dJ\\xb9\\x8a\\x17\\xa2\\xbcm3\"<^\\x8eM\\xbc\\x16+E=\\xc9\\xaa\\xa6\\xbb\\xea\\xfdM;{\\xac\\xc7<P\\x0b\\xdc\\xbb\\x11\\x9a\\xba\\xbc\\x02\\xbb\\xeb\\xbb\\xfdc[<\\xba\\xb3\\xc0<\\xc4\\x01\\x85;\\x94\\xe7%<\\xc4I\\xca:\\x984j<)\\xfb\\xfa9\\xa2>\\xe8:\\xdc2\\x97<\\xe1\\xdb\\xb8<*\\xbd\\x01\\xbd\\r\\xf1\\x98\\xbc\\xef<\\xc7<\\xeb\\x93\\xa5\\xbc\\xc9\\x92\\x0f\\xbc\\xbfN\\x17<\\xf4c\\xa9\\xbb\\x17o\\x8b;B(\\x8e\\xbb\\xc0\\xfc\\x85<\\x1b\\x8c!\\xbcUv\\x84<\\x8a\\xbb\\xc4;KXn<\\xe1q\\x90\\xba2ym=\\x98VM\\xbd\\xe1\\xe5\\x84\\xbc\\xdc\\xb4V\\xbc\\xfe\\x1b\\x16<\\xd8\\x15\\x81\\xbclAm\\xbc\\xcdS\\xc8\\xbcZA\\x89<\\xf4\\x93\\xd7\\xba\\xef\\x8eX\\xbb\\r+\\x93\\xbc\\x9d\\t\\xbb<\\xef\\x1ad<\\x02\\xbb\\xeb<\\x84\\xacy\\xba\\xa2`\\xcb;\\xc0\\x88\\x11\\xbb\\xfe\\x11\\xca\\xbc\\xb1\\xe3\\xbc\\xbc\\xba\\xb3\\xc0;\\x9eM\\x81\\xbb\\xe1q\\x90<\\x08`\\x0e=Z\\xfd\\xc2<\\xd2p\\xde\\xbam\\xa7\\x96;3\\xa5\\x9c<\\xbf\\xa0\\xa8<\\xd2\\x88\\xf5;\\xdb\\x92s\\xbc\\x80%;\\xbdq\\x98\\xfd\\xbc\\r\\xb7\\x9e;\\xc9\\xcc\\t<\\xf9\\x16\\x17\\xbcr\\x16\\xbe\\xbb\\x1b\\xc6\\x1b\\xbddK\\x87:\\xe6\\x8e\\xa6<U\\xc8\\x95< \\xcb\\x1a= \\xb3\\x03=\\xa1V\\x7f\\xbc%\\xb8\\x02\\xbd\\xc9\\x88\\xc3\\xbc\\x9eM\\x81;i\\xa2\\x17\\xbc\\x93Q\\xce;3\\xdf\\x16\\xbd\\xc8\\x14\\xcf\\xbc\\xeag\\xf6\\xbb\\xeb\\x07\\x1a\\xbc^\\xc8G<\\xeb\\x07\\x1a\\xbd.\\xf2.<-\\xc6\\xff\\xbc\\x03\\xcf\\x03\\xb9%\\xd0\\x19;=\\x19\\xc3<\\xbet\\xf9\\xbb\\xce;\\xb1\\xbcw\\xb1\\x14\\xbcm\\xf9\\xa7\\xbc\\xc9\\xcc\\x89\\xbb\\x07\\xfad<rZ\\x84\\xbbYO\\xd4;.\\x96\\xd1\\xbbh.#\\xbc\\xe5\\x84\\xda:$\\xc6\\xcd\\xbb\\xc0\\x88\\x91<\\xd2@\\xb0\\xbbKXn\\xbc\\xd8\\xa1\\x0c\\xbd7\\xb8f< \\xcb\\x9a\\xbc%D\\x0e\\xbc\\xd3(\\x19=\\x99\\x9a\\x13;\\xce\\x97\\x8e<\\xe6\\x1a\\xb2:\\xdc\\xf8\\x9c;v\\xbf\\xdf;\\xf9^\\\\<nU\\x05\\xbd\\xcd\\xbd\\xf0;\\r\\xd9\\x01\\xbc\\x9c\\x8b\\xfa:\\x16e?\\xbaZ\\xab\\xb1<\\xa7\\xb7\\xdb<$\\x00H<^\\xe0\\xde:31\\xa8<8\\xa0O<\\x93\\xc5B\\xba\\xac\\x8c\\xac<)\\xe3\\xe3:\\x85\\x9e.<_F\\x08;^v\\xb6;\\xd7\\x0b\\xb5\\xba\\xf5\\xf9\\x00;\\xef\\x1ad\\xbc\\xddl\\x11\\xbdG-\\x8d;\\x9e\\xf1#\\xbaG\\x7f\\x1e<\\xf9$b<\\x8e*l\\xbb\\xa2H\\xb4<Z\\x07\\x8f\\xbc\\x9e\\xd9\\x0c=KzQ\\xbc4S\\x0b<m\\x11\\xbf\\xbcdK\\x87:\\xa3R\\x80;\\x03\\xcf\\x03=\\x80\\xeb\\xc0:\\xa75\\x9c\\xbcL\\xa6\\x00\\xbc\\xa7\\x13\\xb9\\xbb\\x03\\x8b\\xbd<\\xc4\\xdf\\xa1\\xbb\\xb1\\x05 =$\\xa4j<\\xbfN\\x97\\xbb\\xd7\\xe9Q=\\x8e*l\\xbccA;<\\x16}V<\\xce]\\x14< \\x1d,\\xbcg\\x02\\xf4;\\x0c[\\xc1\\xbc\\xfeU\\x90<\\xce\\xc7\\xbc\\xb9)\\xfbz\\xbcTJ\\xd5;\\x1bt\\n<\\x03s\\xa6\\xbb{\\x8a\\xe4\\xb9\\xf0\\x98$\\xbc\\x94\\t\\x89<\\xcdS\\xc8\\xbc\\x949\\xb7<|\\xce\\xaa<\\x02\\xa3\\xd4<\\xf9h(<{\\xc4\\xde<\\xf4\\xe5\\xe8\\xbb\\xcdI\\xfc\\xbb3\\x83\\xb9<.\\xb8\\xb4<KJ\\xa3<\\x9d\\xcf\\xc0;\\x984\\xea;\\x85\\xb6\\xc5\\xbc\\x0c\\xadR\\xbc\\xefT\\xde:8\\x92\\x04\\xbd\\xc4\\xdf!\\xbb\\xbb1\\x81<dK\\x07=\\xa7\\xfb!:\\x08\\xec\\x19<\\xbf,4\\xbdP\\x89\\x9c<F\\x0b\\xaa<Kb\\xba\\xbc\\xfeU\\x10\\xbd\\x1f\\xf1\\xfc<|\\xf0\\x8d<\\xb1y\\x94;\\xb0o\\xc8\\xbb\\xc4\\x83D<AN\\xf0\\xbb\\x8f>\\x84\\xbc\\xf4Y\\xdd<c\\xabc\\xbc|\\xb6\\x93\\xbc{\\x16\\xf0\\xbb\\x98\\xc0\\xf5\\xb9A\\xe4G<\\xdb\\x1e\\x7f\\xbc\\xc3\\xb3\\xf2;\\x07\\x86p\\xbc\\x07\\xfa\\xe4\\xbbc\\xc3\\xfa\\xbc\\xea\\xdbj\\xbb\\x8f\\xe2&\\xbc\\x1b:\\x90<iP\\x86<<\\xf7\\xdf<\\x98\\xa8^<B@\\xa5\\xbc\\x1f\\xf1\\xfc\\xba\\x8f\\x86\\xc9:\\xdb\\x92\\xf3:r\\x8a\\xb2<\\xd3z*;\\x12j\\x0c\\xbd\\x94\\t\\t<\\x03\\xe7\\x9a<\\xc4\\xc7\\x8a<Zq\\xb7\\xbch\\xd2\\xc5<.,)<\\xa3\\xde\\x8b\\xbb\\x16}\\xd6;\\x0c\\xe7\\xcc;\\x12\\xde\\x00\\xbd/N\\x0c\\xba^\\xf8u=\\xf4\\x9d#=\\x15[s\\xbc<\\xf7\\xdf<\\x99\\x0e\\x08<\\xd8\\x15\\x81\\xbb\\x1b\\xde2\\xbc\\x85\\xd8(\\xbdq\\x0c\\xf2;_\\x0c\\x0e\\xbc=\\x97\\x83<\\x99\\x0e\\x88\\xbb\\xa2\\x0e:;ZY\\xa0<\\x11\\x82\\xa3\\xbc\\xd7\\xb9\\xa3\\xbbU\\x8e\\x1b\\xbc\\xb6\\xd0\\xa4\\xbc\\x85\\xd8(<\\x11`\\xc0;^T\\xd3\\xbb\\xbayF\\xbc\\x99x\\xb0\\xba\\xf9\\x0cK=\\xab\\xd4\\xf1;\\xf4\\xe5h<O\\xaf\\xfe<\\xbf\\n\\xd1<\\xf0\\x80\\x8d< \\x1d,;\\x84 \\xee\\xb9\\xd3b\\x13;\\x08x\\xa5\\xbb\\xf9\\x80\\xbf<\\xfe3\\xad\\xbcBz\\x9f\\xbc \\xe31\\xbcB\\x92\\xb6;\\xcdS\\xc8<\\x89\\xebr\\xbb=u\\xa0\\xb9\\xf5\\xf9\\x00\\xbc\\x8a\\x17\\xa2<\\xba\\x1di\\xbci\\xa2\\x97\\xbbcA\\xbb\\xbc\\x80w\\xcc\\xba\\xc4\\xa5\\xa7<v\\xd7v\\xbb ?\\x8f<\\x94\\xe7\\xa5:c\\xe5\\xdd\\xbc\\x98\\xe2\\xd8\\xbcZY \\xbc\\xdcJ.<\\xc96\\xb2\\xbc\\xdc\\x06h<\\x12j\\x8c\\xbc\\x89\\xebr\\xbc\\xba?\\xcc\\xbcd\\x85\\x01\\xbd/N\\x0c\\xbc\\x02\\xbbk< \\xb3\\x03\\xbc\\xef\\x1ad:\\xc8f\\xe0\\xba\\x9e+\\x1e\\xbc\\x1bt\\n<\\x93\\x81\\xfc\\xbc\\x9497;\\xeaO\\xdf\\xbb \\x91 \\xbcd\\x11\\x8d\\xbcm\\x1b\\x8b\\xbaZY =\\x1a\\x0ea\\xbc.\\xaeh;vKk;\\x15\\xcfg\\xbb\\xf4Y\\xdd<nU\\x05\\xbc\\x85\\x08\\xd7\\xba\\xd8g\\x12\\xbc\\x11\\xbc\\x1d\\xbcZ\\xcd\\x94\\xbc\\xa7\\xe3\\x8a<\\xef\\xa6\\xef\\xbb$\\xa4\\xea\\xbb\\x85BQ\\xbc\\xcdS\\xc8<\\x99`\\x19<\\x86\\xfa\\x0b\\xbd\\x80_\\xb5\\xbb\\xa7+P<\\x08&\\x14<\\xab\\xd4q\\xbc\\r\\xb7\\x1e=\\xef\\x02\\xcd:\\xa2>h<Fu\\xd2\\xbb3\\xdf\\x96:%\\xae6<i\\x8a\\x00\\xbc_^\\x1f\\xbdm\\xe1\\x10=\\x1f\\xf1\\xfc;4S\\x8b< \\xe31\\xbb\\xef2{\\xbb\\x0c\\t0\\xbc\\xd7;\\xe3\\xbb\\xc8\\xa0Z;{\\xfeX<\\xb5:\\xcd;\\x0c\\x95\\xbb\\xba\\xf8<y:2\\x05\\xf9:31\\xa8;A\\xc2\\xe4<-\\xc6\\x7f\\xbb\\x0c\\xcf\\xb5<U\\x1a\\';)\\xb3\\xb5<\\xce]\\x14\\xbc=\\x01,\\xbc\\xacR\\xb2<F\\x8di\\xbc\\r\\xd9\\x01\\xbd\\xebY\\xab\\xbb\\x8f>\\x84<\\x0c\\xc5i\\xbc\\xb6\\xf2\\x87<8\\x1e\\x10\\xbcZ\\x1f\\xa6<\\xd6Sz\\xbb=\\xaf\\x9a\\xbc\\x1f\\xc1\\xce;w\\x8f\\xb1\\xbcl\\xb5\\xe1\\xbc\\x02/\\xe0;r\\xc4\\xac\\xba\\xfe\\x11\\xca\\xba{\\x16p<\\xa7eJ\\xbc\\xce\\x0b\\x03=\\x8f>\\x04\\xbd\\xa2>h\\xbb\\x0c\\x95;<\\xc9\\xcc\\x89: \\xa9\\xb7<r\\x16\\xbe\\xbc.\\nF\\xbc\\x8fn2\\xbc\\xce\\x0b\\x03=\\x9e\\xd9\\x0c\\xbc\\x15\\xe7\\xfe\\xbb\\x11\\xd44\\xba\\x16\\xd93\\xbbKJ\\xa3<\\xfe\\xc9\\x84<c{5<\\x80Ui\\xbc\\x15\\xcfg<\\xba?\\xcc<c\\xab\\xe3:d\\x85\\x81\\xbb{\\xa2{<^\\x8eM\\xbb\\x11\\x9a:\\xbc\\xe0Ea<K\\x84\\x9d<hF\\xba;=S=\\xbc^T\\xd3\\xbc\\xdcb\\xc5\\xbc$0\\xf6;c{\\xb5:KzQ\\xbc\\x89\\xeb\\xf2\\xbcw\\xc9+9)oo<\\xe1\\x89\\'<3\\x19\\x11<\\x1b\\x18\\xad:$t<\\xbd<\\xf7\\xdf:l\\xb5a:\\xef<G\\xbb%\\xb8\\x02=\\xd3\\xd6\\x07\\xbd\\xb1y\\x14=\\xc4S\\x16\\xbb\\xe0]\\xf8<Zq7;\\x81\\xf5\\x8c\\xbaPO\"<d\\x9d\\x18\\xbc\\x07\\xe2\\xcd\\xbc\\x07\\xa8S\\xbc\\xf4c)<\\xc9\\xaa\\xa6\\xbcYO\\xd4;\\xf9\\x0c\\xcb\\xbb\\xa7\\xf1U\\xbc\\xc9\\x92\\x8f\\xbb\\xb5Rd\\xbb\\xeaO\\xdf\\xbb\\x12\\xde\\x80\\xbb\\x08\\x04\\xb1:\\x03\\x8b\\xbd\\xbc\\x99\\xd4\\x8d\\xbc\\xab\\xd4\\xf1\\xbc\\x9eM\\x81\\xbc\\x80\\x99/<$R\\xd9<$\\x8c\\xd3<\\xa2&Q\\xbc8\\xfc,<\\x9e\\xd9\\x8c\\xbc\\xb1?\\x9a\\xbb\\xd7\\xe9\\xd1\\xbbU\\xbeI\\xbc8\\xfc,=\\xfa\\x8a\\x8b\\xbc\\x9c\\x8b\\xfa<\\x1b:\\x10=2\\x05y\\xbc<1Z\\xbd\\xbf\\\\\\xe2\\xbb\\x85*:<\\xe17\\x96<h$\\xd7<8\\x88\\xb8<A\\xc2d\\xbcc\\x07A\\xbc\\r\\xb7\\x1e\\xbb)\\xcb\\xcc;L\\xf8\\x91\\xbc\\xa3\\x18\\x86\\xbc\\xf4\\xe5\\xe8<A\\x1e\\xc2<\\xcd\\x8dB<m\\xef[<\\xdd\\xe0\\x85\\xbb\\xa3\\xa4\\x11\\xbdc\\xab\\xe3<||\\x19\\xbbF\\x01^<\\x12j\\x0c<G\\xa1\\x01\\xbchvh;\\xc9\\xfc7<cA;;\\xbay\\xc6;\\xbb\\x83\\x92\\xbb/N\\x8c;\\xdb\\x1e\\x7f\\xbcZ\\xcd\\x14\\xbd\\xd3z\\xaa\\xbc\\xef\\x8e\\xd8<\\x165\\x11\\xbc\\x16\\xc1\\x9c<\\xe1\\x89\\xa7\\xbb\\x9d\\xffn;\\xeb\\x93\\xa5;\\xd2\\x88\\xf5\\xbb\\xba?L\\xbb\\x1b\\x8c\\xa1;Q7\\x8b\\xbc{\\x8ad<\\xb0\\x9f\\xf6:\\xfd{r<\\x80Ui=\\xce\\x0b\\x83\\xbb\\x93\\xc5\\xc2;\\xb5t\\xc7\\xbc\\x81\\r\\xa4\\xbcvK\\xeb\\xbc\\xdb\\x92\\xf3\\xbc\\xdc\\xbe\";\\xe1\\xf3O<\\xeb\\x93\\xa5<\\x85d\\xb4\\xbc*\\'\\xaa;\\xbb\\xbd\\x0c\\xbc\\xb0\\x87\\xdf\\xbb\\x8fn2\\xbc\\xd7\\xc7\\xee\\xbc\\xef2{<\\x81G\\x9e\\xbc$\\x18_\\xbcANp\\xbc\\x94\\xcf\\x0e\\xbc\\x93i\\xe5<\\xb0\\x9fv;\\xa7\\x87-<\\x9e\\x13\\x87<\\xa3\\x18\\x86;\\x85\\x08W\\xbb\\xc9\\xcc\\x89<<\\xa5N<\\xb5\\x8c\\xde:\\x99x\\xb0\\xbb\\xa2\\xd4?<\\xfdc\\xdb\\xbc\\x80%\\xbb\\xbal\\xcdx<\\x0csX\\xbc)\\xcb\\xcc\\xbcO#s\\xbc\\xf4\\xe5h<\\xcd1e\\xbci\\xa2\\x979\\x08>+;L2\\x8c\\xbcLl\\x86<w_\\x83\\xbb\\x89w~\\xbc\\xa20\\x1d<Ul\\xb8<B\\x06+\\xbbBz\\x9f\\xbb\\x9e\\x13\\x87<\\xa8\\x1d\\x05\\xbd\\xce\\xd1\\x88<\\x9ee\\x18\\xbc\\xb5Rd\\xbc\\xa2>\\xe8\\xbb\\xeb\\x1f1\\xbc\\x11\\x9a\\xba\\xbbw\\xc9\\xab\\xbarZ\\x84<\\xfa\\xc4\\x85\\xbc\\x8f\\xe2\\xa6\\xbb\\x1f\\xf1|\\xbbi\\xa2\\x97\\xbc\\xe5\\x9c\\xf1\\xbb\\xdc\\x06\\xe8\\xbbc\\xabc\\xbc\\xab\\xd4q\\xbc\\xef$\\xb0<\\xb0\\xc1Y<Bz\\x9f:r\\xdc\\xc3:\\xe1q\\x90\\xbc\\xef$0<\\xd2\\x066\\xbc\\xe6\\xa6=\\xbb\\xac\\xa4C\\xbd\\xceu\\xab8\\x84 \\xee;.\\nF=\\xa7\\x87\\xad<\\xeb\\xe5\\xb6\\xbc\\x08\\xec\\x99\\xbbY-\\xf1\\xba\\xb5\\xdeo\\xbc\\xc0\\xc2\\x8b;\\x99H\\x02\\xbd\\xc3\\x9b\\xdb<i\\xa2\\x17=\\xe6\\x8e&\\xb7\\xf9..<\\x1f\\xfbH<\\x1b\\xae\\x04<P\\xb9J;m)\\xd6\\xbc\\xcdI\\xfc\\xbb^l\\xea<Z\\x93\\x9a\\xbb\\xb0\\x87_<\\xf4\\xcdQ<\\xdb\\x1e\\x7f\\xbd\\xf4\\x9d\\xa3\\xba\\xf0F\\x13=\\xc4S\\x96\\xbcUv\\x04=v3\\xd4;\\xba\\'5;\\xd6S\\xfa\\xbb\\xebY\\xab;)\\xfbz<ApS\\xbc\\x81\\r\\xa4;L\\xa6\\x00<\\xf9\\x80?\\xbd\\x99\\xb2*<\\xc4\\xdf\\xa1<\\x89w\\xfe\\xbb\\xb1y\\x14\\xbd\\xd7;\\xe3;L\\xa6\\x00;%\\xb8\\x02\\xbc$\\xa4j\\xbc<1\\xda\\xbc\\x1f\\xd9\\xe5\\xba\\xc9\\xcc\\t<\\xe1\\xa1\\xbe\\xbc\\xc4\\x01\\x85<\\x11\\x82#<_^\\x1f<\\xc4\\x0f\\xd0<\\xc9\\xe4\\xa0<3I\\xbf\\xbcU\\xbeI\\xb7h\\xf4(;\\x85\\xd8(\\xbb\\xc4\\xc7\\n\\xbc\\xf9^\\\\;\\x1b:\\x10;Z\\xcd\\x14=i\\xdc\\x91\\xbcU\\x02\\x10<F\\x19u\\xba\\xc8\\xda\\xd4\\xbc\\xa2`\\xcb\\xbc-\\xc6\\xff;\\x85\\xb6\\xc5\\xbc\\xeb\\xb5\\x88<\\r\\xd9\\x01\\xbd\\x80\\xc9\\xdd\\xbcU\\x02\\x90<\\x11x\\xd7\\xba\\xf5\\xf9\\x80<\\xf4\\xe5\\xe8<ZY\\xa0\\xbc\\xb5\\xaeA<i\\x16\\x8c\\xbc\\xebY+\\xbc3\\x19\\x91<\\xb05N\\xbc\\x9c\\x8b\\xfa\\xbci\\x16\\x0c\\xbb\\xdd\\x1a\\x00\\xbd\\xe5\\x84\\xda\\xbcP\\xa13;\\x80wL>\\xc0\\xfc\\x05\\xbcvK\\xeb<\\xb6\\xd0$<\\x02/`\\xbb/\\x88\\x06\\xba$\\x00\\xc8< 5\\xc3<\\x16\\xfb\\x96\\xbclA\\xed<\\xe5(\\xfd\\xbb\\xe6\\x8e&<K\\xcc\\xe2\\xbb\\x9e\\x9f\\x12<\\x85L\\x9d:m\\xbf\\xad\\xbcrr\\x1b\\xbd\\x8e\\x12\\xd5:\\x8a\\xff\\n\\xbd\\xd3z*={8\\xd3<\\xfe\\xe1\\x9b;\\xc8\\xf2k\\xbc\\xf0\\x80\\x8d\\xbcK\\x84\\x9d;\\xb1\\x91\\xab9K@\\xd7<_\\x98\\x19<\\xfe\\x1b\\x96<\\x0c\\xc5\\xe9<\\x120\\x92\\xbc\\xf4\\xef\\xb4\\xbaGg\\x07\\xbbw\\xc9\\xab\\xbb\\xe6\\xb0\\x89\\xbcq.\\xd5\\xbc\\x94s\\xb1\\xbc 5\\xc3;d\\x85\\x01\\xbbh$\\xd7<||\\x19=\\xdb\\x92s\\xbc\\x1b:\\x90\\xbc\\xa2H\\xb4\\xbc\\xf0\\xd2\\x1e:\\x9d\\xe7\\xd7<\\xa75\\x1c<\\xd3(\\x99\\xbc\\xc9\\xaa&\\xbcK\\x06\\xdd<{\\xfeX\\xbc3k\\xa2<\\xfe\\x11J<8\\xdaI<Z\\x1f\\xa6<\\xc9\\x92\\x8f;\\x99&\\x1f=B(\\x8e<\\x93\\x81|\\xbbTJU\\xbc7\\xd0\\xfd\\xbcv\\xd7v\\xbc\\x02\\xa3\\xd4;\\x80wL<Ap\\xd3\\xbc\\x12\\xf6\\x17<\\xbety\\xbc\\x8a\\xa3\\xad\\xb8\\x11xW<\\xc4\\xbd>9\\xf0^\\xaa\\xbb\\xd2@0\\xbb<\\xf7_\\xbc\\xf9\\x80?\\xbb\\xf4A\\xc6\\xbcP\\x89\\x9c\\xbc\\x1b\\x18\\xad<\\xa2\\x0e:\\xbb*a\\xa4<\\x16e?\\xbcGE\\xa4<d\\x11\\x8d\\xbc\\x0cs\\xd8\\xbc\\x85\\xd8(:m\\xef\\xdb\\xbcr8\\xa1\\xbc.D\\xc0<_$\\xa5;L\\xf8\\x11:\\x8f>\\x84\\xbc\\xe1\\xfd\\x1b\\xbc|\\x08\\xa5\\xbb\\xef<G\\xbc)\\x91\\xd2\\xbc/\\x14\\x92\\xbc$t<<\\xef\\x1ad<\\xab\\xd4q<\\xa7e\\xca\\xbc\\xb0\\x13\\xeb\\xb8.\\xa0\\x9d\\xbc\\xd7#L=KJ\\xa3\\xbbZ\\xcd\\x14;\\xb6\\x96*;\\x8f\\x90\\x15;\\x98VM;i\\x16\\x0c;{r\\xcd\\xbb2\\x05y\\xbc\\xf9$b8\\xe6\\xc8\\xa0\\xbc%\\xe80\\xbcP\\xb9\\xca\\xbc/\\xc2\\x00;i\\x16\\x0c<\\x1b\\x00\\x96\\xbcm3\"\\xbc8\\x1e\\x10\\xbc\\xb6\\xf2\\x87\\xbb3\\xed\\xe1;\\x94[\\x1a<FuR<\\x11H)8B\\xee\\x93\\xbb\\xf4\\x93W\\xbc\\xba\\xa9t;\\xeb\\xe56\\xbc\\xa2j\\x97\\xbc\\xc4\\xdf!\\xbdP\\xb9\\xca\\xbaF];\\xbb\\x8fV\\x1b=d\\x85\\x81\\xbc)\\xcbL<\\xd8\\xdb\\x06\\xbc\\xef\\xa6\\xef<8\\xfc\\xac:\\x8a/\\xb9\\xbc\\x8fL\\xcf<\\x8a\\xdd\\'\\xbc\\x1a\\x9a\\xec\\xbbl\\xcdx;\\xf9\\x80?;\\x81i\\x81<d\\x11\\r\\xbd\\xa7\\xc1\\'<\\x8fn2\\xbc\\x11\\x04c<Kz\\xd1:{\\xa2{\\xbc\\xfa\\xc4\\x85\\xbc\\xfa\\xc4\\x85<\\x07\\xa8\\xd3\\xbb\\rC\\xaa;%\\xd0\\x99\\xbcU\\xc8\\x95\\xbc\\x039,\\xbd\\xfe\\x9d\\xd5<\\x81\\xbb\\x92;\\xd8\\xa1\\x0c\\xbd\\xe5\\x84Z\\xbcc{5<q\\xf4\\xda\\xbb\\xd3\\xd6\\x87\\xbc\\x02/\\xe0;%\"+\\xbe\\x93ie<\\xef\\x1ad<T\\xd6`\\xbb\\xce\\xc7<=m\\xbf-:/\\x88\\x06=\\xa2j\\x17\\xbc\\x03\\xff\\xb1\\xbc\\x0c\\t\\xb0;\\xa7\\xb7\\xdb<\\xab\\xd4\\xf1;\\x94!\\xa0;)y;\\xbd|\\xce*<nU\\x05\\xbbY\\xb9|\\xbcP\\xc3\\x16=\\x9e\\x13\\x07\\xbc\\xba\\x1di<\\xbb1\\x01=\\xf0F\\x93\\xba\\x864\\x86\\xbc\\x03\\xff1\\xbd_$\\xa5<\\xba\\x1di<w\\xeb\\x8e\\xbc\\xea\\xfdM<\\xe5\\xbeT\\xbcK\\x10)\\xbc*I\\r\\xbc\\xdd\\x1a\\x80<ww\\x1a=\\xfe\\xc9\\x84<\\x80\\xe1t;\\xf4\\xe5h;\\x16\\xfb\\x96;\\xcd1e<c\\xab\\xe3\\xb9A\\xda\\xfb; W\\xa6<\\xb1\\'\\x83<\\x120\\x92\\xbcP\\xa13\\xbb\\xe1-J\\xbcl\\xcdx\\xbc\\x16M\\xa8<\\x93\\xc5\\xc2\\xbb\\x85*:;\\xf0\\x80\\x8d\\xbcwU\\xb7<\\x0c[\\xc1\\xbc\\xf4\\x9d\\xa3\\xbb\\x16+\\xc59\\xeaqB<_F\\x08=\\x99\\xec$<G-\\x8d;\\x15[s<\\xfd\\x07\\xfe\\xbc\\xb5\\xc6X\\xbc_\\xd2\\x93\\xbc=\\xc7\\xb1;\\xce\\xd1\\x08\\xbc\\xe1\\xb9\\xd5\\xbb\\xbbI\\x18\\xbb\\xcd\\xbdp\\xbac\\x1fX<\\xc3\\'g\\xbcww\\x9a<\\x11\\x90n\\xbb\\x12\\xde\\x80\\xbb\\xa2`K;\\xe5\\x84Z<dK\\x87;\\xf9\\xf4\\xb3\\xbb\\x1b\\x00\\x16\\xbcm\\xbf-<\\xeaO\\xdf\\xbbZq7;Ap\\xd3\\xbc\\x94\\xe7%=\\x1a&x\\xbb\\xcd\\x8d\\xc2\\xbc\\xdcJ\\xae\\xbb\\xc0\\xfc\\x05\\xbb<\\x83k<\\xc9\\x06\\x84\\xbc\\xf9\\x0c\\xcb<\\x12\\xde\\x80<m\\xe1\\x90;\\x89_\\xe7\\xbc\\x03\\xff\\xb1<\\x0c\\xad\\xd2\\xbb\\x8e\\x9e\\xe0\\xbbw\\xe1B<\\xb6\\xf2\\x07:q\\x80f\\xbb3\\x0fE\\xbb\\x1b\\x8c\\xa1\\xbcc\\xe5]\\xbcK@\\xd7\\xbb\\xe6\\x02\\x1b\\xbciP\\x86;\\r\\x9f\\x07\\xbb\\x85\\x9e\\xae<\\x98\\x1cS\\xbc.\\\\W<\\x84 \\xee<l\\xcdx\\xbc\\x94\\xff\\xbc\\xbc\\xa3\\xde\\x8b<\\xa8\\x1d\\x05<\\xc9\\x06\\x84<h\\x804\\xbc\\xb5\\xc6X<^l\\xea\\xbc\\xf8<\\xf9\\xba\\x16}\\xd6<A\\x1e\\xc2:.\\xa0\\x1d=\\xb1\\x05\\xa0<\\xa2>\\xe8\\xbb\\x94\\t\\x89\\xbc)\\xe3c\\xbcm\\xa7\\x16\\xbc\\xf4Y\\xdd\\xbd\\x1a\\x9a\\xec:\\xa3R\\x80<\\x94\\xe7\\xa5<m\\xd7\\xc4;.D\\xc0< ?\\x8f;dc\\x1e:\\xd3\\xb4$\\xbcP\\x89\\x1c;\\xe1\\xc3!\\xbd\\xebA\\x14\\xbc\\x8a\\xdd\\xa7\\xbc|d\\x82<\\x8fV\\x1b=||\\x19<\\xea\\xc3S<mK9\\xbb\\xbf\\\\\\xe2\\xba\\x9e\\xd9\\x0c=\\xacjI\\xba\\x16\\xc1\\x9c\\xbc_\\xb00\\xbc\\x8f\\x1c!\\xbd\\xfdc[\\xbc_\\x0c\\x8e;=;&\\xbcF\\x19\\xf5;\\x8fV\\x1b<U2\\xbe;\\x1b\\xae\\x84<w\\x8f1<=]\\t;\\x1feq\\xbc2y\\xed\\xbc\\x08x%<3\\xbd\\xb3\\xbcPO\"\\xbc\\x81\\xf5\\x0c<v\\xf9\\xd9\\xbc\\xd8\\x15\\x81<v3\\xd4<\\xc9X\\x15\\xbc\\x98V\\xcd\\xbc\\x16\\x9f\\xb9;\\xf9\\x0c\\xcb:P\\xdb\\xad\\xba\\xa3\\xde\\x8b\\xbc\\xf5\\xbf\\x86\\xbc\\x81/\\x87\\xb9\\xd2\\x06\\xb6\\xbc*\\xd5\\x18\\xbd\\x07n\\xd9\\xbc\\x81i\\x81\\xbc\\xc0\\x88\\x91;\\xe6\\x1a\\xb2<)\\xed\\xaf\\xba\\xab`\\xfd<\\xce\\x0b\\x83\\xbc.\\x96Q\\xbbq\\xf4\\xda\\xbbnU\\x85<\\xf0\\x80\\r\\xbdr\\x8a2<\\x02G\\xf7;\\xf4\\xef\\xb4<\\xd2X\\xc7\\xbc\\x11\\x82#\\xbd\\x85\\xb6\\xc5<T\\xd6`\\xbb\\x99x\\xb0\\xbc\\x03\\xc57=*I\\x8d\\xbc^lj\\xbaw_\\x83\\xbc\\xa1\\xca\\xf3<\\x81\\xf5\\x8c\\xbbZ\\xfd\\xc2\\xbc\\xef\\x1a\\xe4\\xba$:B\\xbc\\x08&\\x94\\xbc\\x98\\xa8^\\xbd\\x12\\xde\\x80<\\xb1\\xed\\x08\\xbdK\\x06\\xdd9\\x94C\\x83<\\x94C\\x03=\\x16\\xfb\\x96\\xbc_\\x0c\\x8e<\\xe17\\x16\\xbb)\\xe3\\xe3\\xbc\\x07\\xe2M<\\x80U\\xe9;\\x07\\x90\\xbc\\xbc\\xd8g\\x12<U2\\xbe\\xbb\\x80\\xd3)<A\\xda\\xfb;U\\x02\\x10<h\\x0c@=$\\x18\\xdf\\xbb\\xba\\x1d\\xe9\\xbb\\xb5\\x00S\\xbdK@\\xd7<m\\xef\\xdb\\xbc\\x0cQ\\xf5;\\xa7M\\xb3\\xba3a\\xd6\\xbc.\\xd0\\xcb<\\xbf\\xda\\xa2\\xbb\\xfeK\\xc4\\xbci\\x16\\x0c\\xbc\\x8f\\x04\\x8a\\xbdB@\\xa5;Ll\\x86\\xbc\\xfe\\x8f\\x8a< \\xe31\\xbdUl8\\xbddc\\x9e;\\xd7\\xaf\\xd7\\xbb\\xfe\\xbf8<\\x03\\xcf\\x03<Z\\x1f&\\xbc\\x86n\\x00\\xbd)?\\xc1<\\xc9\\xe4\\xa0<)y\\xbb\\xbbc\\xc3z;\\x1bj\\xbe\\xbc\\xfe\\xa7\\xa1</N\\x0c<%\\xe80\\xbcw\\xeb\\x0e=\\x9d\\xcf\\xc0\\xbcw%\\x89\\xbcK\\xeeE<8\\xaa\\x1b\\xbc\\xbf\\xa0(\\xbb\\xb5\\xae\\xc1<K\\xee\\xc5;\\xeb\\xef\\x02=\\xb0\\xa9\\xc2\\xbc\\xdd\\xe0\\x05\\xbd|\\x08%\\xbd\\xfd{r<\\xef\\xa6\\xef\\xbc\\xb1W\\xb1\\xbcm\\x9dJ\\xbbvmN;P\\xa13<\\xf0^\\xaa\\xb9\\x98\\xa8^\\xbc\\x1bt\\n=\\xbb\\xf7\\x06<w_\\x839\\x80\\xe1\\xf4\\xbb\\x1b\\xa4\\xb8\\xbc\\x98\\xcaA<\\xc4\\x01\\x85<\\xe6\\x8e\\xa6\\xbb\\x93ie;\\xfe\\xa7\\xa1\\xbch\\x0c@<\\x0c\\xcf5\\xbbT\\xeew\\xba\\xfe\\x8f\\x8a\\xbc_\\xb00;\\xe5\\x10f<r8\\xa1\\xbcB\\xcc0\\xbcUl\\xb8<q\\x80f\\xbb\\xcd\\x19N\\xbc\\xa6}\\xe1:%D\\x8e;\\xd2\\x92A\\xbc\\xc4\\xbd><\\xcdI|\\xbc^\\xf8\\xf5;\\x11>\\xdd;<\\xf7_\\xbc\\xdc\\x9c\\xbf\\xbb\\xb0oH=\\xefT\\xde\\xbb\\xfeK\\xc4\\xbcY\\x89N<\\xfe\\x8f\\n<\\x03\\x95\\t\\xbb\\xe1\\xc3!\\xbchh\\x9d\\xbb\\xfe\\xc9\\x04<d\\x85\\x01:\\x1aH\\xdb;F];<vKk\\xbcL\\xbe\\x97;||\\x19\\xbc\\xa6}\\xe1;\\x94s1\\xbc\\x9dC\\xb5;i\\xa2\\x179\\xbb\\xf7\\x86<\\x85|\\xcb\\xbb\\xd2\\x88\\xf5<\\x11\\x90\\xee\\xb9r \\x8a\\xbb\\x07\\x86\\xf0\\xbb\\x0c\\xc5i;F\\x0b\\xaa\\xbc\\x1fe\\xf1\\xbb\\xa3R\\x00;\\xbb\\xbd\\x0c<\\xc4\\x01\\x05<4S\\x0b\\xba\\xd2@\\xb0; o=<\\xf0\\xf4\\x01\\xbc\\x8f\\xfa\\xbd<\\x94\\t\\t;U\\xa62\\xbc\\x94\\xe7%\\xbcP\\xf3D:Tb\\xec;\\x9e\\xd9\\x0c<i\\x8a\\x00= \\xb3\\x83\\xbc)\\xe3\\xe3;\\x1f\\xfb\\xc8\\xbbUl\\xb8<g\\x02\\xf4\\xbb\\xbb\\x83\\x92<\\xc4\\x8d\\x90\\xbc-:t;3\\xdf\\x96<\\xf9\\xdc\\x1c\\xbc\\xd7E\\xaf\\xbb\\xf4qt\\xbc\\x80\\xb1F\\xbd\\xb6\\\\\\xb0<\\x03[\\x0f<g\\x02t<\\x9eM\\x81=\\xd7#\\xcc<\\x86\\xfa\\x0b\\xbc\\r\\xd9\\x01\\xbc\\x99\\xb2*<=\\x01,=\\x1feq\\xbc\\x84 \\xee\\xbac\\x1f\\xd8\\xbc\\xd3(\\x99\\xbcv\\xf9Y;\\xeb\\xb5\\x08<\\x11&F:\\xba\\xed\\xba\\xbcL\\xf8\\x11\\xbd^l\\xea<\\x1b\\xde2<\\x1f\\xf1\\xfc<%\"+\\xbd\\x8fn2\\xbc\\xd2\\xaa\\xd8<\\x11\\xb2Q9\\xab\\xd4\\xf1<\\x80\\xeb\\xc0;\\x03!\\x15\\xbd.D@\\xbbJ\\xe4y;8\\x1e\\x90\\xbbZ\\xe5+\\xbd\\x81\\x81\\x98\\xbc\\xa1\\xcas\\xbc\\xa7\\xf1\\xd5<\\xb1\\'\\x03\\xbdO#s\\xbb\\xeb\\x07\\x9a<%\\\\\\xa5\\xbc\\x8e*l<\\x07\\x12|\\xbc\\xeb\\xb5\\x08=\\xa2\\x82\\xae\\xbc\\xe1\\xfd\\x1b<\\xb6\\xb8\\r=3\\xa5\\x9c;\\xd7\\xe9Q\\xbaB\\x9c\\x02\\xbd\\xce#\\x1a<\\xdd\\xe0\\x85<Z\\xe5+<$t\\xbc\\xbc',\n",
       " b'content': b'FAIR VALUE HEDGES The Company has, in the past, been exposed to the risk of changes in the fair value of certain fixed-rate debt attributable to changes in interest rates. Derivatives used by the Company to hedge this risk are receive-fixed, pay-variable interest rate swaps. The Company had no interest rate swaps designated as fair value hedges as of May 31, 2023.\\n\\nNET INVESTMENT HEDGES The Company has, in the past, hedged and may, in the future, hedge the risk of variability in foreign currency-denominated net investments in wholly-owned international operations. All changes in fair value of the derivatives designated as net investment hedges are reported in Accumulated other comprehensive income (loss) along with the foreign currency translation adjustments on those investments. The Company had no outstanding net investment hedges as of May 31, 2023.\\n\\nUNDESIGNATED DERIVATIVE INSTRUMENTS\\n\\nThe Company may elect to enter into foreign exchange forwards to mitigate the change in fair value of specific assets and liabilities on the Consolidated Balance Sheets. These undesignated instruments are recorded at fair value as a derivative asset or liability on the Consolidated Balance Sheets with their corresponding change in fair value recognized in Other (income) expense, net, together with the remeasurement gain or loss from the hedged balance sheet position. The total notional amount of outstanding undesignated derivative instruments was $4.7 billion as of May 31, 2023.'}"
      ]
     },
     "execution_count": 9,
     "metadata": {},
     "output_type": "execute_result"
    }
   ],
   "source": [
    "# do NOT run this command in production\n",
    "keys = r.keys()\n",
    "\n",
    "r.hgetall(keys[0])"
   ]
  },
  {
   "cell_type": "markdown",
   "metadata": {},
   "source": [
    "## Initialize embeddings engine\n",
    "\n",
    "Get the vectorizer and create the embeddings from RedisVL. You could also use the HuggingFace `sentence-transformers` client directly, but RedisVL makes this too easy!"
   ]
  },
  {
   "cell_type": "code",
   "execution_count": 10,
   "metadata": {},
   "outputs": [],
   "source": [
    "from redisvl.vectorize.text import HFTextVectorizer\n",
    "\n",
    "# create a vectorizer\n",
    "hf = HFTextVectorizer(model=\"sentence-transformers/all-MiniLM-L6-v2\")\n"
   ]
  },
  {
   "cell_type": "markdown",
   "metadata": {},
   "source": [
    "### Query the database\n",
    "Now we can use the Redis search index to perform similarity search operations. This query takes a user input, converts to embeddings, and fetches the top 2 most semantically similar chunks from Redis."
   ]
  },
  {
   "cell_type": "code",
   "execution_count": 14,
   "metadata": {},
   "outputs": [
    {
     "data": {
      "text/plain": [
       "[Document {'id': 'doc:redispy:a39f4db7-ee0b-468d-8091-95a107c3087f', 'payload': None, 'score': '0.178667545319', 'content': 'Inventories as of May 31, 2023 were $8.5 billion, flat compared to the prior year, driven by the actions we took throughout fiscal 2023 to manage inventory levels\\n\\nWe returned $7.5 billion to our shareholders in fiscal 2023 through share repurchases and dividends\\n\\nReturn on Invested Capital (\"ROIC\") as of May 31, 2023 was 31.5% compared to 46.5% as of May 31, 2022. ROIC is considered a non-GAAP financial measure, see \"Use of Non-GAAP Financial Measures\" for further information.\\n\\nFor discussion related to the results of operations and changes in financial condition for fiscal 2022 compared to fiscal 2021 refer to Part II, Item 7. Management\\'s Discussion and Analysis of Financial Condition and Results of Operations in our fiscal 2022 Form 10-K, which was filed with the United States Securities and Exchange Commission on July 21, 2022.\\n\\nCURRENT ECONOMIC CONDITIONS AND MARKET DYNAMICS\\n\\nConsumer Spending: Our fiscal 2023 growth in Revenues reflects strong demand for our products despite ongoing uncertainty in the global economy. We will\\n\\ncontinue to closely monitor macroeconomic conditions, including potential impacts of inflation and rising interest rates on consumer behavior.\\n\\n\\n\\nInflationary Pressures: Inflationary pressures, including higher product input, freight and logistics costs negatively impacted gross margin for fiscal 2023. The strategic pricing actions we have taken partially offset the impacts of these higher costs.'},\n",
       " Document {'id': 'doc:redispy:ff40978c-8442-4836-81c3-53c62987eaf1', 'payload': None, 'score': '0.181670188904', 'content': 'Wholesale equivalent\\n\\nThe decrease in gross margin for fiscal 2023 was primarily due to:\\n\\nHigher NIKE Brand product costs, on a wholesale equivalent basis, primarily due to higher input costs and elevated inbound freight and logistics costs as well as\\n\\nproduct mix;\\n\\nLower margin in our NIKE Direct business, driven by higher promotional activity to liquidate inventory in the current period compared to lower promotional activity in\\n\\nthe prior period resulting from lower available inventory supply;\\n\\nUnfavorable changes in net foreign currency exchange rates, including hedges; and\\n\\nLower off-price margin, on a wholesale equivalent basis.\\n\\nThis was partially offset by:\\n\\nHigher NIKE Brand full-price ASP, net of discounts, on a wholesale equivalent basis, due primarily to strategic pricing actions and product mix; and\\n\\nLower other costs, primarily due to higher inventory obsolescence reserves recognized in Greater China in the fourth quarter of fiscal 2022.\\n\\nTOTAL SELLING AND ADMINISTRATIVE EXPENSE\\n\\n(Dollars in millions)\\n\\nDemand creation expense Operating overhead expense\\n\\n(1)\\n\\n$\\n\\nFISCAL 2023 4,060 12,317\\n\\n$\\n\\nFISCAL 2022 3,850 10,954\\n\\n% CHANGE\\n\\n5 % $\\n\\n12 %\\n\\nFISCAL 2021 3,114 9,911\\n\\nTotal selling and administrative expense\\n\\n% of revenues\\n\\n$\\n\\n16,377\\n\\n32.0 %\\n\\n$\\n\\n14,804\\n\\n31.7 %\\n\\n11 % $ 30 bps\\n\\n13,025\\n\\n29.2 %'}]"
      ]
     },
     "execution_count": 14,
     "metadata": {},
     "output_type": "execute_result"
    }
   ],
   "source": [
    "# Grab user input\n",
    "_input = \"Profit margins\"\n",
    "\n",
    "query = (\n",
    "    Query(\"*=>[KNN 2 @chunk_vector $vec as score]\")\n",
    "     .sort_by(\"score\")\n",
    "     .return_fields(\"content\", \"score\")\n",
    "     .paging(0, 2)\n",
    "     .dialect(2)\n",
    ")\n",
    "\n",
    "query_params = {\n",
    "    \"vec\": hf.embed(_input, as_buffer=True)\n",
    "}\n",
    "\n",
    "r.ft(index_name).search(query, query_params).docs"
   ]
  },
  {
   "cell_type": "markdown",
   "metadata": {},
   "source": [
    "### Range Queries\n",
    "Range queries allow you to set a pre defined \"threshold\" for which we want to return documents"
   ]
  },
  {
   "cell_type": "code",
   "execution_count": 15,
   "metadata": {},
   "outputs": [
    {
     "data": {
      "text/plain": [
       "[Document {'id': 'doc:redispy:a39f4db7-ee0b-468d-8091-95a107c3087f', 'payload': None, 'score': '0.178667545319', 'content': 'Inventories as of May 31, 2023 were $8.5 billion, flat compared to the prior year, driven by the actions we took throughout fiscal 2023 to manage inventory levels\\n\\nWe returned $7.5 billion to our shareholders in fiscal 2023 through share repurchases and dividends\\n\\nReturn on Invested Capital (\"ROIC\") as of May 31, 2023 was 31.5% compared to 46.5% as of May 31, 2022. ROIC is considered a non-GAAP financial measure, see \"Use of Non-GAAP Financial Measures\" for further information.\\n\\nFor discussion related to the results of operations and changes in financial condition for fiscal 2022 compared to fiscal 2021 refer to Part II, Item 7. Management\\'s Discussion and Analysis of Financial Condition and Results of Operations in our fiscal 2022 Form 10-K, which was filed with the United States Securities and Exchange Commission on July 21, 2022.\\n\\nCURRENT ECONOMIC CONDITIONS AND MARKET DYNAMICS\\n\\nConsumer Spending: Our fiscal 2023 growth in Revenues reflects strong demand for our products despite ongoing uncertainty in the global economy. We will\\n\\ncontinue to closely monitor macroeconomic conditions, including potential impacts of inflation and rising interest rates on consumer behavior.\\n\\n\\n\\nInflationary Pressures: Inflationary pressures, including higher product input, freight and logistics costs negatively impacted gross margin for fiscal 2023. The strategic pricing actions we have taken partially offset the impacts of these higher costs.'}]"
      ]
     },
     "execution_count": 15,
     "metadata": {},
     "output_type": "execute_result"
    }
   ],
   "source": [
    "query = (\n",
    "    Query(\"@chunk_vector:[VECTOR_RANGE $radius $vec]=>{$YIELD_DISTANCE_AS: score}\")\n",
    "     .sort_by(\"score\")\n",
    "     .return_fields(\"content\", \"score\")\n",
    "     .dialect(2)\n",
    ")\n",
    "\n",
    "# Find all vectors within 0.8 of the query vector\n",
    "query_params = {\n",
    "    \"radius\": 0.18,\n",
    "    \"vec\": hf.embed(_input, as_buffer=True)\n",
    "}\n",
    "r.ft(index_name).search(query, query_params).docs"
   ]
  },
  {
   "cell_type": "markdown",
   "metadata": {},
   "source": [
    "### Hybrid Queries\n",
    "Hybrid queries contain both traditional filters (numeric, tags, text) and VSS in one single Redis command."
   ]
  },
  {
   "cell_type": "code",
   "execution_count": 17,
   "metadata": {},
   "outputs": [
    {
     "data": {
      "text/plain": [
       "[Document {'id': 'doc:redispy:7c93cdc5-b6b8-4382-82a5-d33da13db5c3', 'payload': None, 'score': '0.184492409229', 'content': 'NIKE Brand apparel revenues increased 8% on a currency-neutral basis, primarily due to higher revenues in Men\\'s. Unit sales of apparel increased 4%, while higher ASP per unit contributed approximately 4 percentage points of apparel revenue growth. Higher ASP was primarily due to higher full-price ASP and growth in the size of our NIKE Direct business, partially offset by lower NIKE Direct ASP, reflecting higher promotional activity.\\n\\nNIKE Direct revenues increased 14% from $18.7 billion in fiscal 2022 to $21.3 billion in fiscal 2023. On a currency-neutral basis, NIKE Direct revenues increased 20% primarily driven by NIKE Brand Digital sales growth of 24%, comparable store sales growth of 14% and the addition of new stores. For further information regarding comparable store sales, including the definition, see \"Comparable Store Sales\". NIKE Brand Digital sales were $12.6 billion for fiscal 2023 compared to $10.7 billion for fiscal 2022.\\n\\n2023 FORM 10-K 33\\n\\nTable of Contents\\n\\nGROSS MARGIN FISCAL 2023 COMPARED TO FISCAL 2022\\n\\nFor fiscal 2023, our consolidated gross profit increased 4% to $22,292 million compared to $21,479 million for fiscal 2022. Gross margin decreased 250 basis points to 43.5% for fiscal 2023 compared to 46.0% for fiscal 2022 due to the following:\\n\\nWholesale equivalent\\n\\nThe decrease in gross margin for fiscal 2023 was primarily due to:'},\n",
       " Document {'id': 'doc:redispy:7b31420a-1ff2-46c3-bc82-21d682737513', 'payload': None, 'score': '0.196989357471', 'content': 'Because contract manufacturers make a majority of our products outside of our principal sales markets, our products must be transported by third parties over large geographic distances. Delays in the shipment or delivery of our products due to the availability of transportation, container shortages, labor shortages, including work stoppages or port strikes, infrastructure and port congestion or other factors, and costs and delays associated with consolidating or transitioning between manufacturers, have adversely impacted, and could in the future adversely impact the availability of our products and, in turn, our financial performance. In addition, delays in the shipment or delivery of our products, manufacturing delays or unexpected demand for our products have required us, and may in the future require us to use faster, but more expensive, transportation methods such as air freight, which could adversely affect our profit margins. The cost of oil is a significant component in manufacturing and transportation costs, so increases in the price of petroleum products can adversely affect our profit margins. Changes in U.S. trade policies, including modifications to import tariffs and existing trade policies and agreements, have also had, and could continue to have a significant impact on our activities in foreign jurisdictions, and could adversely affect our reputation or results of operations.\\n\\nOur success depends on our global distribution facilities.'}]"
      ]
     },
     "execution_count": 17,
     "metadata": {},
     "output_type": "execute_result"
    }
   ],
   "source": [
    "query = (\n",
    "    Query(\"@content:profit=>[KNN 2 @chunk_vector $vec as score]\")\n",
    "     .sort_by(\"score\")\n",
    "     .return_fields(\"content\", \"score\")\n",
    "     .paging(0, 2)\n",
    "     .dialect(2)\n",
    ")\n",
    "\n",
    "query_params = {\n",
    "    \"vec\": hf.embed(_input, as_buffer=True)\n",
    "}\n",
    "r.ft(index_name).search(query, query_params).docs"
   ]
  },
  {
   "cell_type": "code",
   "execution_count": 18,
   "metadata": {},
   "outputs": [
    {
     "data": {
      "text/plain": [
       "b'OK'"
      ]
     },
     "execution_count": 18,
     "metadata": {},
     "output_type": "execute_result"
    }
   ],
   "source": [
    "r.ft(index_name).dropindex(True)"
   ]
  },
  {
   "cell_type": "markdown",
   "metadata": {},
   "source": [
    "## What about JSON Support?\n",
    "\n",
    "Redis also allows you to store data in JSON objects. The JSON fields can contain metadata and vectors. Below is a simple example of indexing JSON data.\n",
    "\n",
    "**For now** -- JSON support is only enabled in the base redis-py library. It is coming soon to LangChain and RedisVL."
   ]
  },
  {
   "cell_type": "code",
   "execution_count": 51,
   "metadata": {},
   "outputs": [],
   "source": [
    "index_name = \"redispy:json\"\n",
    "key_prefix = \"doc:redispy:json\"\n",
    "\n",
    "\n",
    "try:\n",
    "    # check to see if index exists\n",
    "    r.ft(index_name).info()\n",
    "    print(\"Index already exists!\")\n",
    "except:\n",
    "    # schema\n",
    "    schema = (\n",
    "        TextField(\"$.content\",                     # Text Field Name (JSON path)\n",
    "            as_name=\"content\"                      # Text Field Alias -- required for JSON\n",
    "        ),\n",
    "        VectorField(\"$.chunk_vector\",              # Vector Field Name (JSON path)\n",
    "            \"FLAT\", {                              # Vector Index Type: FLAT or HNSW\n",
    "                \"TYPE\": \"FLOAT32\",\n",
    "                \"DIM\": 384,                        # Number of Vector Dimensions\n",
    "                \"DISTANCE_METRIC\": \"COSINE\",       # Vector Search Distance Metric\n",
    "            },\n",
    "            as_name=\"chunk_vector\"                 # Vector Field Alias -- required for JSON\n",
    "        ),\n",
    "    )\n",
    "\n",
    "    # index Definition\n",
    "    definition = IndexDefinition(prefix=[key_prefix], index_type=IndexType.JSON) # select JSON here\n",
    "\n",
    "    # create Index\n",
    "    r.ft(index_name).create_index(fields=schema, definition=definition)"
   ]
  },
  {
   "cell_type": "code",
   "execution_count": 54,
   "metadata": {},
   "outputs": [
    {
     "data": {
      "text/plain": [
       "{'index_name': 'redispy:json',\n",
       " 'index_options': [],\n",
       " 'index_definition': [b'key_type',\n",
       "  b'JSON',\n",
       "  b'prefixes',\n",
       "  [b'doc:redispy:json'],\n",
       "  b'default_score',\n",
       "  b'1'],\n",
       " 'attributes': [[b'identifier',\n",
       "   b'$.content',\n",
       "   b'attribute',\n",
       "   b'content',\n",
       "   b'type',\n",
       "   b'TEXT',\n",
       "   b'WEIGHT',\n",
       "   b'1'],\n",
       "  [b'identifier',\n",
       "   b'$.chunk_vector',\n",
       "   b'attribute',\n",
       "   b'chunk_vector',\n",
       "   b'type',\n",
       "   b'VECTOR']],\n",
       " 'num_docs': '0',\n",
       " 'max_doc_id': '0',\n",
       " 'num_terms': '0',\n",
       " 'num_records': '0',\n",
       " 'inverted_sz_mb': '0',\n",
       " 'vector_index_sz_mb': '0.00818634033203125',\n",
       " 'total_inverted_index_blocks': '0',\n",
       " 'offset_vectors_sz_mb': '0',\n",
       " 'doc_table_size_mb': '0',\n",
       " 'sortable_values_size_mb': '0',\n",
       " 'key_table_size_mb': '0',\n",
       " 'geoshapes_sz_mb': '0',\n",
       " 'records_per_doc_avg': 'nan',\n",
       " 'bytes_per_record_avg': 'nan',\n",
       " 'offsets_per_term_avg': 'nan',\n",
       " 'offset_bits_per_record_avg': 'nan',\n",
       " 'hash_indexing_failures': '0',\n",
       " 'total_indexing_time': '0',\n",
       " 'indexing': '0',\n",
       " 'percent_indexed': '1',\n",
       " 'number_of_uses': 2,\n",
       " 'cleaning': 0,\n",
       " 'gc_stats': [b'bytes_collected',\n",
       "  b'0',\n",
       "  b'total_ms_run',\n",
       "  b'0',\n",
       "  b'total_cycles',\n",
       "  b'0',\n",
       "  b'average_cycle_time_ms',\n",
       "  b'nan',\n",
       "  b'last_run_time_ms',\n",
       "  b'0',\n",
       "  b'gc_numeric_trees_missed',\n",
       "  b'0',\n",
       "  b'gc_blocks_denied',\n",
       "  b'0'],\n",
       " 'cursor_stats': [b'global_idle',\n",
       "  0,\n",
       "  b'global_total',\n",
       "  0,\n",
       "  b'index_capacity',\n",
       "  128,\n",
       "  b'index_total',\n",
       "  0],\n",
       " 'dialect_stats': [b'dialect_1',\n",
       "  0,\n",
       "  b'dialect_2',\n",
       "  0,\n",
       "  b'dialect_3',\n",
       "  0,\n",
       "  b'dialect_4',\n",
       "  0]}"
      ]
     },
     "execution_count": 54,
     "metadata": {},
     "output_type": "execute_result"
    }
   ],
   "source": [
    "r.ft(index_name).info()"
   ]
  },
  {
   "cell_type": "code",
   "execution_count": 55,
   "metadata": {},
   "outputs": [],
   "source": [
    "# Write JSON data to the index\n",
    "\n",
    "batch_size = 200\n",
    "pipe = r.pipeline(transaction=False)\n",
    "\n",
    "for i, chunk in enumerate(chunks):\n",
    "    redis_key = f\"{key_prefix}:{i}\"\n",
    "    data = {\n",
    "        'content': chunk['page_content'],\n",
    "        'chunk_vector': chunk_embeddings[i] # notice that we don't need to convert JSON embeddings to bytes\n",
    "    }\n",
    "    pipe.json().set(redis_key, \"$\", data)\n",
    "    # mini batch\n",
    "    if i % batch_size == 0:\n",
    "        res = pipe.execute()\n",
    "\n",
    "res = pipe.execute() # make sure to use mini batches if working with larger datasets"
   ]
  },
  {
   "cell_type": "code",
   "execution_count": null,
   "metadata": {},
   "outputs": [],
   "source": [
    "# Fetch the JSON doc\n",
    "r.json().get(f\"{key_prefix}:0\", \"$\")"
   ]
  },
  {
   "cell_type": "code",
   "execution_count": 57,
   "metadata": {},
   "outputs": [
    {
     "data": {
      "text/plain": [
       "[Document {'id': 'doc:redispy:json:145', 'payload': None, 'score': '0.184492409229', 'content': 'NIKE Brand apparel revenues increased 8% on a currency-neutral basis, primarily due to higher revenues in Men\\'s. Unit sales of apparel increased 4%, while higher ASP per unit contributed approximately 4 percentage points of apparel revenue growth. Higher ASP was primarily due to higher full-price ASP and growth in the size of our NIKE Direct business, partially offset by lower NIKE Direct ASP, reflecting higher promotional activity.\\n\\nNIKE Direct revenues increased 14% from $18.7 billion in fiscal 2022 to $21.3 billion in fiscal 2023. On a currency-neutral basis, NIKE Direct revenues increased 20% primarily driven by NIKE Brand Digital sales growth of 24%, comparable store sales growth of 14% and the addition of new stores. For further information regarding comparable store sales, including the definition, see \"Comparable Store Sales\". NIKE Brand Digital sales were $12.6 billion for fiscal 2023 compared to $10.7 billion for fiscal 2022.\\n\\n2023 FORM 10-K 33\\n\\nTable of Contents\\n\\nGROSS MARGIN FISCAL 2023 COMPARED TO FISCAL 2022\\n\\nFor fiscal 2023, our consolidated gross profit increased 4% to $22,292 million compared to $21,479 million for fiscal 2022. Gross margin decreased 250 basis points to 43.5% for fiscal 2023 compared to 46.0% for fiscal 2022 due to the following:\\n\\nWholesale equivalent\\n\\nThe decrease in gross margin for fiscal 2023 was primarily due to:'},\n",
       " Document {'id': 'doc:redispy:json:99', 'payload': None, 'score': '0.196989357471', 'content': 'Because contract manufacturers make a majority of our products outside of our principal sales markets, our products must be transported by third parties over large geographic distances. Delays in the shipment or delivery of our products due to the availability of transportation, container shortages, labor shortages, including work stoppages or port strikes, infrastructure and port congestion or other factors, and costs and delays associated with consolidating or transitioning between manufacturers, have adversely impacted, and could in the future adversely impact the availability of our products and, in turn, our financial performance. In addition, delays in the shipment or delivery of our products, manufacturing delays or unexpected demand for our products have required us, and may in the future require us to use faster, but more expensive, transportation methods such as air freight, which could adversely affect our profit margins. The cost of oil is a significant component in manufacturing and transportation costs, so increases in the price of petroleum products can adversely affect our profit margins. Changes in U.S. trade policies, including modifications to import tariffs and existing trade policies and agreements, have also had, and could continue to have a significant impact on our activities in foreign jurisdictions, and could adversely affect our reputation or results of operations.\\n\\nOur success depends on our global distribution facilities.'}]"
      ]
     },
     "execution_count": 57,
     "metadata": {},
     "output_type": "execute_result"
    }
   ],
   "source": [
    "# And now you can perform the same kinds of queries\n",
    "\n",
    "query = (\n",
    "    Query(\"@content:profit=>[KNN 2 @chunk_vector $vec as score]\")\n",
    "     .sort_by(\"score\")\n",
    "     .return_fields(\"content\", \"score\")\n",
    "     .paging(0, 2)\n",
    "     .dialect(2)\n",
    ")\n",
    "\n",
    "query_params = {\n",
    "    \"vec\": hf.embed(_input, as_buffer=True)\n",
    "}\n",
    "r.ft(index_name).search(query, query_params).docs"
   ]
  },
  {
   "cell_type": "code",
   "execution_count": null,
   "metadata": {},
   "outputs": [],
   "source": [
    "r.ft(index_name).dropindex(True)"
   ]
  },
  {
   "cell_type": "markdown",
   "metadata": {},
   "source": [
    "## What's Next?\n",
    "\n",
    "Now that you have the basics down with the baseline Redis Python client,\n",
    "\n",
    "- [RedisVL](RedisVL_VSS.ipynb) is probably the next one to try. RedisVL makes it incredible easy to get started with Redis as a vector database.\n",
    "- [LangChain](LangChain_VSS.ipynb) is then after that -- which will make it easy to integrate Redis with an LLM."
   ]
  }
 ],
 "metadata": {
  "colab": {
   "include_colab_link": true,
   "provenance": []
  },
  "kernelspec": {
   "display_name": "Python 3",
   "name": "python3"
  },
  "language_info": {
   "codemirror_mode": {
    "name": "ipython",
    "version": 3
   },
   "file_extension": ".py",
   "mimetype": "text/x-python",
   "name": "python",
   "nbconvert_exporter": "python",
   "pygments_lexer": "ipython3",
   "version": "3.9.18"
  }
 },
 "nbformat": 4,
 "nbformat_minor": 0
}
