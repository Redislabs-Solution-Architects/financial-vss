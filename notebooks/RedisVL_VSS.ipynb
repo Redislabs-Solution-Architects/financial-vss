{
 "cells": [
  {
   "cell_type": "markdown",
   "metadata": {
    "id": "R2-i8jBl9GRH"
   },
   "source": [
    "# Vector Similarity Search with RedisVL\n",
    "\n",
    "![Redis](https://redis.com/wp-content/themes/wpx/assets/images/logo-redis.svg?auto=webp&quality=85,75&width=120)\n",
    "\n",
    "This notebook uses [RedisVL](https://redisvl.com), a dedicated Python client library for using Redis as a vector database, to perform document + embdding indexing and semantic search tasks."
   ]
  },
  {
   "cell_type": "markdown",
   "metadata": {},
   "source": [
    "## Install Python Dependencies"
   ]
  },
  {
   "cell_type": "code",
   "execution_count": null,
   "metadata": {},
   "outputs": [],
   "source": [
    "!pip install -q redis redisvl>=0.0.4 numpy sentence-transformers"
   ]
  },
  {
   "cell_type": "markdown",
   "metadata": {},
   "source": [
    "## Load Document Chunks and Embeddings\n",
    "**You are expected to have first run the Setup / Data Prep Notebook**"
   ]
  },
  {
   "cell_type": "code",
   "execution_count": 2,
   "metadata": {},
   "outputs": [],
   "source": [
    "import os\n",
    "import json\n",
    "\n",
    "data_path = \"notebooks/resources/\"\n",
    "\n",
    "with open(os.path.join(data_path, \"embeddings.json\"), \"r\") as f:\n",
    "    chunk_embeddings = json.load(f)\n",
    "\n",
    "with open(os.path.join(data_path, \"docs.json\"), \"r\") as f:\n",
    "    chunks = json.load(f)"
   ]
  },
  {
   "cell_type": "markdown",
   "metadata": {
    "id": "NBlbUrB27QQs"
   },
   "source": [
    "## Install Redis Stack (OPTIONAL)\n",
    "\n",
    "Redis Search will be used as Vector Similarity Search engine for LangChain.\n",
    "\n",
    "Instead of using in-notebook Redis Stack https://redis.io/docs/getting-started/install-stack/ you can provision your own free instance of Redis in the cloud. Get your own Free Redis Cloud instance at https://redis.com/try-free/"
   ]
  },
  {
   "cell_type": "code",
   "execution_count": null,
   "metadata": {
    "colab": {
     "base_uri": "https://localhost:8080/"
    },
    "id": "aKMKXPY2j8Gt",
    "outputId": "c91defdc-c530-415a-ae4d-381ba68e909c"
   },
   "outputs": [],
   "source": [
    "%%sh\n",
    "curl -fsSL https://packages.redis.io/gpg | sudo gpg --dearmor -o /usr/share/keyrings/redis-archive-keyring.gpg\n",
    "echo \"deb [signed-by=/usr/share/keyrings/redis-archive-keyring.gpg] https://packages.redis.io/deb $(lsb_release -cs) main\" | sudo tee /etc/apt/sources.list.d/redis.list\n",
    "sudo apt-get update  > /dev/null 2>&1\n",
    "sudo apt-get install redis-stack-server  > /dev/null 2>&1\n",
    "redis-stack-server --daemonize yes"
   ]
  },
  {
   "cell_type": "markdown",
   "metadata": {
    "id": "X7UsU1Ts7TUL"
   },
   "source": [
    "### Connect to Redis\n",
    "\n",
    "By default this notebook would connect to the local instance of Redis Stack. If you have your own Redis Cloud instance - replace REDIS_PASSWORD, REDIS_HOST and REDIS_PORT values with your own."
   ]
  },
  {
   "cell_type": "code",
   "execution_count": 1,
   "metadata": {
    "id": "dyPfCO3pkB7M"
   },
   "outputs": [],
   "source": [
    "# Replace values below with your own if using Redis Cloud instance\n",
    "REDIS_HOST = os.getenv(\"REDIS_HOST\", \"localhost\")\n",
    "REDIS_PORT = os.getenv(\"REDIS_PORT\", \"6379\")\n",
    "REDIS_PASSWORD = os.getenv(\"REDIS_PASSWORD\", \"\")\n",
    "#REDIS_HOST=\"redis-18374.c253.us-central1-1.gce.cloud.redislabs.com\"\n",
    "#REDIS_PORT=18374\n",
    "#REDIS_PASSWORD=\"1TNxTEdYRDgIDKM2gDfasupCADXXXX\"\n",
    "\n",
    "#shortcut for redis-cli $REDIS_CONN command\n",
    "if REDIS_PASSWORD!=\"\":\n",
    "  os.environ[\"REDIS_CONN\"]=f\"-h {REDIS_HOST} -p {REDIS_PORT} -a {REDIS_PASSWORD} --no-auth-warning\"\n",
    "else:\n",
    "  os.environ[\"REDIS_CONN\"]=f\"-h {REDIS_HOST} -p {REDIS_PORT}\"\n",
    "\n",
    "REDIS_URL = f\"redis://:{REDIS_PASSWORD}@{REDIS_HOST}:{REDIS_PORT}\"\n"
   ]
  },
  {
   "cell_type": "markdown",
   "metadata": {},
   "source": [
    "## Create the index from schema"
   ]
  },
  {
   "cell_type": "code",
   "execution_count": 3,
   "metadata": {},
   "outputs": [],
   "source": [
    "from redisvl.index import SearchIndex # can also use AsyncSearchIndex for prod use cases\n",
    "\n",
    "index_name = \"redisvl\"\n",
    "\n",
    "schema = {\n",
    "  \"index\": {\n",
    "    \"name\": index_name,\n",
    "    \"prefix\": f\"doc:{index_name}\"\n",
    "  },\n",
    "  \"fields\": {\n",
    "    \"text\": [{\"name\": \"content\"}],\n",
    "    \"vector\": [{\n",
    "                \"name\": \"chunk_vector\",\n",
    "                \"dims\": 1536,\n",
    "                \"distance_metric\": \"cosine\",\n",
    "                \"algorithm\": \"hnsw\",\n",
    "                \"datatype\": \"float32\"}\n",
    "        ]\n",
    "  },\n",
    "}\n",
    "\n",
    "# construct a search index from the schema\n",
    "index = SearchIndex.from_dict(schema) # or SearchIndex.from_yaml(\"schema.yaml\") for yaml files\n",
    "\n",
    "# connect to local redis instance\n",
    "index.connect(REDIS_URL)\n",
    "\n",
    "# create the index (no data yet)\n",
    "index.create(overwrite=True)"
   ]
  },
  {
   "cell_type": "code",
   "execution_count": 4,
   "metadata": {},
   "outputs": [
    {
     "name": "stdout",
     "output_type": "stream",
     "text": [
      "\u001b[32m14:03:58\u001b[0m \u001b[34m[RedisVL]\u001b[0m \u001b[1;30mINFO\u001b[0m   Indices:\n",
      "\u001b[32m14:03:58\u001b[0m \u001b[34m[RedisVL]\u001b[0m \u001b[1;30mINFO\u001b[0m   1. langchain\n",
      "\u001b[32m14:03:58\u001b[0m \u001b[34m[RedisVL]\u001b[0m \u001b[1;30mINFO\u001b[0m   2. redisvl\n"
     ]
    }
   ],
   "source": [
    "# use the CLI to see the created index\n",
    "!rvl index listall"
   ]
  },
  {
   "cell_type": "code",
   "execution_count": 5,
   "metadata": {},
   "outputs": [
    {
     "name": "stdout",
     "output_type": "stream",
     "text": [
      "\n",
      "\n",
      "Index Information:\n",
      "╭──────────────┬────────────────┬─────────────────┬─────────────────┬────────────╮\n",
      "│ Index Name   │ Storage Type   │ Prefixes        │ Index Options   │   Indexing │\n",
      "├──────────────┼────────────────┼─────────────────┼─────────────────┼────────────┤\n",
      "│ redisvl      │ HASH           │ ['doc:redisvl'] │ []              │          0 │\n",
      "╰──────────────┴────────────────┴─────────────────┴─────────────────┴────────────╯\n",
      "Index Fields:\n",
      "╭──────────────┬──────────────┬────────┬────────────────┬────────────────╮\n",
      "│ Name         │ Attribute    │ Type   │ Field Option   │   Option Value │\n",
      "├──────────────┼──────────────┼────────┼────────────────┼────────────────┤\n",
      "│ content      │ content      │ TEXT   │ WEIGHT         │              1 │\n",
      "│ chunk_vector │ chunk_vector │ VECTOR │                │                │\n",
      "╰──────────────┴──────────────┴────────┴────────────────┴────────────────╯\n"
     ]
    }
   ],
   "source": [
    "!rvl index info -i redisvl"
   ]
  },
  {
   "cell_type": "markdown",
   "metadata": {
    "id": "Qrj-jeGmBRTL"
   },
   "source": [
    "### Process and load data using RedisVL"
   ]
  },
  {
   "cell_type": "code",
   "execution_count": 7,
   "metadata": {},
   "outputs": [],
   "source": [
    "# load expects an iterable of dictionaries\n",
    "import numpy as np\n",
    "\n",
    "data = [\n",
    "    {\n",
    "        'content': chunk['page_content'],\n",
    "        'chunk_vector': np.array(chunk_embeddings[i]).astype(np.float32).tobytes()\n",
    "    } for i, chunk in enumerate(chunks)\n",
    "]\n",
    "\n",
    "index.load(data)"
   ]
  },
  {
   "cell_type": "code",
   "execution_count": 8,
   "metadata": {},
   "outputs": [
    {
     "data": {
      "text/plain": [
       "646"
      ]
     },
     "execution_count": 8,
     "metadata": {},
     "output_type": "execute_result"
    }
   ],
   "source": [
    "# access the underlying client to check the data in Redis\n",
    "index.client.dbsize()"
   ]
  },
  {
   "cell_type": "code",
   "execution_count": 12,
   "metadata": {},
   "outputs": [
    {
     "data": {
      "text/plain": [
       "{b'chunk_vector': b'+v\\x9e\\xba\\x8097\\xbd\\x7fKL<\\xaa\\xf5 \\xbd\\xf0i\\x88\\xbc\\x188\\x07\\xbc\\x93%~\\xbcu\\xd1e\\xbcY\\xe2-\\xbaT\\xbb\\x92\\xbb\\xa5+`<QV2\\xbcL\\xa6\\x8c<\\x8b*\\x13<W\\xa2\\xf2;\\xe0\\xc8\\x86;<\\x05\\x8b<y\\xff\\x0b\\xbd\\xa2\\xe0\\x9a<\\xb0\\x93\\xb1\\xbb6\\x8c\\x1f\\xbdq\\x98\\xb5:9\\x8d\\x1a\\xbdQ{W<\\xb8\\xa87;f]\\x0f\\xbb\\xa6X\\x0b=A\\x19\\x16\\xbd\\xa0V\\x15\\xbc\\xa2*\\xe5:Vj=\\xbcx\\xad\\xbb\\xbb\\xaa\\xf5 \\xba\\xbb\\x84\\r<\\xbc\\x97\\x9d\\xbc\\x15\\x1d\\xf19s\\xe3\\xfa<Z\\xbd\\x08<\\x031\\xaa<Q\\xa0\\xfc\\xbb)\\x88\\xb3<.\\x9c>\\xbb\\x1e\\xd6\\x97\\xbb\\x0c4\\x9b\\xbc\\x8d\\xb4\\x18;\\xc6\\x11\\x84<\\x89a\\xcd<\\x96\\xdc.\\xbc\\x00\\xf1n<Ky\\xe1<\\xdb=\\x06\\xbc\\x9c\\x03J=\\xe7\\xb0\\xe1\\xbct\\x10\\xa6\\xbb\\xb3o\\x07\\xbc\\xaal\\x96\\xbc\\xbeF\\xc89l\\xa9O<.w\\x99\\xbc\\x15\\x1dq;\\x08\\xbc\\xaa\\xbb\\xc5\\x9a\\x0e\\xbb\\xb4\\x0b\"\\xbdl_\\x05=<*0\\xbd(6\\xe3\\xbb\\xef<]\\xbc\\xe0Q\\x11;\\xa7\\xf4%\\xba\\xac\\x7f\\xa6<\\x9f\\x04E=\\xd4\\xe9\\xbf<\\xafAa<\\xa3|\\xb5\\xb7\\xe0\\xed\\xab<\\x7f&\\'\\xbc\\xeb\\xde\\x07\\xbcU\\xf3G;!\\xfc\\xb7<\\xa8\\x076<\\xac@\\xe6:\\x9bg/\\xbb\\x7f&\\xa7\\xbc\\x1f\\x97W<k\\x96\\xbf<z7\\xc1<\\x01\\x1e\\x9a\\xbc\\\\\\xe3(;\\xee{\\x9d\\xbb\\t\\xcf:<\\xd7N\\xa0:f\\xa7\\xd9<_m\\xae<j\\xbbd<\\x0e\\xbe \\xbc(\\x9aH\\xbb\\x17\\xe66\\xbdv\\xfe\\x10=<\\x8e\\x95\\xbc\\xdbb+\\xbd\"4m<\\x95e\\xb9;\\x126\\x91\\xbc\\xfa\\xeex\\xbc\\x1b\\xd5\\x9c\\xbc\\x0c\\xd0\\xb5;T\\xbb\\x92\\xbc\\xfc\\x92\\x19\\xbcr\\xabE\\xbc\\x9fC\\x05\\xbc\\xeb\\x03\\xad<\\x1b^\\xa7<\\xf0i\\x88<\\xab\\xe3\\x0b\\xbc`[\\x99\\xbb\\x83:\\xb2\\xbc\\xf1\\x05\\xa3<\\x93\\xb6\\x0e<%5h\\xbc^\\xb7x\\xbc\\xf1\\xc6\\xe2<\\xaaR{<\\xcao\\xd9:*I\\xf3\\xbc\\x83\\x9e\\x17=Q1\\r<\\xb1T\\xf1<\\xbc\\xbc\\xc2\\xbc-\\x00\\xa4\\xbc\\xc97$\\xbc\\xd9\\xd8\\xa5\\xbc\\xfa-\\xb9\\xbc\\xa6}\\xb0<X\\xf4B<\\x89\\xa0\\x8d\\xbc\\x08X\\xc5<\\xe1\\x89\\xc6\\xbc\\xc5#\\x19<=\\xa1\\xa5\\xbc\\x8c\\xc6-\\xbd\\x9eh\\xaa<\\xc1l\\xe8:F\\x8a\\xfb\\xbc\\xa5+\\xe0;\\xb7\\x0c\\x9d\\xbbO\\x8d\\xec<i\\xa8T;\\x8a\\x17\\x03;F\\xa4\\x16=\\xf3j\\x83\\xbc\\xc1\\x86\\x83<}8\\xbc\\xbcx\\xd2\\xe0:\\x0e\\xbe \\xbb1^\\xf9<Q{\\xd7\\xba\\xeag\\x12:|%\\xac;\\x02\\xdfY\\xbc\\x00\\xf1\\xee\\xbc\\xddP\\x16\\xbd\\xe9\\xf0\\x9c<\\xe5\\xc2\\xf6\\xbb\\xa0\\x17U<\\xbe\\x85\\x08\\xbc\\xfd\\xa5\\xa9<\\xa4\\xf3*<-Jn;@\\xa2 \\xbcm\\xbc_\\xbb\\x9bg\\xaf;\\xa9Y\\x86<\\xafA\\xe1\\xbb|\\x00\\x87<\\x1cL\\x12\\xbcT|R<tt\\x0b\\xbcW}\\xcd;_H\\x89\\xbc\\xa8\\xe2\\x90\\xbcR\\xf2\\xcc<\\x809\\xb7<G@\\xb1<\\xc5#\\x19=\"N\\x8895\\xb1D\\xbc\\x88)\\x18<\\xdf\\x9b\\xdb\\xbb\\x10H\\xa6\\xb95\\xf0\\x04\\xbdu\\x87\\x1b;\\x92\\xc8#<A\\x19\\x96<\\x94R)\\xbc=\\xa1%\\xbfTW\\xad;\\xc66)<W\\xbc\\r\\xbcWX\\xa8\\xbbf\\xa7Y\\xbc\\x99\\xb8\\x04=\\\\G\\x8e;\\xd4\\xc4\\x1a\\xbd\\x93\\xdb3<s\\xbeU\\xbc,\\x89.:\\x9e\\xcc\\x8f;\\x04\\x05z\\xbc}8\\xbc\\xbc\\xcd\\x95y\\xbc\\xc5#\\x19\\xbb\\x9c\\xde\\xa4\\xbbj\\xfa\\xa4;\\xf1\\x05\\xa3\\xba\\xb3\\x94\\xac;\\xe1d!<\\x062\\xa5\\xbc\\xffT\\xd4;\\x9c(\\xef<z\\x12\\x1c<#\\x0f\\xc8<[\\xb6\\xfd\\xbcu\\xeb\\x00\\xbco\\xcfo\\xbc)\\xec\\x98\\xbc$\\xd8\\x8d\\xba\\xb3o\\x07<c\\xa6\\xde\\xbbO\\xcc,=s\\xbe\\xd5<\\x17\\xc1\\x91:\\xe5\\x01\\xb7<;\\xb3\\xba;\\xf5}\\x13=\\xc7I\\xb9\\xbc\\xb7\\x0c\\x1d;1x\\x94<\\xda\\xeb5<\\xea\\x8c\\xb7\\xba\\xcdp\\xd4<\\xf5\\xda\\xed<\\x9a\\xf09<\\x95\\xc9\\x1e=\\xe5\\xdc\\x11\\xbcl\\x84*;\\x1d\\rR\\xbc\\x1d\\xe8,\\xbc\\x07 \\x10\\xbc\\x9b\\x8c\\xd4<\\x89\\xa0\\r9\\xed)\\xcd;\\xddP\\x96\\xbc\\xf6\\xb5\\xc8\\xbb\\xa3\\x18\\xd0;^\\x1b\\xde\\xbbz\\x12\\x1c\\xbc\\x126\\x91\\xb9\\x81\\xfa\\xf6\\xba\\xbaW\\xe2\\xbc\\x1b\\xd5\\x9c\\xb9\\xfd.\\xb4\\xbc\\x03\\xa8\\x9f\\xbb\\x1fr\\xb2<NU\\xb7<\\xf9R^\\xbcZ\\xa3\\xed<V\\x06X\\xbc\\x93\\xb6\\x8e\\xbc\\x82L\\xc7<\\xcf\\x83\\xe4<*Is<C\\xa3\\x9b\\xbc\\xc9\\\\\\xc9\\xbb\\xd4\\xaa\\x7f<~\\x8a\\x8c\\xbc\\xd1\\xc3\\x9f\\xbc9NZ\\xbce\\x0b?\\xbb\\xf3\\xb4M<\\xc4mc<\\x9d\\x16Z<=|\\x00\\xbc\\x82\\xe8\\xe1\\xbb\\xf8\\x1a\\xa9;\\x1b^\\'\\xbc%5h<\\xf0\\x8e-<\\x12\\xd2+\\xbd\\xd9\\xd8\\xa5;\\xb1T\\xf1;\\x84\\xb1\\'\\xbd1x\\x94\\xbc\\x81\\xb0\\xac\\xbb/\\x134\\xbb\\xe9\\x15B\\xbc\\xc4\\xd1\\xc8;\\xc4\\xac\\xa3<6\\x03\\x95\\xbc\\xf8~\\x0e<\\xd8\\xfd\\xca<\\xf8\\x1a\\xa9\\xba\\x1a\\x83\\xcc\\xbb\\xb8DR<\\x11\\xe4\\xc0\\xbc\\xbf\\x98\\x18\\xbb\\xdc\\xd9\\xa0\\xbc\\xafA\\xe1;A\\x19\\x96\\xbb\\xfb\\x7f\\x89\\xbcNz\\xdc\\xbcX\\xcf\\x9d<|J\\xd1\\xbbbn)\\xbc\\xda\\xc6\\x908\\x14\\xe5\\xbb\\xb9T2\\x88<x\\xd2\\xe0<\\x96\\x01\\xd4\\xbc\\xd2\\x84_:\\xb5\\x82\\x17<o\\xe9\\x8a<\\x9eh*\\xbd$a\\x98;\\x12\\xf7P<\\xc7I\\xb9;\\xc8$\\x14=\\xb8i\\xf7<\\x8eP3\\xbc\\x16\\xae\\x01\\xbcz7\\xc1<\\xeb\\xc4l<\\x1a\\x0cW\\xbc7`\\xef:\\xd2\\x84\\xdf\\xbc\\x87\\x16\\x08\\xbd\\xdd\\xad\\xf0\\xba\\xc7\\xad\\x1e<\\xc9\\\\I\\xbb\\xcaJ4:\\xe1\\x89\\xc6\\xbc\\x126\\x91\\xbc1^\\xf9;\\xd9t\\xc0\\xbcWX\\xa8<\\xf8\\xf5\\x83\\xbc=be<D\\x1a\\x91:l\\xcet\\xbc3\\x02\\x9a;\\xe0\\xae\\xeb\\xba\\xd0\\xd54<YF\\x13\\xbd\\xbe\\x85\\x88\\xbc\\xdc\\xd9\\xa0\\xbc\\xf5}\\x93<\\xfa\\xeex\\xbb`\\xa5c;9\\x04\\x10\\xbb\\x11\\xbf\\x9b\\xbc\\xd0q\\xcf\\xbc\\x15\\xf8\\xcb;\\xf4\\xc7\\xdd<\\x89\\xc5\\xb2\\xbb\\xc1lh\\xbc\\x1f\\x97W;7`o\\xbctt\\x0b=\\xec\\xd7\\xfc\\xba\\xb5\\x1e2<l_\\x85<4y\\x0f<\\x9a\\xf0\\xb9;\\x9f)j\\xbc\\x9eh\\xaa\\xbc\\xd8\\xfd\\xca;\\xf1\\xc6b\\xbb\\x9eh\\xaa\\xbc{\\xae\\xb6\\xbcu\\xeb\\x80<JA,<\\x91v\\xd3;\\x08\\xbc\\xaa<p\\xe2\\xff\\xbb_\\xe4\\xa3<^\\x1b\\xde\\xbc\\xbe\\x85\\x88<\\xdf\\xda\\x9b\\xbb6M\\xdf;L\\x8c\\xf1\\xbc1x\\x94<\\xae\\xe4\\x86<\\xbe\\x85\\x08;\\x9f\\xdf\\x1f:\\x86;\\xad<\\x9dU\\x1a\\xbc\\x8e\\x11s<9s\\xff\\xbb:\\xc5\\xcf<\\x1fM\\r\\xbc\\x91\\x12\\xee:\\xb2\\x1d7<\\x8f\\xa2\\x03\\xbcBQ\\xcb<\\x87\\xb2\"<X\\xcf\\x9d< \\x0e\\xcd\\xbc\\x80\\x9d\\x1c\\xbc\\x89\\xa0\\x8d\\xbcZ\\xa3\\xed\\xbc$a\\x98\\xbb\\x9b\\xcb\\x14\\xba\\x01\\x1e\\x9a\\xbc\\x02\\x95\\x0f<\\x9bg\\xaf<\\xd1\\xe8\\xc4;x\\xad\\xbb\\xbc\\x88\\xeaW<\\xd7N\\xa0\\xba\\xdd\\xec\\xb0\\xbb\\xb7p\\x02\\xbc\\x13\\na\\xbcG\\xb7&\\xbb\\xf2\\xd9r;\\xdf\\xda\\x9b\\xbc\\x04D\\xba\\xbb\\x7f\\xe7f<Hxf\\xbc\\r\\x08\\xeb<\\x06\\xce?<\\xd6\\xb2\\x05=F\\xa4\\x96;\\xda\\xc6\\x90\\xbb\\x17\\xe6\\xb6<\\x87\\xd7G\\xbb\\xe8\\xdd\\x0c\\xbb\\xea\\x8c7<\\xc97\\xa4<Z\\xa3m<\\xe2\\xc1\\xfb\\xbbBv\\xf0\\xbcT\\xbb\\x12=\\xfb\\x7f\\t<v#\\xb6\\xbc]Z\\x9e<\\xd8\\xfd\\xca\\xbaK/\\x97<\\x99\\xdd\\xa9\\xbb\\xf1\\xa1\\xbd\\xbcS\\x05\\xdd<7`\\xef\\xbc\\xba\\r\\x98\\xbbHx\\xe6<\\xef\\xf2\\x12=\\xa9?\\xeb<\\x13n\\xc6<y\\xff\\x8b\\xbb\\x97\\x14d<\\xf2\\x183<\\rG\\xab<\\xee\\xc5\\xe7:\\x9a\\x15_<\\xcb\\xc1)<N\\xb9\\x9c<\\xac\\xa4K\\xbc\\xb7Vg\\xbb0e\\x04\\xbd\\xd9\\xd8\\xa5<o\\xcfo\\xbcj\\xfa\\xa4<F\\x8a\\xfb;\\x15\\\\\\xb1\\xbc`[\\x99\\xbby\\xe5p<\\x84\\xfbq<\\x82LG\\xbbm\\xfb\\x1f\\xbd\\x8e+\\x0e;\\xf2|\\x98<\\x94-\\x04<\\x02VO\\xbco\\xcf\\xef<O\\xf1\\xd1\\xbb^\\xf68\\xbc\\xbbj\\xf2<\\xa5\\xe1\\x15<\\xed)M<W\\xa2\\xf2\\xbc5\\xf0\\x84<\\t\\xcf:;I\\x8b\\xf6\\xbb\\xcd\\xaf\\x14;\\x15\\x1d\\xf1\\xbb\\x93%\\xfe\\xbb)\\x11\\xbe\\xbc\\xe2\\xc1{\\xbb\\xbc \\xa8\\xbcy$\\xb1<\\xed\\xb2\\xd7<\\xdb=\\x06=\\xdbb+;\\xa3=u\\xbc\\xb71\\xc2\\xbc\\xa6\\xa2\\xd5;\\xee\\xa0\\xc2\\xbctt\\x8b\\xbc\\xbb\\x84\\x8d<\\x0eZ\\xbb\\xbc\\xc0\\x0f\\x8e<<\\x05\\x0b\\xbci\\x83/<*$N\\xbc\\xd3M\\xa5\\xbc\\t3 =\\xd7\\xabz\\xbcVj\\xbd\\xbb\\x1d\\xe8\\xac\\xbc1^\\xf9\\xbc\\x1e\\xd6\\x17\\xbc\\x1fr\\xb2=YF\\x13<\\x8e+\\x8e\\xbc\\xbbjr<\\xf7\\xa33\\xbc\\x1cq\\xb7;\\x87\\xd7G\\xbb\\xdb=\\x06\\xbd:\\xc5O\\xb9Y\\x07\\xd3;/\\xee\\x0e\\xbb\\x96\\xdc.;HS\\xc1<6M\\xdf\\xba\\x16o\\xc1;PC\\xa2<\\x9bg/<\\xa5\\x06;\\xbc\\x90\\xb5\\x93<\\x85MB<\\xc5\\xbf\\xb3:\\xde>\\x01\\xbc<tz<L\\xf0V=i\\x83/=\\x81\\xb0,\\xbc\\xd4\\xe9?<\\x99\\xdd\\xa9<7`o\\xbc\\x0f\\xd10\\xbc\\xc9\\x81n\\xbc\\x8d\\xb4\\x98\\xbc\\xdc\\xfeE;G\\xb7\\xa6;+\\xda\\x03\\xbd\\xe2w\\xb1:\\xf5\\x19\\xae<\\x07 \\x10<\\xac\\xa4K;\\xc5\\xe4X;\\xc97\\xa4;\\xafA\\xe1:\\xb0n\\x8c;bn\\xa9\\xbc\\xb2\\xa6\\xc1\\xbbL\\x8c\\xf1\\xbc\\x99\\xdd)\\xbbj\\xbbd;\\'Hx<\\x0bY\\xc0\\xb8q\\x0f\\xab<\\xec\\xd7\\xfc\\xbc\\xd9t\\xc0\\xbc\\x04\\x05z<\\xc8\\x9b\\x89;\\xafAa<`[\\x99<9\\x8d\\x1a\\xbc\\x0c4\\x1b;\\xbc\\xfb\\x02\\xbd/\\xee\\x0e\\xbd\\xd2:\\x95\\xbc\\xd0L\\xaa\\xba\\xd8a0\\xbc\\xcaoY\\xbco`\\x80\\xbc\\x1fM\\x8d\\xbc\\xaf\\x1c\\xbc\\xbc\\xcf9\\x9a\\xbc\\xd5\\xfc\\xcf;\\xc7I9</\\xee\\x0e\\xbd\\x9a\\xf09\\xbdp\\xe2\\x7f\\xbb{\\x89\\x91<\\xac\\xa4\\xcb\\xbc\\x8e\\xecM\\xba\\xcao\\xd9<X\\xf4\\xc2;|J\\xd1<\\x10H\\xa6\\xbc%O\\x83;\\xc1G\\xc3\\xbc\\xdec\\xa6\\xbc\\x94R)\\xbc\\xbf\\x98\\x98<^\\xb7x<e\\x0b\\xbf\\xbcG@1\\xbd\\xf9\\xb6C;t\\x10\\xa6;\\xb5\\x82\\x17\\xbcLgL<\\x13\\xad\\x06<\\xb0\\x93\\xb1;\\xee\\xc5\\xe7\\xbb\\x02V\\xcf<\\x9a\\x15\\xdf\\xba\\xa3W\\x10\\xbbTW\\xad\\xbb\\xef<]\\xbb\\xee\\xc5g\\xba\\x86\\xc47\\xbc\\x81\\xd5\\xd1\\xbc0e\\x84<M\\xde\\xc1<x\\x88\\x96;,\\x89\\xae;\\xc9\\\\I;g\\xf9)\\xbb(u\\xa3<\\xfd\\t\\x8f\\xbc\\x8b\\x10\\xf8:\\x99\\xdd\\xa9;\\x06\\xce\\xbf\\xbb\\xb5\\x1e\\xb2\\xbb\\x95e9\\xbbJ\\x1c\\x87<u\\xac@\\xbc\\xc1\\x86\\x83\\xb9*\\xff\\xa8\\xba\\x1fM\\r\\xbc\\x14\\x81\\xd6<\\x9e\\x8d\\xcf<S\\xe07\\xbc\\xa6\\xa2U<o\\xaaJ\\xbc\\xfd\\xefs:\\x11\\xe4@\\xbc\\xc0\\x0f\\x0e\\xbc\\xe9\\xf0\\x1c<\\xfb\\x7f\\x89<\\x04\\x1f\\x95\\xbb\\xc8$\\x94\\xbc\\x1c\\x96\\xdc\\xbc~\\xaf\\xb1\\xbcX\\x90]\\xbc[\\xf5=\\xbcr\\xea\\x05\\xbd\\\\\\x08N\\xbc\\xb71\\xc2\\xbc\\x81\\x8b\\x07<(\\x9a\\xc89\\xf9R\\xde\\xba>\\xb4\\xb5<p!\\xc0\\xbc\\x82\\xe8a\\xbcLg\\xcc\\xbb\\x86\\x9f\\x92\\xbc\\xcd\\xaf\\x14=\\xdaO\\x1b<\\xf4\\xc7]\\xbc%O\\x83\\xbc\\r\\x08k<\\xf9\\x91\\x1e\\xbb\\xb8\\x1f\\xad\\xbc\\xf3+\\xc3;\\x9a\\x15\\xdf\\xbcq\\x985<+v\\x9e<\\x1b\\x1fg\\xbbNU\\xb7;*Is\\xbc]\\xbe\\x83<\\xe0\\xae\\xeb\\xbb\\x1e b\\xb9x\\xd2\\xe0;\\xfa\\x08\\x94<\\xe3\\xc9\\x81\\xbb>\\xb45:\\xd5`5\\xbb\\xe8\\xc3q<F\\x8a\\xfb;\\xb2\\x1d7\\xbcNz\\\\;\\xe9T\\x82;\\xc5\\x80s\\xbc\\xcd\\xaf\\x14<\\xb40\\xc7\\xbc\\xef\\x178\\xbc\\xe4\\xaf\\xe6;\\xf0\\xb3R\\xbc\\xd7N \\xbcMB\\xa7;C\\xc8@\\xbdz\\x9b\\xa6\\xbc\\x7f\\x01\\x82<0\\x8a)<H\\x92\\x01=C\\x07\\x81\\xbb\\xc5\\x80s<\\x8e\\x11\\xf3\\xbc\\x1d\\x84G=\\r\"\\x06<\\x0b\\x98\\x00\\xbb\\x83_\\xd7\\xbb4_t\\xbc\\xcd\\x95y\\xbc\\x80^\\\\\\xbcv#\\xb6;\\x062\\xa5\\xbc\\xe4\\x8aA;]\\x7fC:}8\\xbc\\xbc\\x96&y\\xbc)\\x88\\xb3<\\x82\\'\"<\\x19K\\x97\\xbc\\xf8\\xf5\\x03;\\x88)\\x98\\xbc\\x13\\xad\\x86\\xbc\\xbf~}\\xbc19T<\\xf2|\\x18;\\x1b9\\x82\\xbb\\xe8\\x02\\xb2<\\x98\\x8bY;l\\xa9\\xcf\\xbb\\x02\\x95\\x8f\\xbc\\x1c2\\xf7\\xbc\\xc3ZS\\xbb\\x0f\\xd1\\xb0\\xbc\\x191\\xfc<*Is;\\xdf\\x9b[<\\xe3\\x13L=g\\xbai\\xbco\\x85%\\xbdw\\x11!<Ewk<\\x9d;\\x7f\\xbb(6c<\\x84\\xd6\\xcc\\xba\\xca\\xae\\x19<T2\\x08\\xbd\\x8b*\\x13<G\\x1b\\x8c<[\\xf5\\xbd\\xbc\\xd3M\\xa5\\xbc\\x9ay\\xc4<\\x17\\x82\\xd1;\\xe0\\x12Q<\\x80\\x9d\\x9c\\xbc\\x98f4\\xbc\\xb71B:.w\\x19=\\x062%\\xbc\\xe4\\xaff<@c\\xe0\\xbcHxf\\xbc\\x18\\xd4\\xa1\\xbb\\xc7n\\xde<\\xd5`\\xb5\\xbb<*0\\xba\\xfc\\x92\\x99\\xbb]\\x7f\\xc3\\xbb\\xdbb+\\xbaQ\\xba\\x97\\xbb\\xb3\\x94,\\xbc\\x11[\\xb6<\\xc0\\x0f\\x0e\\xbc\\xdd\\xc7\\x8b<\\xa4j \\xbc\\x95\\xc9\\x1e=\\x03\\xa8\\x9f\\xbc\\x0b\\x98\\x00;\\x96\\xdc\\xae\\xbcbI\\x04\\xbc\\xb4\\x0b\"<\\xec\\xd7|<\\xa0V\\x15\\xbd\\x191|\\xbc\\x02\\xdf\\xd9<\\x82\\'\\xa2<\\xb3o\\x87\\xbb\\xea\\x8c7\\xbc\\x93\\xb6\\x8e\\xbc\\xbf\\x98\\x18\\xba$\\xfd2\\xbc\\xbdX]\\xbc\\x91,\\x89;\\xc1\\x86\\x03\\xbb\\xadm\\x11\\xbd\\xd9\\xb3\\x00\\xbc\\xe2\\x9c\\xd6\\xbb\\xc97$\\xbc\\xa9\\xa3P\\xbc0e\\x84\\xbc\\x9b\\xcb\\x14\\xbb\\xcf9\\x1a\\xb9\\xb6\\x95\\xa7\\xbc\\xbc\\xfb\\x82<\\x0b\\x98\\x00<SD\\x9d<\\xc4mc\\xbc\\xc3\\x10\\x89<\\x95e9<\\xae\\xe4\\x86<\\xd4(\\x00<r\\xea\\x85<_H\\x89<\\x04\\x05z<m\\xbc_;\\x1cq7<\\xf7\\xc8X\\xbc\\xf5\\xda\\xed\\xbc\\r\"\\x06=$a\\x18\\xbd\\x80^\\\\\\xbc\\xf8\\xf5\\x03\\xbck\\x96\\xbf<_m.\\xbb\\xf1\\x05#;\\xacZ\\x81;bI\\x04\\xbd^\\x1b^<?\\x8f\\x90;`\\xa5c\\xbb\\x10#\\x01<\\xb1Tq<.w\\x19\\xb8T2\\x88:\\xf4\\xa2\\xb8\\xbaO\\xf1\\xd1\\xbc\\xcf\\x83\\xe4;?uu<=be<\\x80^\\\\\\xbb\\x9f)\\xea\\xbb\\x84\\x15\\x8d\\xbcQ\\xa0\\xfc;\\xe9T\\x02<VE\\x98\\xbcv\\xbfP<bn)\\xbc\\x7fKL\\xbb\\\\\\x08\\xce\\xbb\\xcaoY<\\xda\\xeb\\xb5\\xbc\\x07 \\x10\\xbc\\x84\\x8c\\x02\\xbb\\x03\\xa8\\x9f<\\xdc\\xd9 =F\\x8a{<\\x88\\xeaW\\xbb\\xbek\\xed:T2\\x08<l\\xe8\\x8f\\xba/\\xafN\\xbd\\x1b\\xfaA\\xbc \\x0eM;\\x91\\xed\\xc8<C\\x07\\x01;\\xa1\\xf2\\xaf\\xbc\\xc1\\xab(\\xbc9\\x8d\\x1a\\xbb\\xc5\\xbf3\\xbd\\xe8\\xc3q\\xbcl_\\x85\\xbc1^\\xf9<k\\x96?=o\\xcf\\xef<\\xb7\\x0c\\x1d\\xbb\\xa9Y\\x06=\\xcb%\\x0f\\xbb\\x02\\xba\\xb4<\\x8a\\xb3\\x9d\\xbc\\xe2w1\\xbc\\x05WJ<\\x90\\xb5\\x93\\xb9\\xc5\\xbf3<\\x19p\\xbc:\\xec\\x16=\\xbd\\x9a\\x15\\xdf;C\\xc8\\xc0<\\x97\\xef><\\x88\\x0f\\xfd:)\\xadX<\\xa4\\xf3\\xaa;&\\x87\\xb8\\xbcc\\\\\\x14<\\x8cbH\\xbb\\xe4\\xaf\\xe6\\xbb\\xeb\\xde\\x07<\\x86`\\xd2;.]~\\xbcHx\\xe6;\\xa8\\x07\\xb6<\\xdc\\xfe\\xc5:g\\xf9\\xa9\\xbc\\xe0\\xae\\xeb;\\xe9\\xf0\\x1c\\xbb\\xbf~}\\xbc\\xba\\r\\x98<y\\xe5\\xf0\\xbb\\x83:2<\\xa5\\xe1\\x959\\xe9T\\x82\\xbc\\xc5\\xe4\\xd8;\\x89\\xa0\\r=\\xbek\\xed\\xbbD\\x1a\\x91<\\\\G\\x8e<\\x93%\\xfe\\xbc\\xbf\\x98\\x98\\xbcm\\xbc\\xdf\\xbbWX\\xa8\\xbc\\xfeA\\xc4;\\xdd\\xc7\\x8b<i\\xcdy\\xbc\\xe6S\\x07=<*\\xb0; \\xe9\\'\\xbc\\x10\\t\\xe6\\xbb\\xf3\\x8f\\xa8\\xbc\\xae.\\xd1\\xbc_\\xe4\\xa3<\\x88N\\xbd\\xbc\\x91v\\xd3;\\x16\\xae\\x81\\xbc\\xe9T\\x02\\xbd7z\\x8a<\\xe8\\xdd\\x8c\\xb9*c\\x0e<J\\x1c\\x87<\\xb3o\\x87\\xbc\\xd2:\\x15\\xbc\\xca\\x94\\xfe\\xbc\\x00\\xa7$\\xbb\\xc4mc<\\xa0<\\xfa\\xbc\\x99\\'t\\xbc\\x95\\xc9\\x1e:\\x1cq\\xb7\\xbb\\xe8\\xc3\\xf1\\xbcc\\x819;\\x00\\xccI>\\xdd\\xec0\\xba\\x84\\xfbq;\\xf0\\x8e\\xad<\\xf2\\x183\\xbb\\xb1\\xe5\\x01;\\xef\\xd8\\xf7<\\x8a\\xfd\\xe7;t\\x99\\xb0\\xbc>=\\xc0\\xba2\\xef\\t\\xbd\\x85(\\x9d< \\x0eM\\xbc\\xf8~\\x8e\\xbb\\x96&y\\xbb\\x83\\x9e\\x17\\xbc\\x89<(\\xbd\\xe5\\xdc\\x11\\xbd\\x88)\\x18\\xbc\\xcdpT=\\x07\\x06u<\\xb71\\xc2<\\x82\\'\";\\x1e b\\xbc\\x0f\\x1b{<SiB;\\xa7\\xcf\\x80<\\x07jZ\\xba#\\x86\\xbd<z7\\xc1<\\x031\\xaa\\xbc\\xc4H>:G@1<\\xa9Y\\x06\\xbb\\xc4mc\\xbcT2\\x08\\xbb\\x97\\xef\\xbe\\xbc\\xd0\\xb0\\x0f<\\x80^\\xdc;ZY#<\\x03\\xf2i<W}\\xcd\\xbc\\x14\\xc0\\x96\\xbc\\xf1\\xc6\\xe2\\xbc\\xa4\\xce\\x05\\xbb\\x92?\\x99<\\xbbjr\\xba\\x19K\\x97;.]~\\xbcy\\xe5\\xf0:\\xff\\x93\\x94\\xbc\\x93\\x00Y<<\\x05\\x0b9\\xe5\\x017<\\x15\\x1dq<\\nF0;\\xec\\xf1\\x97<Z\\xa3\\xed\\xba\\x97\\x14\\xe4\\xbc\\xb5\\x82\\x97\\xbc\\xc1\\x86\\x03\\xbdEwk<\\x84\\x8c\\x82\\xb9%5\\xe8;&\\xeb\\x9d\\xbcnr\\x95;f]\\x8f\\xbc\\x0b\\x98\\x80<\\x9b\\x8cT<\\xd5;\\x10\\xbc\\xdf\\xda\\x9b\\xbb\\x01\\x1e\\x1a;\\xf5\\xdam\\xbc\\xf4\\xc7]\\xba\\x1e_\\xa2\\xbb\\x9a\\x15_\\xbc\\xaeS\\xf6<\\x12\\xd2+<\\x16\\x0b\\\\<Z\\xa3m\\xbc!!\\xdd<D\\x1a\\x91;\\xbf~\\xfd:L\\x8c\\xf1;\\xac\\x7f\\xa6\\xbc\\xa9~\\xab\\xbb\\xa2\\xa1Z<\\x88\\x0f}<\\x86;-<\\xa6\\x19\\xcb\\xbcd\\xb9n<8;\\xca<\\xee\\xdf\\x82:Ew\\xeb\\xbb?\\x06\\x86\\xbc|JQ<[\\xf5=<\\xb1T\\xf1<\\xdf\\xff@\\xbd\\xc4m\\xe3;/\\xafN\\xbc\\x16\\xae\\x81=\\xc2\"\\x1e\\xbc\\xc66\\xa9\\xbb\\x05\\x96\\x8a\\xbc1x\\x94<\"4\\xed\\xbb\\xb8\\x83\\x92<\\xc8\\xe5S<\\xd6\\x98j\\xbcO\\xcc\\xac<z\\x12\\x9c;>=@;\\xbf\\x98\\x18\\xbd\\xaf\\x80\\xa1<\\x1f\\x97W\\xbb\\\\\\x08N\\xbc\\xe2\\xc1{\\xbc\\x82\\xe8a9\\x98\\xca\\x19\\xbaI\\xa5\\x11<y\\xe5p\\xbc\\x16J\\x9c<n3\\xd5:f\\xa7Y\\xbc\\xe0Q\\x91\\xbb\\xb2\\xa6A\\xbc\\xcaJ4\\xbb\\'H\\xf8\\xbct\\x99\\xb0\\xbc\\x9cB\\n\\xbcB\\x90\\x8b\\xbc\\xac\\xa4\\xcb\\xbb(\\x9aH\\xbc\\xdf\\xda\\x9b\\xbb\\xa2*\\xe59\\x0c\\xd05;:\\xa0*<Yk\\xb8\\xbc\\xd9\\xd8\\xa5<f\\xa7Y\\xbc\\xe3\\xee\\xa6<\\xa8\\xe2\\x90<\\xd4\\xc4\\x1a;\\x81\\x8b\\x87\\xbc~\\xf9\\xfb\\xbc\\xba\\xceW=\\xe8\\xdd\\x8c\\xbc~\\xaf\\xb1\\xbc~\\x8a\\x0c\\xbci\\xe7\\x94\\xbc\\xc5\\xbf3\\xbc\\x91\\x12\\xee\\xba\\xa4\\xce\\x05<\\xfd\\xa5)=\\x82\\xe8\\xe1\\xbb~\\xaf1\\xbci^\\n\\xbdzv\\x818\\x84\\xfb\\xf1<\\x92\\xc8#\\xbd\\xf3\\x8f\\xa8\\xbc\\xd2\\x84\\xdf<o`\\x80\\xbb\\xf8\\xdbh\\xbc\\x90\\xb5\\x93;\\xa9~+\\xbeq\\x0f\\xab\\xb9MB\\'<\\x01C?;[\\xb6}=\\xb9\\xbbG<MB\\xa7<\\xb9\\x96\"\\xbc\\'\\xfe-<\\x9b\\xcb\\x14\\xb9Z\\xbd\\x88<\\xcc8\\x9f<TW-\\xbd\\x0c\\xd05\\xbdl\\x84\\xaa\\xbb\\x1f3r\\xbcC\\xa3\\x1b\\xbd\\x126\\x11<\\xa7\\xf4\\xa5<l\\xa9O<@c\\xe0;\\x95\\xc9\\x9e\\xbc\\xcaoY<W\\xa2\\xf2\\xbc^\\x92\\xd3<\\xc5\\x80s<x\\xad\\xbb;$a\\x98;bn\\xa9\\xb9|\\xc1F;\\xcd\\xaf\\x94\\xbb\\xafAa;/\\xaf\\xce<l_\\x85;\\xd8\\xfdJ<\\xd6\\xb2\\x05<\\xf0\\xb3\\xd2\\xbc\\xed)M\\xbb>=@\\xbc\\xf7\\xed\\xfd;\\x9a\\x15\\xdf<\\xfa\\xc9\\xd3\\xbbp\\xfc\\x1a<\\x8a\\xd8\\xc2;\\xe4\\xaf\\xe6\\xbb\\x08X\\xc5<\\x9c\\x03\\xca<m\\xfb\\x9f:\\xd8a0\\xba\\x0b\\x98\\x00\\xbc\\xb1\\xe5\\x01=>\\xd9\\xda\\xbc\\x15\\x1dq<8\\x16\\xa5;\\xec\\x16=\\xbc\\x84\\xfb\\xf1<\\xc7\\xad\\x9e\\xbb\\x87\\xfc\\xec;\\xf5\\xdam<nr\\x95\\xbc3\\x02\\x1a\\xbcR\\xf2\\xcc\\xbc^\\x1b\\xde<\\xbf!#<\\xc2\\xe3\\xdd;\\xb2\\xa6A\\xbci^\\x8a<l_\\x05<\\x9d\\xf1\\xb4\\xbc\\xff\\xb89<\\xed)M\\xbc\\x9ayD\\xbc\\x8a\\x17\\x83\\xbct\\x99\\xb0\\xbb\\x12\\x1cv;T2\\x08\\xbb\\xf4\\x06\\x1e\\xbc\\x97S\\xa4\\xbc\\xaeS\\xf6\\xbc\\xae\\xe4\\x06<G\\x1b\\x8c\\xbc\\xb3\\xf8\\x11=-\\x00$\\xbc\\xdf\\x9b[\\xbb&\\x87\\xb8\\xbc\\x19K\\x17\\xbbG\\x1b\\x8c<\\xea\\x8c7\\xbcn3\\xd5<8\\x16%;kq\\x1a\\xba\\x7f&\\xa7\\xbc\\xedh\\x8d<\\xc6[N\\xbc\\x8b*\\x93<\\xe3R\\x8c<\\xfb\\x7f\\x89<|\\xc1F<\\x9b\\xcb\\x94\\xbc\\xed\\x8d2<\\xe6\\x14\\xc7\\xbc\\x9ayD;\\xdb=\\x86\\xbc\\x0b\\x98\\x80<\"4\\xed<!`\\x1d=ZY\\xa3\\xbc\\xb8\\x83\\x12<\\x00\\xf1\\xee<u\\xac@;\\x95e9\\xbc\\xdc\\x9a`<G\\xb7\\xa6<7`o;W\\xa2r\\xbc\\xd3\\x97o<\\xf8~\\x8e\\xbc\\x9a\\x15_\\xbc\\x88)\\x18<9)\\xb5;g\\xf9)=\\xed\\x8d\\xb2;\\x7f\\x01\\x82:\\xb0\\x931\\xbc\\x126\\x91;\\xf0\\x8e-\\xbc\\xfd\\xef\\xf3\\xbdf\\xcc\\xfe\\xbc\\x10\\xac\\x0b<\\x96\\xb7\\t<\\x1f\\x97\\xd7<g\\x1e\\xcf\\xbb\\xeb\\xc4l;\\xd5;\\x90</\\x134\\xbc\\xb0\\xf7\\x96<\\x7fKL\\xbc\\xedh\\x8d\\xbc\\x9d\\x16Z\\xba\\xc1\\xd0M<N\\xb9\\x1c=?uu<\"4\\xed;\\x88\\x0f\\xfd:\\xc2\"\\x9e\\xbc:\\xa0*<\\xf4\\xa2\\xb8\\xbb&\\xeb\\x9d\\xbbPC\"<\\xaaR{\\xbc\\x1b^\\xa7\\xbc\\x84\\xb1\\'\\xbcA>\\xbb\\xbc\\xd3M\\xa5\\xbb\\x87\\xd7\\xc7;\\xd6\\x98j;\\xf4\\xc7\\xdd;\\xfc\\xb7>\\xbc\\xe6\\xef\\xa1\\xbc9\\x8d\\x9a\\xbcLgL<\\xbbj\\xf2<\\xdaO\\x9b\\xbc!!\\xdd\\xbc)\\xec\\x98<\\xe0\\xc8\\x06\\xbd\\xad\\xb7[<MB\\';\\xfe\\x1c\\x9f<19\\xd4\\xbc\\xc1G\\xc3;=\\xc6\\xca\\xbc\\x87\\xfc\\xec\\xbb\\xaeS\\xf6:%5h<\\xff\\xdd\\xde\\xba\\x13\\na\\xbc\\xdd\\xadp\\xbc\\xdd\\xadp\\xbb$\\xfd2\\xbc\\xd4\\xe9\\xbf\\xb9-\\x00$<\\xe7\\xb0a;$G}<A\\xda\\xd5\\xbc\\xd3\\xd6\\xaf\\xbc\\xd0\\xd54\\xbc\\xf9\\x91\\x1e\\xbc\\xbf~}\\xbc19T<7\\xc4T<7\\xc4\\xd4\\xbb5\\xf0\\x84;G\\x1b\\x8c\\xbc=\\xc6\\xca<}\\x13\\x17<\\x83:\\xb2\\xbc\\xc6\\x11\\x04=\\xfa\\x08\\x94\\xbb\\xbd\\x0e\\x93:L\\xa6\\x0c\\xbd\\xc7I9<\\xda\\xac\\xf5\\xbc\\x8fc\\xc3\\xbc\\xee\\x04\\xa8<\\xcf\\x83\\xe4\\xbb\\xd6\\xd7\\xaa\\xbc]\\xbe\\x03\\xbd\\x89\\xc52\\xbc\\xe8\\xdd\\x8c;\\xd6sE<`\\x80\\xbe;\\x84\\xd6\\xcc\\xbbz\\x12\\x1c\\xbcf]\\x8f<\\x84\\xfb\\xf1;_m.\\xbc\\x04\\x1f\\x95<\\xad\\xb7\\xdb;8\\xb2?\\xbc\\xf5}\\x13<\\xac\\x7f&<\\x1a\\xc2\\x8c\\xbc\\xaf\\x80!<\\xb5\\x82\\x17<4\\xc3Y;\\x126\\x91\\xbc\\x14\\xc0\\x96\\xbcO\\xa7\\x87\\xbd6M_<\\xc8\\xe5\\xd3\\xbbl\\xe8\\x8f\\xbb\\x86`\\xd2;\\xee\\x04\\xa8<$\\xfd2<z\\x9b\\xa6<\\xb0\\xf7\\x96\\xbbp!@< \\x0eM\\xbd\\xb0\\xf7\\x16=\\x14\\xe5\\xbb;PhG;\\xe0\\xed\\xab\\xbc \\x0e\\xcd\\xbc\\xb2\\xa6A\\xbb\\xfa-\\xb9\\xbax\\x88\\x16\\xbc\\xa4\\x8f\\xc5<\\xed\\xb2W<7z\\n\\xbc\\xcb\\x9c\\x04=\\xc8\\x9b\\x89<r\\xd0j<M\\xde\\xc1<\\xd0q\\xcf\\xbcnr\\x95<_H\\x89<\\xb3\\xf8\\x91\\xbc\\x0eZ\\xbb<x\\xad;\\xbc\\x06\\xf3\\xe4\\xba\\x96\\xdc.<\\xc1l\\xe8\\xbb\\x86;\\xad:\\x91\\x12n;a\\xf73<%5h=\\xfcSY\\xbb@c`\\xbc\\x9c(\\xef\\xbcPC\"<T\\xa1\\xf7\\xbc^\\x92S\\xbc\\xb6\\xba\\xcc\\xb9}8<<\\x95@\\x94<1\\x9d\\xb9\\xb9\\x06\\xa9\\x9a<\\x87\\xfc\\xec<\\xbb\\xa92\\xbb$\"\\xd8\\xbc\\xb8i\\xf7\\xbc\\xdb=\\x86\\xbc\\x8097<\\x00\\xa7\\xa4<&\\x87\\xb8\\xbb\\xeb\\xc4\\xec\\xbbvH\\xdb\\xbc\\x93\\xb6\\x0e=\\xaf\\xa5\\xc6\\xbb\\xd0\\xb0\\x8f<\\xd9\\xd8\\xa5\\xbbf\\x824<c\\xa6^<C\\xc8@\\xbd^\\x1b^\\xbc\\xed\\xb2W\\xbc\\xd5`5\\xbdZ\\xbd\\x88\\xbc>\\x18\\x9b;\\xfd\\t\\x0f;\\xa3=\\xf5:\\x13\\n\\xe1;R\\xa8\\x82\\xbad\\xd3\\x89\\xbc\\x90\\xb5\\x13\\xbc\\xd6\\xb2\\x85\\xbcHx\\xe6<^\\x92S<\\x1a\\x83\\xcc\\xbc\\x1d\\r\\xd2\\xbbL\\xcb\\xb1;\\xcf\\x83\\xe4<5\\xf0\\x84<\\xf1\\xc6b\\xbc\\x10H&\\xbc\\xff\\xdd\\xde\\xbc\\xff\\xdd^<\\xb0\\x931;0&D<\\xd5`5\\xbb0\\x01\\x1f\\xbc\\xe0\\xae\\xeb;\\xb0n\\x8c<\\xdb=\\x06=*I\\xf3;-Jn\\xba\\xcb\\xc1\\xa9<:\\xa0*\\xbc\\xb7\\x0c\\x1d</\\xafN\\xbc\\x1e\\xd6\\x17\\xbd\\xb8DR\\xbc\\x86\\xc47;^\\x92\\xd3\\xbc\\xf0*\\xc8\\xbc\\xb8i\\xf7;\\x08\\x97\\x05=\\xd6\\x98\\xea<\\xe6\\xef\\xa1;Lg\\xcc<+v\\x9e<\\xd5\\x85Z\\xbc\\xd9\\xd8\\xa5<\\x15\\x1dq\\xbc\\xb3o\\x87\\xbc=\\xc6J\\xbci\\xcdy<\\x9a\\xf0\\xb9<\\xb1\\xe5\\x01<\\xe7\\xb0a<\\xad\\xf6\\x9b\\xbco\\xaaJ=Q\\xba\\x17\\xbc\\xae.\\xd1<\\x9e\\xcc\\x0f;WX\\xa8<\\xf7\\xc8X\\xbc\\xc97$;v\\xbf\\xd0<\\x8e\\x11\\xf3;=\\xa1%\\xbc\\x191\\xfc\\xbc\\xbf~\\xfd\\xbc\\xf2\\xd9\\xf2\\xbb0\\x8a\\xa9:\\x06\\xa9\\x9a\\xbc4_t=6(\\xba<\\xd6\\x98j\\xbc\\xcdK/;\\xd3\\xd6\\xaf<\\xd0\\xd5\\xb4\\xb9!!]\\xbb\\xfb\\xdcc\\xbb\\x02\\x95\\x8f\\xbb<t\\xfa\\xbck\\x96\\xbf;\\x9aT\\x9f:\\xb9\\xbb\\xc7;0e\\x84\\xbc\\x96\\xdc\\xae\\xbc@c\\xe0<\\xa4\\xce\\x05<<\\x05\\x8b<\\xa3=\\xf5\\xbb\\xec\\xd7\\xfc\\xbbk2Z<\\x8a\\xfd\\xe7\\xbc$\\xfd\\xb2; \\x85\\xc2;k2\\xda\\xbc\\x99\\xb8\\x04\\xbcI\\xca6<9N\\xda;g\\xd4\\x84\\xbb\\x9b\\x8c\\xd4\\xbc-d\\x89;|%\\xac:%5\\xe8;TW-<[\\xd0\\x18:s\\xe3z\\xbc\\x0c\\xd05\\xbc\\x8c=#<\\x8a\\xd8\\xc2<\\x17\\xc1\\x91;\\xb5CW;\\x8fc\\xc3<[\\xb6\\xfd\\xbb\\x0b\\x98\\x80\\xbc\\xa9?\\xeb\\xbc\\x13nF<YF\\x93<=b\\xe5;\\xcf\\x83\\xe4\\xbc',\n",
       " b'content': b\"The Company is subject to taxation in the U.S., as well as various state and foreign jurisdictions. The Company is currently under audit by the U.S. IRS for fiscal years 2017 through 2019. The Company has closed all U.S. federal income tax matters through fiscal 2016, with the exception of certain transfer pricing adjustments. Tax years after 2011 remain open in certain major foreign jurisdictions. Although the timing of resolution of audits is not certain, the Company evaluates all domestic and foreign audit issues in the aggregate, along with the expiration of applicable statutes of limitations, and estimates that it is reasonably possible the total gross unrecognized tax benefits could decrease by up to $50 million within the next 12 months. In January 2019, the European Commission opened a formal investigation to examine whether the Netherlands has breached State Aid rules when granting certain tax rulings to the Company. The Company believes the investigation is without merit. If this matter is adversely resolved, the Netherlands may be required to assess additional amounts with respect to prior periods, and the Company's income taxes related to prior periods in the Netherlands could increase.\"}"
      ]
     },
     "execution_count": 12,
     "metadata": {},
     "output_type": "execute_result"
    }
   ],
   "source": [
    "# do NOT run this command in production\n",
    "keys = index.client.keys()\n",
    "\n",
    "index.client.hgetall(keys[0])"
   ]
  },
  {
   "cell_type": "markdown",
   "metadata": {},
   "source": [
    "### Initialize embeddings engine\n",
    "\n",
    "Get the vectorizer and create the embeddings from RedisVL"
   ]
  },
  {
   "cell_type": "code",
   "execution_count": 11,
   "metadata": {},
   "outputs": [],
   "source": [
    "from redisvl.vectorize.text import HFTextVectorizer\n",
    "\n",
    "# create a vectorizer\n",
    "hf = HFTextVectorizer(model=\"sentence-transformers/all-MiniLM-L6-v2\")"
   ]
  },
  {
   "cell_type": "markdown",
   "metadata": {},
   "source": [
    "### Query the database\n",
    "Now we can use the RedisVL index to perform similarity search operations with Redis"
   ]
  },
  {
   "cell_type": "code",
   "execution_count": 21,
   "metadata": {},
   "outputs": [
    {
     "data": {
      "text/plain": [
       "'*=>[KNN 4 @chunk_vector $vector AS vector_distance] RETURN 2 content vector_distance SORTBY vector_distance ASC DIALECT 2 LIMIT 0 4'"
      ]
     },
     "execution_count": 21,
     "metadata": {},
     "output_type": "execute_result"
    }
   ],
   "source": [
    "from redisvl.query import (\n",
    "    VectorQuery, RangeQuery, FilterQuery\n",
    ")\n",
    "from redisvl.query.filter import Text\n",
    "\n",
    "\n",
    "query = \"Profit margins\"\n",
    "v = VectorQuery(\n",
    "    vector=hf.embed(query),\n",
    "    vector_field_name=\"chunk_vector\",\n",
    "    num_results=4,\n",
    "    return_fields=[\"content\"],\n",
    "    return_score=True\n",
    ")\n",
    "\n",
    "# show the raw redis query\n",
    "str(v)"
   ]
  },
  {
   "cell_type": "code",
   "execution_count": 16,
   "metadata": {},
   "outputs": [
    {
     "data": {
      "text/plain": [
       "[{'id': 'doc:redisvl:864c193c06b04f089f7de0280b1a061e',\n",
       "  'vector_distance': '0.178667545319',\n",
       "  'content': 'Inventories as of May 31, 2023 were $8.5 billion, flat compared to the prior year, driven by the actions we took throughout fiscal 2023 to manage inventory levels\\n\\nWe returned $7.5 billion to our shareholders in fiscal 2023 through share repurchases and dividends\\n\\nReturn on Invested Capital (\"ROIC\") as of May 31, 2023 was 31.5% compared to 46.5% as of May 31, 2022. ROIC is considered a non-GAAP financial measure, see \"Use of Non-GAAP Financial Measures\" for further information.\\n\\nFor discussion related to the results of operations and changes in financial condition for fiscal 2022 compared to fiscal 2021 refer to Part II, Item 7. Management\\'s Discussion and Analysis of Financial Condition and Results of Operations in our fiscal 2022 Form 10-K, which was filed with the United States Securities and Exchange Commission on July 21, 2022.\\n\\nCURRENT ECONOMIC CONDITIONS AND MARKET DYNAMICS\\n\\nConsumer Spending: Our fiscal 2023 growth in Revenues reflects strong demand for our products despite ongoing uncertainty in the global economy. We will\\n\\ncontinue to closely monitor macroeconomic conditions, including potential impacts of inflation and rising interest rates on consumer behavior.\\n\\n\\n\\nInflationary Pressures: Inflationary pressures, including higher product input, freight and logistics costs negatively impacted gross margin for fiscal 2023. The strategic pricing actions we have taken partially offset the impacts of these higher costs.'},\n",
       " {'id': 'doc:redisvl:d25c1a963e9942cc8889fea04fd8cc71',\n",
       "  'vector_distance': '0.181670188904',\n",
       "  'content': 'Wholesale equivalent\\n\\nThe decrease in gross margin for fiscal 2023 was primarily due to:\\n\\nHigher NIKE Brand product costs, on a wholesale equivalent basis, primarily due to higher input costs and elevated inbound freight and logistics costs as well as\\n\\nproduct mix;\\n\\nLower margin in our NIKE Direct business, driven by higher promotional activity to liquidate inventory in the current period compared to lower promotional activity in\\n\\nthe prior period resulting from lower available inventory supply;\\n\\nUnfavorable changes in net foreign currency exchange rates, including hedges; and\\n\\nLower off-price margin, on a wholesale equivalent basis.\\n\\nThis was partially offset by:\\n\\nHigher NIKE Brand full-price ASP, net of discounts, on a wholesale equivalent basis, due primarily to strategic pricing actions and product mix; and\\n\\nLower other costs, primarily due to higher inventory obsolescence reserves recognized in Greater China in the fourth quarter of fiscal 2022.\\n\\nTOTAL SELLING AND ADMINISTRATIVE EXPENSE\\n\\n(Dollars in millions)\\n\\nDemand creation expense Operating overhead expense\\n\\n(1)\\n\\n$\\n\\nFISCAL 2023 4,060 12,317\\n\\n$\\n\\nFISCAL 2022 3,850 10,954\\n\\n% CHANGE\\n\\n5 % $\\n\\n12 %\\n\\nFISCAL 2021 3,114 9,911\\n\\nTotal selling and administrative expense\\n\\n% of revenues\\n\\n$\\n\\n16,377\\n\\n32.0 %\\n\\n$\\n\\n14,804\\n\\n31.7 %\\n\\n11 % $ 30 bps\\n\\n13,025\\n\\n29.2 %'},\n",
       " {'id': 'doc:redisvl:c9369e376d4e4e2683c4a327b1781e37',\n",
       "  'vector_distance': '0.181686043739',\n",
       "  'content': \"mix, lower margins in NIKE Direct due to higher promotional activity and a lower mix of full-price sales. This was partially offset by higher full-price ASP, net of discounts, largely due to strategic pricing actions and product mix.\\n\\nSelling and administrative expense increased 15% due to higher operating overhead and demand creation expense. The increase in operating overhead expense was primarily due to higher wage-related costs and higher NIKE Direct variable costs, in part due to new store additions. Demand creation expense increased primarily due to higher sports marketing expense and an increase in digital marketing.\\n\\n2023 FORM 10-K 37\\n\\nTable of Contents\\n\\nEUROPE, MIDDLE EAST & AFRICA\\n\\n% CHANGE EXCLUDING CURRENCY\\n\\n(Dollars in millions)\\n\\nFISCAL 2023 FISCAL 2022\\n\\n% CHANGE\\n\\nCHANGES FISCAL 2021\\n\\n% CHANGE\\n\\nRevenues by:\\n\\nFootwear Apparel Equipment\\n\\n$\\n\\n8,260 $ 4,566 592\\n\\n7,388 4,527 564\\n\\n12 % 1 % 5 %\\n\\n25 % $ 14 % 18 %\\n\\n6,970 3,996 490\\n\\n6 % 13 % 15 %\\n\\nTOTAL REVENUES\\n\\n$\\n\\n13,418 $\\n\\n12,479\\n\\n8 %\\n\\n21 % $\\n\\n11,456\\n\\n9 %\\n\\nRevenues by:\\n\\nSales to Wholesale Customers Sales through NIKE Direct\\n\\n$\\n\\n8,522 $ 4,896\\n\\n8,377 4,102\\n\\n2 % 19 %\\n\\n15 % $ 33 %\\n\\n7,812 3,644\\n\\n7 % 13 %\\n\\nTOTAL REVENUES\\n\\n$\\n\\n13,418 $\\n\\n12,479\\n\\n8 %\\n\\n21 % $\\n\\n11,456\\n\\n9 %\\n\\nEARNINGS BEFORE INTEREST AND TAXES\\n\\n$\\n\\n3,531 $\\n\\n3,293\\n\\n7 %\\n\\n$\\n\\n2,435\\n\\n35 %\\n\\nFISCAL 2023 COMPARED TO FISCAL 2022\\n\\nEMEA revenues increased 21% on a currency-neutral basis, due to higher revenues in Men's, the Jordan Brand, Women's and Kids'. NIKE Direct revenues\"},\n",
       " {'id': 'doc:redisvl:a5e3da8ff28843e795760367aa268636',\n",
       "  'vector_distance': '0.182784438133',\n",
       "  'content': 'Selling and administrative expense was flat due to increased operating overhead expense offset by lower demand creation expense. The increase in operating overhead expense was primarily due to higher wage-related expenses and other administrative costs, partially offset by favorable changes in foreign currency exchange rates. Demand creation expense decreased primarily due to lower retail brand presentation costs, lower digital marketing and favorable changes in foreign currency exchange rates, partially offset by higher advertising and marketing expense.\\n\\n2023 FORM 10-K 39\\n\\nTable of Contents\\n\\nASIA PACIFIC & LATIN AMERICA\\n\\n% CHANGE EXCLUDING CURRENCY\\n\\n(Dollars in millions)\\n\\nFISCAL 2023 FISCAL 2022\\n\\n% CHANGE\\n\\nCHANGES FISCAL 2021\\n\\n% CHANGE\\n\\nRevenues by: Footwear\\n\\n$\\n\\n4,543 $\\n\\n4,111\\n\\n11 %\\n\\n19 % $\\n\\n3,659\\n\\n12 %\\n\\nApparel Equipment\\n\\n1,664 224\\n\\n1,610 234\\n\\n3 % -4 %\\n\\n13 % 4 %\\n\\n1,494 190\\n\\n8 % 23 %\\n\\nTOTAL REVENUES Revenues by:\\n\\n$\\n\\n6,431 $\\n\\n5,955\\n\\n8 %\\n\\n17 % $\\n\\n5,343\\n\\n11 %\\n\\nSales to Wholesale Customers Sales through NIKE Direct\\n\\n$\\n\\n3,736 $ 2,695\\n\\n3,529 2,426\\n\\n6 % 11 %\\n\\n14 % $ 22 %\\n\\n3,387 1,956\\n\\n4 % 24 %\\n\\nTOTAL REVENUES EARNINGS BEFORE INTEREST AND TAXES\\n\\n$ $\\n\\n6,431 $ 1,932 $\\n\\n5,955 1,896\\n\\n8 % 2 %\\n\\n17 % $ $\\n\\n5,343 1,530\\n\\n11 % 24 %'}]"
      ]
     },
     "execution_count": 16,
     "metadata": {},
     "output_type": "execute_result"
    }
   ],
   "source": [
    "# execute the query with RedisVL\n",
    "index.query(v)"
   ]
  },
  {
   "cell_type": "code",
   "execution_count": 19,
   "metadata": {},
   "outputs": [
    {
     "data": {
      "text/plain": [
       "Result{4 total, docs: [Document {'id': 'doc:redisvl:864c193c06b04f089f7de0280b1a061e', 'payload': None, 'vector_distance': '0.178667545319', 'content': 'Inventories as of May 31, 2023 were $8.5 billion, flat compared to the prior year, driven by the actions we took throughout fiscal 2023 to manage inventory levels\\n\\nWe returned $7.5 billion to our shareholders in fiscal 2023 through share repurchases and dividends\\n\\nReturn on Invested Capital (\"ROIC\") as of May 31, 2023 was 31.5% compared to 46.5% as of May 31, 2022. ROIC is considered a non-GAAP financial measure, see \"Use of Non-GAAP Financial Measures\" for further information.\\n\\nFor discussion related to the results of operations and changes in financial condition for fiscal 2022 compared to fiscal 2021 refer to Part II, Item 7. Management\\'s Discussion and Analysis of Financial Condition and Results of Operations in our fiscal 2022 Form 10-K, which was filed with the United States Securities and Exchange Commission on July 21, 2022.\\n\\nCURRENT ECONOMIC CONDITIONS AND MARKET DYNAMICS\\n\\nConsumer Spending: Our fiscal 2023 growth in Revenues reflects strong demand for our products despite ongoing uncertainty in the global economy. We will\\n\\ncontinue to closely monitor macroeconomic conditions, including potential impacts of inflation and rising interest rates on consumer behavior.\\n\\n\\n\\nInflationary Pressures: Inflationary pressures, including higher product input, freight and logistics costs negatively impacted gross margin for fiscal 2023. The strategic pricing actions we have taken partially offset the impacts of these higher costs.'}, Document {'id': 'doc:redisvl:d25c1a963e9942cc8889fea04fd8cc71', 'payload': None, 'vector_distance': '0.181670188904', 'content': 'Wholesale equivalent\\n\\nThe decrease in gross margin for fiscal 2023 was primarily due to:\\n\\nHigher NIKE Brand product costs, on a wholesale equivalent basis, primarily due to higher input costs and elevated inbound freight and logistics costs as well as\\n\\nproduct mix;\\n\\nLower margin in our NIKE Direct business, driven by higher promotional activity to liquidate inventory in the current period compared to lower promotional activity in\\n\\nthe prior period resulting from lower available inventory supply;\\n\\nUnfavorable changes in net foreign currency exchange rates, including hedges; and\\n\\nLower off-price margin, on a wholesale equivalent basis.\\n\\nThis was partially offset by:\\n\\nHigher NIKE Brand full-price ASP, net of discounts, on a wholesale equivalent basis, due primarily to strategic pricing actions and product mix; and\\n\\nLower other costs, primarily due to higher inventory obsolescence reserves recognized in Greater China in the fourth quarter of fiscal 2022.\\n\\nTOTAL SELLING AND ADMINISTRATIVE EXPENSE\\n\\n(Dollars in millions)\\n\\nDemand creation expense Operating overhead expense\\n\\n(1)\\n\\n$\\n\\nFISCAL 2023 4,060 12,317\\n\\n$\\n\\nFISCAL 2022 3,850 10,954\\n\\n% CHANGE\\n\\n5 % $\\n\\n12 %\\n\\nFISCAL 2021 3,114 9,911\\n\\nTotal selling and administrative expense\\n\\n% of revenues\\n\\n$\\n\\n16,377\\n\\n32.0 %\\n\\n$\\n\\n14,804\\n\\n31.7 %\\n\\n11 % $ 30 bps\\n\\n13,025\\n\\n29.2 %'}, Document {'id': 'doc:redisvl:c9369e376d4e4e2683c4a327b1781e37', 'payload': None, 'vector_distance': '0.181686043739', 'content': \"mix, lower margins in NIKE Direct due to higher promotional activity and a lower mix of full-price sales. This was partially offset by higher full-price ASP, net of discounts, largely due to strategic pricing actions and product mix.\\n\\nSelling and administrative expense increased 15% due to higher operating overhead and demand creation expense. The increase in operating overhead expense was primarily due to higher wage-related costs and higher NIKE Direct variable costs, in part due to new store additions. Demand creation expense increased primarily due to higher sports marketing expense and an increase in digital marketing.\\n\\n2023 FORM 10-K 37\\n\\nTable of Contents\\n\\nEUROPE, MIDDLE EAST & AFRICA\\n\\n% CHANGE EXCLUDING CURRENCY\\n\\n(Dollars in millions)\\n\\nFISCAL 2023 FISCAL 2022\\n\\n% CHANGE\\n\\nCHANGES FISCAL 2021\\n\\n% CHANGE\\n\\nRevenues by:\\n\\nFootwear Apparel Equipment\\n\\n$\\n\\n8,260 $ 4,566 592\\n\\n7,388 4,527 564\\n\\n12 % 1 % 5 %\\n\\n25 % $ 14 % 18 %\\n\\n6,970 3,996 490\\n\\n6 % 13 % 15 %\\n\\nTOTAL REVENUES\\n\\n$\\n\\n13,418 $\\n\\n12,479\\n\\n8 %\\n\\n21 % $\\n\\n11,456\\n\\n9 %\\n\\nRevenues by:\\n\\nSales to Wholesale Customers Sales through NIKE Direct\\n\\n$\\n\\n8,522 $ 4,896\\n\\n8,377 4,102\\n\\n2 % 19 %\\n\\n15 % $ 33 %\\n\\n7,812 3,644\\n\\n7 % 13 %\\n\\nTOTAL REVENUES\\n\\n$\\n\\n13,418 $\\n\\n12,479\\n\\n8 %\\n\\n21 % $\\n\\n11,456\\n\\n9 %\\n\\nEARNINGS BEFORE INTEREST AND TAXES\\n\\n$\\n\\n3,531 $\\n\\n3,293\\n\\n7 %\\n\\n$\\n\\n2,435\\n\\n35 %\\n\\nFISCAL 2023 COMPARED TO FISCAL 2022\\n\\nEMEA revenues increased 21% on a currency-neutral basis, due to higher revenues in Men's, the Jordan Brand, Women's and Kids'. NIKE Direct revenues\"}, Document {'id': 'doc:redisvl:a5e3da8ff28843e795760367aa268636', 'payload': None, 'vector_distance': '0.182784438133', 'content': 'Selling and administrative expense was flat due to increased operating overhead expense offset by lower demand creation expense. The increase in operating overhead expense was primarily due to higher wage-related expenses and other administrative costs, partially offset by favorable changes in foreign currency exchange rates. Demand creation expense decreased primarily due to lower retail brand presentation costs, lower digital marketing and favorable changes in foreign currency exchange rates, partially offset by higher advertising and marketing expense.\\n\\n2023 FORM 10-K 39\\n\\nTable of Contents\\n\\nASIA PACIFIC & LATIN AMERICA\\n\\n% CHANGE EXCLUDING CURRENCY\\n\\n(Dollars in millions)\\n\\nFISCAL 2023 FISCAL 2022\\n\\n% CHANGE\\n\\nCHANGES FISCAL 2021\\n\\n% CHANGE\\n\\nRevenues by: Footwear\\n\\n$\\n\\n4,543 $\\n\\n4,111\\n\\n11 %\\n\\n19 % $\\n\\n3,659\\n\\n12 %\\n\\nApparel Equipment\\n\\n1,664 224\\n\\n1,610 234\\n\\n3 % -4 %\\n\\n13 % 4 %\\n\\n1,494 190\\n\\n8 % 23 %\\n\\nTOTAL REVENUES Revenues by:\\n\\n$\\n\\n6,431 $\\n\\n5,955\\n\\n8 %\\n\\n17 % $\\n\\n5,343\\n\\n11 %\\n\\nSales to Wholesale Customers Sales through NIKE Direct\\n\\n$\\n\\n3,736 $ 2,695\\n\\n3,529 2,426\\n\\n6 % 11 %\\n\\n14 % $ 22 %\\n\\n3,387 1,956\\n\\n4 % 24 %\\n\\nTOTAL REVENUES EARNINGS BEFORE INTEREST AND TAXES\\n\\n$ $\\n\\n6,431 $ 1,932 $\\n\\n5,955 1,896\\n\\n8 % 2 %\\n\\n17 % $ $\\n\\n5,343 1,530\\n\\n11 % 24 %'}]}"
      ]
     },
     "execution_count": 19,
     "metadata": {},
     "output_type": "execute_result"
    }
   ],
   "source": [
    "# or use the search API directly from Redis\n",
    "# NOTE: the .query() syntax handles results parsing on your behalf\n",
    "\n",
    "result = index.search(v.query, v.params)\n",
    "\n",
    "[doc.__dict__ for doc in result.docs]"
   ]
  },
  {
   "cell_type": "code",
   "execution_count": 20,
   "metadata": {},
   "outputs": [
    {
     "data": {
      "text/plain": [
       "[{'id': 'doc:redisvl:5bd0ffbc3ecb4ce990c367650938e7dd',\n",
       "  'vector_distance': '0.184492409229',\n",
       "  'content': 'NIKE Brand apparel revenues increased 8% on a currency-neutral basis, primarily due to higher revenues in Men\\'s. Unit sales of apparel increased 4%, while higher ASP per unit contributed approximately 4 percentage points of apparel revenue growth. Higher ASP was primarily due to higher full-price ASP and growth in the size of our NIKE Direct business, partially offset by lower NIKE Direct ASP, reflecting higher promotional activity.\\n\\nNIKE Direct revenues increased 14% from $18.7 billion in fiscal 2022 to $21.3 billion in fiscal 2023. On a currency-neutral basis, NIKE Direct revenues increased 20% primarily driven by NIKE Brand Digital sales growth of 24%, comparable store sales growth of 14% and the addition of new stores. For further information regarding comparable store sales, including the definition, see \"Comparable Store Sales\". NIKE Brand Digital sales were $12.6 billion for fiscal 2023 compared to $10.7 billion for fiscal 2022.\\n\\n2023 FORM 10-K 33\\n\\nTable of Contents\\n\\nGROSS MARGIN FISCAL 2023 COMPARED TO FISCAL 2022\\n\\nFor fiscal 2023, our consolidated gross profit increased 4% to $22,292 million compared to $21,479 million for fiscal 2022. Gross margin decreased 250 basis points to 43.5% for fiscal 2023 compared to 46.0% for fiscal 2022 due to the following:\\n\\nWholesale equivalent\\n\\nThe decrease in gross margin for fiscal 2023 was primarily due to:'},\n",
       " {'id': 'doc:redisvl:60ff03fe79bb4ca18e70d79ebd4a962b',\n",
       "  'vector_distance': '0.196989357471',\n",
       "  'content': 'Because contract manufacturers make a majority of our products outside of our principal sales markets, our products must be transported by third parties over large geographic distances. Delays in the shipment or delivery of our products due to the availability of transportation, container shortages, labor shortages, including work stoppages or port strikes, infrastructure and port congestion or other factors, and costs and delays associated with consolidating or transitioning between manufacturers, have adversely impacted, and could in the future adversely impact the availability of our products and, in turn, our financial performance. In addition, delays in the shipment or delivery of our products, manufacturing delays or unexpected demand for our products have required us, and may in the future require us to use faster, but more expensive, transportation methods such as air freight, which could adversely affect our profit margins. The cost of oil is a significant component in manufacturing and transportation costs, so increases in the price of petroleum products can adversely affect our profit margins. Changes in U.S. trade policies, including modifications to import tariffs and existing trade policies and agreements, have also had, and could continue to have a significant impact on our activities in foreign jurisdictions, and could adversely affect our reputation or results of operations.\\n\\nOur success depends on our global distribution facilities.'},\n",
       " {'id': 'doc:redisvl:d92f9b994aac4e769eec247b8cac7603',\n",
       "  'vector_distance': '0.198320269585',\n",
       "  'content': 'COMPARABLE STORE SALES Comparable store sales: This key metric, which excludes NIKE Brand Digital sales, comprises revenues from NIKE-owned in-line and factory stores for which all three of the following requirements have been met: (1) the store has been open at least one year, (2) square footage has not changed by more than 15% within the past year and (3) the store has not been permanently repositioned within the past year. Comparable store sales includes revenues from stores that were temporarily closed during the period as a result of COVID-19. Comparable store sales represents a performance metric that we believe is useful information for management and investors in understanding the performance of our established NIKE-owned in-line and factory stores. Management considers this metric when making financial and operating decisions. The method of calculating comparable store sales varies across the retail industry. As a result, our calculation of this metric may not be comparable to similarly titled metrics used by other companies.\\n\\n2023 FORM 10-K 30\\n\\nTable of Contents\\n\\nRESULTS OF OPERATIONS\\n\\n(Dollars in millions, except per share data)\\n\\nRevenues Cost of sales\\n\\nGross profit Gross margin\\n\\nDemand creation expense Operating overhead expense\\n\\nTotal selling and administrative expense % of revenues\\n\\nInterest expense (income), net\\n\\nOther (income) expense, net Income before income taxes\\n\\nIncome tax expense Effective tax rate\\n\\nNET INCOME Diluted earnings per common share\\n\\n$\\n\\n$ $'},\n",
       " {'id': 'doc:redisvl:87ded98b61154dc28359bb68dd954008',\n",
       "  'vector_distance': '0.199042260647',\n",
       "  'content': 'Basic Diluted\\n\\n$ $\\n\\n3.27 $ 3.23 $\\n\\n3.83 $ 3.75 $\\n\\n3.64 3.56\\n\\nNOTE 11 — BENEFIT PLANS\\n\\nThe Company has a qualified 401(k) Savings and Profit Sharing Plan, in which all U.S. employees are able to participate. The Company matches a portion of employee contributions to the savings plan. Company contributions to the savings plan were $136 million, $126 million and $110 million and included in Cost of sales or Operating overhead expense, as applicable, for the fiscal years ended May 31, 2023, 2022 and 2021, respectively.\\n\\nThe Company also has a Long-Term Incentive Plan (\"LTIP\") adopted by the Board of Directors and approved by shareholders in September 1997, which has been amended from time to time. The Company recognized an immaterial amount of Operating overhead expense related to cash awards under the LTIP during the years ended May 31, 2023, 2022 and 2021. During the fiscal years ended May 31, 2023 and 2022, under the Stock Incentive Plan, the Company granted PSUs which replaced cash-based long-term incentive awards historically granted under the Company\\'s LTIP. Refer to Note 9 — Common Stock and Stock-Based Compensation for further information related to PSUs.'}]"
      ]
     },
     "execution_count": 20,
     "metadata": {},
     "output_type": "execute_result"
    }
   ],
   "source": [
    "# vector search with metadata filtering\n",
    "\n",
    "f = Text(\"content\") % \"profit\"\n",
    "v.set_filter(f)\n",
    "\n",
    "index.query(v)"
   ]
  },
  {
   "cell_type": "code",
   "execution_count": 22,
   "metadata": {},
   "outputs": [
    {
     "data": {
      "text/plain": [
       "'@content:profit RETURN 1 content DIALECT 2 LIMIT 0 4'"
      ]
     },
     "execution_count": 22,
     "metadata": {},
     "output_type": "execute_result"
    }
   ],
   "source": [
    "# Perform a standard text (lexical) search\n",
    "\n",
    "fq = FilterQuery(return_fields=[\"content\"], filter_expression=f, num_results=4)\n",
    "\n",
    "# inspect raw redis query\n",
    "str(fq)"
   ]
  },
  {
   "cell_type": "code",
   "execution_count": 23,
   "metadata": {},
   "outputs": [
    {
     "data": {
      "text/plain": [
       "[{'id': 'doc:redisvl:cc1c27a4542a491da977012192411a0e',\n",
       "  'content': 'Proposals to reform U.S. and foreign tax laws could significantly impact how U.S. multinational corporations are taxed on global earnings and could increase the U.S. corporate tax rate. For example, the Organization for Economic Co-operation and Development (OECD) and the G20 Inclusive Framework on Base Erosion and Profit Shifting (the \"Inclusive Framework\") has put forth two proposals—Pillar One and Pillar Two—that revise the existing profit allocation and nexus rules and ensure a minimal level of taxation, respectively. On December 12, 2022, the European Union member states agreed to implement the Inclusive Framework\\'s global corporate minimum tax rate of 15%. Other countries are also actively considering changes to their tax laws to adopt certain parts of the Inclusive Framework\\'s proposals. Although we cannot predict whether or in what form these proposals will be enacted into law, these changes, if enacted into law, could have an adverse impact on our effective tax rate, income tax expense and cash flows.'},\n",
       " {'id': 'doc:redisvl:ab25bb6913cd432db8b516e317b9b759',\n",
       "  'content': 'If we are unable to anticipate consumer preferences and develop new products, we may not be able to maintain or increase our revenues and profits.'},\n",
       " {'id': 'doc:redisvl:aae71f99590141a9b8a873ddd337bb3d',\n",
       "  'content': 'Risks Related to Our Securities, Investments and Liquidity\\n\\nOur financial results may be adversely affected if substantial investments in businesses and operations fail to produce expected returns.\\n\\nFrom time to time, we may invest in technology, business infrastructure, new businesses or capabilities, product offering and manufacturing innovation and expansion of existing businesses, such as our NIKE Direct operations, which require substantial cash investments and management attention. We believe cost-effective investments are essential to business growth and profitability; however, significant investments are subject to typical risks and uncertainties inherent in developing a new business or expanding an existing business. The failure of any significant investment to provide expected returns or profitability could have a material adverse effect on our financial results and divert management attention from more profitable business operations. See also \"Our NIKE Direct operations have required and will continue to require a substantial investment and commitment of resources and are subject to numerous risks and uncertainties.\"\\n\\nThe sale of a large number of shares of common stock by our principal shareholder could depress the market price of our common stock.'},\n",
       " {'id': 'doc:redisvl:3f3c4a0e0c29491f97a217d33be49035',\n",
       "  'content': '2023 FORM 10-K 1\\n\\nTable of Contents\\n\\nWe also offer interactive consumer services and experiences as well as digital products through our digital platforms, including fitness and activity apps; sport, fitness and wellness content; and digital services and features in retail stores that enhance the consumer experience.\\n\\nSALES AND MARKETING\\n\\nWe experience moderate fluctuations in aggregate sales volume during the year. Historically, revenues in the first and fourth fiscal quarters have slightly exceeded those in the second and third fiscal quarters. However, the mix of product sales may vary considerably as a result of changes in seasonal and geographic demand for particular types of footwear, apparel and equipment, as well as other macroeconomic, strategic, operating and logistics-related factors.\\n\\nBecause NIKE is a consumer products company, the relative popularity and availability of various sports and fitness activities, as well as changing design trends, affect the demand for our products. We must, therefore, respond to trends and shifts in consumer preferences by adjusting the mix of existing product offerings, developing new products, styles and categories and influencing sports and fitness preferences through extensive marketing. Failure to respond in a timely and adequate manner could have a material adverse effect on our sales and profitability. This is a continuing risk. Refer to Item 1A. Risk Factors.\\n\\nOUR MARKETS'}]"
      ]
     },
     "execution_count": 23,
     "metadata": {},
     "output_type": "execute_result"
    }
   ],
   "source": [
    "index.query(fq)"
   ]
  },
  {
   "cell_type": "code",
   "execution_count": 30,
   "metadata": {},
   "outputs": [
    {
     "data": {
      "text/plain": [
       "'@chunk_vector:[VECTOR_RANGE $distance_threshold $vector]=>{$yield_distance_as: vector_distance} RETURN 2 content vector_distance SORTBY vector_distance ASC DIALECT 2 LIMIT 0 4'"
      ]
     },
     "execution_count": 30,
     "metadata": {},
     "output_type": "execute_result"
    }
   ],
   "source": [
    "# Perform a Range Query!\n",
    "\n",
    "rq = RangeQuery(\n",
    "    vector=hf.embed(query),\n",
    "    vector_field_name=\"chunk_vector\",\n",
    "    num_results=4,\n",
    "    return_fields=[\"content\"],\n",
    "    return_score=True,\n",
    "    distance_threshold=0.18  # find all items with a semantic distance of less than 0.18\n",
    ")\n",
    "\n",
    "\n",
    "# inspect query\n",
    "str(rq)"
   ]
  },
  {
   "cell_type": "code",
   "execution_count": 31,
   "metadata": {},
   "outputs": [
    {
     "data": {
      "text/plain": [
       "[{'id': 'doc:redisvl:864c193c06b04f089f7de0280b1a061e',\n",
       "  'vector_distance': '0.178760826588',\n",
       "  'content': 'Inventories as of May 31, 2023 were $8.5 billion, flat compared to the prior year, driven by the actions we took throughout fiscal 2023 to manage inventory levels\\n\\nWe returned $7.5 billion to our shareholders in fiscal 2023 through share repurchases and dividends\\n\\nReturn on Invested Capital (\"ROIC\") as of May 31, 2023 was 31.5% compared to 46.5% as of May 31, 2022. ROIC is considered a non-GAAP financial measure, see \"Use of Non-GAAP Financial Measures\" for further information.\\n\\nFor discussion related to the results of operations and changes in financial condition for fiscal 2022 compared to fiscal 2021 refer to Part II, Item 7. Management\\'s Discussion and Analysis of Financial Condition and Results of Operations in our fiscal 2022 Form 10-K, which was filed with the United States Securities and Exchange Commission on July 21, 2022.\\n\\nCURRENT ECONOMIC CONDITIONS AND MARKET DYNAMICS\\n\\nConsumer Spending: Our fiscal 2023 growth in Revenues reflects strong demand for our products despite ongoing uncertainty in the global economy. We will\\n\\ncontinue to closely monitor macroeconomic conditions, including potential impacts of inflation and rising interest rates on consumer behavior.\\n\\n\\n\\nInflationary Pressures: Inflationary pressures, including higher product input, freight and logistics costs negatively impacted gross margin for fiscal 2023. The strategic pricing actions we have taken partially offset the impacts of these higher costs.'}]"
      ]
     },
     "execution_count": 31,
     "metadata": {},
     "output_type": "execute_result"
    }
   ],
   "source": [
    "index.query(rq)"
   ]
  },
  {
   "cell_type": "code",
   "execution_count": 37,
   "metadata": {},
   "outputs": [
    {
     "data": {
      "text/plain": [
       "[{'id': 'doc:redisvl:5bd0ffbc3ecb4ce990c367650938e7dd',\n",
       "  'vector_distance': '0.184509694576',\n",
       "  'content': 'NIKE Brand apparel revenues increased 8% on a currency-neutral basis, primarily due to higher revenues in Men\\'s. Unit sales of apparel increased 4%, while higher ASP per unit contributed approximately 4 percentage points of apparel revenue growth. Higher ASP was primarily due to higher full-price ASP and growth in the size of our NIKE Direct business, partially offset by lower NIKE Direct ASP, reflecting higher promotional activity.\\n\\nNIKE Direct revenues increased 14% from $18.7 billion in fiscal 2022 to $21.3 billion in fiscal 2023. On a currency-neutral basis, NIKE Direct revenues increased 20% primarily driven by NIKE Brand Digital sales growth of 24%, comparable store sales growth of 14% and the addition of new stores. For further information regarding comparable store sales, including the definition, see \"Comparable Store Sales\". NIKE Brand Digital sales were $12.6 billion for fiscal 2023 compared to $10.7 billion for fiscal 2022.\\n\\n2023 FORM 10-K 33\\n\\nTable of Contents\\n\\nGROSS MARGIN FISCAL 2023 COMPARED TO FISCAL 2022\\n\\nFor fiscal 2023, our consolidated gross profit increased 4% to $22,292 million compared to $21,479 million for fiscal 2022. Gross margin decreased 250 basis points to 43.5% for fiscal 2023 compared to 46.0% for fiscal 2022 due to the following:\\n\\nWholesale equivalent\\n\\nThe decrease in gross margin for fiscal 2023 was primarily due to:'}]"
      ]
     },
     "execution_count": 37,
     "metadata": {},
     "output_type": "execute_result"
    }
   ],
   "source": [
    "# Add filter to range query\n",
    "\n",
    "rq.set_filter(f)\n",
    "rq.set_distance_threshold(0.19)\n",
    "\n",
    "index.query(rq)"
   ]
  },
  {
   "cell_type": "markdown",
   "metadata": {},
   "source": [
    "## Cleanup\n",
    "\n",
    "Clean up the index."
   ]
  },
  {
   "cell_type": "code",
   "execution_count": 38,
   "metadata": {},
   "outputs": [],
   "source": [
    "index.delete(drop=True)"
   ]
  }
 ],
 "metadata": {
  "colab": {
   "include_colab_link": true,
   "provenance": []
  },
  "kernelspec": {
   "display_name": "Python 3",
   "name": "python3"
  },
  "language_info": {
   "codemirror_mode": {
    "name": "ipython",
    "version": 3
   },
   "file_extension": ".py",
   "mimetype": "text/x-python",
   "name": "python",
   "nbconvert_exporter": "python",
   "pygments_lexer": "ipython3",
   "version": "3.9.18"
  }
 },
 "nbformat": 4,
 "nbformat_minor": 0
}
