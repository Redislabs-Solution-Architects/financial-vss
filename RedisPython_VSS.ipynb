{
  "cells": [
    {
      "cell_type": "markdown",
      "metadata": {
        "id": "R2-i8jBl9GRH"
      },
      "source": [
        "<a href=\"https://colab.research.google.com/github/Redislabs-Solution-Architects/financial-vss/blob/main/RedisPython_VSS.ipynb\" target=\"_parent\"><img src=\"https://colab.research.google.com/assets/colab-badge.svg\" alt=\"Open In Colab\"/></a>\n",
        "\n",
        "# Vector Similarity Search with RedisPy\n",
        "![Redis](https://redis.com/wp-content/themes/wpx/assets/images/logo-redis.svg?auto=webp&quality=85,75&width=120)\n",
        "\n",
        "This notebook uses [RedisPy](https://redis-py.readthedocs.io/en/stable/), the standard Redis Python client library to perform document + embdding indexing and semantic search tasks."
      ]
    },
    {
      "cell_type": "markdown",
      "metadata": {
        "id": "2UG2-tksuPpl"
      },
      "source": [
        "## Setup and Data Prep\n",
        "\n",
        "### Pull Github Materials\n",
        "We need to clone the supporting materials from github."
      ]
    },
    {
      "cell_type": "code",
      "execution_count": 1,
      "metadata": {
        "id": "BA3TXPWTuPpo",
        "outputId": "7199afd8-f6e8-46a1-fd70-258ad69e960e",
        "colab": {
          "base_uri": "https://localhost:8080/"
        }
      },
      "outputs": [
        {
          "output_type": "stream",
          "name": "stdout",
          "text": [
            "Cloning into 'temp_repo'...\n",
            "remote: Enumerating objects: 73, done.\u001b[K\n",
            "remote: Counting objects: 100% (73/73), done.\u001b[K\n",
            "remote: Compressing objects: 100% (52/52), done.\u001b[K\n",
            "remote: Total 73 (delta 30), reused 56 (delta 17), pack-reused 0\u001b[K\n",
            "Receiving objects: 100% (73/73), 6.92 MiB | 21.40 MiB/s, done.\n",
            "Resolving deltas: 100% (30/30), done.\n",
            "mv: cannot move 'temp_repo/resources' to './resources': Directory not empty\n"
          ]
        }
      ],
      "source": [
        "# This clones your git repository into a directory named 'temp_repo'.\n",
        "!git clone https://github.com/Redislabs-Solution-Architects/financial-vss.git temp_repo\n",
        "\n",
        "# This command moves the 'resources' directory from 'temp_repo' to your current directory.\n",
        "!mv temp_repo/resources .\n",
        "\n",
        "# This deletes the 'temp_repo' directory, cleaning up the unwanted files.\n",
        "!rm -rf temp_repo\n"
      ]
    },
    {
      "cell_type": "markdown",
      "metadata": {
        "id": "ojfRVcU2uPpr"
      },
      "source": [
        "### Install Python Dependencies"
      ]
    },
    {
      "cell_type": "code",
      "execution_count": 2,
      "metadata": {
        "id": "Tpqa4wdIuPps"
      },
      "outputs": [],
      "source": [
        "!pip install -q redis redisvl>==0.0.4 langchain pdf2image \"unstructured[all-docs]\" sentence-transformers"
      ]
    },
    {
      "cell_type": "markdown",
      "metadata": {
        "id": "XVMewycguPps"
      },
      "source": [
        "### Preprocess PDF Doc(s)\n",
        "\n",
        "Now we will load a single financial (10k filings) doc and preprocess it using some LangChain helpers."
      ]
    },
    {
      "cell_type": "code",
      "execution_count": 3,
      "metadata": {
        "id": "8MetibQiuPpt",
        "outputId": "35d4face-6920-467b-a11f-0eb5110fe307",
        "colab": {
          "base_uri": "https://localhost:8080/"
        }
      },
      "outputs": [
        {
          "output_type": "stream",
          "name": "stdout",
          "text": [
            "Listing available documents ... ['resources/aapl-10k-2023.pdf', 'resources/jnj-10k-2023.pdf', 'resources/msft-10k-2023.pdf', 'resources/amzn-10k-2023.pdf', 'resources/nke-10k-2023.pdf', 'resources/nvd-10k-2023.pdf']\n",
            "Done preprocessing. Created 323 chunks of the original pdf resources/nke-10k-2023.pdf\n"
          ]
        }
      ],
      "source": [
        "import os\n",
        "\n",
        "from langchain.text_splitter import RecursiveCharacterTextSplitter\n",
        "from langchain.document_loaders import UnstructuredFileLoader\n",
        "\n",
        "# Load list of pdfs\n",
        "data_path = \"resources/\"\n",
        "docs = [os.path.join(data_path, file) for file in os.listdir(data_path)]\n",
        "\n",
        "print(\"Listing available documents ...\", docs)\n",
        "\n",
        "# For simplicity, we will just work with one of the 10k files. This will take some time still.\n",
        "# To Note: the UnstructuredFileLoader is not the only document loader type that LangChain provides\n",
        "# To Note: the RecursiveCharacterTextSplitter is what we use to create smaller chunks of text from the doc.\n",
        "# Docs: https://python.langchain.com/docs/integrations/document_loaders/unstructured_file\n",
        "# Docs: https://python.langchain.com/docs/modules/data_connection/document_transformers/text_splitters/recursive_text_splitter\n",
        "doc = [doc for doc in docs if \"nke\" in doc][0]\n",
        "text_splitter = RecursiveCharacterTextSplitter(chunk_size=1500, chunk_overlap=100, add_start_index=True)\n",
        "loader = UnstructuredFileLoader(doc, mode=\"single\", strategy=\"fast\")\n",
        "chunks = loader.load_and_split(text_splitter)\n",
        "\n",
        "print(\"Done preprocessing. Created\", len(chunks), \"chunks of the original pdf\", doc)"
      ]
    },
    {
      "cell_type": "code",
      "execution_count": 4,
      "metadata": {
        "id": "CHBpJGlruPpu",
        "outputId": "0b5ce556-8443-47ae-ed3a-dde85a3bee7a",
        "colab": {
          "base_uri": "https://localhost:8080/"
        }
      },
      "outputs": [
        {
          "output_type": "stream",
          "name": "stdout",
          "text": [
            "page_content=\"NIKE, Inc.(Exact name of Registrant as specified in its charter)Oregon93-0584541(State or other jurisdiction of incorporation)(IRS Employer Identification No.)One Bowerman Drive, Beaverton, Oregon 97005-6453(Address of principal executive offices and zip code)(503) 671-6453(Registrant's telephone number, including area code)SECURITIES REGISTERED PURSUANT TO SECTION 12(B) OF THE ACT:Class B Common StockNKENew York Stock Exchange(Title of each class)(Trading symbol)(Name of each exchange on which registered)SECURITIES REGISTERED PURSUANT TO SECTION 12(G) OF THE ACT:NONE\\n\\nAs of November 30, 2022, the aggregate market values of the Registrant's Common Stock held by non-affiliates were:Class A$7,831,564,572 Class B136,467,702,472 $144,299,267,044\\n\\nTable of ContentsUNITED STATESSECURITIES AND EXCHANGE COMMISSIONWashington, D.C. 20549FORM 10-K(Mark One)☑ ANNUAL REPORT PURSUANT TO SECTION 13 OR 15(D) OF THE SECURITIES EXCHANGE ACT OF 1934FOR THE FISCAL YEAR ENDED MAY 31, 2023OR☐ TRANSITION REPORT PURSUANT TO SECTION 13 OR 15(D) OF THE SECURITIES EXCHANGE ACT OF 1934FOR THE TRANSITION PERIOD FROM TO .Commission File No. 1-10635\\n\\nTable of Contents\\n\\nAs of July 12, 2023, the number of shares of the Registrant's Common Stock outstanding were:\\n\\nClass A\\n\\nClass B\\n\\nDOCUMENTS INCORPORATED BY REFERENCE:\\n\\nParts of Registrant's Proxy Statement for the Annual Meeting of Shareholders to be held on September 12, 2023, are incorporated by reference into Part III of this report.\\n\\n304,897,252\" metadata={'source': 'resources/nke-10k-2023.pdf', 'start_index': 2361}\n"
          ]
        }
      ],
      "source": [
        "# Take a look at one item\n",
        "print(chunks[2])"
      ]
    },
    {
      "cell_type": "markdown",
      "metadata": {
        "id": "W8X2VgYUuPpv"
      },
      "source": [
        "### Create document chunk embeddings"
      ]
    },
    {
      "cell_type": "code",
      "execution_count": 5,
      "metadata": {
        "id": "He748AJ5uPpw",
        "outputId": "d41c8098-9b12-4172-e849-829efb8c076a",
        "colab": {
          "base_uri": "https://localhost:8080/"
        }
      },
      "outputs": [
        {
          "output_type": "execute_result",
          "data": {
            "text/plain": [
              "True"
            ]
          },
          "metadata": {},
          "execution_count": 5
        }
      ],
      "source": [
        "from redisvl.vectorize.text import HFTextVectorizer\n",
        "\n",
        "hf = HFTextVectorizer(\"sentence-transformers/all-MiniLM-L6-v2\")\n",
        "\n",
        "# Embed each page_content from the document chunks\n",
        "chunk_embeddings = hf.embed_many([chunk.page_content for chunk in chunks])\n",
        "\n",
        "# Check to make sure we've created enough embeddings, 1 per document chunk\n",
        "len(chunk_embeddings) == len(chunks)"
      ]
    },
    {
      "cell_type": "markdown",
      "metadata": {
        "id": "NBlbUrB27QQs"
      },
      "source": [
        "### Install Redis Stack (OPTIONAL)\n",
        "\n",
        "Redis Search will be used as Vector Similarity Search engine for LangChain.\n",
        "\n",
        "Instead of using in-notebook Redis Stack https://redis.io/docs/getting-started/install-stack/ you can provision your own free instance of Redis in the cloud. Get your own Free Redis Cloud instance at https://redis.com/try-free/"
      ]
    },
    {
      "cell_type": "code",
      "execution_count": 6,
      "metadata": {
        "colab": {
          "base_uri": "https://localhost:8080/"
        },
        "id": "aKMKXPY2j8Gt",
        "outputId": "77a85b33-42fb-4c5e-ad2a-fcc6c5a856a1"
      },
      "outputs": [
        {
          "output_type": "stream",
          "name": "stdout",
          "text": [
            "deb [signed-by=/usr/share/keyrings/redis-archive-keyring.gpg] https://packages.redis.io/deb jammy main\n",
            "Starting redis-stack-server, database path /var/lib/redis-stack\n"
          ]
        },
        {
          "output_type": "stream",
          "name": "stderr",
          "text": [
            "gpg: cannot open '/dev/tty': No such device or address\n",
            "curl: (23) Failed writing body\n"
          ]
        }
      ],
      "source": [
        "%%sh\n",
        "curl -fsSL https://packages.redis.io/gpg | sudo gpg --dearmor -o /usr/share/keyrings/redis-archive-keyring.gpg\n",
        "echo \"deb [signed-by=/usr/share/keyrings/redis-archive-keyring.gpg] https://packages.redis.io/deb $(lsb_release -cs) main\" | sudo tee /etc/apt/sources.list.d/redis.list\n",
        "sudo apt-get update  > /dev/null 2>&1\n",
        "sudo apt-get install redis-stack-server  > /dev/null 2>&1\n",
        "redis-stack-server --daemonize yes"
      ]
    },
    {
      "cell_type": "markdown",
      "metadata": {
        "id": "X7UsU1Ts7TUL"
      },
      "source": [
        "### Connect to Redis\n",
        "\n",
        "By default this notebook would connect to the local instance of Redis Stack. If you have your own Redis Cloud instance - replace REDIS_PASSWORD, REDIS_HOST and REDIS_PORT values with your own."
      ]
    },
    {
      "cell_type": "code",
      "execution_count": 7,
      "metadata": {
        "id": "dyPfCO3pkB7M"
      },
      "outputs": [],
      "source": [
        "# Replace values below with your own if using Redis Cloud instance\n",
        "REDIS_HOST = os.getenv(\"REDIS_HOST\", \"localhost\")\n",
        "REDIS_PORT = os.getenv(\"REDIS_PORT\", \"6379\")\n",
        "REDIS_PASSWORD = os.getenv(\"REDIS_PASSWORD\", \"\")\n",
        "#REDIS_HOST=\"redis-18374.c253.us-central1-1.gce.cloud.redislabs.com\"\n",
        "#REDIS_PORT=18374\n",
        "#REDIS_PASSWORD=\"1TNxTEdYRDgIDKM2gDfasupCADXXXX\"\n",
        "\n",
        "#shortcut for redis-cli $REDIS_CONN command\n",
        "if REDIS_PASSWORD!=\"\":\n",
        "  os.environ[\"REDIS_CONN\"]=f\"-h {REDIS_HOST} -p {REDIS_PORT} -a {REDIS_PASSWORD} --no-auth-warning\"\n",
        "else:\n",
        "  os.environ[\"REDIS_CONN\"]=f\"-h {REDIS_HOST} -p {REDIS_PORT}\"\n",
        "\n",
        "REDIS_URL = f\"redis://:{REDIS_PASSWORD}@{REDIS_HOST}:{REDIS_PORT}\"\n"
      ]
    },
    {
      "cell_type": "markdown",
      "metadata": {
        "id": "ylykfqxeuPpy"
      },
      "source": [
        "## VSS with Redis Python\n",
        "\n",
        "### Create the HASH index from schema\n",
        "Below we connect to Redis and create an index for vector similarity search that contains a single text field and vector field."
      ]
    },
    {
      "cell_type": "code",
      "execution_count": 8,
      "metadata": {
        "id": "xufdXgR6uPpy"
      },
      "outputs": [],
      "source": [
        "import redis\n",
        "from redis.commands.search.field import TextField, VectorField\n",
        "from redis.commands.search.indexDefinition import IndexDefinition, IndexType\n",
        "from redis.commands.search.query import Query\n",
        "\n",
        "\n",
        "r = redis.Redis.from_url(REDIS_URL)\n",
        "\n",
        "index_name = \"redispy\"\n",
        "key_prefix = \"doc:redispy\"\n",
        "\n",
        "def create_index(index_type: str = \"FLAT\"):       # Creates a FLAT index by default\n",
        "    try:\n",
        "        # check to see if index exists\n",
        "        r.ft(index_name).info()\n",
        "        print(\"Index already exists!\")\n",
        "    except:\n",
        "        # schema\n",
        "        schema = (\n",
        "            TextField(\"content\"),                  # Text Field Name\n",
        "            VectorField(\"chunk_vector\",            # Vector Field Name\n",
        "                index_type, {                      # Vector Index Type: FLAT or HNSW\n",
        "                    \"TYPE\": \"FLOAT32\",\n",
        "                    \"DIM\": 384,                    # Number of Vector Dimensions\n",
        "                    \"DISTANCE_METRIC\": \"COSINE\",   # Vector Search Distance Metric\n",
        "                }\n",
        "            ),\n",
        "        )\n",
        "\n",
        "        # index Definition\n",
        "        definition = IndexDefinition(prefix=[key_prefix], index_type=IndexType.HASH)   # Uses HASH by default\n",
        "\n",
        "        # create Index\n",
        "        r.ft(index_name).create_index(fields=schema, definition=definition)"
      ]
    },
    {
      "cell_type": "code",
      "execution_count": 9,
      "metadata": {
        "id": "CMMYwKXPuPpz"
      },
      "outputs": [],
      "source": [
        "# Create the index\n",
        "create_index()"
      ]
    },
    {
      "cell_type": "code",
      "execution_count": 10,
      "metadata": {
        "id": "YmIoE7MZuPpz",
        "outputId": "1c23c22d-1dc7-46e4-83ba-433f2ac062e6",
        "colab": {
          "base_uri": "https://localhost:8080/"
        }
      },
      "outputs": [
        {
          "output_type": "execute_result",
          "data": {
            "text/plain": [
              "{'index_name': 'redispy',\n",
              " 'index_options': [],\n",
              " 'index_definition': [b'key_type',\n",
              "  b'HASH',\n",
              "  b'prefixes',\n",
              "  [b'doc:redispy'],\n",
              "  b'default_score',\n",
              "  b'1'],\n",
              " 'attributes': [[b'identifier',\n",
              "   b'content',\n",
              "   b'attribute',\n",
              "   b'content',\n",
              "   b'type',\n",
              "   b'TEXT',\n",
              "   b'WEIGHT',\n",
              "   b'1'],\n",
              "  [b'identifier',\n",
              "   b'chunk_vector',\n",
              "   b'attribute',\n",
              "   b'chunk_vector',\n",
              "   b'type',\n",
              "   b'VECTOR']],\n",
              " 'num_docs': '0',\n",
              " 'max_doc_id': '0',\n",
              " 'num_terms': '0',\n",
              " 'num_records': '0',\n",
              " 'inverted_sz_mb': '0',\n",
              " 'vector_index_sz_mb': '0.00818634033203125',\n",
              " 'total_inverted_index_blocks': '0',\n",
              " 'offset_vectors_sz_mb': '0',\n",
              " 'doc_table_size_mb': '0',\n",
              " 'sortable_values_size_mb': '0',\n",
              " 'key_table_size_mb': '0',\n",
              " 'geoshapes_sz_mb': '0',\n",
              " 'records_per_doc_avg': 'nan',\n",
              " 'bytes_per_record_avg': 'nan',\n",
              " 'offsets_per_term_avg': 'nan',\n",
              " 'offset_bits_per_record_avg': 'nan',\n",
              " 'hash_indexing_failures': '0',\n",
              " 'total_indexing_time': '0',\n",
              " 'indexing': '0',\n",
              " 'percent_indexed': '1',\n",
              " 'number_of_uses': 1,\n",
              " 'cleaning': 0,\n",
              " 'gc_stats': [b'bytes_collected',\n",
              "  b'0',\n",
              "  b'total_ms_run',\n",
              "  b'0',\n",
              "  b'total_cycles',\n",
              "  b'0',\n",
              "  b'average_cycle_time_ms',\n",
              "  b'nan',\n",
              "  b'last_run_time_ms',\n",
              "  b'0',\n",
              "  b'gc_numeric_trees_missed',\n",
              "  b'0',\n",
              "  b'gc_blocks_denied',\n",
              "  b'0'],\n",
              " 'cursor_stats': [b'global_idle',\n",
              "  0,\n",
              "  b'global_total',\n",
              "  0,\n",
              "  b'index_capacity',\n",
              "  128,\n",
              "  b'index_total',\n",
              "  0],\n",
              " 'dialect_stats': [b'dialect_1',\n",
              "  0,\n",
              "  b'dialect_2',\n",
              "  0,\n",
              "  b'dialect_3',\n",
              "  0,\n",
              "  b'dialect_4',\n",
              "  0]}"
            ]
          },
          "metadata": {},
          "execution_count": 10
        }
      ],
      "source": [
        "# Check the info related to the newly created index\n",
        "r.ft(index_name).info()"
      ]
    },
    {
      "cell_type": "markdown",
      "metadata": {
        "id": "Qrj-jeGmBRTL"
      },
      "source": [
        "### Process and load data using Redis\n",
        "Below we use a Redis pipeline (not a transaction) to batch send writes to Redis. This method helps with throughput significantly. The batch_size param can be customized and benchmarked on your hardware and with your data. We typically recommend starting small (100-200) and increasing as needed."
      ]
    },
    {
      "cell_type": "code",
      "execution_count": 11,
      "metadata": {
        "id": "XHsODPikuPp1"
      },
      "outputs": [],
      "source": [
        "# load expects an iterable of dictionaries\n",
        "import numpy as np\n",
        "\n",
        "batch_size = 200\n",
        "pipe = r.pipeline(transaction=False)\n",
        "for i, chunk in enumerate(chunks):\n",
        "    data = {\n",
        "        'content': chunk.page_content,\n",
        "        # For HASH -- must convert embeddings to bytes\n",
        "        'chunk_vector': np.array(chunk_embeddings[i]).astype(np.float32).tobytes()\n",
        "    }\n",
        "    pipe.hset(f\"{key_prefix}:{i}\", mapping=data)\n",
        "    # execute in \"mini batches\"\n",
        "    if i % batch_size == 0:\n",
        "        res = pipe.execute()\n",
        "\n",
        "# cleanup final batch execution\n",
        "res = pipe.execute()"
      ]
    },
    {
      "cell_type": "code",
      "execution_count": 12,
      "metadata": {
        "id": "pY9Ja6VduPp1",
        "outputId": "06dbe270-5dea-492e-dfd7-672311412155",
        "colab": {
          "base_uri": "https://localhost:8080/"
        }
      },
      "outputs": [
        {
          "output_type": "execute_result",
          "data": {
            "text/plain": [
              "True"
            ]
          },
          "metadata": {},
          "execution_count": 12
        }
      ],
      "source": [
        "# check the data size in Redis\n",
        "len(chunks) == r.dbsize()"
      ]
    },
    {
      "cell_type": "code",
      "execution_count": 13,
      "metadata": {
        "id": "xa5zeoZ1uPp7",
        "outputId": "463d68cc-4a4a-44c7-b4c7-b4e174bea5e4",
        "colab": {
          "base_uri": "https://localhost:8080/"
        }
      },
      "outputs": [
        {
          "output_type": "execute_result",
          "data": {
            "text/plain": [
              "{b'content': b'There are provisions within our articles of incorporation and Oregon law intended to protect shareholder interests by providing the Board of Directors a means to attempt to deny coercive takeover attempts or to negotiate with a potential acquirer in order to obtain more favorable terms. Such provisions include a control share acquisition statute, a freeze-out statute, two classes of stock that vote separately on certain issues, and the fact that holders of Class A Common Stock elect three-quarters of the Board of Directors rounded down to the next whole number. However, such provisions could discourage, delay or prevent an unsolicited merger, acquisition or other change in control of the Company that some shareholders might believe to be in their best interests or in which shareholders might receive a premium for their common stock over the prevailing market price. These provisions could also discourage proxy contests for control of the Company.\\n\\nWe may fail to meet market expectations, which could cause the price of our stock to decline.',\n",
              " b'chunk_vector': b'\\xfc\"\\x89\\xbcv\\xbd\\xf9\\xbc\\x11\\x86m=\\x8aKI\\xbaN\\xfa-\\xbd\\xea\\xf0\\x9c=\\xb1\\x7f\\xb7\\xb9\\x8ei\\x02\\xbd\\xdf\\x13\\xc3=/\\xc6\\x88\\xbcD\\x0c\\x14=\\xd0\\xc9\\xbf=\\xe1$\\x02<\\xbe\\xdct\\xbd0T\\x80=sG\"=\\xe2\\x8a=\\xbc\\xc8,\\'<\\xa2\\xcaC\\xbd\\x94\\xae\\xa8=Ux\\xcd\\xbdWR\\xdc\\xbd\\xe9\\xd3\\x8f\\xbd\\xfc\\x16\\xc7=I5\\x81\\xbc\\xc6\\xd8}\\xbd\\xf6\\xc86\\xbd/\\xa5A<;J\\xf4:\\x9b\\x0c\\xf4\\xbcDe\\x94\\xbc\\xbe\\x12\\x1d\\xbdp\\xf4\\x86=\\xb2\\xe7\\xc6<\\xc0B};\\x96\\xefQ;\\x1e\\x95\\xdf;\\xdf[g\\xbd\\x8c\\xb5\\x9d<\\xd7\\xeb\\t=I\\xd2\\xe2<5\\x01v=\\x0c\\x87\\x95\\xbd\\x0f\\xa8V=\\x1b^\\xc7\\xbd\\xc6\\x12\\x89=.&\"=\\x07\\t\\x07<\\xc5Y\\x12\\xbc\\x13\\x0c\\xa0<\\x0f\\x16+\\xbd#K\\t\\xbd~\\x8c\\x0f=\\x96\\xa7I\\xbd\\xa2E\\x0c\\xbdK\\xcb(\\xbd*\\xb3\\xd2\\xbdJ\\x92\\xed\\xbc\\x03\\xb0\\x07=\\x0f6\\x85<\\xd4\\x15=<8\\x1c*\\xbc\\x04\\x8b\\x02<n\\xc9\\x86<\\x01\\xe0}=\\x9d\\xb0\\x1b\\xbb\\xe0\\x19\\xb8;_\\xd7\\xa4=\\xaf\\x1eL\\xbcJ^\\xed<p\\xb6\\xb5=r\\xd3Q;\\x9b\\xaaz\\xbdu\\x9a\\x11=Ge\\xc6\\xbd\\xc0\\x8cW=T\\xf2w\\xbd\\x12\\xf7E=\\xfe,\\x14=M\\xf8N\\xbc\\xa2\\xad\\x06\\xbd\\x1a7\\xc9<.*\\xce\\xbc[{\\xbb\\xbd0\\x9d\\xfd\\xbcj\\x80y<Y\\xc2\\xa6=X\\xec\\xfb<\\xd5\\xf3\\xd5<B\\x84\\x03\\xbb\\xd2\\x02>\\xbdUw\\x84\\xbdg\\x17\\x98=y\\x11\\xb9\\xbc\\xb0\\xdc\\x9a;#R\\xa6=i\\xcfE\\xbcEpn\\xbdl(V<\\xe4R/<\\x1f/\\x9c=\\xab+\\x16=\\xebb\\xd6\\xbc\\x0b\\xf3`\\xbd<u\\xa6\\xbdm\\xe0\\xa1\\xbd\\n\\x93\\xce\\xbc\\xdf8~\\xbd\\x05\\xf67<,#[=.g\\xa4\\xbc\\xf6\\xb6B=\\xf5\\xf3\\x06\\xbd\\xfa\\x0f`\\xbc\\x7f\\x03\\x11\\xbd\\xc3[\\x81=P\\xb3`<\\xe7y\\xd6\\xbc\\x1d\\xdc\\xbd=\\x1c\\x10\\xf8\\xbd\\xbb\\xa3\\xf0\\xba\\xc7\\xc2\\xa7<b\\xf8g<\\xf9\\xd4\\x9c;\\x7f\\x1c|<A\\x11\\xad<\\x9dy\\xc5\\xbdEr\\x83\\t<L\\x19\\xbd\\xe9\\xb5\\x19\\xbd:\\xcf\\x8e\\xbd\\xfb\\xd6\\x85=`4\\xe9\\xbc\\xb22\\xe3\\xbc\\xdb\\xbe\\xa9\\xbb\\x11\\xefo\\xbc\\x7f\\xbe\\xea\\xbd\\x86\\x98\\x01=\\x1d\\xdc=\\xbcV\\x95\\xcc\\xbc}\\x11\\x9c=\\xad\\x9a\\x90\\xbd\\x9e\\xbd,=;\\xf2\\x1a\\xbd)\\xf9\\xf6\\xban\\xb4\\xc9;^ \\x1b>W\\xa2q\\xbd\\xb8\\xc6\\xd1<\\n\\x1a\\xa5\\xbc_\\xe3<\\xbd\\x99\\xb8\\xa3=\\xdfw\\xaf\\xbd\\xbeW\\xa2\\xbd\\xf2\\xe8\\xa5\\xbd\\xec\\xda{\\xbc\\x82y\\x1e=\\x9a\\xab\\xb4<\\xb4 \\xa9<~\\'\\x83=DZ\\xc3<\\xd5]g=\\xf8\\xd7\\x12=-b>=m\\x87\\xae\\xbd\\xa4\\xdd!=\\xf8\\xe8\\xdb<\\xaf\\x8dQ<\\xd5/\\x00\\xbc>\\x15\\xc0\\xbc\\xc9C\\x05\\xbdO\\xe1\\xd1<\\x02\\xdc\\xfd<UN\\x85\\xbbg\\x9b\\xda\\xbc\\xa10\\xc2\\xbc\\x95\"\\xc6\\xbdg\\x18\\xca\\xbc\\x99\\x0e(\\xbd\\x03\\x18:=J5N=3z\\x05\\xbd[\\xf2O<\\x0b.\\x98\\xbd\\x10z\\x1f\\xbd\\x02z\\x1b\\xbd\\xce\\x82\\xa1\\xbd\\xa2q6;\\x84X9<\\x0f\\xc8\\x9d=[\\xa3\\x00\\xbb6\\xe3\\xbe=\\xdc\\x14\\x18\\xbe9\\xbc/=j\\xe6\\x06\\xbb\\xac\\xde\\x0f\\xb9\\x82\\xd0\\x17\\xbd\\xd519\\xbd\\x0f\\xc38=\\xf4\\x1e\\xed\\xbc(\\xc6\\x98\\xbda\\x03;<\\xecY\\x94\\xbd~I\\x1d\\xbd\\xec\\x04\\xac<\\x96q0=\\xad\\xf4\\xf9=1K \\xbc\\xeak|=\\x1b\\xbc\\xa5\\xbd\\xb3\\x99{=\\x90\\x00\\xc3<,\\x13b\\xbb\\xf9{\\xe1\\xbcu\\x80\\x80=\\x92\\xa6\\x99\\xbc3!\\xb0\\xbdW,z=]-\\xcd;\\xf2s\\x96<\\xf5H\\xa6\\xbb\\x13t\\xf8=\\x03\\xa8\\xb1=l\\xb9\\xdb\\x89tK\\xf6<\\x9b\\xcf\\xa7\\xbd\\xfd{<=\\xc9\\xe3\\xe4\\xbd\\xa8\\x82\\x9c\\xbd\\xc0^\\\\\\xbc\\x98\\xe9\\x1e<N+\\x96\\xbdl\\xbf[\\xbbG0\\x13\\xbd\\x7f{\\x8a\\xbd\\xf9\\xe2\\x9a\\xbb\\tS\\x8b\\xbc\\xe4O(<\\xa2\\x15\\xd1\\xbd\\xe5\\x1e\\xed\\xbc@\\xfe\\xd3=\\xdc\\xfa\\\\\\xbd\\xd0\\x0b`=0|\\\\\\xbd\\xaa\\xc1\\x8b\\xbc\\xb9o\\x9e\\xbb\\xad;\\xf6<v\\x0f[=\\xe0\\xd6\\x8c;?r$=\\xf0\\xe2\\x9e\\xbdP\\x13R;r\\x82l=\\xb9\\xe6\\x17=\\x1d\\x19e\\xbd\\x86\\xd9H\\xbd[y\\r<\\xc56\\xf1:\\xee\\x91a\\xbd\\xd6\\xe3\\x87\\xbd\\xbc\\xc9\\xb7;_>5<\\x81\\xe5/=\\xb1q\\x93\\xbd(\\xc7\\xbd<\\x19K\\xd1\\xb9{\\xc1M=n\\r\\x82=\\x9f\\xb2T=\\xf2*\\xc39\\x02X\\xc7=x\\xa1\\'\\xbdT\\xa6\\xd5<\\x13\\xdc\\x1c=\\xacB\\xaa\\xbdb\\x04\\xe8;\\xa2\\xe8q=\\xde/\\t=\\xc9\\xf0\\xb9\\xbc\\x0e\\x02}<a\\xa7\\x95=\\x84t\\xa1<\\xaa\\xef\\xb6;\\xb9\\x90I<\\x9doK=\\xdf\\xbbC=-j\\'\\xbc\\xe7\\xaf\\x84<\\xfb\\xdeN<s\\xdc9=\\x97\\x94\\xb5\\xbd_8@=|\\xaa\\xca<_\\xcf\"<\\x8c\\xd5S=\\xf6\\x9b\\xe6\\xbd\\xe7\\xdd:\\xbd\\x0f\\x88\\xc8\\xbd\\x9bo\\xdb\\xbb\\x88\\xa7\\xfa=\\xaa$\\xbe<\\x15.\\x89\\xbc\\xa0\\n\\x8c\\xbd\\x8a{`= \\x12\\x88<\\xd3\\xa3R=;\\xec&\\xbbe\\x19,=I\\x06\\xdb;]\\xed\\xac;\\xac\\xde\\x90<&_\\xbd\\xbc\\xf2\\x9d\\xcb;\\xd1\\x83\\x99\\xbc\\xc9\\xae\\x95\\xbcm92\\xbd\\xc6\\x833=\\xf3\\x9d\\x00=\\xfc?\\r\\xbdfFu\\xb3\\xba+&\\xbd\\xa1\\xaba\\xbd\\xa4\\\\\\x04=\\x13c\\x13\\xbd\\xeb\\xf1\\x16=$\\x0c\\x8e\\xbd\\x1c\\xb4\\x10\\xbd\\x88\\x1f\\x8f\\xbd)\\xc1\\xec\\xbaS\\xcbP=\\x08&\\xd0\\xbb\\x9e\\x8b\\x17=M,\\xc3\\xbd\\xc3\\xa3/=\\t\\xa2P\\xbd\\x8e\\xf6\\x10\\xbd\\x93\\xf3\\x87\\xbd\\xc8\\x05\\x80=\\xd9\\xc1\\xed\\xbc\\xea9\\xf3;\\x1b[\\x90\\xbd\\xfe~\\xf3\\xbb\\x06\\x9f\\xa8=\\xf4?\\xcd<z\\x17\\xc2\\xbcA\\xe8s=\\x05&>=\\x08\\xe0M\\xbd6?\\xa3=\\xb3-(=\\x86\\xcbE\\xbd\\x9b4#=\\x1e\\xa2\\x08<\\xb1\\xc8\\xcc<\\xd7R6\\xbd\\xbd\\x8a\\x96<\\xd1c\\xa1\\xbd\\xaew\\xe3=co\\x91\\xbd\\xfd\\n\\xcf\\xbc\\x99\\xe7\\xb5\\xbc\\x18UX=\\x8e\\xd0\\x0c\\xbc\\xf7p?=\\xbf\\xcc]=\\n\\xae\\xd9<\\x89N\\xe8\\xbdw\\x12\\x18=\\x9b\\xb8\\x9e=n\\x9f$\\xbd\\xb6cr=\\x1b\\xb1\\xa2<;\\xad\\xa6<\\x8d\\xa6\\x94=\\xdeL\\xb0;\\x82\\xe2c<\\xbf\\x8e\\x0c\\xbd\\xc4\\xb4I=\\xc2\\xc0\\xef\\xbc/\\x10Y\\xbdm\\xf8\\x82\\xbdL\\x10Q\\xbd\\xb9\\x0e\\t\\xbc\\xd5\\x8d\\x0c='}"
            ]
          },
          "metadata": {},
          "execution_count": 13
        }
      ],
      "source": [
        "# do NOT run this command in production\n",
        "keys = r.keys()\n",
        "\n",
        "r.hgetall(keys[0])"
      ]
    },
    {
      "cell_type": "markdown",
      "metadata": {
        "id": "oBMVO9RQuPp7"
      },
      "source": [
        "### Query the database\n",
        "Now we can use the Redis search index to perform similarity search operations. This query takes a user input, converts to embeddings, and fetches the top 2 most semantically similar chunks from Redis."
      ]
    },
    {
      "cell_type": "code",
      "execution_count": 14,
      "metadata": {
        "id": "fp3I3jo4uPp8",
        "outputId": "f2e32b1d-7db0-48d8-85a6-1aff055d7434",
        "colab": {
          "base_uri": "https://localhost:8080/"
        }
      },
      "outputs": [
        {
          "output_type": "execute_result",
          "data": {
            "text/plain": [
              "[Document {'id': 'doc:redispy:150', 'payload': None, 'score': '0.354782044888', 'content': '2023 FORM 10-K 35\\n\\nTable of Contents\\n\\nOPERATING SEGMENTS\\n\\nAs discussed in Note 15 — Operating Segments and Related Information in the accompanying Notes to the Consolidated Financial Statements, our operating segments are evidence of the structure of the Company\\'s internal organization. The NIKE Brand segments are defined by geographic regions for operations participating in NIKE Brand sales activity.\\n\\nThe breakdown of Revenues is as follows:\\n\\n(Dollars in millions)\\n\\nFISCAL 2023 FISCAL 2022\\n\\n% CHANGE\\n\\n% CHANGE EXCLUDING CURRENCY (1) CHANGES FISCAL 2021\\n\\n% CHANGE\\n\\nNorth America Europe, Middle East & Africa Greater China\\n\\n$\\n\\n21,608 $ 13,418 7,248\\n\\n18,353 12,479 7,547\\n\\n18 % 8 % -4 %\\n\\n18 % $ 21 % 4 %\\n\\n17,179 11,456 8,290\\n\\n7 % 9 % -9 %\\n\\nAsia Pacific & Latin America Global Brand Divisions\\n\\n(3)\\n\\n(2)\\n\\n6,431 58\\n\\n5,955 102\\n\\n8 % -43 %\\n\\n17 % -43 %\\n\\n5,343 25\\n\\n11 % 308 %\\n\\nTOTAL NIKE BRAND Converse\\n\\n$\\n\\n48,763 $ 2,427\\n\\n44,436 2,346\\n\\n10 % 3 %\\n\\n16 % $ 8 %\\n\\n42,293 2,205\\n\\n5 % 6 %\\n\\n(4)\\n\\nCorporate TOTAL NIKE, INC. REVENUES\\n\\n$\\n\\n27\\n\\n51,217 $\\n\\n(72) 46,710\\n\\n— 10 %\\n\\n— 16 % $\\n\\n40 44,538\\n\\n— 5 %\\n\\n(1) The percent change excluding currency changes represents a non-GAAP financial measure. For further information, see \"Use of Non-GAAP Financial Measures\".\\n\\n(2) For additional information on the transition of our NIKE Brand businesses within our CASA territory to a third-party distributor, see Note 18 — Acquisitions and Divestitures of the Notes to Consolidated'},\n",
              " Document {'id': 'doc:redispy:151', 'payload': None, 'score': '0.360561609268', 'content': 'Financial Statements contained in Item 8 of this Annual Report.\\n\\n(3) Global Brand Divisions revenues include NIKE Brand licensing and other miscellaneous revenues that are not part of a geographic operating segment.\\n\\n(4) Corporate revenues primarily consist of foreign currency hedge gains and losses related to revenues generated by entities within the NIKE Brand geographic operating segments and Converse, but\\n\\nmanaged through our central foreign exchange risk management program.\\n\\nThe primary financial measure used by the Company to evaluate performance is Earnings Before Interest and Taxes (\"EBIT\"). As discussed in Note 15 — Operating Segments and Related Information in the accompanying Notes to the Consolidated Financial Statements, certain corporate costs are not included in EBIT.\\n\\nThe breakdown of EBIT is as follows:\\n\\n(Dollars in millions)\\n\\nFISCAL 2023\\n\\nFISCAL 2022\\n\\n% CHANGE\\n\\nFISCAL 2021\\n\\nNorth America Europe, Middle East & Africa Greater China\\n\\n$\\n\\n5,454 3,531 2,283\\n\\n$\\n\\n5,114 3,293 2,365\\n\\n7 % $ 7 % -3 %\\n\\n5,089 2,435 3,243\\n\\nAsia Pacific & Latin America Global Brand Divisions (1)\\n\\nTOTAL NIKE BRAND Converse\\n\\n$\\n\\n1,932 (4,841)\\n\\n8,359 676\\n\\n$\\n\\n1,896 (4,262)\\n\\n8,406 669\\n\\n2 % -14 %\\n\\n1 % $ 1 %\\n\\n1,530 (3,656)\\n\\n8,641 543\\n\\nCorporate TOTAL NIKE, INC. EARNINGS BEFORE INTEREST AND TAXES\\n\\n(1)\\n\\n$\\n\\n(2,840)\\n\\n6,195\\n\\n$\\n\\n(2,219)\\n\\n6,856\\n\\n28 %\\n\\n10 % $\\n\\n(2,261)\\n\\n6,923\\n\\nEBIT margin\\n\\n(1)\\n\\n12.1 %\\n\\n14.7 %\\n\\n15.5 %\\n\\nInterest expense (income), net\\n\\n(6)\\n\\n205\\n\\n—\\n\\n262'}]"
            ]
          },
          "metadata": {},
          "execution_count": 14
        }
      ],
      "source": [
        "# Grab user input\n",
        "_input = \"Nike profit margins and company performance\"\n",
        "\n",
        "query = (\n",
        "    Query(\"*=>[KNN 2 @chunk_vector $vec as score]\")\n",
        "     .sort_by(\"score\")\n",
        "     .return_fields(\"content\", \"score\")\n",
        "     .paging(0, 2)\n",
        "     .dialect(2)\n",
        ")\n",
        "\n",
        "query_params = {\n",
        "    \"vec\": hf.embed(_input, as_buffer=True)\n",
        "}\n",
        "\n",
        "r.ft(index_name).search(query, query_params).docs"
      ]
    },
    {
      "cell_type": "markdown",
      "metadata": {
        "id": "i5SCvkAvuPp8"
      },
      "source": [
        "### Range Queries\n",
        "Range queries allow you to set a pre defined \"threshold\" for which we want to return documents"
      ]
    },
    {
      "cell_type": "code",
      "execution_count": 15,
      "metadata": {
        "id": "HTrphv_NuPp8",
        "outputId": "744878ae-c007-4a11-aac4-e898bfcde00c",
        "colab": {
          "base_uri": "https://localhost:8080/"
        }
      },
      "outputs": [
        {
          "output_type": "execute_result",
          "data": {
            "text/plain": [
              "[Document {'id': 'doc:redispy:150', 'payload': None, 'score': '0.354782044888', 'content': '2023 FORM 10-K 35\\n\\nTable of Contents\\n\\nOPERATING SEGMENTS\\n\\nAs discussed in Note 15 — Operating Segments and Related Information in the accompanying Notes to the Consolidated Financial Statements, our operating segments are evidence of the structure of the Company\\'s internal organization. The NIKE Brand segments are defined by geographic regions for operations participating in NIKE Brand sales activity.\\n\\nThe breakdown of Revenues is as follows:\\n\\n(Dollars in millions)\\n\\nFISCAL 2023 FISCAL 2022\\n\\n% CHANGE\\n\\n% CHANGE EXCLUDING CURRENCY (1) CHANGES FISCAL 2021\\n\\n% CHANGE\\n\\nNorth America Europe, Middle East & Africa Greater China\\n\\n$\\n\\n21,608 $ 13,418 7,248\\n\\n18,353 12,479 7,547\\n\\n18 % 8 % -4 %\\n\\n18 % $ 21 % 4 %\\n\\n17,179 11,456 8,290\\n\\n7 % 9 % -9 %\\n\\nAsia Pacific & Latin America Global Brand Divisions\\n\\n(3)\\n\\n(2)\\n\\n6,431 58\\n\\n5,955 102\\n\\n8 % -43 %\\n\\n17 % -43 %\\n\\n5,343 25\\n\\n11 % 308 %\\n\\nTOTAL NIKE BRAND Converse\\n\\n$\\n\\n48,763 $ 2,427\\n\\n44,436 2,346\\n\\n10 % 3 %\\n\\n16 % $ 8 %\\n\\n42,293 2,205\\n\\n5 % 6 %\\n\\n(4)\\n\\nCorporate TOTAL NIKE, INC. REVENUES\\n\\n$\\n\\n27\\n\\n51,217 $\\n\\n(72) 46,710\\n\\n— 10 %\\n\\n— 16 % $\\n\\n40 44,538\\n\\n— 5 %\\n\\n(1) The percent change excluding currency changes represents a non-GAAP financial measure. For further information, see \"Use of Non-GAAP Financial Measures\".\\n\\n(2) For additional information on the transition of our NIKE Brand businesses within our CASA territory to a third-party distributor, see Note 18 — Acquisitions and Divestitures of the Notes to Consolidated'},\n",
              " Document {'id': 'doc:redispy:151', 'payload': None, 'score': '0.360561609268', 'content': 'Financial Statements contained in Item 8 of this Annual Report.\\n\\n(3) Global Brand Divisions revenues include NIKE Brand licensing and other miscellaneous revenues that are not part of a geographic operating segment.\\n\\n(4) Corporate revenues primarily consist of foreign currency hedge gains and losses related to revenues generated by entities within the NIKE Brand geographic operating segments and Converse, but\\n\\nmanaged through our central foreign exchange risk management program.\\n\\nThe primary financial measure used by the Company to evaluate performance is Earnings Before Interest and Taxes (\"EBIT\"). As discussed in Note 15 — Operating Segments and Related Information in the accompanying Notes to the Consolidated Financial Statements, certain corporate costs are not included in EBIT.\\n\\nThe breakdown of EBIT is as follows:\\n\\n(Dollars in millions)\\n\\nFISCAL 2023\\n\\nFISCAL 2022\\n\\n% CHANGE\\n\\nFISCAL 2021\\n\\nNorth America Europe, Middle East & Africa Greater China\\n\\n$\\n\\n5,454 3,531 2,283\\n\\n$\\n\\n5,114 3,293 2,365\\n\\n7 % $ 7 % -3 %\\n\\n5,089 2,435 3,243\\n\\nAsia Pacific & Latin America Global Brand Divisions (1)\\n\\nTOTAL NIKE BRAND Converse\\n\\n$\\n\\n1,932 (4,841)\\n\\n8,359 676\\n\\n$\\n\\n1,896 (4,262)\\n\\n8,406 669\\n\\n2 % -14 %\\n\\n1 % $ 1 %\\n\\n1,530 (3,656)\\n\\n8,641 543\\n\\nCorporate TOTAL NIKE, INC. EARNINGS BEFORE INTEREST AND TAXES\\n\\n(1)\\n\\n$\\n\\n(2,840)\\n\\n6,195\\n\\n$\\n\\n(2,219)\\n\\n6,856\\n\\n28 %\\n\\n10 % $\\n\\n(2,261)\\n\\n6,923\\n\\nEBIT margin\\n\\n(1)\\n\\n12.1 %\\n\\n14.7 %\\n\\n15.5 %\\n\\nInterest expense (income), net\\n\\n(6)\\n\\n205\\n\\n—\\n\\n262'},\n",
              " Document {'id': 'doc:redispy:145', 'payload': None, 'score': '0.362203001976', 'content': 'NIKE Brand apparel revenues increased 8% on a currency-neutral basis, primarily due to higher revenues in Men\\'s. Unit sales of apparel increased 4%, while higher ASP per unit contributed approximately 4 percentage points of apparel revenue growth. Higher ASP was primarily due to higher full-price ASP and growth in the size of our NIKE Direct business, partially offset by lower NIKE Direct ASP, reflecting higher promotional activity.\\n\\nNIKE Direct revenues increased 14% from $18.7 billion in fiscal 2022 to $21.3 billion in fiscal 2023. On a currency-neutral basis, NIKE Direct revenues increased 20% primarily driven by NIKE Brand Digital sales growth of 24%, comparable store sales growth of 14% and the addition of new stores. For further information regarding comparable store sales, including the definition, see \"Comparable Store Sales\". NIKE Brand Digital sales were $12.6 billion for fiscal 2023 compared to $10.7 billion for fiscal 2022.\\n\\n2023 FORM 10-K 33\\n\\nTable of Contents\\n\\nGROSS MARGIN FISCAL 2023 COMPARED TO FISCAL 2022\\n\\nFor fiscal 2023, our consolidated gross profit increased 4% to $22,292 million compared to $21,479 million for fiscal 2022. Gross margin decreased 250 basis points to 43.5% for fiscal 2023 compared to 46.0% for fiscal 2022 due to the following:\\n\\nWholesale equivalent\\n\\nThe decrease in gross margin for fiscal 2023 was primarily due to:'},\n",
              " Document {'id': 'doc:redispy:219', 'payload': None, 'score': '0.368923306465', 'content': 'BASIS OF CONSOLIDATION\\n\\nThe Consolidated Financial Statements include the accounts of NIKE, Inc. and its subsidiaries (the \"Company\" or \"NIKE\"). All significant intercompany transactions and balances have been eliminated.\\n\\nREVENUE RECOGNITION\\n\\nRevenue transactions associated with the sale of NIKE Brand footwear, apparel and equipment, as well as Converse products, comprise a single performance obligation, which consists of the sale of products to customers either through wholesale or direct to consumer channels. The Company satisfies the performance obligation and records revenues when transfer of control to the customer has occurred, based on the terms of sale. A customer is considered to have control once they are able to direct the use and receive substantially all of the benefits of the product.'},\n",
              " Document {'id': 'doc:redispy:142', 'payload': None, 'score': '0.372902154922', 'content': '1 %\\n\\nSales through NIKE Direct Global Brand Divisions\\n\\n(2)\\n\\n21,308 58\\n\\n18,726 102\\n\\n14 % -43 %\\n\\n20 % -43 %\\n\\n16,370 25\\n\\n14 % 308 %\\n\\nTOTAL NIKE BRAND REVENUES (1) NIKE Brand Revenues on a Wholesale Equivalent Basis :\\n\\n$\\n\\n48,763 $\\n\\n44,436\\n\\n10 %\\n\\n16 % $\\n\\n42,293\\n\\n5 %\\n\\nSales to Wholesale Customers Sales from our Wholesale Operations to NIKE Direct Operations\\n\\nTOTAL NIKE BRAND WHOLESALE EQUIVALENT REVENUES NIKE Brand Wholesale Equivalent Revenues by:\\n\\n(1),(4)\\n\\n$\\n\\n$\\n\\n27,397 $ 12,730\\n\\n40,127 $\\n\\n25,608 10,543\\n\\n36,151\\n\\n7 % 21 %\\n\\n11 %\\n\\n14 % $ 27 %\\n\\n18 % $\\n\\n25,898 9,872\\n\\n35,770\\n\\n1 % 7 % 1 %\\n\\nMen\\'s Women\\'s NIKE Kids\\'\\n\\n$\\n\\n20,733 $ 8,606 5,038\\n\\n18,797 8,273 4,874\\n\\n10 % 4 % 3 %\\n\\n17 % $ 11 % 10 %\\n\\n18,391 8,225 4,882\\n\\n2 % 1 % 0 %\\n\\nJordan Brand (5) Others\\n\\n6,589 (839)\\n\\n5,122 (915)\\n\\n29 % 8 %\\n\\n35 % -3 %\\n\\n4,780 (508)\\n\\n7 % -80 %\\n\\nTOTAL NIKE BRAND WHOLESALE EQUIVALENT REVENUES\\n\\n$\\n\\n40,127 $\\n\\n36,151\\n\\n11 %\\n\\n18 % $\\n\\n35,770\\n\\n1 %\\n\\n(1)\\n\\nThe percent change excluding currency changes and the presentation of wholesale equivalent revenues represent non-GAAP financial measures. For further information, see \"Use of Non-GAAP Financial Measures\".\\n\\n(2) Global Brand Divisions revenues include NIKE Brand licensing and other miscellaneous revenues that are not part of a geographic operating segment.\\n\\n(3) Corporate revenues primarily consist of foreign currency hedge gains and losses related to revenues generated by entities within the NIKE Brand geographic operating segments and Converse, but'},\n",
              " Document {'id': 'doc:redispy:289', 'payload': None, 'score': '0.376974403858', 'content': 'Asia Pacific & Latin America Global Brand Divisions\\n\\nTotal NIKE Brand\\n\\nConverse Corporate\\n\\nTOTAL NIKE, INC. REVENUES\\n\\nEARNINGS BEFORE INTEREST AND TAXES\\n\\nNorth America Europe, Middle East & Africa\\n\\nGreater China Asia Pacific & Latin America Global Brand Divisions\\n\\nConverse Corporate\\n\\nInterest expense (income), net\\n\\nTOTAL NIKE, INC. INCOME BEFORE INCOME TAXES\\n\\nADDITIONS TO PROPERTY, PLANT AND EQUIPMENT\\n\\nNorth America Europe, Middle East & Africa Greater China\\n\\nAsia Pacific & Latin America Global Brand Divisions\\n\\nTotal NIKE Brand\\n\\nConverse Corporate\\n\\nTOTAL ADDITIONS TO PROPERTY, PLANT AND EQUIPMENT\\n\\nDEPRECIATION North America Europe, Middle East & Africa\\n\\nGreater China Asia Pacific & Latin America Global Brand Divisions\\n\\nTotal NIKE Brand\\n\\nConverse\\n\\nCorporate\\n\\nTOTAL DEPRECIATION\\n\\n2023 FORM 10-K 86\\n\\n$\\n\\n$\\n\\n$\\n\\n$\\n\\n$\\n\\n$\\n\\n$\\n\\n$\\n\\nYEAR ENDED MAY 31,\\n\\n2023\\n\\n2022\\n\\n21,608 $ 13,418 7,248\\n\\n18,353 $ 12,479 7,547\\n\\n6,431 58\\n\\n5,955 102\\n\\n48,763 2,427 27\\n\\n44,436 2,346 (72)\\n\\n51,217 $\\n\\n46,710 $\\n\\n5,454 $ 3,531\\n\\n5,114 $ 3,293\\n\\n2,283 1,932 (4,841)\\n\\n2,365 1,896 (4,262)\\n\\n676 (2,840) (6)\\n\\n669 (2,219) 205\\n\\n6,201 $\\n\\n6,651 $\\n\\n283 $ 215 56\\n\\n146 $ 197 78\\n\\n64 271\\n\\n56 222\\n\\n889 7 140\\n\\n699 9 103\\n\\n1,036 $\\n\\n811 $\\n\\n128 $ 120\\n\\n124 $ 134\\n\\n54 42 211\\n\\n41 42 220\\n\\n555 17\\n\\n561 22\\n\\n131 703 $\\n\\n134 717 $\\n\\n2021\\n\\n17,179 11,456 8,290\\n\\n5,343 25\\n\\n42,293 2,205 40\\n\\n44,538\\n\\n5,089 2,435\\n\\n3,243 1,530 (3,656)\\n\\n543 (2,261) 262\\n\\n6,661\\n\\n98 153 94\\n\\n54 278\\n\\n677 7 107\\n\\n791\\n\\n130 136\\n\\n46 43 222\\n\\n577 26\\n\\n141 744\\n\\nTable of Contents\\n\\nAS OF MAY 31,'},\n",
              " Document {'id': 'doc:redispy:204', 'payload': None, 'score': '0.384125471115', 'content': \"To the Board of Directors and Shareholders of NIKE, Inc.\\n\\nOpinions on the Financial Statements and Internal Control over Financial Reporting\\n\\nWe have audited the accompanying consolidated balance sheets of NIKE, Inc. and its subsidiaries (the “Company”) as of May 31, 2023 and 2022, and the related consolidated statements of income, of comprehensive income, of shareholders' equity and of cash flows for each of the three years in the period ended May 31, 2023, including the related notes and financial statement schedule listed in the index appearing under Item 15(a)(2) (collectively referred to as the “consolidated financial statements”). We also have audited the Company's internal control over financial reporting as of May 31, 2023, based on criteria established in Internal Control - Integrated Framework (2013) issued by the Committee of Sponsoring Organizations of the Treadway Commission (COSO).\"},\n",
              " Document {'id': 'doc:redispy:287', 'payload': None, 'score': '0.384333252907', 'content': 'Global Brand Divisions is included within the NIKE Brand for presentation purposes to align with the way management views the Company. Global Brand Divisions revenues include NIKE Brand licensing and other miscellaneous revenues that are not part of a geographic operating segment. Global Brand Divisions costs represent demand creation and operating overhead expense that include product creation and design expenses centrally managed for the NIKE Brand, as well as costs associated with NIKE Direct global digital operations and enterprise technology.\\n\\n2023 FORM 10-K 84\\n\\nTable of Contents\\n\\nCorporate consists primarily of unallocated general and administrative expenses, including expenses associated with centrally managed departments; depreciation and amortization related to the Company\\'s headquarters; unallocated insurance, benefit and compensation programs, including stock-based compensation; and certain foreign currency gains and losses, including certain hedge gains and losses.\\n\\nThe primary financial measure used by the Company to evaluate performance of individual operating segments is earnings before interest and taxes (\"EBIT\"), which represents Net income before Interest expense (income), net and Income tax expense in the Consolidated Statements of Income.'},\n",
              " Document {'id': 'doc:redispy:154', 'payload': None, 'score': '0.386544883251', 'content': \"mix, lower margins in NIKE Direct due to higher promotional activity and a lower mix of full-price sales. This was partially offset by higher full-price ASP, net of discounts, largely due to strategic pricing actions and product mix.\\n\\nSelling and administrative expense increased 15% due to higher operating overhead and demand creation expense. The increase in operating overhead expense was primarily due to higher wage-related costs and higher NIKE Direct variable costs, in part due to new store additions. Demand creation expense increased primarily due to higher sports marketing expense and an increase in digital marketing.\\n\\n2023 FORM 10-K 37\\n\\nTable of Contents\\n\\nEUROPE, MIDDLE EAST & AFRICA\\n\\n% CHANGE EXCLUDING CURRENCY\\n\\n(Dollars in millions)\\n\\nFISCAL 2023 FISCAL 2022\\n\\n% CHANGE\\n\\nCHANGES FISCAL 2021\\n\\n% CHANGE\\n\\nRevenues by:\\n\\nFootwear Apparel Equipment\\n\\n$\\n\\n8,260 $ 4,566 592\\n\\n7,388 4,527 564\\n\\n12 % 1 % 5 %\\n\\n25 % $ 14 % 18 %\\n\\n6,970 3,996 490\\n\\n6 % 13 % 15 %\\n\\nTOTAL REVENUES\\n\\n$\\n\\n13,418 $\\n\\n12,479\\n\\n8 %\\n\\n21 % $\\n\\n11,456\\n\\n9 %\\n\\nRevenues by:\\n\\nSales to Wholesale Customers Sales through NIKE Direct\\n\\n$\\n\\n8,522 $ 4,896\\n\\n8,377 4,102\\n\\n2 % 19 %\\n\\n15 % $ 33 %\\n\\n7,812 3,644\\n\\n7 % 13 %\\n\\nTOTAL REVENUES\\n\\n$\\n\\n13,418 $\\n\\n12,479\\n\\n8 %\\n\\n21 % $\\n\\n11,456\\n\\n9 %\\n\\nEARNINGS BEFORE INTEREST AND TAXES\\n\\n$\\n\\n3,531 $\\n\\n3,293\\n\\n7 %\\n\\n$\\n\\n2,435\\n\\n35 %\\n\\nFISCAL 2023 COMPARED TO FISCAL 2022\\n\\nEMEA revenues increased 21% on a currency-neutral basis, due to higher revenues in Men's, the Jordan Brand, Women's and Kids'. NIKE Direct revenues\"},\n",
              " Document {'id': 'doc:redispy:153', 'payload': None, 'score': '0.387761890888', 'content': \"increased 18%, driven by strong digital sales growth of 23%, comparable store sales growth of 9% and the addition of new stores.\\n\\nFootwear revenues increased 22% on a currency-neutral basis, primarily due to higher revenues in Men's and the Jordan Brand. Unit sales of footwear increased\\n\\n17%, while higher ASP per pair contributed approximately 5 percentage points of footwear revenue growth. Higher ASP per pair was primarily due to higher full-price ASP and growth in NIKE Direct, partially offset by lower NIKE Direct ASP, reflecting higher promotional activity as well as lower available inventory supply in the prior period and a lower mix of full-price sales.\\n\\nApparel revenues increased 9% on a currency-neutral basis, primarily due to higher revenues in Men's. Unit sales of apparel increased 7%, while higher ASP per unit contributed approximately 2 percentage points of apparel revenue growth. Higher ASP per unit was primarily due to higher full-price ASP and growth in NIKE Direct, partially offset by lower NIKE Direct ASP, reflecting higher promotional activity.\\n\\nReported EBIT increased 7% due to higher revenues and the following:\\n\\nGross margin contraction of 310 basis points primarily due to higher product costs, reflecting higher input costs and inbound freight and logistics costs and product\"}]"
            ]
          },
          "metadata": {},
          "execution_count": 15
        }
      ],
      "source": [
        "query = (\n",
        "    Query(\"@chunk_vector:[VECTOR_RANGE $radius $vec]=>{$YIELD_DISTANCE_AS: score}\")\n",
        "     .sort_by(\"score\")\n",
        "     .return_fields(\"content\", \"score\")\n",
        "     .dialect(2)\n",
        ")\n",
        "\n",
        "# Find all vectors within 0.8 of the query vector\n",
        "query_params = {\n",
        "    \"radius\": 0.8,\n",
        "    \"vec\": hf.embed(_input, as_buffer=True)\n",
        "}\n",
        "r.ft(index_name).search(query, query_params).docs"
      ]
    },
    {
      "cell_type": "markdown",
      "metadata": {
        "id": "IELiO9e4uPp9"
      },
      "source": [
        "### Hybrid Queries\n",
        "Hybrid queries contain both traditional filters (numeric, tags, text) and VSS in one single Redis command."
      ]
    },
    {
      "cell_type": "code",
      "execution_count": 16,
      "metadata": {
        "id": "qkzGPmMnuPp-",
        "outputId": "119a50ab-be26-4ee0-dcb9-fbe99ac41584",
        "colab": {
          "base_uri": "https://localhost:8080/"
        }
      },
      "outputs": [
        {
          "output_type": "execute_result",
          "data": {
            "text/plain": [
              "[Document {'id': 'doc:redispy:145', 'payload': None, 'score': '0.362203001976', 'content': 'NIKE Brand apparel revenues increased 8% on a currency-neutral basis, primarily due to higher revenues in Men\\'s. Unit sales of apparel increased 4%, while higher ASP per unit contributed approximately 4 percentage points of apparel revenue growth. Higher ASP was primarily due to higher full-price ASP and growth in the size of our NIKE Direct business, partially offset by lower NIKE Direct ASP, reflecting higher promotional activity.\\n\\nNIKE Direct revenues increased 14% from $18.7 billion in fiscal 2022 to $21.3 billion in fiscal 2023. On a currency-neutral basis, NIKE Direct revenues increased 20% primarily driven by NIKE Brand Digital sales growth of 24%, comparable store sales growth of 14% and the addition of new stores. For further information regarding comparable store sales, including the definition, see \"Comparable Store Sales\". NIKE Brand Digital sales were $12.6 billion for fiscal 2023 compared to $10.7 billion for fiscal 2022.\\n\\n2023 FORM 10-K 33\\n\\nTable of Contents\\n\\nGROSS MARGIN FISCAL 2023 COMPARED TO FISCAL 2022\\n\\nFor fiscal 2023, our consolidated gross profit increased 4% to $22,292 million compared to $21,479 million for fiscal 2022. Gross margin decreased 250 basis points to 43.5% for fiscal 2023 compared to 46.0% for fiscal 2022 due to the following:\\n\\nWholesale equivalent\\n\\nThe decrease in gross margin for fiscal 2023 was primarily due to:'},\n",
              " Document {'id': 'doc:redispy:140', 'payload': None, 'score': '0.389455020428', 'content': 'COMPARABLE STORE SALES Comparable store sales: This key metric, which excludes NIKE Brand Digital sales, comprises revenues from NIKE-owned in-line and factory stores for which all three of the following requirements have been met: (1) the store has been open at least one year, (2) square footage has not changed by more than 15% within the past year and (3) the store has not been permanently repositioned within the past year. Comparable store sales includes revenues from stores that were temporarily closed during the period as a result of COVID-19. Comparable store sales represents a performance metric that we believe is useful information for management and investors in understanding the performance of our established NIKE-owned in-line and factory stores. Management considers this metric when making financial and operating decisions. The method of calculating comparable store sales varies across the retail industry. As a result, our calculation of this metric may not be comparable to similarly titled metrics used by other companies.\\n\\n2023 FORM 10-K 30\\n\\nTable of Contents\\n\\nRESULTS OF OPERATIONS\\n\\n(Dollars in millions, except per share data)\\n\\nRevenues Cost of sales\\n\\nGross profit Gross margin\\n\\nDemand creation expense Operating overhead expense\\n\\nTotal selling and administrative expense % of revenues\\n\\nInterest expense (income), net\\n\\nOther (income) expense, net Income before income taxes\\n\\nIncome tax expense Effective tax rate\\n\\nNET INCOME Diluted earnings per common share\\n\\n$\\n\\n$ $'}]"
            ]
          },
          "metadata": {},
          "execution_count": 16
        }
      ],
      "source": [
        "query = (\n",
        "    Query(\"@content:profit=>[KNN 2 @chunk_vector $vec as score]\")\n",
        "     .sort_by(\"score\")\n",
        "     .return_fields(\"content\", \"score\")\n",
        "     .paging(0, 2)\n",
        "     .dialect(2)\n",
        ")\n",
        "\n",
        "query_params = {\n",
        "    \"vec\": hf.embed(_input, as_buffer=True)\n",
        "}\n",
        "r.ft(index_name).search(query, query_params).docs"
      ]
    },
    {
      "cell_type": "code",
      "execution_count": 17,
      "metadata": {
        "id": "XpL7r3tquPp-",
        "outputId": "ebfa224d-c022-4a3a-8a76-42a306e9c166",
        "colab": {
          "base_uri": "https://localhost:8080/"
        }
      },
      "outputs": [
        {
          "output_type": "execute_result",
          "data": {
            "text/plain": [
              "b'OK'"
            ]
          },
          "metadata": {},
          "execution_count": 17
        }
      ],
      "source": [
        "r.ft(index_name).dropindex(True)"
      ]
    },
    {
      "cell_type": "markdown",
      "metadata": {
        "id": "BeJA5u14uPp-"
      },
      "source": [
        "### What about JSON Support?\n",
        "\n",
        "Redis also allows you to store data in JSON objects. The JSON fields can contain metadata and vectors. Below is a simple example of indexing JSON data.\n",
        "\n",
        "**For now** -- JSON support is only enabled in the base redis-py library. It is coming soon to LangChain and RedisVL."
      ]
    },
    {
      "cell_type": "code",
      "execution_count": 18,
      "metadata": {
        "id": "-V_gPbmguPp-",
        "outputId": "1a0fe731-3f18-4112-ebc7-3ff8bfde92f8",
        "colab": {
          "base_uri": "https://localhost:8080/"
        }
      },
      "outputs": [
        {
          "output_type": "execute_result",
          "data": {
            "text/plain": [
              "b'OK'"
            ]
          },
          "metadata": {},
          "execution_count": 18
        }
      ],
      "source": [
        "index_name = \"redispy:json\"\n",
        "key_prefix = \"doc:redispy:json\"\n",
        "\n",
        "# schema\n",
        "schema = (\n",
        "    TextField(\"$.content\",                     # Text Field Name (JSON path)\n",
        "        as_name=\"content\"                      # Text Field Alias -- required for JSON\n",
        "    ),\n",
        "    VectorField(\"$.chunk_vector\",              # Vector Field Name (JSON path)\n",
        "        \"FLAT\", {                              # Vector Index Type: FLAT or HNSW\n",
        "            \"TYPE\": \"FLOAT32\",\n",
        "            \"DIM\": 384,                        # Number of Vector Dimensions\n",
        "            \"DISTANCE_METRIC\": \"COSINE\",       # Vector Search Distance Metric\n",
        "        },\n",
        "        as_name=\"chunk_vector\"                 # Vector Field Alias -- required for JSON\n",
        "    ),\n",
        ")\n",
        "\n",
        "# index Definition\n",
        "definition = IndexDefinition(prefix=[key_prefix], index_type=IndexType.JSON) # select JSON here\n",
        "\n",
        "# create Index\n",
        "r.ft(index_name).create_index(fields=schema, definition=definition)"
      ]
    },
    {
      "cell_type": "code",
      "execution_count": 19,
      "metadata": {
        "id": "rh7NKirOuPp_",
        "outputId": "b20937c1-344a-45a2-fd6c-1a9e3c2770ae",
        "colab": {
          "base_uri": "https://localhost:8080/"
        }
      },
      "outputs": [
        {
          "output_type": "execute_result",
          "data": {
            "text/plain": [
              "{'index_name': 'redispy:json',\n",
              " 'index_options': [],\n",
              " 'index_definition': [b'key_type',\n",
              "  b'JSON',\n",
              "  b'prefixes',\n",
              "  [b'doc:redispy:json'],\n",
              "  b'default_score',\n",
              "  b'1'],\n",
              " 'attributes': [[b'identifier',\n",
              "   b'$.content',\n",
              "   b'attribute',\n",
              "   b'content',\n",
              "   b'type',\n",
              "   b'TEXT',\n",
              "   b'WEIGHT',\n",
              "   b'1'],\n",
              "  [b'identifier',\n",
              "   b'$.chunk_vector',\n",
              "   b'attribute',\n",
              "   b'chunk_vector',\n",
              "   b'type',\n",
              "   b'VECTOR']],\n",
              " 'num_docs': '0',\n",
              " 'max_doc_id': '0',\n",
              " 'num_terms': '0',\n",
              " 'num_records': '0',\n",
              " 'inverted_sz_mb': '0',\n",
              " 'vector_index_sz_mb': '0.00818634033203125',\n",
              " 'total_inverted_index_blocks': '0',\n",
              " 'offset_vectors_sz_mb': '0',\n",
              " 'doc_table_size_mb': '0',\n",
              " 'sortable_values_size_mb': '0',\n",
              " 'key_table_size_mb': '0',\n",
              " 'geoshapes_sz_mb': '0',\n",
              " 'records_per_doc_avg': 'nan',\n",
              " 'bytes_per_record_avg': 'nan',\n",
              " 'offsets_per_term_avg': 'nan',\n",
              " 'offset_bits_per_record_avg': 'nan',\n",
              " 'hash_indexing_failures': '0',\n",
              " 'total_indexing_time': '0',\n",
              " 'indexing': '0',\n",
              " 'percent_indexed': '1',\n",
              " 'number_of_uses': 1,\n",
              " 'cleaning': 0,\n",
              " 'gc_stats': [b'bytes_collected',\n",
              "  b'0',\n",
              "  b'total_ms_run',\n",
              "  b'0',\n",
              "  b'total_cycles',\n",
              "  b'0',\n",
              "  b'average_cycle_time_ms',\n",
              "  b'nan',\n",
              "  b'last_run_time_ms',\n",
              "  b'0',\n",
              "  b'gc_numeric_trees_missed',\n",
              "  b'0',\n",
              "  b'gc_blocks_denied',\n",
              "  b'0'],\n",
              " 'cursor_stats': [b'global_idle',\n",
              "  0,\n",
              "  b'global_total',\n",
              "  0,\n",
              "  b'index_capacity',\n",
              "  128,\n",
              "  b'index_total',\n",
              "  0],\n",
              " 'dialect_stats': [b'dialect_1',\n",
              "  0,\n",
              "  b'dialect_2',\n",
              "  0,\n",
              "  b'dialect_3',\n",
              "  0,\n",
              "  b'dialect_4',\n",
              "  0]}"
            ]
          },
          "metadata": {},
          "execution_count": 19
        }
      ],
      "source": [
        "r.ft(index_name).info()"
      ]
    },
    {
      "cell_type": "code",
      "execution_count": 20,
      "metadata": {
        "id": "UawMtBgSuPp_"
      },
      "outputs": [],
      "source": [
        "# Write JSON data to the index\n",
        "\n",
        "batch_size = 200\n",
        "pipe = r.pipeline(transaction=False)\n",
        "\n",
        "for i, chunk in enumerate(chunks):\n",
        "    redis_key = f\"{key_prefix}:{i}\"\n",
        "    data = {\n",
        "        'content': chunk.page_content,\n",
        "        'chunk_vector': chunk_embeddings[i] # notice that we don't need to convert JSON embeddings to bytes\n",
        "    }\n",
        "    pipe.json().set(redis_key, \"$\", data)\n",
        "    # mini batch\n",
        "    if i % batch_size == 0:\n",
        "        res = pipe.execute()\n",
        "\n",
        "res = pipe.execute() # make sure to use mini batches if working with larger datasets"
      ]
    },
    {
      "cell_type": "code",
      "execution_count": 21,
      "metadata": {
        "id": "aoJljsrAuPp_",
        "outputId": "38f0faf9-9d59-4bea-947b-a3e21f9055ac",
        "colab": {
          "base_uri": "https://localhost:8080/"
        }
      },
      "outputs": [
        {
          "output_type": "execute_result",
          "data": {
            "text/plain": [
              "[{'content': 'Indicate by check mark:YESNO•if the registrant is a well-known seasoned issuer, as defined in Rule 405 of the Securities Act.þ¨•if the registrant is not required to file reports pursuant to Section 13 or Section 15(d) of the Act.¨þ•whether the registrant (1) has filed all reports required to be filed by Section 13 or 15(d) of the Securities Exchange Act of 1934 during the preceding12 months (or for such shorter period that the registrant was required to file such reports), and (2) has been subject to such filing requirements for thepast 90 days.þ¨•whether the registrant has submitted electronically every Interactive Data File required to be submitted pursuant to Rule 405 of Regulation S-T(§232.405 of this chapter) during the preceding 12 months (or for such shorter period that the registrant was required to submit such files).þ¨•whether the registrant is a large accelerated filer, an accelerated filer, a non-accelerated filer, a smaller reporting company or an emerging growth company. See the definitions of “large accelerated filer,”“accelerated filer,” “smaller reporting company,” and “emerging growth company” in Rule 12b-2 of the Exchange Act.Large accelerated filerþAccelerated filer☐Non-accelerated filer☐Smaller reporting company☐Emerging growth company☐•if an emerging growth company, if the registrant has elected not to use the extended transition period for complying with any new or revised financialaccounting standards provided pursuant to Section 13(a) of the Exchange',\n",
              "  'chunk_vector': [-0.056716158986091614,\n",
              "   -0.011659575626254082,\n",
              "   -0.05913562700152397,\n",
              "   -0.008317659609019756,\n",
              "   0.0032940504606813192,\n",
              "   -0.00789639912545681,\n",
              "   -0.0038979481905698776,\n",
              "   0.04658719152212143,\n",
              "   -0.011523268185555937,\n",
              "   0.005189663264900446,\n",
              "   0.12027321010828018,\n",
              "   0.051973581314086914,\n",
              "   0.004032068885862827,\n",
              "   -0.01787739247083664,\n",
              "   -0.061960551887750626,\n",
              "   -0.05519745498895645,\n",
              "   0.003767765127122402,\n",
              "   -0.025938699021935463,\n",
              "   -0.028066951781511307,\n",
              "   0.014086898416280746,\n",
              "   0.022216185927391052,\n",
              "   -0.05087677761912346,\n",
              "   -0.03681448474526405,\n",
              "   -0.010963539592921734,\n",
              "   0.034511499106884,\n",
              "   -0.02647637203335762,\n",
              "   -0.057079214602708817,\n",
              "   0.021238306537270542,\n",
              "   0.0039506955072283745,\n",
              "   -0.013251781463623049,\n",
              "   -0.003085944801568985,\n",
              "   0.002906004898250103,\n",
              "   0.035273149609565735,\n",
              "   0.03736171871423721,\n",
              "   0.11715975403785706,\n",
              "   -0.02439865842461586,\n",
              "   0.05629725009202957,\n",
              "   -0.044285327196121216,\n",
              "   0.020913781598210335,\n",
              "   -0.05581933259963989,\n",
              "   -0.003945218399167061,\n",
              "   -0.066925548017025,\n",
              "   -0.03299276530742645,\n",
              "   0.05068541690707207,\n",
              "   -0.005431764293462038,\n",
              "   -0.03509596735239029,\n",
              "   0.010798170231282713,\n",
              "   -0.028097279369831085,\n",
              "   -0.14127281308174133,\n",
              "   0.031974390149116516,\n",
              "   -0.054145120084285736,\n",
              "   0.03183615952730179,\n",
              "   0.017796626314520836,\n",
              "   0.03721095249056816,\n",
              "   -0.04986999183893204,\n",
              "   -0.03802485018968582,\n",
              "   -0.05976277217268944,\n",
              "   -0.008071677759289742,\n",
              "   -0.035728514194488525,\n",
              "   0.017504923045635223,\n",
              "   -0.052153028547763824,\n",
              "   -0.03380658105015755,\n",
              "   -0.042964305728673935,\n",
              "   0.0335884764790535,\n",
              "   0.02683025412261486,\n",
              "   0.07895461469888687,\n",
              "   -0.03411586582660675,\n",
              "   -0.061589062213897705,\n",
              "   0.01877473294734955,\n",
              "   -0.031747281551361084,\n",
              "   -0.09662564843893053,\n",
              "   -0.01660209707915783,\n",
              "   -0.13916826248168945,\n",
              "   0.13348883390426636,\n",
              "   -0.0651121437549591,\n",
              "   -0.0164622999727726,\n",
              "   -0.04225718602538109,\n",
              "   0.14923392236232758,\n",
              "   0.03758304938673973,\n",
              "   -0.1621902734041214,\n",
              "   0.02147633396089077,\n",
              "   0.03296209126710892,\n",
              "   0.004574596416205168,\n",
              "   -0.04110630229115486,\n",
              "   0.016066057607531548,\n",
              "   -0.035925328731536865,\n",
              "   0.01289584580808878,\n",
              "   0.0739741325378418,\n",
              "   0.04364112764596939,\n",
              "   0.03458087146282196,\n",
              "   0.11998709291219713,\n",
              "   -0.010063507594168186,\n",
              "   0.06414185464382172,\n",
              "   -0.01140082348138094,\n",
              "   -0.024655653163790703,\n",
              "   -0.03975491970777512,\n",
              "   -0.03350206837058067,\n",
              "   0.036657676100730896,\n",
              "   0.05628165975213051,\n",
              "   0.04327477142214775,\n",
              "   0.014126249589025974,\n",
              "   0.03837429732084274,\n",
              "   -0.08671603351831436,\n",
              "   -0.0108904791995883,\n",
              "   -0.04975850135087967,\n",
              "   -0.039602652192115784,\n",
              "   0.024654662236571312,\n",
              "   0.00808264035731554,\n",
              "   0.001653737504966557,\n",
              "   0.00653444416821003,\n",
              "   -0.03257843106985092,\n",
              "   0.0037614128086715937,\n",
              "   0.015182984061539171,\n",
              "   -0.10208770632743835,\n",
              "   -0.010865515097975733,\n",
              "   0.0005746056558564305,\n",
              "   -0.13637413084506989,\n",
              "   0.09012263268232346,\n",
              "   0.012654689140617847,\n",
              "   -0.005373480264097452,\n",
              "   0.04523894563317299,\n",
              "   0.07942336797714233,\n",
              "   -0.021911410614848137,\n",
              "   -0.05145442858338356,\n",
              "   0.06546616554260254,\n",
              "   -0.01234777458012104,\n",
              "   0.0015380327822640538,\n",
              "   4.9261831142413306e-33,\n",
              "   -0.021613366901874546,\n",
              "   0.049380313605070114,\n",
              "   -0.007409210782498121,\n",
              "   0.014648635871708391,\n",
              "   -0.018266411498188972,\n",
              "   0.00829099491238594,\n",
              "   0.041785407811403275,\n",
              "   0.030325816944241524,\n",
              "   -0.0355527438223362,\n",
              "   0.06317340582609177,\n",
              "   -0.005424629431217909,\n",
              "   -0.012027681805193424,\n",
              "   -0.006563856732100248,\n",
              "   -0.033671919256448746,\n",
              "   0.009085160680115225,\n",
              "   0.06245617195963859,\n",
              "   0.043656669557094574,\n",
              "   0.07849001884460449,\n",
              "   0.03734099492430687,\n",
              "   -0.0013514203019440174,\n",
              "   0.08417362719774246,\n",
              "   -0.06565111130475998,\n",
              "   0.012307146564126016,\n",
              "   0.04223618656396866,\n",
              "   0.027912460267543793,\n",
              "   0.01620548963546753,\n",
              "   -0.04906345531344414,\n",
              "   -0.013657710514962671,\n",
              "   -4.496019755606539e-05,\n",
              "   0.014250065200030804,\n",
              "   0.0503847599029541,\n",
              "   -0.06049790605902672,\n",
              "   0.0944589376449585,\n",
              "   0.02711658366024494,\n",
              "   0.08498982340097427,\n",
              "   0.037409111857414246,\n",
              "   0.01313487533479929,\n",
              "   -0.07508745044469833,\n",
              "   0.06288665533065796,\n",
              "   -0.01495812088251114,\n",
              "   0.02261839248239994,\n",
              "   0.040147121995687485,\n",
              "   -0.032323431223630905,\n",
              "   0.02962685003876686,\n",
              "   -0.021182432770729065,\n",
              "   0.011827509850263596,\n",
              "   0.058874182403087616,\n",
              "   0.034365586936473846,\n",
              "   0.05292041599750519,\n",
              "   0.028578834608197212,\n",
              "   0.04790513589978218,\n",
              "   0.011545538902282717,\n",
              "   0.012115967459976671,\n",
              "   -0.01529675628989935,\n",
              "   0.010528037324547768,\n",
              "   0.02750086598098278,\n",
              "   -0.05391635373234749,\n",
              "   -0.08786336332559586,\n",
              "   -0.016713116317987442,\n",
              "   0.0005408634897321463,\n",
              "   0.06657670438289642,\n",
              "   -0.001243563136085868,\n",
              "   -0.08483318984508514,\n",
              "   -0.03778656572103501,\n",
              "   -0.11752831935882568,\n",
              "   -0.011023744009435177,\n",
              "   0.025460366159677505,\n",
              "   0.028899332508444783,\n",
              "   0.028651291504502296,\n",
              "   -0.004040451720356941,\n",
              "   0.03322850167751312,\n",
              "   -0.008274614810943604,\n",
              "   -0.029289472848176956,\n",
              "   -0.0455806702375412,\n",
              "   0.08115829527378082,\n",
              "   -0.05207341909408569,\n",
              "   0.03421672806143761,\n",
              "   0.05650104954838753,\n",
              "   -0.03614940866827965,\n",
              "   -0.0138125317171216,\n",
              "   -0.027507439255714417,\n",
              "   -0.0836934819817543,\n",
              "   -0.002258008113130927,\n",
              "   -0.008218971081078053,\n",
              "   0.00889179203659296,\n",
              "   0.0437929704785347,\n",
              "   0.028652535751461983,\n",
              "   0.061882421374320984,\n",
              "   -0.032792285084724426,\n",
              "   0.032044392079114914,\n",
              "   0.05106934905052185,\n",
              "   -0.03989817947149277,\n",
              "   -0.06732732802629471,\n",
              "   0.06916201859712601,\n",
              "   0.07629560679197311,\n",
              "   -5.587872925081028e-33,\n",
              "   -0.05238453671336174,\n",
              "   -0.0768020823597908,\n",
              "   -0.037908196449279785,\n",
              "   -0.020383890718221664,\n",
              "   -0.06120149791240692,\n",
              "   0.025346286594867703,\n",
              "   -0.008370495401322842,\n",
              "   -0.02260984294116497,\n",
              "   0.025885136798024178,\n",
              "   -0.021755056455731392,\n",
              "   -0.031069349497556686,\n",
              "   -0.07620610296726227,\n",
              "   0.05683555826544762,\n",
              "   -0.097026064991951,\n",
              "   -0.05258724093437195,\n",
              "   -0.014154208824038506,\n",
              "   -0.05940765887498856,\n",
              "   0.0060858274810016155,\n",
              "   -0.0049874307587742805,\n",
              "   0.03384174779057503,\n",
              "   -0.005921977572143078,\n",
              "   0.01705128140747547,\n",
              "   0.06552361696958542,\n",
              "   0.07571329921483994,\n",
              "   0.026493823155760765,\n",
              "   0.05787288397550583,\n",
              "   -0.009230921976268291,\n",
              "   0.04132227972149849,\n",
              "   0.0371713787317276,\n",
              "   0.04255904629826546,\n",
              "   0.006139351520687342,\n",
              "   -0.03118240274488926,\n",
              "   -0.07460658252239227,\n",
              "   0.010669684037566183,\n",
              "   -0.03354635089635849,\n",
              "   -0.15531587600708008,\n",
              "   0.08464140444993973,\n",
              "   0.01373206079006195,\n",
              "   0.009721437469124794,\n",
              "   0.08584221452474594,\n",
              "   0.004308721981942654,\n",
              "   0.06714287400245667,\n",
              "   0.00785464234650135,\n",
              "   0.05683258920907974,\n",
              "   -0.04113231971859932,\n",
              "   -0.013434861786663532,\n",
              "   0.0695912167429924,\n",
              "   -0.0037570593412965536,\n",
              "   0.06738363206386566,\n",
              "   -0.01582740806043148,\n",
              "   -0.042550694197416306,\n",
              "   -0.019306503236293793,\n",
              "   0.08718199282884598,\n",
              "   0.019227664917707443,\n",
              "   -0.014733848161995413,\n",
              "   0.0701470896601677,\n",
              "   0.003214616794139147,\n",
              "   -0.079805888235569,\n",
              "   -0.05911591649055481,\n",
              "   0.03110090270638466,\n",
              "   0.06500415503978729,\n",
              "   0.03771522268652916,\n",
              "   -0.011101785115897655,\n",
              "   0.04114765673875809,\n",
              "   0.07790885865688324,\n",
              "   -0.07993990182876587,\n",
              "   0.000904094777069986,\n",
              "   -0.02424824610352516,\n",
              "   0.025828197598457336,\n",
              "   -0.025672655552625656,\n",
              "   -0.010030875913798807,\n",
              "   -0.13402166962623596,\n",
              "   -0.0956728458404541,\n",
              "   -0.1081225723028183,\n",
              "   0.002304984023794532,\n",
              "   0.033570222556591034,\n",
              "   0.05503703653812408,\n",
              "   -0.03730054199695587,\n",
              "   -0.07429222017526627,\n",
              "   0.01548703107982874,\n",
              "   -0.08533646166324615,\n",
              "   0.10538749396800996,\n",
              "   -0.0464361347258091,\n",
              "   0.016693193465471268,\n",
              "   0.047422267496585846,\n",
              "   -0.03213627636432648,\n",
              "   0.06819500029087067,\n",
              "   -0.022479083389043808,\n",
              "   0.04369533434510231,\n",
              "   0.06110412999987602,\n",
              "   0.015963563695549965,\n",
              "   0.016984496265649796,\n",
              "   0.015512914396822453,\n",
              "   0.03807101771235466,\n",
              "   -0.026590421795845032,\n",
              "   -5.811372716379992e-08,\n",
              "   -0.05283593013882637,\n",
              "   0.030170517042279243,\n",
              "   -0.01876576617360115,\n",
              "   0.016603264957666397,\n",
              "   0.11898119747638702,\n",
              "   0.028271546587347984,\n",
              "   0.02384277246892452,\n",
              "   -0.01508248969912529,\n",
              "   -0.01461151335388422,\n",
              "   -0.025298811495304108,\n",
              "   0.10198990255594254,\n",
              "   -0.06846658885478973,\n",
              "   -0.08382885903120041,\n",
              "   -0.08172589540481567,\n",
              "   0.015595738776028156,\n",
              "   -0.1482321321964264,\n",
              "   -0.014929796569049358,\n",
              "   -0.03969068080186844,\n",
              "   -0.09679415822029114,\n",
              "   0.01711118593811989,\n",
              "   -0.017616266384720802,\n",
              "   -0.050184138119220734,\n",
              "   0.0023677553981542587,\n",
              "   0.007413152605295181,\n",
              "   -0.023834943771362305,\n",
              "   -0.04680721461772919,\n",
              "   0.06574200093746185,\n",
              "   0.08841325342655182,\n",
              "   0.032592084258794785,\n",
              "   -0.03616412729024887,\n",
              "   -0.043626368045806885,\n",
              "   0.02247592993080616,\n",
              "   0.06541071832180023,\n",
              "   -0.039622481912374496,\n",
              "   -0.0753309354186058,\n",
              "   -0.012584815733134748,\n",
              "   0.05730822682380676,\n",
              "   0.05197155475616455,\n",
              "   -0.010464719496667383,\n",
              "   0.029330924153327945,\n",
              "   -0.05328940600156784,\n",
              "   -0.006103730294853449,\n",
              "   0.03693382441997528,\n",
              "   0.074115090072155,\n",
              "   -0.020217593759298325,\n",
              "   0.017722109332680702,\n",
              "   -0.1228840798139572,\n",
              "   -0.08840565383434296,\n",
              "   0.04236374795436859,\n",
              "   -0.07665936648845673,\n",
              "   0.022923968732357025,\n",
              "   -0.05538664758205414,\n",
              "   0.02700662799179554,\n",
              "   0.12182595580816268,\n",
              "   0.009571872651576996,\n",
              "   0.04130592942237854,\n",
              "   0.023191241547465324,\n",
              "   0.04774414002895355,\n",
              "   0.001669642748311162,\n",
              "   -0.006967824883759022,\n",
              "   0.047537535429000854,\n",
              "   -0.03589172288775444,\n",
              "   0.0007124762050807476,\n",
              "   0.01919243298470974]}]"
            ]
          },
          "metadata": {},
          "execution_count": 21
        }
      ],
      "source": [
        "# Fetch the JSON doc\n",
        "r.json().get(f\"{key_prefix}:0\", \"$\")"
      ]
    },
    {
      "cell_type": "code",
      "execution_count": 22,
      "metadata": {
        "id": "m5yxhMciuPp_",
        "outputId": "45037131-972e-45e5-961b-f4ca0fb8f2e9",
        "colab": {
          "base_uri": "https://localhost:8080/"
        }
      },
      "outputs": [
        {
          "output_type": "execute_result",
          "data": {
            "text/plain": [
              "[Document {'id': 'doc:redispy:json:145', 'payload': None, 'score': '0.362203001976', 'content': 'NIKE Brand apparel revenues increased 8% on a currency-neutral basis, primarily due to higher revenues in Men\\'s. Unit sales of apparel increased 4%, while higher ASP per unit contributed approximately 4 percentage points of apparel revenue growth. Higher ASP was primarily due to higher full-price ASP and growth in the size of our NIKE Direct business, partially offset by lower NIKE Direct ASP, reflecting higher promotional activity.\\n\\nNIKE Direct revenues increased 14% from $18.7 billion in fiscal 2022 to $21.3 billion in fiscal 2023. On a currency-neutral basis, NIKE Direct revenues increased 20% primarily driven by NIKE Brand Digital sales growth of 24%, comparable store sales growth of 14% and the addition of new stores. For further information regarding comparable store sales, including the definition, see \"Comparable Store Sales\". NIKE Brand Digital sales were $12.6 billion for fiscal 2023 compared to $10.7 billion for fiscal 2022.\\n\\n2023 FORM 10-K 33\\n\\nTable of Contents\\n\\nGROSS MARGIN FISCAL 2023 COMPARED TO FISCAL 2022\\n\\nFor fiscal 2023, our consolidated gross profit increased 4% to $22,292 million compared to $21,479 million for fiscal 2022. Gross margin decreased 250 basis points to 43.5% for fiscal 2023 compared to 46.0% for fiscal 2022 due to the following:\\n\\nWholesale equivalent\\n\\nThe decrease in gross margin for fiscal 2023 was primarily due to:'},\n",
              " Document {'id': 'doc:redispy:json:140', 'payload': None, 'score': '0.389455020428', 'content': 'COMPARABLE STORE SALES Comparable store sales: This key metric, which excludes NIKE Brand Digital sales, comprises revenues from NIKE-owned in-line and factory stores for which all three of the following requirements have been met: (1) the store has been open at least one year, (2) square footage has not changed by more than 15% within the past year and (3) the store has not been permanently repositioned within the past year. Comparable store sales includes revenues from stores that were temporarily closed during the period as a result of COVID-19. Comparable store sales represents a performance metric that we believe is useful information for management and investors in understanding the performance of our established NIKE-owned in-line and factory stores. Management considers this metric when making financial and operating decisions. The method of calculating comparable store sales varies across the retail industry. As a result, our calculation of this metric may not be comparable to similarly titled metrics used by other companies.\\n\\n2023 FORM 10-K 30\\n\\nTable of Contents\\n\\nRESULTS OF OPERATIONS\\n\\n(Dollars in millions, except per share data)\\n\\nRevenues Cost of sales\\n\\nGross profit Gross margin\\n\\nDemand creation expense Operating overhead expense\\n\\nTotal selling and administrative expense % of revenues\\n\\nInterest expense (income), net\\n\\nOther (income) expense, net Income before income taxes\\n\\nIncome tax expense Effective tax rate\\n\\nNET INCOME Diluted earnings per common share\\n\\n$\\n\\n$ $'}]"
            ]
          },
          "metadata": {},
          "execution_count": 22
        }
      ],
      "source": [
        "# And now you can perform the same kinds of queries\n",
        "\n",
        "query = (\n",
        "    Query(\"@content:profit=>[KNN 2 @chunk_vector $vec as score]\")\n",
        "     .sort_by(\"score\")\n",
        "     .return_fields(\"content\", \"score\")\n",
        "     .paging(0, 2)\n",
        "     .dialect(2)\n",
        ")\n",
        "\n",
        "query_params = {\n",
        "    \"vec\": hf.embed(_input, as_buffer=True)\n",
        "}\n",
        "r.ft(index_name).search(query, query_params).docs"
      ]
    },
    {
      "cell_type": "markdown",
      "metadata": {
        "id": "5QKo9u3euPqA"
      },
      "source": [
        "## Cleanup\n",
        "Clean up the index and data."
      ]
    },
    {
      "cell_type": "code",
      "execution_count": 23,
      "metadata": {
        "id": "xgACLAd0uPqA",
        "outputId": "03679fc6-908a-4882-f564-4ac2f2c92076",
        "colab": {
          "base_uri": "https://localhost:8080/"
        }
      },
      "outputs": [
        {
          "output_type": "execute_result",
          "data": {
            "text/plain": [
              "b'OK'"
            ]
          },
          "metadata": {},
          "execution_count": 23
        }
      ],
      "source": [
        "r.ft(index_name).dropindex(True)"
      ]
    },
    {
      "cell_type": "markdown",
      "metadata": {
        "id": "tRLKYfhguPqA"
      },
      "source": [
        "## What's Next?\n",
        "\n",
        "Now that you have the basics down with the baseline Redis Python client,\n",
        "\n",
        "**RedisVL_VSS** is probably the next one to try. RedisVL makes it incredible easy to get started with Redis as a vector database.\n",
        "<a href=\"https://colab.research.google.com/github/Redislabs-Solution-Architects/financial-vss/blob/main/RedisVL_VSS.ipynb\" target=\"_parent\"><img src=\"https://colab.research.google.com/assets/colab-badge.svg\" alt=\"Open In Colab\"/></a>\n",
        "\n",
        "**LangChain_VSS** is next after that -- which will make it easy to integrate Redis with an LLM.\n",
        "<a href=\"https://colab.research.google.com/github/Redislabs-Solution-Architects/financial-vss/blob/main/LangChain_VSS.ipynb\" target=\"_parent\"><img src=\"https://colab.research.google.com/assets/colab-badge.svg\" alt=\"Open In Colab\"/></a>"
      ]
    }
  ],
  "metadata": {
    "colab": {
      "provenance": []
    },
    "kernelspec": {
      "display_name": "Python 3",
      "name": "python3"
    },
    "language_info": {
      "codemirror_mode": {
        "name": "ipython",
        "version": 3
      },
      "file_extension": ".py",
      "mimetype": "text/x-python",
      "name": "python",
      "nbconvert_exporter": "python",
      "pygments_lexer": "ipython3",
      "version": "3.9.18"
    }
  },
  "nbformat": 4,
  "nbformat_minor": 0
}