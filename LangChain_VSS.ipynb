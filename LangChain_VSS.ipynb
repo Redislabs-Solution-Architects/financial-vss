{
  "cells": [
    {
      "cell_type": "markdown",
      "metadata": {
        "id": "R2-i8jBl9GRH"
      },
      "source": [
        "<a href=\"https://colab.research.google.com/github/Redislabs-Solution-Architects/financial-vss/blob/main/LangChain_VSS.ipynb\" target=\"_parent\"><img src=\"https://colab.research.google.com/assets/colab-badge.svg\" alt=\"Open In Colab\"/></a>\n",
        "\n",
        "# Vector Similarity Search & Document QnA with LangChain\n",
        "![Redis](https://redis.com/wp-content/themes/wpx/assets/images/logo-redis.svg?auto=webp&quality=85,75&width=120)\n",
        "\n",
        "This notebook uses [LangChain](https://python.langchain.com/docs/get_started/introduction) and [Redis](https://redis.com) to perform document + embdding indexing and semantic search tasks. It also shows how to integrate with an LLM like OpenAI's GPT models."
      ]
    },
    {
      "cell_type": "markdown",
      "metadata": {
        "id": "ctOVb_LZ1vmk"
      },
      "source": [
        "## Setup and Data Prep\n",
        "\n",
        "### Pull Github Materials\n",
        "We need to clone the supporting materials from github."
      ]
    },
    {
      "cell_type": "code",
      "execution_count": 1,
      "metadata": {
        "id": "UQezgPCG1vml",
        "outputId": "5884527a-f700-46a8-ddb3-c0449a00b77d",
        "colab": {
          "base_uri": "https://localhost:8080/"
        }
      },
      "outputs": [
        {
          "output_type": "stream",
          "name": "stdout",
          "text": [
            "Cloning into 'temp_repo'...\n",
            "remote: Enumerating objects: 73, done.\u001b[K\n",
            "remote: Counting objects: 100% (73/73), done.\u001b[K\n",
            "remote: Compressing objects: 100% (52/52), done.\u001b[K\n",
            "remote: Total 73 (delta 30), reused 56 (delta 17), pack-reused 0\u001b[K\n",
            "Receiving objects: 100% (73/73), 6.92 MiB | 10.96 MiB/s, done.\n",
            "Resolving deltas: 100% (30/30), done.\n",
            "mv: cannot move 'temp_repo/resources' to './resources': Directory not empty\n"
          ]
        }
      ],
      "source": [
        "# This clones your git repository into a directory named 'temp_repo'.\n",
        "!git clone https://github.com/Redislabs-Solution-Architects/financial-vss.git temp_repo\n",
        "\n",
        "# This command moves the 'resources' directory from 'temp_repo' to your current directory.\n",
        "!mv temp_repo/resources .\n",
        "\n",
        "# This deletes the 'temp_repo' directory, cleaning up the unwanted files.\n",
        "!rm -rf temp_repo\n"
      ]
    },
    {
      "cell_type": "markdown",
      "metadata": {
        "id": "9eieJowO1vmo"
      },
      "source": [
        "### Install Python Dependencies"
      ]
    },
    {
      "cell_type": "code",
      "execution_count": 2,
      "metadata": {
        "id": "B3v1wUzX1vmq",
        "outputId": "4cdefe49-35d0-4382-9b01-8472170186f1",
        "colab": {
          "base_uri": "https://localhost:8080/"
        }
      },
      "outputs": [
        {
          "output_type": "stream",
          "name": "stdout",
          "text": [
            "\u001b[31mERROR: pip's dependency resolver does not currently take into account all the packages that are installed. This behaviour is the source of the following dependency conflicts.\n",
            "llmx 0.0.15a0 requires cohere, which is not installed.\u001b[0m\u001b[31m\n",
            "\u001b[0m"
          ]
        }
      ],
      "source": [
        "!pip install -q redis redisvl>==0.0.4 langchain pdf2image \"unstructured[all-docs]\" sentence-transformers openai tiktoken"
      ]
    },
    {
      "cell_type": "markdown",
      "metadata": {
        "id": "7MaVqU8Y1vms"
      },
      "source": [
        "### Preprocess PDF Doc(s)\n",
        "\n",
        "Now we will load a single financial (10k filings) doc and preprocess it using some LangChain helpers."
      ]
    },
    {
      "cell_type": "code",
      "execution_count": 3,
      "metadata": {
        "id": "I7VS1bPr1vmt",
        "outputId": "32c52605-47b0-4d76-dbc1-8955b97924bd",
        "colab": {
          "base_uri": "https://localhost:8080/"
        }
      },
      "outputs": [
        {
          "output_type": "stream",
          "name": "stdout",
          "text": [
            "Listing available documents ... ['resources/nke-10k-2023.pdf', 'resources/msft-10k-2023.pdf', 'resources/amzn-10k-2023.pdf', 'resources/aapl-10k-2023.pdf', 'resources/nvd-10k-2023.pdf', 'resources/jnj-10k-2023.pdf']\n",
            "Done preprocessing. Created 323 chunks of the original pdf resources/nke-10k-2023.pdf\n"
          ]
        }
      ],
      "source": [
        "import os\n",
        "\n",
        "from langchain.text_splitter import RecursiveCharacterTextSplitter\n",
        "from langchain.document_loaders import UnstructuredFileLoader\n",
        "\n",
        "# Load list of pdfs\n",
        "data_path = \"resources/\"\n",
        "docs = [os.path.join(data_path, file) for file in os.listdir(data_path)]\n",
        "\n",
        "print(\"Listing available documents ...\", docs)\n",
        "\n",
        "# For simplicity, we will just work with one of the 10k files. This will take some time still.\n",
        "# To Note: the UnstructuredFileLoader is not the only document loader type that LangChain provides\n",
        "# To Note: the RecursiveCharacterTextSplitter is what we use to create smaller chunks of text from the doc.\n",
        "# Docs: https://python.langchain.com/docs/integrations/document_loaders/unstructured_file\n",
        "# Docs: https://python.langchain.com/docs/modules/data_connection/document_transformers/text_splitters/recursive_text_splitter\n",
        "doc = [doc for doc in docs if \"nke\" in doc][0]\n",
        "text_splitter = RecursiveCharacterTextSplitter(chunk_size=1500, chunk_overlap=100, add_start_index=True)\n",
        "loader = UnstructuredFileLoader(doc, mode=\"single\", strategy=\"fast\")\n",
        "chunks = loader.load_and_split(text_splitter)\n",
        "\n",
        "print(\"Done preprocessing. Created\", len(chunks), \"chunks of the original pdf\", doc)"
      ]
    },
    {
      "cell_type": "code",
      "execution_count": 4,
      "metadata": {
        "id": "ouu8hhw81vmu",
        "outputId": "39c7aef8-fbdb-4a09-cd3c-adf292fdef64",
        "colab": {
          "base_uri": "https://localhost:8080/"
        }
      },
      "outputs": [
        {
          "output_type": "stream",
          "name": "stdout",
          "text": [
            "page_content=\"NIKE, Inc.(Exact name of Registrant as specified in its charter)Oregon93-0584541(State or other jurisdiction of incorporation)(IRS Employer Identification No.)One Bowerman Drive, Beaverton, Oregon 97005-6453(Address of principal executive offices and zip code)(503) 671-6453(Registrant's telephone number, including area code)SECURITIES REGISTERED PURSUANT TO SECTION 12(B) OF THE ACT:Class B Common StockNKENew York Stock Exchange(Title of each class)(Trading symbol)(Name of each exchange on which registered)SECURITIES REGISTERED PURSUANT TO SECTION 12(G) OF THE ACT:NONE\\n\\nAs of November 30, 2022, the aggregate market values of the Registrant's Common Stock held by non-affiliates were:Class A$7,831,564,572 Class B136,467,702,472 $144,299,267,044\\n\\nTable of ContentsUNITED STATESSECURITIES AND EXCHANGE COMMISSIONWashington, D.C. 20549FORM 10-K(Mark One)☑ ANNUAL REPORT PURSUANT TO SECTION 13 OR 15(D) OF THE SECURITIES EXCHANGE ACT OF 1934FOR THE FISCAL YEAR ENDED MAY 31, 2023OR☐ TRANSITION REPORT PURSUANT TO SECTION 13 OR 15(D) OF THE SECURITIES EXCHANGE ACT OF 1934FOR THE TRANSITION PERIOD FROM TO .Commission File No. 1-10635\\n\\nTable of Contents\\n\\nAs of July 12, 2023, the number of shares of the Registrant's Common Stock outstanding were:\\n\\nClass A\\n\\nClass B\\n\\nDOCUMENTS INCORPORATED BY REFERENCE:\\n\\nParts of Registrant's Proxy Statement for the Annual Meeting of Shareholders to be held on September 12, 2023, are incorporated by reference into Part III of this report.\\n\\n304,897,252\" metadata={'source': 'resources/nke-10k-2023.pdf', 'start_index': 2361}\n"
          ]
        }
      ],
      "source": [
        "# Take a look at one item\n",
        "print(chunks[2])"
      ]
    },
    {
      "cell_type": "markdown",
      "metadata": {
        "id": "7DGLPDKk1vmu"
      },
      "source": [
        "### Install Redis Stack (OPTIONAL)\n",
        "\n",
        "Redis Search will be used as Vector Similarity Search engine for LangChain.\n",
        "\n",
        "Instead of using in-notebook Redis Stack https://redis.io/docs/getting-started/install-stack/ you can provision your own free instance of Redis in the cloud. Get your own Free Redis Cloud instance at https://redis.com/try-free/"
      ]
    },
    {
      "cell_type": "code",
      "execution_count": 5,
      "metadata": {
        "id": "uwB4kvFE1vmv",
        "outputId": "e889e5cb-deaa-4cb3-abec-5416d3641e24",
        "colab": {
          "base_uri": "https://localhost:8080/"
        }
      },
      "outputs": [
        {
          "output_type": "stream",
          "name": "stdout",
          "text": [
            "deb [signed-by=/usr/share/keyrings/redis-archive-keyring.gpg] https://packages.redis.io/deb jammy main\n",
            "Starting redis-stack-server, database path /var/lib/redis-stack\n"
          ]
        },
        {
          "output_type": "stream",
          "name": "stderr",
          "text": [
            "gpg: cannot open '/dev/tty': No such device or address\n",
            "curl: (23) Failed writing body\n"
          ]
        }
      ],
      "source": [
        "%%sh\n",
        "curl -fsSL https://packages.redis.io/gpg | sudo gpg --dearmor -o /usr/share/keyrings/redis-archive-keyring.gpg\n",
        "echo \"deb [signed-by=/usr/share/keyrings/redis-archive-keyring.gpg] https://packages.redis.io/deb $(lsb_release -cs) main\" | sudo tee /etc/apt/sources.list.d/redis.list\n",
        "sudo apt-get update  > /dev/null 2>&1\n",
        "sudo apt-get install redis-stack-server  > /dev/null 2>&1\n",
        "redis-stack-server --daemonize yes"
      ]
    },
    {
      "cell_type": "markdown",
      "metadata": {
        "id": "O-HtSOg-1vmv"
      },
      "source": [
        "### Connect to Redis\n",
        "\n",
        "By default this notebook would connect to the local instance of Redis Stack. If you have your own Redis Cloud instance - replace REDIS_PASSWORD, REDIS_HOST and REDIS_PORT values with your own."
      ]
    },
    {
      "cell_type": "code",
      "execution_count": 6,
      "metadata": {
        "id": "b3F3GMkd1vmv"
      },
      "outputs": [],
      "source": [
        "# Replace values below with your own if using Redis Cloud instance\n",
        "REDIS_HOST = os.getenv(\"REDIS_HOST\", \"localhost\")\n",
        "REDIS_PORT = os.getenv(\"REDIS_PORT\", \"6379\")\n",
        "REDIS_PASSWORD = os.getenv(\"REDIS_PASSWORD\", \"\")\n",
        "#REDIS_HOST=\"redis-18374.c253.us-central1-1.gce.cloud.redislabs.com\"\n",
        "#REDIS_PORT=18374\n",
        "#REDIS_PASSWORD=\"1TNxTEdYRDgIDKM2gDfasupCADXXXX\"\n",
        "\n",
        "#shortcut for redis-cli $REDIS_CONN command\n",
        "if REDIS_PASSWORD!=\"\":\n",
        "  os.environ[\"REDIS_CONN\"]=f\"-h {REDIS_HOST} -p {REDIS_PORT} -a {REDIS_PASSWORD} --no-auth-warning\"\n",
        "else:\n",
        "  os.environ[\"REDIS_CONN\"]=f\"-h {REDIS_HOST} -p {REDIS_PORT}\"\n",
        "\n",
        "REDIS_URL = f\"redis://:{REDIS_PASSWORD}@{REDIS_HOST}:{REDIS_PORT}\"\n"
      ]
    },
    {
      "cell_type": "markdown",
      "metadata": {
        "id": "96BzcyW31vmw"
      },
      "source": [
        "### Initialize Embeddings Engine\n",
        "Here we will use LangChain's built in embedding engine so that it will work seemlessly with the LangChain VectorStore classes."
      ]
    },
    {
      "cell_type": "code",
      "execution_count": 7,
      "metadata": {
        "id": "_h1e-L9yZfaY"
      },
      "outputs": [],
      "source": [
        "from langchain.embeddings.huggingface import HuggingFaceEmbeddings\n",
        "\n",
        "embeddings = HuggingFaceEmbeddings(model_name=\"sentence-transformers/all-MiniLM-L6-v2\")"
      ]
    },
    {
      "cell_type": "markdown",
      "metadata": {
        "id": "Qrj-jeGmBRTL"
      },
      "source": [
        "## VSS with LangChain\n",
        "### Create Redis vector store instance\n",
        "\n",
        "We also need to create a schema for the vector index so we can take advantage of the metadata along with the vectors.\n",
        "\n",
        "**Important Note**: LangChain does not support JSON data types yet. Only supports HASH for now. This update should be coming soon."
      ]
    },
    {
      "cell_type": "code",
      "execution_count": 8,
      "metadata": {
        "id": "yY69FViAjNv1",
        "outputId": "0285f529-6924-47cc-98fa-9229fab49bff",
        "colab": {
          "base_uri": "https://localhost:8080/"
        }
      },
      "outputs": [
        {
          "output_type": "stream",
          "name": "stderr",
          "text": [
            "WARNING:langchain.vectorstores.redis.base:`index_schema` does not match generated metadata schema.\n",
            "If you meant to manually override the schema, please ignore this message.\n",
            "index_schema: {'vector': [{'name': 'chunk_vector', 'algorithm': 'HNSW', 'dims': 384, 'distance_metric': 'COSINE', 'datatype': 'FLOAT32'}], 'text': [{'name': 'content'}], 'content_vector_key': 'chunk_vector'}\n",
            "generated_schema: {'text': [{'name': 'source'}], 'numeric': [{'name': 'start_index'}], 'tag': []}\n",
            "\n"
          ]
        }
      ],
      "source": [
        "from langchain.vectorstores.redis import Redis\n",
        "\n",
        "\n",
        "# set the index name for this example\n",
        "index_name = \"langchain\"\n",
        "\n",
        "# with langchain we can manually modify the default vector schema configuration\n",
        "vector_schema = {\n",
        "    \"name\": \"chunk_vector\",        # name of the vector field in langchain\n",
        "    \"algorithm\": \"HNSW\",           # could use HNSW instead\n",
        "    \"dims\": 384,                   # set based on the HF model embedding dimension\n",
        "    \"distance_metric\": \"COSINE\",   # could use EUCLIDEAN or IP\n",
        "    \"datatype\": \"FLOAT32\",\n",
        "}\n",
        "\n",
        "# here we can define the entire schema spec for our index in LangChain\n",
        "index_schema = {\n",
        "    \"vector\": [vector_schema],\n",
        "    \"text\": [{\"name\": \"content\"}],\n",
        "    \"content_vector_key\": \"chunk_vector\"    # name of the vector field in langchain\n",
        "}\n",
        "\n",
        "\n",
        "# construct the vector store class from texts and metadata\n",
        "rds = Redis.from_documents(\n",
        "    documents=chunks,\n",
        "    embedding=embeddings,\n",
        "    index_name=index_name,\n",
        "    redis_url=REDIS_URL,\n",
        "    index_schema=index_schema,\n",
        ")"
      ]
    },
    {
      "cell_type": "code",
      "execution_count": 9,
      "metadata": {
        "id": "_Z3KpL8q1vmw"
      },
      "outputs": [],
      "source": [
        "# If you wish to connect to an existing Redis vector store instance\n",
        "rds = Redis.from_existing_index(\n",
        "    embedding=embeddings,\n",
        "    index_name=index_name,\n",
        "    schema=index_schema,\n",
        "    redis_url=REDIS_URL,\n",
        ")"
      ]
    },
    {
      "cell_type": "code",
      "execution_count": 10,
      "metadata": {
        "id": "KO0QVNtE1vmw",
        "outputId": "f990ae92-ee29-4ea3-ce73-9baa5df50070",
        "colab": {
          "base_uri": "https://localhost:8080/"
        }
      },
      "outputs": [
        {
          "output_type": "execute_result",
          "data": {
            "text/plain": [
              "{'text': [{'name': 'content',\n",
              "   'weight': 1,\n",
              "   'no_stem': False,\n",
              "   'withsuffixtrie': False,\n",
              "   'no_index': False,\n",
              "   'sortable': False}],\n",
              " 'vector': [{'name': 'chunk_vector',\n",
              "   'dims': 384,\n",
              "   'algorithm': 'HNSW',\n",
              "   'datatype': 'FLOAT32',\n",
              "   'distance_metric': 'COSINE',\n",
              "   'initial_cap': 20000,\n",
              "   'm': 16,\n",
              "   'ef_construction': 200,\n",
              "   'ef_runtime': 10,\n",
              "   'epsilon': 0.8}]}"
            ]
          },
          "metadata": {},
          "execution_count": 10
        }
      ],
      "source": [
        "# checkout out the schema we created\n",
        "rds.schema"
      ]
    },
    {
      "cell_type": "code",
      "execution_count": 11,
      "metadata": {
        "id": "gntcxF1P1vmx",
        "outputId": "0d203095-f810-4ba6-bbb5-b6d1d34ccb38",
        "colab": {
          "base_uri": "https://localhost:8080/"
        }
      },
      "outputs": [
        {
          "output_type": "execute_result",
          "data": {
            "text/plain": [
              "646"
            ]
          },
          "metadata": {},
          "execution_count": 11
        }
      ],
      "source": [
        "# access underlying redis client to see how many docs have been stores\n",
        "rds.client.dbsize()"
      ]
    },
    {
      "cell_type": "code",
      "execution_count": 12,
      "metadata": {
        "id": "vaXF7Gj-1vmy",
        "outputId": "5c75440d-8f6a-442c-e73b-53a6d041a926",
        "colab": {
          "base_uri": "https://localhost:8080/"
        }
      },
      "outputs": [
        {
          "output_type": "execute_result",
          "data": {
            "text/plain": [
              "{b'chunk_vector': b'\\x03\"{\\xbd\\xe2`P\\xbd\\xec \\x9e\\xbb~\\xd2\\xad\\xbd\\xb3dz=\\x086\\xc4=%\\x02W<\\xa2\\x96\\x18<\\xab=#\\xbdn\\\\\\x89:O\\x9a5=\\x0c\\'\\xc4<\\xe4\\x1f\\x1e=\\x9bE`=\\xf6\\xb3N\\xbc\\xf0k\\xd3\\xbb\\xd0\\xb7\\xc1<\\x94\\xbb\\xb3:\\xa7\\xb1\\xdd\\xbde\\'+\\xbb\\x85\\xa2F=\\x80>\\x0c\\xbd\\n\\xc7\\xa2\\xbcl\\xf27=\\xb8\\xcc\\x03\\xbe\\xbf\\xb1>\\xbc\\xe4Q@\\xbc@\\xfb\\xdb\\xbb\\n\\xf4\\x01\\xbc%#Z\\xbd\\xad\\xb4s\\xbdb1\\xbb<\\xce\\x85\\x87=\\xe2\\x85-\\xbb\\xac\\x91\\x84=\\xfcM\\x9f\\xbbs\\xe6\\x02\\xbc\\xf0\\x84\\x8a\\xbdK\\xeb\\x9c=\\xda\\x84\\x8e\\xbc\\xce\\xa2\\xaa<\\xdas\\xd1\\xbd\\x88\\x94\\x96\\xbc1T\\x96<\\xb8\\xac\\x9e<\\xe6\\xbc.\\xbd5\\xdd0=\\x80\\x00d\\xbc\\xa6\\x97x\\xbd\\nB\\xbf<\\x18\\xa2\\xe2\\xbc\\xc45\\xa3=\\x94\\xac\\x17\\xbd\\xec3\\xfa<\\xb5y*=:\\xad\\xd3\\xbdPB\\x1b=!t\\x89\\xbd\\xb1\\xc9\\x93\\xbd\\x06\\xd1>\\xbb\\xe4\\xcc%=%\\xba<\\xbd\\xa9(\\xb1\\xbc\\x04\\xf6Z<\\x950_\\xbd\\xfcV@\\xbc/\"|\\xbd1\\x02Y=/\\x08\\x9d\\xbd2\\xcf\\xb4<t\\xe2\\x83\\xbc\\xfd\\t\\x93\\xbdu\\x14M\\xbd\\\\\\xd8\\x85=\\xd2\\x7f\\xe2<\\xd9\\x925=\\x0fh\\xf8<_\\'\\x14<x\\xcc\\xbf;\\xb3\\xc0\\x96\\xbd\\xc9X\\x81=Q\\x81\\x84=\\xf8n\\xf1<\"\\x98_\\xbd\\xad\\xae=\\xbd\\tI\\x1a\\xbd$\\x0bD<\\xec-\\xa7\\xbb>$h=(\\xeaQ=%\\xf4\\x9c<\\xd0\\xfd\\xc0\\xbd\\x19\\xfc\\xf1=\\x05\\xd0}=\\x0f\\x87\\xf8<Mu\\xd1<`f\\x12<\\x1e\\x9c\\x00\\xbcU\\xc3R=\\x15v\\x89<\\xb5\\x00\\x92=\\xf3}\\xb3<\\x1f\\xe9\\xd2\\xbd\\\\\\x12\\x94\\xbc\\x08\\xcfW\\xbd\\xca\\xfa>\\xbc\\x82\\xa1\\xdd\\xbc\\x81dw\\xbd\\x8d\\x9b\\xf0\\xbb\\xe3\\x19\\xbf=\\xa0\\xef6\\xbd\\xde\\xdb\\x05=\\x85\\x81\\xcc\\xbd\\xfeFs\\xbda.\\x98\\xbc\\xc4\\xa5\\xbb<\\xf8D\\xd3<\\xc8\\xf5\\x8d<\\x04\\x01\\x18=+*0\\xbd6m\\x08=\\xd8\\x08\\x93=\\xbaq\\x15=z[\\x05\\xbd\\x8a>\\x86\\xbb\\x1a\\xbf\\xbf;\\x96\\xd7c\\xbd\\xa5\\xb8\\x84\\x88*\\x8aC\\xbd\\xa7\\xf5p\\xbc\\x94\\xd4\\x84\\xbd\\xe11\\x98\\xbc\\xd0m\\xca\\xbcB\\xcbF=\\xc2>e<\\n|D<k\\x13b\\xbb\\xce\\xa1\\xb6<)r\\x8e\\xbd$\\x1b\\xd1=\\x99\\x1aW\\xbc\\xcb\\x1b\\x8d<\\xc5\\xec\\xf2<\\xd6\\xde\\xe7<\\x93M\\xc1<_\\x06\\x13=\\x86m\\xb6=\\xae)};j\\xcd\\xae=\\x05v%\\xbe?]\\x1f<|U\\x88=\\x9d\\xa6\\x9b=\\xf5I\\xa7;/mt\\xbd)\\x842\\xbc\\xbaY\\xa5<\\xc0\\xa4$=\\xf6.\\x06=Z\\xec\\xa3<J\\xd6l=9=\\xfb;\\xddg\\xb6\\xbd\\x93\\xae\\\\=\\xfc\\xae\\t\\xbe7\\xb5 \\xbd\\xf6\\x95D\\xbd@\\xa8\\xae<]\\x81;\\xbd\\'\\xfa\\xd7<fq1\\xbc@/\\xbc=\\xbe\\xbc\\xaf=\\xd9\\xafw;\\xc2IX<\\x85\\x05w<O\\x11\\xf6\\xbb\\xd6|w\\xbcB\\x91`\\xbdEl\\xbe<#\\xd8\\xc4<b\\xbc\\xc3\\xbd\\x85_\\xa4\\xb9tOU\\xbd\\xefzY<\\xc8\\x08u\\xbd\\x11\\xa4\\xe48t\\xcc$;x\\x9c\\x8a\\xbd~L\\r=\\x96o\\x15<\\xd5\\xd2\\x9b=k-q\\xbdK \\xe3;\\xdb\\xa2\\xe8\\xbc\\xb7;l\\xbd\\x05\\x0e?\\xbd\\xe1^\\xb0\\xbdo\\xa9\\x9d\\xbc@\\xf9\\x07\\xbbS\\x184\\xbcj\\x1d\\x1a\\xbc\\x938\\t\\xbd\\xc9\\xd1\\x83;\\xf70/;\\x90\\xb5\\xa9=\\x06\\x1d\\x86=\\xd9\\xd4\\xeb\\xbd\\xa3k\\xd2\\xbd\")\\x9f<\\x00M\\xa8=\\x10P\\x02=\\x90\\x86\\x84\\xbdi\\x92\\xbf<\"]{;\\xad4\\x0b;\\xec\\x8c]<\\x9b\\xa3\\xba<\\xafK\\xb5\\xbc\\'c\\x93\\xbc\\x85S\\xb5<p\\x99\\x8f=\\t\\xf3J=\\x8ai\\xe1\\x88\\x92\\xa3\\xd8\\xbb\\xa0\\x88Q\\xba\\x83\\x17\\x13\\xbd\\xb99\\xa3\\xbd\\xa7\\x13\\xd7\\xbc\\x04Z\\xe1\\xbah\\x89v\\xbb\\xe5\\n\\xec<\\xde]\\x9e=\\xa8\\xf3\\x8e\\xbc\\xb4\\xe2\\xc7\\xbd\\x94J\\x10\\xbd\\xa69\\x89=oS\\xc6\\xbc\\x8dU\\x99\\xbd\\xf9\\xe9\\x12\\xbd>l\\x16=S\\x8e\\xa8=X\\xe7\\x8c\\xbcPp2\\xbd\\xcey\\x8a=\\xe9\\xb1\\xa2=\\xcf\\xcc\\x99\\xbc:\\x82\\x03<\\xed\\xc0K\\xbd^:==a\\xc0\\xa8\\xbc\\xe4\\xaa\\xc4\\xbdB\\xd6\\xb3=!\\x9c\\x1c=\\xb2PZ\\xbcrW\\x18=\\xaea\\xa1\\xbc\\xb2\\xe6\\xea=\\x1e\\x85\\\\\\xbdn\\xc6d\\xbdE*\\x9d;\\x03|\\xdb\\xbc\\x93!\\x81<\\x8e\\xdbg\\xbd\\x1dJ\\x87=\\xd7\\xe7\\xc6=\\x10\\xdc\\xdd\\xbc\\xef\\xdc{<~\\xd1\\x9f\\xbd\\x00\\xfd\"\\xbd\\xbe\\xfe\\xc6<\\x13\\x9f\\x05\\xbdk\\x0f\\xbd=\\xc8\\xea9\\xbd\\xf1\\xf2\\x0f\\xbde\\xde\\xb8\\xbbEo\\xae\\xbc\\xa9h\\x08=\\xe4\\x1c\\x87\\xbd\\x12\\xf7\\x07>\\xca\\xd7\\x03=\\xbf\\xfc\\x04\\xbb\\xe3\\xe4\\x15<n\\x90@=\\xce\\x03\\xdf;\\xe2\\xb5\\xcf=\\xa4e.<\\xbb6\\xa6<\\xc9\\x1b\\x8d=;P\\xed;\\x02\\x9e\\xa7<\\\\\\x97\\xa0<\\xce\\x0f\\x04>\\xe9\\xb2\\xc4\\xbb\\x14\\xbe\\xa6=\\x16\\xb3T\\xbbt\\x8bU\\xbdk:1\\xbd=\\x00q=4?z\\xbc\\x1a\\x906\\xbd\\xacY\\x07\\xbc\\xc1\\xe0\\x8c\\xbdk\\xb9\\x82=\\xeadl=`\\x01\\\\;\\x8aL\\xcf\\xbb\\x04\\x95\\x81=\\xd8\\xc0\\xf2<\\xdb\\xcb\\x90;7\\xa1\\xaa=M\\xee\\xe6<\\x0f\\xcb\\x85=aB\\xac<jR\\x05\\xbeJ26=$\\x83\\xc9\\xbd\\\\8X<\\xd4\\xb8\\xb3<f\\xebr\\xb3H%\\x94<I2V\\xbd\\xa4$\\x0e\\xbd\\x95\\xb8\\x02>\\x88.\\x87\\xbd=o.\\xbd\\xf8vV\\xbd\\xf2?\\xa5;*\\xae,\\xbd<G\\x86<\\x01\\x03\\xf9<\\xe9\\x02\\x9b<\\x8a\\xb7\\x07\\xbd%\\xdam;rxL\\xbd\\x9f\\t\\xbf<\\xf7\\xf2\\xd4\\xbcp\\xfb\\xe0=\\xe5a7\\xbd\\xda\\xda^<N\\x9f\\x9e<\\x15qG=\\xa9a\\xf5<\\\\@\\x1a\\xbd\\xda\\xa3_<y\\xec\\x12\\xbc\\\\\\x83\\x9f\\xbcJ\\x08\\xc1;\\xc8[\\x98=\\xbe\\xc3?\\xbbPy3\\xbc\\x036\\x83\\xbc\\x91\\xea\\xbe;M\\xf2\\x10<\\xa0\\x0f\\xb3\\xbd\\x0e\\xc0\\xa8\\xbc\\x8e5j\\xbc\\x08Z\\x8d\\xbd\\x19y]\\xbd\\xed\\x9c;=\\x80,A\\xbd4\\xf1\\xe0\\xbc\\x8fn\\\\=\\xbf\\xcc\\xe6<\\x92\\x1f3=\\xc6\\xda\\xb8\\xbdp\\xe0+\\xbeM\\\\!\\xbd\\r\\xbd\\x86=\\xb7\\xab6\\xbc[.\\x08\\xbd\\xa4n\\t\\xbd\\x8e\\x81\\x81<r\\x17)=\\x04\\x9dw=\\x9b\\xec\\xe2<\\xbd]\\xca\\xbc\\x04+\\x93;\\x18vV=fo\\xbd<\\xb5\\x12\\x02\\xbd\\xf8 \\x9e\\xbd]\\x83u=\\xa08P<',\n",
              " b'start_index': b'23946',\n",
              " b'source': b'resources/nke-10k-2023.pdf',\n",
              " b'content': b'Where trade protection measures are implemented, we believe we have the ability to develop, over a period of time, adequate alternative sources of supply for the products obtained from our present suppliers. If events prevented us from acquiring products from our suppliers in a particular country, our operations could be temporarily disrupted and we could experience an adverse financial impact. However, we believe we could abate any such disruption, and that much of the adverse impact on supply would, therefore, be of a short-term nature, although alternate sources of supply might not be as cost-effective and could have an ongoing adverse impact on profitability.\\n\\n2023 FORM 10-K 4\\n\\nTable of Contents\\n\\nOur international operations are also subject to compliance with the U.S. Foreign Corrupt Practices Act (the \"FCPA\"), and other anti-bribery laws applicable to our operations. We source a significant portion of our products from, and have important consumer markets, outside of the United States. We have an ethics and compliance program to address compliance with the FCPA and similar laws by us, our employees, agents, suppliers and other partners. Refer to Item 1A. Risk Factors for additional information on risks relating to our international operations.\\n\\nCOMPETITION'}"
            ]
          },
          "metadata": {},
          "execution_count": 12
        }
      ],
      "source": [
        "# do NOT run this command in production\n",
        "keys = rds.client.keys()\n",
        "\n",
        "rds.client.hgetall(keys[0])"
      ]
    },
    {
      "cell_type": "markdown",
      "metadata": {
        "id": "61xV5qyp1vmy"
      },
      "source": [
        "### Query the database\n",
        "Now we can use the LangChain vector store class to perform similarity search operations on Redis"
      ]
    },
    {
      "cell_type": "code",
      "execution_count": 13,
      "metadata": {
        "id": "Gv6SxKOB1vmy"
      },
      "outputs": [],
      "source": [
        "from langchain.vectorstores.redis import RedisText"
      ]
    },
    {
      "cell_type": "code",
      "execution_count": 14,
      "metadata": {
        "id": "Q3pH3MPD1vmy",
        "outputId": "10b0f6e8-1250-4af7-e6e7-b1410cde1d5b",
        "colab": {
          "base_uri": "https://localhost:8080/"
        }
      },
      "outputs": [
        {
          "output_type": "execute_result",
          "data": {
            "text/plain": [
              "[(Document(page_content='6,923\\n\\nEBIT margin\\n\\n(1)\\n\\n12.1 %\\n\\n14.7 %\\n\\n15.5 %\\n\\nInterest expense (income), net\\n\\n(6)\\n\\n205\\n\\n—\\n\\n262\\n\\nTOTAL NIKE, INC. INCOME BEFORE INCOME TAXES\\n\\n$\\n\\n6,201\\n\\n$\\n\\n6,651\\n\\n7 % $\\n\\n6,661\\n\\n(1) Total NIKE Brand EBIT, Total NIKE, Inc. EBIT and EBIT Margin represent non-GAAP financial measures. See \"Use of Non-GAAP Financial Measures\" for further information.\\n\\n2023 FORM 10-K 36\\n\\n% CHANGE EXCLUDING CURRENCY (1) CHANGES\\n\\n7 % 12 % -13 %\\n\\n16 % 302 %\\n\\n6 % 7 %\\n\\n— 6 %\\n\\n% CHANGE\\n\\n0 % 35 % -27 %\\n\\n24 % -17 %\\n\\n3 % 23 % 2 %\\n\\n1 %\\n\\n—\\n\\n0 %\\n\\nTable of Contents\\n\\nNORTH AMERICA\\n\\n(Dollars in millions)\\n\\nFISCAL 2023 FISCAL 2022\\n\\n% CHANGE\\n\\n% CHANGE EXCLUDING CURRENCY\\n\\nCHANGES FISCAL 2021\\n\\n% CHANGE\\n\\n% CHANGE EXCLUDING CURRENCY CHANGES\\n\\nRevenues by: Footwear Apparel\\n\\n$\\n\\n14,897 $ 5,947\\n\\n12,228 5,492\\n\\n22 % 8 %\\n\\n22 % $ 9 %\\n\\n11,644 5,028\\n\\n5 % 9 %\\n\\n5 % 9 %\\n\\nEquipment\\n\\nTOTAL REVENUES\\n\\n$\\n\\n764 21,608 $\\n\\n633 18,353\\n\\n21 % 18 %\\n\\n21 % 18 % $\\n\\n507 17,179\\n\\n25 % 7 %\\n\\n25 % 7 %\\n\\nRevenues by:\\n\\nSales to Wholesale Customers\\n\\n$\\n\\n11,273 $\\n\\n9,621\\n\\n17 %\\n\\n18 % $\\n\\n10,186\\n\\n6 %\\n\\n6 %\\n\\nSales through NIKE Direct\\n\\nTOTAL REVENUES\\n\\n$\\n\\n10,335 21,608 $\\n\\n8,732 18,353\\n\\n18 % 18 %\\n\\n18 % 18 % $\\n\\n6,993 17,179\\n\\n25 % 7 %\\n\\n25 % 7 %\\n\\nEARNINGS BEFORE INTEREST AND TAXES\\n\\n$\\n\\n5,454 $\\n\\n5,114\\n\\n7 %\\n\\n$\\n\\n5,089\\n\\n0 %\\n\\nFISCAL 2023 COMPARED TO FISCAL 2022\\n\\nNorth America revenues increased 18% on a currency-neutral basis, primarily due to higher revenues in Men\\'s and the Jordan Brand. NIKE Direct revenues', metadata={'id': 'doc:langchain:3574b3c662784cbe918d299e4bbb538b'}),\n",
              "  0.5653),\n",
              " (Document(page_content='6,923\\n\\nEBIT margin\\n\\n(1)\\n\\n12.1 %\\n\\n14.7 %\\n\\n15.5 %\\n\\nInterest expense (income), net\\n\\n(6)\\n\\n205\\n\\n—\\n\\n262\\n\\nTOTAL NIKE, INC. INCOME BEFORE INCOME TAXES\\n\\n$\\n\\n6,201\\n\\n$\\n\\n6,651\\n\\n7 % $\\n\\n6,661\\n\\n(1) Total NIKE Brand EBIT, Total NIKE, Inc. EBIT and EBIT Margin represent non-GAAP financial measures. See \"Use of Non-GAAP Financial Measures\" for further information.\\n\\n2023 FORM 10-K 36\\n\\n% CHANGE EXCLUDING CURRENCY (1) CHANGES\\n\\n7 % 12 % -13 %\\n\\n16 % 302 %\\n\\n6 % 7 %\\n\\n— 6 %\\n\\n% CHANGE\\n\\n0 % 35 % -27 %\\n\\n24 % -17 %\\n\\n3 % 23 % 2 %\\n\\n1 %\\n\\n—\\n\\n0 %\\n\\nTable of Contents\\n\\nNORTH AMERICA\\n\\n(Dollars in millions)\\n\\nFISCAL 2023 FISCAL 2022\\n\\n% CHANGE\\n\\n% CHANGE EXCLUDING CURRENCY\\n\\nCHANGES FISCAL 2021\\n\\n% CHANGE\\n\\n% CHANGE EXCLUDING CURRENCY CHANGES\\n\\nRevenues by: Footwear Apparel\\n\\n$\\n\\n14,897 $ 5,947\\n\\n12,228 5,492\\n\\n22 % 8 %\\n\\n22 % $ 9 %\\n\\n11,644 5,028\\n\\n5 % 9 %\\n\\n5 % 9 %\\n\\nEquipment\\n\\nTOTAL REVENUES\\n\\n$\\n\\n764 21,608 $\\n\\n633 18,353\\n\\n21 % 18 %\\n\\n21 % 18 % $\\n\\n507 17,179\\n\\n25 % 7 %\\n\\n25 % 7 %\\n\\nRevenues by:\\n\\nSales to Wholesale Customers\\n\\n$\\n\\n11,273 $\\n\\n9,621\\n\\n17 %\\n\\n18 % $\\n\\n10,186\\n\\n6 %\\n\\n6 %\\n\\nSales through NIKE Direct\\n\\nTOTAL REVENUES\\n\\n$\\n\\n10,335 21,608 $\\n\\n8,732 18,353\\n\\n18 % 18 %\\n\\n18 % 18 % $\\n\\n6,993 17,179\\n\\n25 % 7 %\\n\\n25 % 7 %\\n\\nEARNINGS BEFORE INTEREST AND TAXES\\n\\n$\\n\\n5,454 $\\n\\n5,114\\n\\n7 %\\n\\n$\\n\\n5,089\\n\\n0 %\\n\\nFISCAL 2023 COMPARED TO FISCAL 2022\\n\\nNorth America revenues increased 18% on a currency-neutral basis, primarily due to higher revenues in Men\\'s and the Jordan Brand. NIKE Direct revenues', metadata={'id': 'doc:langchain:f148b63be4484ca5a62dc7a852e690bc'}),\n",
              "  0.5653),\n",
              " (Document(page_content='Financial Statements contained in Item 8 of this Annual Report.\\n\\n(3) Global Brand Divisions revenues include NIKE Brand licensing and other miscellaneous revenues that are not part of a geographic operating segment.\\n\\n(4) Corporate revenues primarily consist of foreign currency hedge gains and losses related to revenues generated by entities within the NIKE Brand geographic operating segments and Converse, but\\n\\nmanaged through our central foreign exchange risk management program.\\n\\nThe primary financial measure used by the Company to evaluate performance is Earnings Before Interest and Taxes (\"EBIT\"). As discussed in Note 15 — Operating Segments and Related Information in the accompanying Notes to the Consolidated Financial Statements, certain corporate costs are not included in EBIT.\\n\\nThe breakdown of EBIT is as follows:\\n\\n(Dollars in millions)\\n\\nFISCAL 2023\\n\\nFISCAL 2022\\n\\n% CHANGE\\n\\nFISCAL 2021\\n\\nNorth America Europe, Middle East & Africa Greater China\\n\\n$\\n\\n5,454 3,531 2,283\\n\\n$\\n\\n5,114 3,293 2,365\\n\\n7 % $ 7 % -3 %\\n\\n5,089 2,435 3,243\\n\\nAsia Pacific & Latin America Global Brand Divisions (1)\\n\\nTOTAL NIKE BRAND Converse\\n\\n$\\n\\n1,932 (4,841)\\n\\n8,359 676\\n\\n$\\n\\n1,896 (4,262)\\n\\n8,406 669\\n\\n2 % -14 %\\n\\n1 % $ 1 %\\n\\n1,530 (3,656)\\n\\n8,641 543\\n\\nCorporate TOTAL NIKE, INC. EARNINGS BEFORE INTEREST AND TAXES\\n\\n(1)\\n\\n$\\n\\n(2,840)\\n\\n6,195\\n\\n$\\n\\n(2,219)\\n\\n6,856\\n\\n28 %\\n\\n10 % $\\n\\n(2,261)\\n\\n6,923\\n\\nEBIT margin\\n\\n(1)\\n\\n12.1 %\\n\\n14.7 %\\n\\n15.5 %\\n\\nInterest expense (income), net\\n\\n(6)\\n\\n205\\n\\n—\\n\\n262', metadata={'id': 'doc:langchain:84d5980c45b348fc8561ace48ce3853c'}),\n",
              "  0.5803),\n",
              " (Document(page_content='Financial Statements contained in Item 8 of this Annual Report.\\n\\n(3) Global Brand Divisions revenues include NIKE Brand licensing and other miscellaneous revenues that are not part of a geographic operating segment.\\n\\n(4) Corporate revenues primarily consist of foreign currency hedge gains and losses related to revenues generated by entities within the NIKE Brand geographic operating segments and Converse, but\\n\\nmanaged through our central foreign exchange risk management program.\\n\\nThe primary financial measure used by the Company to evaluate performance is Earnings Before Interest and Taxes (\"EBIT\"). As discussed in Note 15 — Operating Segments and Related Information in the accompanying Notes to the Consolidated Financial Statements, certain corporate costs are not included in EBIT.\\n\\nThe breakdown of EBIT is as follows:\\n\\n(Dollars in millions)\\n\\nFISCAL 2023\\n\\nFISCAL 2022\\n\\n% CHANGE\\n\\nFISCAL 2021\\n\\nNorth America Europe, Middle East & Africa Greater China\\n\\n$\\n\\n5,454 3,531 2,283\\n\\n$\\n\\n5,114 3,293 2,365\\n\\n7 % $ 7 % -3 %\\n\\n5,089 2,435 3,243\\n\\nAsia Pacific & Latin America Global Brand Divisions (1)\\n\\nTOTAL NIKE BRAND Converse\\n\\n$\\n\\n1,932 (4,841)\\n\\n8,359 676\\n\\n$\\n\\n1,896 (4,262)\\n\\n8,406 669\\n\\n2 % -14 %\\n\\n1 % $ 1 %\\n\\n1,530 (3,656)\\n\\n8,641 543\\n\\nCorporate TOTAL NIKE, INC. EARNINGS BEFORE INTEREST AND TAXES\\n\\n(1)\\n\\n$\\n\\n(2,840)\\n\\n6,195\\n\\n$\\n\\n(2,219)\\n\\n6,856\\n\\n28 %\\n\\n10 % $\\n\\n(2,261)\\n\\n6,923\\n\\nEBIT margin\\n\\n(1)\\n\\n12.1 %\\n\\n14.7 %\\n\\n15.5 %\\n\\nInterest expense (income), net\\n\\n(6)\\n\\n205\\n\\n—\\n\\n262', metadata={'id': 'doc:langchain:7b9d4b2eb08f43d2bd44c6a2e316fc96'}),\n",
              "  0.5803)]"
            ]
          },
          "metadata": {},
          "execution_count": 14
        }
      ],
      "source": [
        "# basic \"top 4\" vector search on a given query\n",
        "rds.similarity_search_with_score(query=\"Profit margins\", k=4)"
      ]
    },
    {
      "cell_type": "code",
      "execution_count": 15,
      "metadata": {
        "id": "od6Wqmya1vmy",
        "outputId": "da153c28-201c-4d62-8ab4-66cf908cb215",
        "colab": {
          "base_uri": "https://localhost:8080/"
        }
      },
      "outputs": [
        {
          "output_type": "execute_result",
          "data": {
            "text/plain": [
              "[(Document(page_content='COMPARABLE STORE SALES Comparable store sales: This key metric, which excludes NIKE Brand Digital sales, comprises revenues from NIKE-owned in-line and factory stores for which all three of the following requirements have been met: (1) the store has been open at least one year, (2) square footage has not changed by more than 15% within the past year and (3) the store has not been permanently repositioned within the past year. Comparable store sales includes revenues from stores that were temporarily closed during the period as a result of COVID-19. Comparable store sales represents a performance metric that we believe is useful information for management and investors in understanding the performance of our established NIKE-owned in-line and factory stores. Management considers this metric when making financial and operating decisions. The method of calculating comparable store sales varies across the retail industry. As a result, our calculation of this metric may not be comparable to similarly titled metrics used by other companies.\\n\\n2023 FORM 10-K 30\\n\\nTable of Contents\\n\\nRESULTS OF OPERATIONS\\n\\n(Dollars in millions, except per share data)\\n\\nRevenues Cost of sales\\n\\nGross profit Gross margin\\n\\nDemand creation expense Operating overhead expense\\n\\nTotal selling and administrative expense % of revenues\\n\\nInterest expense (income), net\\n\\nOther (income) expense, net Income before income taxes\\n\\nIncome tax expense Effective tax rate\\n\\nNET INCOME Diluted earnings per common share\\n\\n$\\n\\n$ $', metadata={'id': 'doc:langchain:b8060d53758e49619ca230c16de08e3b'}),\n",
              "  0.6199),\n",
              " (Document(page_content='COMPARABLE STORE SALES Comparable store sales: This key metric, which excludes NIKE Brand Digital sales, comprises revenues from NIKE-owned in-line and factory stores for which all three of the following requirements have been met: (1) the store has been open at least one year, (2) square footage has not changed by more than 15% within the past year and (3) the store has not been permanently repositioned within the past year. Comparable store sales includes revenues from stores that were temporarily closed during the period as a result of COVID-19. Comparable store sales represents a performance metric that we believe is useful information for management and investors in understanding the performance of our established NIKE-owned in-line and factory stores. Management considers this metric when making financial and operating decisions. The method of calculating comparable store sales varies across the retail industry. As a result, our calculation of this metric may not be comparable to similarly titled metrics used by other companies.\\n\\n2023 FORM 10-K 30\\n\\nTable of Contents\\n\\nRESULTS OF OPERATIONS\\n\\n(Dollars in millions, except per share data)\\n\\nRevenues Cost of sales\\n\\nGross profit Gross margin\\n\\nDemand creation expense Operating overhead expense\\n\\nTotal selling and administrative expense % of revenues\\n\\nInterest expense (income), net\\n\\nOther (income) expense, net Income before income taxes\\n\\nIncome tax expense Effective tax rate\\n\\nNET INCOME Diluted earnings per common share\\n\\n$\\n\\n$ $', metadata={'id': 'doc:langchain:48439072f1f14c8c946c502a60f08430'}),\n",
              "  0.6199),\n",
              " (Document(page_content='NIKE Brand apparel revenues increased 8% on a currency-neutral basis, primarily due to higher revenues in Men\\'s. Unit sales of apparel increased 4%, while higher ASP per unit contributed approximately 4 percentage points of apparel revenue growth. Higher ASP was primarily due to higher full-price ASP and growth in the size of our NIKE Direct business, partially offset by lower NIKE Direct ASP, reflecting higher promotional activity.\\n\\nNIKE Direct revenues increased 14% from $18.7 billion in fiscal 2022 to $21.3 billion in fiscal 2023. On a currency-neutral basis, NIKE Direct revenues increased 20% primarily driven by NIKE Brand Digital sales growth of 24%, comparable store sales growth of 14% and the addition of new stores. For further information regarding comparable store sales, including the definition, see \"Comparable Store Sales\". NIKE Brand Digital sales were $12.6 billion for fiscal 2023 compared to $10.7 billion for fiscal 2022.\\n\\n2023 FORM 10-K 33\\n\\nTable of Contents\\n\\nGROSS MARGIN FISCAL 2023 COMPARED TO FISCAL 2022\\n\\nFor fiscal 2023, our consolidated gross profit increased 4% to $22,292 million compared to $21,479 million for fiscal 2022. Gross margin decreased 250 basis points to 43.5% for fiscal 2023 compared to 46.0% for fiscal 2022 due to the following:\\n\\nWholesale equivalent\\n\\nThe decrease in gross margin for fiscal 2023 was primarily due to:', metadata={'id': 'doc:langchain:3bed4db718b74d28a2cd79edfd0eec6f'}),\n",
              "  0.6628),\n",
              " (Document(page_content='NIKE Brand apparel revenues increased 8% on a currency-neutral basis, primarily due to higher revenues in Men\\'s. Unit sales of apparel increased 4%, while higher ASP per unit contributed approximately 4 percentage points of apparel revenue growth. Higher ASP was primarily due to higher full-price ASP and growth in the size of our NIKE Direct business, partially offset by lower NIKE Direct ASP, reflecting higher promotional activity.\\n\\nNIKE Direct revenues increased 14% from $18.7 billion in fiscal 2022 to $21.3 billion in fiscal 2023. On a currency-neutral basis, NIKE Direct revenues increased 20% primarily driven by NIKE Brand Digital sales growth of 24%, comparable store sales growth of 14% and the addition of new stores. For further information regarding comparable store sales, including the definition, see \"Comparable Store Sales\". NIKE Brand Digital sales were $12.6 billion for fiscal 2023 compared to $10.7 billion for fiscal 2022.\\n\\n2023 FORM 10-K 33\\n\\nTable of Contents\\n\\nGROSS MARGIN FISCAL 2023 COMPARED TO FISCAL 2022\\n\\nFor fiscal 2023, our consolidated gross profit increased 4% to $22,292 million compared to $21,479 million for fiscal 2022. Gross margin decreased 250 basis points to 43.5% for fiscal 2023 compared to 46.0% for fiscal 2022 due to the following:\\n\\nWholesale equivalent\\n\\nThe decrease in gross margin for fiscal 2023 was primarily due to:', metadata={'id': 'doc:langchain:314ca953eee245f2acd8e8beaa93f90a'}),\n",
              "  0.6628)]"
            ]
          },
          "metadata": {},
          "execution_count": 15
        }
      ],
      "source": [
        "# vector search with metadata filtering\n",
        "\n",
        "f = RedisText(\"content\") % \"profit\"\n",
        "rds.similarity_search_with_score(query=\"Profit margins\", k=4, filter=f)"
      ]
    },
    {
      "cell_type": "code",
      "execution_count": 16,
      "metadata": {
        "id": "DT9sPHw51vmy",
        "outputId": "5e197695-7926-4d97-a06c-ab553ff0189d",
        "colab": {
          "base_uri": "https://localhost:8080/"
        }
      },
      "outputs": [
        {
          "output_type": "execute_result",
          "data": {
            "text/plain": [
              "[(Document(page_content='FISCAL 2023 COMPARED TO FISCAL 2022\\n\\nNIKE, Inc. Revenues were $51.2 billion in fiscal 2023, which increased 10% and 16% compared to fiscal 2022 on a reported and currency-neutral basis, respectively. The increase was due to higher revenues in North America, Europe, Middle East & Africa (\"EMEA\"), APLA and Greater China, which contributed approximately 7, 6, 2 and 1 percentage points to NIKE, Inc. Revenues, respectively.\\n\\nNIKE Brand revenues, which represented over 90% of NIKE, Inc. Revenues, increased 10% and 16% on a reported and currency-neutral basis, respectively. This increase was primarily due to higher revenues in Men\\'s, the Jordan Brand, Women\\'s and Kids\\' which grew 17%, 35%,11% and 10%, respectively, on a wholesale equivalent basis.\\n\\nNIKE Brand footwear revenues increased 20% on a currency-neutral basis, due to higher revenues in Men\\'s, the Jordan Brand, Women\\'s and Kids\\'. Unit sales of footwear increased 13%, while higher average selling price (\"ASP\") per pair contributed approximately 7 percentage points of footwear revenue growth. Higher ASP was primarily due to higher full-price ASP, net of discounts, on a wholesale equivalent basis, and growth in the size of our NIKE Direct business, partially offset by lower NIKE Direct ASP.', metadata={'id': 'doc:langchain:67851b7851e8433bb5976d3814886300'}),\n",
              "  0.2649),\n",
              " (Document(page_content='FISCAL 2023 COMPARED TO FISCAL 2022\\n\\nNIKE, Inc. Revenues were $51.2 billion in fiscal 2023, which increased 10% and 16% compared to fiscal 2022 on a reported and currency-neutral basis, respectively. The increase was due to higher revenues in North America, Europe, Middle East & Africa (\"EMEA\"), APLA and Greater China, which contributed approximately 7, 6, 2 and 1 percentage points to NIKE, Inc. Revenues, respectively.\\n\\nNIKE Brand revenues, which represented over 90% of NIKE, Inc. Revenues, increased 10% and 16% on a reported and currency-neutral basis, respectively. This increase was primarily due to higher revenues in Men\\'s, the Jordan Brand, Women\\'s and Kids\\' which grew 17%, 35%,11% and 10%, respectively, on a wholesale equivalent basis.\\n\\nNIKE Brand footwear revenues increased 20% on a currency-neutral basis, due to higher revenues in Men\\'s, the Jordan Brand, Women\\'s and Kids\\'. Unit sales of footwear increased 13%, while higher average selling price (\"ASP\") per pair contributed approximately 7 percentage points of footwear revenue growth. Higher ASP was primarily due to higher full-price ASP, net of discounts, on a wholesale equivalent basis, and growth in the size of our NIKE Direct business, partially offset by lower NIKE Direct ASP.', metadata={'id': 'doc:langchain:e3dfda52d74d4679b6b00eb55c730ed9'}),\n",
              "  0.2649),\n",
              " (Document(page_content='NIKE Brand apparel revenues increased 8% on a currency-neutral basis, primarily due to higher revenues in Men\\'s. Unit sales of apparel increased 4%, while higher ASP per unit contributed approximately 4 percentage points of apparel revenue growth. Higher ASP was primarily due to higher full-price ASP and growth in the size of our NIKE Direct business, partially offset by lower NIKE Direct ASP, reflecting higher promotional activity.\\n\\nNIKE Direct revenues increased 14% from $18.7 billion in fiscal 2022 to $21.3 billion in fiscal 2023. On a currency-neutral basis, NIKE Direct revenues increased 20% primarily driven by NIKE Brand Digital sales growth of 24%, comparable store sales growth of 14% and the addition of new stores. For further information regarding comparable store sales, including the definition, see \"Comparable Store Sales\". NIKE Brand Digital sales were $12.6 billion for fiscal 2023 compared to $10.7 billion for fiscal 2022.\\n\\n2023 FORM 10-K 33\\n\\nTable of Contents\\n\\nGROSS MARGIN FISCAL 2023 COMPARED TO FISCAL 2022\\n\\nFor fiscal 2023, our consolidated gross profit increased 4% to $22,292 million compared to $21,479 million for fiscal 2022. Gross margin decreased 250 basis points to 43.5% for fiscal 2023 compared to 46.0% for fiscal 2022 due to the following:\\n\\nWholesale equivalent\\n\\nThe decrease in gross margin for fiscal 2023 was primarily due to:', metadata={'id': 'doc:langchain:3bed4db718b74d28a2cd79edfd0eec6f'}),\n",
              "  0.2701),\n",
              " (Document(page_content='NIKE Brand apparel revenues increased 8% on a currency-neutral basis, primarily due to higher revenues in Men\\'s. Unit sales of apparel increased 4%, while higher ASP per unit contributed approximately 4 percentage points of apparel revenue growth. Higher ASP was primarily due to higher full-price ASP and growth in the size of our NIKE Direct business, partially offset by lower NIKE Direct ASP, reflecting higher promotional activity.\\n\\nNIKE Direct revenues increased 14% from $18.7 billion in fiscal 2022 to $21.3 billion in fiscal 2023. On a currency-neutral basis, NIKE Direct revenues increased 20% primarily driven by NIKE Brand Digital sales growth of 24%, comparable store sales growth of 14% and the addition of new stores. For further information regarding comparable store sales, including the definition, see \"Comparable Store Sales\". NIKE Brand Digital sales were $12.6 billion for fiscal 2023 compared to $10.7 billion for fiscal 2022.\\n\\n2023 FORM 10-K 33\\n\\nTable of Contents\\n\\nGROSS MARGIN FISCAL 2023 COMPARED TO FISCAL 2022\\n\\nFor fiscal 2023, our consolidated gross profit increased 4% to $22,292 million compared to $21,479 million for fiscal 2022. Gross margin decreased 250 basis points to 43.5% for fiscal 2023 compared to 46.0% for fiscal 2022 due to the following:\\n\\nWholesale equivalent\\n\\nThe decrease in gross margin for fiscal 2023 was primarily due to:', metadata={'id': 'doc:langchain:314ca953eee245f2acd8e8beaa93f90a'}),\n",
              "  0.2701)]"
            ]
          },
          "metadata": {},
          "execution_count": 16
        }
      ],
      "source": [
        "# vector search with combinations of metadata filtering\n",
        "\n",
        "f = (RedisText(\"content\") % \"profit\") | (RedisText(\"content\") % \"revenue\")\n",
        "rds.similarity_search_with_score(query=\"Nike company revenue\", k=4, filter=f)"
      ]
    },
    {
      "cell_type": "code",
      "execution_count": 17,
      "metadata": {
        "id": "kIoGJOop1vmz",
        "outputId": "acb9d0e8-f3a8-4c68-c612-5b7342a1e7a0",
        "colab": {
          "base_uri": "https://localhost:8080/"
        }
      },
      "outputs": [
        {
          "output_type": "execute_result",
          "data": {
            "text/plain": [
              "[]"
            ]
          },
          "metadata": {},
          "execution_count": 17
        }
      ],
      "source": [
        "# filter results to a certain distance threshold\n",
        "rds.similarity_search_with_score(query=\"Nike company revenue\", k=4, distance_threshold=0.14)"
      ]
    },
    {
      "cell_type": "markdown",
      "metadata": {
        "id": "XdzQa112Bf2b"
      },
      "source": [
        "## RAG with LangChain\n",
        "LangChain makes it easy to now take this vector store and build retireval augmented generation (RAG) applications over your data."
      ]
    },
    {
      "cell_type": "markdown",
      "metadata": {
        "collapsed": false,
        "id": "CU2aFQPW1vmz"
      },
      "source": [
        "### Initialize OpenAI\n",
        "\n",
        "You need to supply an OpenAI API key (starts with `sk-...`) when prompted. If the key is in your env -- great, otherwise enter it when prompted below. You can find your API key at https://platform.openai.com/account/api-keys"
      ]
    },
    {
      "cell_type": "code",
      "execution_count": 18,
      "metadata": {
        "id": "GSpH-cur1vmz",
        "outputId": "e489ec54-8bdb-45ff-de29-182ab13af0c1",
        "colab": {
          "base_uri": "https://localhost:8080/"
        }
      },
      "outputs": [
        {
          "name": "stdout",
          "output_type": "stream",
          "text": [
            "OpenAI API Key:··········\n"
          ]
        }
      ],
      "source": [
        "import getpass\n",
        "from langchain.llms import OpenAI\n",
        "\n",
        "llm = OpenAI(openai_api_key=os.getenv(\"OPENAI_API_KEY\") or getpass.getpass(prompt=\"OpenAI API Key:\"))"
      ]
    },
    {
      "cell_type": "markdown",
      "metadata": {
        "id": "-SQXQB-c1vmz"
      },
      "source": [
        "### Setup prompt\n",
        "PromptTemplate defines the exect text of the response that would be fed to the LLM. This step is optional, but the defaults usually work well for OpenAI and might fall short for other models."
      ]
    },
    {
      "cell_type": "code",
      "execution_count": 19,
      "metadata": {
        "id": "yKKn2KKp3TQ4"
      },
      "outputs": [],
      "source": [
        "def get_prompt():\n",
        "    \"\"\"Create the QA chain.\"\"\"\n",
        "    from langchain.prompts import PromptTemplate\n",
        "\n",
        "    # Define our prompt\n",
        "    prompt_template = \"\"\"Use the following pieces of context from financial 10k filings data to answer the quser uestion at the end. If you don't know the answer, say that you don't know, don't try to make up an answer.\n",
        "\n",
        "    This should be in the following format:\n",
        "\n",
        "    Question: [question here]\n",
        "    Answer: [answer here]\n",
        "\n",
        "    Begin!\n",
        "\n",
        "    Context:\n",
        "    ---------\n",
        "    {context}\n",
        "    ---------\n",
        "    Question: {question}\n",
        "    Answer:\"\"\"\n",
        "\n",
        "    prompt = PromptTemplate(\n",
        "        template=prompt_template,\n",
        "        input_variables=[\"context\", \"question\"]\n",
        "    )\n",
        "    return prompt"
      ]
    },
    {
      "cell_type": "markdown",
      "metadata": {
        "id": "xgEXBujxG1dO"
      },
      "source": [
        "### Putting it all together\n",
        "\n",
        "This is where the Langchain brings all the components together in a form of a simple RAG application with the financial PDF document."
      ]
    },
    {
      "cell_type": "code",
      "execution_count": 20,
      "metadata": {
        "id": "RKNSP0zqZq98"
      },
      "outputs": [],
      "source": [
        "from langchain.chains import RetrievalQA\n",
        "\n",
        "qa = RetrievalQA.from_chain_type(\n",
        "    llm=llm,\n",
        "    chain_type=\"stuff\",\n",
        "    retriever=rds.as_retriever(),\n",
        "    return_source_documents=True,\n",
        "    chain_type_kwargs={\"prompt\": get_prompt()},\n",
        "    verbose=True\n",
        ")"
      ]
    },
    {
      "cell_type": "markdown",
      "metadata": {
        "id": "SURTtVbYBFGc"
      },
      "source": [
        "### Finally - let's ask questions!\n",
        "\n",
        "Examples:\n",
        "- What did the president say about Kentaji Brown Jackson\n",
        "- Did he mention Stephen Breyer?\n",
        "- What was his stance on Ukraine"
      ]
    },
    {
      "cell_type": "code",
      "execution_count": 21,
      "metadata": {
        "colab": {
          "base_uri": "https://localhost:8080/",
          "height": 139
        },
        "id": "0JkswfOHZu9h",
        "outputId": "194d712b-ff43-4e85-e65b-8cfd952f6a93"
      },
      "outputs": [
        {
          "output_type": "stream",
          "name": "stderr",
          "text": [
            "WARNING:langchain.vectorstores.redis.base:score_threshold is deprecated. Use distance_threshold instead.score_threshold should only be used in similarity_search_with_relevance_scores.score_threshold will be removed in a future release.\n"
          ]
        },
        {
          "output_type": "stream",
          "name": "stdout",
          "text": [
            "\n",
            "\n",
            "\u001b[1m> Entering new RetrievalQA chain...\u001b[0m\n",
            "\n",
            "\u001b[1m> Finished chain.\u001b[0m\n"
          ]
        },
        {
          "output_type": "execute_result",
          "data": {
            "text/plain": [
              "\" Nike's revenue increased 10% from $44.4 billion in fiscal 2022 to $48.8 billion in fiscal 2023.\""
            ],
            "application/vnd.google.colaboratory.intrinsic+json": {
              "type": "string"
            }
          },
          "metadata": {},
          "execution_count": 21
        }
      ],
      "source": [
        "query = \"What was Nike's revenue last year compared to this year??\"\n",
        "res=qa(query)\n",
        "res['result']"
      ]
    },
    {
      "cell_type": "code",
      "execution_count": 22,
      "metadata": {
        "id": "ZvioUduS1vm0",
        "outputId": "b89ca6a2-3074-4b53-c272-1dfc59537a53",
        "colab": {
          "base_uri": "https://localhost:8080/",
          "height": 139
        }
      },
      "outputs": [
        {
          "output_type": "stream",
          "name": "stderr",
          "text": [
            "WARNING:langchain.vectorstores.redis.base:score_threshold is deprecated. Use distance_threshold instead.score_threshold should only be used in similarity_search_with_relevance_scores.score_threshold will be removed in a future release.\n"
          ]
        },
        {
          "output_type": "stream",
          "name": "stdout",
          "text": [
            "\n",
            "\n",
            "\u001b[1m> Entering new RetrievalQA chain...\u001b[0m\n",
            "\n",
            "\u001b[1m> Finished chain.\u001b[0m\n"
          ]
        },
        {
          "output_type": "execute_result",
          "data": {
            "text/plain": [
              "' Nike offers a variety of products including athletic footwear, apparel, and equipment. Nike operates in the athletic footwear, apparel, and equipment industry.'"
            ],
            "application/vnd.google.colaboratory.intrinsic+json": {
              "type": "string"
            }
          },
          "metadata": {},
          "execution_count": 22
        }
      ],
      "source": [
        "query = \"How many products does Nike offer? What is the industry that Nike is part of?\"\n",
        "res=qa(query)\n",
        "res['result']"
      ]
    },
    {
      "cell_type": "code",
      "execution_count": 23,
      "metadata": {
        "id": "Q9mE5z-61vm1",
        "outputId": "f73e81bc-915e-489f-aab3-a6f63c848c5f",
        "colab": {
          "base_uri": "https://localhost:8080/",
          "height": 139
        }
      },
      "outputs": [
        {
          "output_type": "stream",
          "name": "stderr",
          "text": [
            "WARNING:langchain.vectorstores.redis.base:score_threshold is deprecated. Use distance_threshold instead.score_threshold should only be used in similarity_search_with_relevance_scores.score_threshold will be removed in a future release.\n"
          ]
        },
        {
          "output_type": "stream",
          "name": "stdout",
          "text": [
            "\n",
            "\n",
            "\u001b[1m> Entering new RetrievalQA chain...\u001b[0m\n",
            "\n",
            "\u001b[1m> Finished chain.\u001b[0m\n"
          ]
        },
        {
          "output_type": "execute_result",
          "data": {
            "text/plain": [
              "\" I don't know.\""
            ],
            "application/vnd.google.colaboratory.intrinsic+json": {
              "type": "string"
            }
          },
          "metadata": {},
          "execution_count": 23
        }
      ],
      "source": [
        "query = \"Is Nike an ethical company?\"\n",
        "res=qa(query)\n",
        "res['result']"
      ]
    },
    {
      "cell_type": "code",
      "execution_count": 24,
      "metadata": {
        "id": "kjTO0RtH1vm1",
        "outputId": "422be269-ecda-4b18-faee-eb72bd15f678",
        "colab": {
          "base_uri": "https://localhost:8080/",
          "height": 139
        }
      },
      "outputs": [
        {
          "output_type": "stream",
          "name": "stderr",
          "text": [
            "WARNING:langchain.vectorstores.redis.base:score_threshold is deprecated. Use distance_threshold instead.score_threshold should only be used in similarity_search_with_relevance_scores.score_threshold will be removed in a future release.\n"
          ]
        },
        {
          "output_type": "stream",
          "name": "stdout",
          "text": [
            "\n",
            "\n",
            "\u001b[1m> Entering new RetrievalQA chain...\u001b[0m\n",
            "\n",
            "\u001b[1m> Finished chain.\u001b[0m\n"
          ]
        },
        {
          "output_type": "execute_result",
          "data": {
            "text/plain": [
              "' Approximately 83,700 employees worldwide, including retail and part-time employees.'"
            ],
            "application/vnd.google.colaboratory.intrinsic+json": {
              "type": "string"
            }
          },
          "metadata": {},
          "execution_count": 24
        }
      ],
      "source": [
        "query = \"How many employees work at Nike???\"\n",
        "res=qa(query)\n",
        "res['result']"
      ]
    },
    {
      "cell_type": "markdown",
      "metadata": {
        "id": "5itk4UPF1vm1"
      },
      "source": [
        "## Cleanup\n",
        "\n",
        "Cleanup the index and data."
      ]
    },
    {
      "cell_type": "code",
      "execution_count": 25,
      "metadata": {
        "id": "DtZi-mQ61vm-",
        "outputId": "d8f2632f-6cf0-44b0-db5c-06bf2862f597",
        "colab": {
          "base_uri": "https://localhost:8080/"
        }
      },
      "outputs": [
        {
          "output_type": "execute_result",
          "data": {
            "text/plain": [
              "True"
            ]
          },
          "metadata": {},
          "execution_count": 25
        }
      ],
      "source": [
        "rds.drop_index(index_name=index_name, redis_url=REDIS_URL, delete_documents=True)"
      ]
    }
  ],
  "metadata": {
    "colab": {
      "provenance": []
    },
    "kernelspec": {
      "display_name": "Python 3",
      "name": "python3"
    },
    "language_info": {
      "codemirror_mode": {
        "name": "ipython",
        "version": 3
      },
      "file_extension": ".py",
      "mimetype": "text/x-python",
      "name": "python",
      "nbconvert_exporter": "python",
      "pygments_lexer": "ipython3",
      "version": "3.9.18"
    }
  },
  "nbformat": 4,
  "nbformat_minor": 0
}